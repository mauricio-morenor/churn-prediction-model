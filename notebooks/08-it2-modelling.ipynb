{
 "cells": [
  {
   "cell_type": "code",
   "execution_count": 2,
   "metadata": {},
   "outputs": [],
   "source": [
    "#Imports:\n",
    "#General imports\n",
    "import numpy as np\n",
    "import pandas as pd\n",
    "\n",
    "\n",
    "\n",
    "# Plotting\n",
    "import plotly.express as px\n",
    "from plotly.subplots import make_subplots\n",
    "import plotly.graph_objs as go\n",
    "import matplotlib.pyplot as plt\n",
    "import seaborn as sns\n",
    "from sklearn.tree import plot_tree"
   ]
  },
  {
   "cell_type": "code",
   "execution_count": 3,
   "metadata": {},
   "outputs": [],
   "source": [
    "#Imports:\n",
    "#Storing the model\n",
    "import joblib"
   ]
  },
  {
   "cell_type": "code",
   "execution_count": 4,
   "metadata": {},
   "outputs": [
    {
     "name": "stderr",
     "output_type": "stream",
     "text": [
      "/Users/mauriciomoreno/opt/anaconda3/envs/capstone/lib/python3.8/site-packages/xgboost/compat.py:93: FutureWarning: pandas.Int64Index is deprecated and will be removed from pandas in a future version. Use pandas.Index with the appropriate dtype instead.\n",
      "  from pandas import MultiIndex, Int64Index\n"
     ]
    }
   ],
   "source": [
    "#Imports:\n",
    "#Sklearn\n",
    "from sklearn.model_selection import train_test_split\n",
    "from sklearn.tree import DecisionTreeClassifier\n",
    "from sklearn.model_selection import cross_val_score\n",
    "from sklearn.preprocessing import StandardScaler, MinMaxScaler\n",
    "from sklearn.feature_selection import SelectPercentile, f_regression\n",
    "from sklearn.model_selection import cross_val_score\n",
    "from sklearn.linear_model import Ridge, LogisticRegression\n",
    "from sklearn.pipeline import Pipeline\n",
    "from sklearn.model_selection import GridSearchCV, RandomizedSearchCV\n",
    "from sklearn.decomposition import PCA\n",
    "from sklearn.neighbors import KNeighborsClassifier\n",
    "from sklearn.feature_selection import SelectKBest, f_regression\n",
    "from sklearn.ensemble import RandomForestClassifier, AdaBoostClassifier\n",
    "\n",
    "#Other models\n",
    "from xgboost import XGBClassifier\n",
    "\n",
    "\n",
    "#Sklearn metrics\n",
    "from sklearn.metrics import RocCurveDisplay, roc_curve, roc_auc_score, recall_score, precision_score, f1_score\n",
    "from sklearn.metrics import confusion_matrix, ConfusionMatrixDisplay"
   ]
  },
  {
   "cell_type": "code",
   "execution_count": 5,
   "metadata": {},
   "outputs": [],
   "source": [
    "def nan_vis(df):\n",
    "    \"\"\"\n",
    "    Visualizes missing values in a DataFrame.\n",
    "\n",
    "    Parameters:\n",
    "    - df (pandas.DataFrame): The input DataFrame.\n",
    "\n",
    "    Returns:\n",
    "    - str: A message indicating if there are any missing values or not.\n",
    "    - If there are missing values, returns a bar graph with the missing values.\n",
    "    \"\"\"\n",
    "\n",
    "    # Visualize missing values\n",
    "    if df.isna().sum().sum() == 0:\n",
    "        return \"There are no missing values\"\n",
    "    else:\n",
    "        plt.figure(figsize=(10, 6))\n",
    "        plt.title(\"Missing Values\")\n",
    "        ax = sns.barplot(x=df.columns, y=df.isna().sum())\n",
    "        ax.set_xticklabels(ax.get_xticklabels(), rotation=90)\n",
    "        plt.xlabel(\"Columns\")\n",
    "        plt.ylabel(\"Missing Values Count\")\n",
    "        plt.show()"
   ]
  },
  {
   "cell_type": "code",
   "execution_count": null,
   "metadata": {},
   "outputs": [],
   "source": [
    "def replace_nan_with_zero(df, columns):\n",
    "    \"\"\"\n",
    "    Replaces the NaN values with 0\n",
    "\n",
    "    Parameters:\n",
    "    - df (pandas.DataFrame): The input DataFrame.\n",
    "    - List columns of the DataFrame that will be removed.\n",
    "\n",
    "    Returns:\n",
    "    - df (pandas.DataFrame): The input DataFrame with the updated values\n",
    "    \"\"\"\n",
    "    df[columns] = df[columns].fillna(0)\n",
    "    return df"
   ]
  },
  {
   "cell_type": "code",
   "execution_count": 6,
   "metadata": {},
   "outputs": [],
   "source": [
    "dfmodel = pd.read_csv('../data/elenas-it2-postpreprocessing.csv')"
   ]
  },
  {
   "cell_type": "code",
   "execution_count": 7,
   "metadata": {},
   "outputs": [
    {
     "data": {
      "text/plain": [
       "'There are no missing values'"
      ]
     },
     "execution_count": 7,
     "metadata": {},
     "output_type": "execute_result"
    }
   ],
   "source": [
    "nan_vis(dfmodel)"
   ]
  },
  {
   "cell_type": "code",
   "execution_count": 8,
   "metadata": {},
   "outputs": [
    {
     "data": {
      "text/plain": [
       "1    38760\n",
       "0     8944\n",
       "Name: churn, dtype: int64"
      ]
     },
     "execution_count": 8,
     "metadata": {},
     "output_type": "execute_result"
    }
   ],
   "source": [
    "\n",
    "dfmodel[\"churn\"].value_counts()"
   ]
  },
  {
   "cell_type": "code",
   "execution_count": 9,
   "metadata": {},
   "outputs": [],
   "source": [
    "dfmodel.drop([\"seller_created_at\"], axis=1, inplace=True)"
   ]
  },
  {
   "cell_type": "code",
   "execution_count": 10,
   "metadata": {},
   "outputs": [],
   "source": [
    "#Splitting the variables\n",
    "X = dfmodel.drop(columns=\"churn\")\n",
    "y = dfmodel[\"churn\"]\n",
    "\n",
    "#Train and test split\n",
    "X_train, X_test, y_train, y_test = train_test_split(X, y, test_size=0.2, stratify=y, random_state=24)"
   ]
  },
  {
   "cell_type": "code",
   "execution_count": 11,
   "metadata": {},
   "outputs": [],
   "source": [
    "#Fitting the baseline model\n",
    "baseline_dt = DecisionTreeClassifier(max_depth=2)\n",
    "baseline_cv = cross_val_score(baseline_dt, X_train, y_train, cv=5)\n",
    "baseline_fitted = baseline_dt.fit(X_train, y_train)\n"
   ]
  },
  {
   "cell_type": "code",
   "execution_count": 12,
   "metadata": {},
   "outputs": [
    {
     "name": "stdout",
     "output_type": "stream",
     "text": [
      "\n",
      "- Baseline accuracy: 0.8816685881983021\n",
      "- Baseline recall: 0.9872291021671826\n",
      "- Baseline precision: 0.8813774041229989\n",
      "- Baseline f1: 0.9313051414663827\n",
      "\n"
     ]
    }
   ],
   "source": [
    "#Baseline scores:\n",
    "\n",
    "# Predict labels\n",
    "y_pred = baseline_fitted.predict(X_test)\n",
    "\n",
    "# Accuracy, Precision, recall, and F1-score\n",
    "accuracy = baseline_fitted.score(X_test, y_test)\n",
    "precision = precision_score(y_test, y_pred)\n",
    "recall = recall_score(y_test, y_pred)\n",
    "f1 = f1_score(y_test, y_pred)\n",
    "\n",
    "print(f\"\"\"\n",
    "- Baseline accuracy: {accuracy}\n",
    "- Baseline recall: {recall}\n",
    "- Baseline precision: {precision}\n",
    "- Baseline f1: {f1}\n",
    "\"\"\")"
   ]
  },
  {
   "attachments": {},
   "cell_type": "markdown",
   "metadata": {},
   "source": [
    "Baseline recall of the negative class: Include it into the baseline"
   ]
  },
  {
   "cell_type": "code",
   "execution_count": 13,
   "metadata": {},
   "outputs": [
    {
     "name": "stdout",
     "output_type": "stream",
     "text": [
      "overfitting - train model score: 0.882137148547022\n"
     ]
    }
   ],
   "source": [
    "#Check for overfitting\n",
    "print(f\"overfitting - train model score: {baseline_fitted.score(X_train, y_train)}\")"
   ]
  },
  {
   "cell_type": "code",
   "execution_count": 14,
   "metadata": {},
   "outputs": [
    {
     "data": {
      "image/png": "[encoded data removed]",
      "text/plain": [
       "<Figure size 1000x600 with 1 Axes>"
      ]
     },
     "metadata": {},
     "output_type": "display_data"
    }
   ],
   "source": [
    "# Plot the decision tree\n",
    "plt.figure(figsize=(10, 6))\n",
    "plot_tree(baseline_fitted, feature_names=X_train.columns, filled=True, class_names=[\"Not Churn\", \"Churn\"], impurity=True)\n",
    "plt.title(\"Baseline decision tree\")\n",
    "plt.show()"
   ]
  },
  {
   "attachments": {},
   "cell_type": "markdown",
   "metadata": {},
   "source": [
    "## Random Forest\n",
    "\n",
    "Iteration 1\n",
    "{'model': RandomForestClassifier(max_depth=200),\n",
    " 'model__max_depth': 200,\n",
    " 'normalise': StandardScaler(),\n",
    " 'select': None}\n",
    "\n",
    "- Baseline accuracy: 0.9391049156272927\n",
    "- Baseline recall: 0.9837461300309598\n",
    "- Baseline precision: 0.943695087241678\n",
    "- Baseline f1: 0.9633044906208552\n",
    "\n",
    "overfitting - train model score: 1.0\n",
    "\n",
    "There is already overfitting\n",
    "\n",
    "Iteration 2: depth range 'model__max_depth': [10, 12, 200],\n",
    "{'model': RandomForestClassifier(max_depth=200),\n",
    " 'model__max_depth': 200,\n",
    " 'normalise': None,\n",
    " 'select': None}\n",
    "- Baseline accuracy: 0.9401530237920553\n",
    "- Baseline recall: 0.9850361197110423\n",
    "- Baseline precision: 0.9437646768013842\n",
    "- Baseline f1: 0.9639588461781228\n",
    "\n",
    "Iteration 3: include min sample split\n",
    "param_grid = [\n",
    "    {\n",
    "        'model': [RandomForestClassifier()],\n",
    "        'normalise': [StandardScaler(), None],\n",
    "        'model__max_depth': [10, 12, 15, 20],\n",
    "        'model__min_samples_split': [2, 4, 6, 12],\n",
    "        'select':  [ None],\n",
    "\n",
    "Best Params:\n",
    "{'model': RandomForestClassifier(max_depth=20, min_samples_split=6),\n",
    " 'model__max_depth': 20,\n",
    " 'model__min_samples_split': 6,\n",
    " 'normalise': StandardScaler(),\n",
    " 'select': None}\n",
    "\n",
    "- Baseline accuracy: 0.9383712399119589\n",
    "- Baseline recall: 0.9842621259029928\n",
    "- Baseline precision: 0.9424407114624506\n",
    "- Baseline f1: 0.9628975265017667\n",
    "\n",
    " "
   ]
  },
  {
   "cell_type": "code",
   "execution_count": 17,
   "metadata": {},
   "outputs": [
    {
     "name": "stdout",
     "output_type": "stream",
     "text": [
      "Fitting 5 folds for each of 2 candidates, totalling 10 fits\n"
     ]
    }
   ],
   "source": [
    "#Random Forest gridsearch:\n",
    "estimators = [\n",
    "    (\"normalise\", StandardScaler()),\n",
    "    (\"select\", PCA()),\n",
    "    (\"model\", RandomForestClassifier())\n",
    "]\n",
    "\n",
    "pipe = Pipeline(estimators)\n",
    "\n",
    "param_grid = [\n",
    "    {\n",
    "        'model': [RandomForestClassifier()],\n",
    "        'normalise': [StandardScaler(), None],\n",
    "        'model__max_depth': [20],\n",
    "        'model__min_samples_split': [6],\n",
    "        'select':  [ None],\n",
    "    }]\n",
    "\n",
    "grid = GridSearchCV(pipe, param_grid, cv=5, verbose=1)\n",
    "rf_fitted_grid = grid.fit(X_train, y_train)"
   ]
  },
  {
   "cell_type": "code",
   "execution_count": 18,
   "metadata": {},
   "outputs": [
    {
     "data": {
      "text/plain": [
       "{'model': RandomForestClassifier(max_depth=20, min_samples_split=6),\n",
       " 'model__max_depth': 20,\n",
       " 'model__min_samples_split': 6,\n",
       " 'normalise': StandardScaler(),\n",
       " 'select': None}"
      ]
     },
     "execution_count": 18,
     "metadata": {},
     "output_type": "execute_result"
    }
   ],
   "source": [
    "rf_fitted_grid.best_params_"
   ]
  },
  {
   "cell_type": "code",
   "execution_count": 47,
   "metadata": {},
   "outputs": [
    {
     "name": "stdout",
     "output_type": "stream",
     "text": [
      "\n",
      "- Baseline accuracy: 0.9383712399119589\n",
      "- Baseline recall: 0.9842621259029928\n",
      "- Baseline precision: 0.9424407114624506\n",
      "- Baseline f1: 0.9628975265017667\n",
      "\n"
     ]
    }
   ],
   "source": [
    "#DT iteration 1\n",
    "\n",
    "# Predict labels\n",
    "y_pred = rf_fitted_grid.predict(X_test)\n",
    "\n",
    "# Accuracy, Precision, recall, and F1-score\n",
    "accuracy = rf_fitted_grid.score(X_test, y_test)\n",
    "precision = precision_score(y_test, y_pred)\n",
    "recall = recall_score(y_test, y_pred)\n",
    "f1 = f1_score(y_test, y_pred)\n",
    "\n",
    "print(f\"\"\"\n",
    "- Baseline accuracy: {accuracy}\n",
    "- Baseline recall: {recall}\n",
    "- Baseline precision: {precision}\n",
    "- Baseline f1: {f1}\n",
    "\"\"\")"
   ]
  },
  {
   "cell_type": "code",
   "execution_count": 46,
   "metadata": {},
   "outputs": [
    {
     "name": "stdout",
     "output_type": "stream",
     "text": [
      "overfitting - train model score: 0.9890731860702775\n"
     ]
    }
   ],
   "source": [
    "print(f\"overfitting - train model score: {rf_fitted_grid.score(X_train, y_train)}\")"
   ]
  },
  {
   "attachments": {},
   "cell_type": "markdown",
   "metadata": {},
   "source": [
    "## XGBoost"
   ]
  },
  {
   "cell_type": "code",
   "execution_count": 105,
   "metadata": {},
   "outputs": [
    {
     "name": "stdout",
     "output_type": "stream",
     "text": [
      "Fitting 3 folds for each of 13824 candidates, totalling 41472 fits\n"
     ]
    }
   ],
   "source": [
    "estimators = [\n",
    "    (\"model\", XGBClassifier())\n",
    "]\n",
    "\n",
    "pipe = Pipeline(estimators)\n",
    "\n",
    "param_grid = { \n",
    "    'model__max_depth': [5, 10, 20],\n",
    "    'model__colsample_bytree': [0.3, 0.5, 0.8],  # Hyperparameter for XGBoost\n",
    "    'model__reg_alpha': [0, 0.5, 1, 5],  # Hyperparameter for XGBoost\n",
    "    'model__reg_lambda': [0, 0.5, 1, 5],  # Hyperparameter for XGBoost\n",
    "    'model__learning_rate': [0.01, 0.1, 1],  # Hyperparameter for XGBoost\n",
    "    'model__gamma':[0.01, 0.1, 1, 10],\n",
    "    'model__n_estimators': [1, 10],\n",
    "    'model__scale_pos_weight': [0.1, 1, 10, 100]\n",
    "}\n",
    "\n",
    "grid = GridSearchCV(pipe, param_grid, cv=3, verbose=1)\n",
    "xgb_fitted_grid = grid.fit(X_train, y_train)"
   ]
  },
  {
   "cell_type": "code",
   "execution_count": 107,
   "metadata": {},
   "outputs": [
    {
     "data": {
      "text/plain": [
       "{'model__colsample_bytree': 0.8,\n",
       " 'model__gamma': 0.1,\n",
       " 'model__learning_rate': 0.1,\n",
       " 'model__max_depth': 20,\n",
       " 'model__n_estimators': 10,\n",
       " 'model__reg_alpha': 1,\n",
       " 'model__reg_lambda': 0.5,\n",
       " 'model__scale_pos_weight': 1}"
      ]
     },
     "execution_count": 107,
     "metadata": {},
     "output_type": "execute_result"
    }
   ],
   "source": [
    "xgb_fitted_grid.best_params_"
   ]
  },
  {
   "cell_type": "code",
   "execution_count": 110,
   "metadata": {},
   "outputs": [
    {
     "data": {
      "text/plain": [
       "0.9405722670579604"
      ]
     },
     "execution_count": 110,
     "metadata": {},
     "output_type": "execute_result"
    }
   ],
   "source": [
    "xgb_fitted_grid.score(X_test, y_test)"
   ]
  },
  {
   "cell_type": "code",
   "execution_count": 111,
   "metadata": {},
   "outputs": [
    {
     "data": {
      "text/plain": [
       "0.9765741686974294"
      ]
     },
     "execution_count": 111,
     "metadata": {},
     "output_type": "execute_result"
    }
   ],
   "source": [
    "xgb_fitted_grid.score(X_train, y_train)"
   ]
  },
  {
   "cell_type": "code",
   "execution_count": 113,
   "metadata": {},
   "outputs": [
    {
     "name": "stdout",
     "output_type": "stream",
     "text": [
      "\n",
      "- Baseline accuracy: 0.9405722670579604\n",
      "- Baseline recall: 0.9827141382868937\n",
      "- Baseline precision: 0.9462178611352627\n",
      "- Baseline f1: 0.9641207365690058\n",
      "\n"
     ]
    }
   ],
   "source": [
    "#XGBoost\n",
    "\n",
    "# Predict labels\n",
    "y_pred = xgb_fitted_grid.predict(X_test)\n",
    "\n",
    "# Accuracy, Precision, recall, and F1-score\n",
    "accuracy = xgb_fitted_grid.score(X_test, y_test)\n",
    "precision = precision_score(y_test, y_pred)\n",
    "recall = recall_score(y_test, y_pred)\n",
    "f1 = f1_score(y_test, y_pred)\n",
    "\n",
    "print(f\"\"\"\n",
    "- Baseline accuracy: {accuracy}\n",
    "- Baseline recall: {recall}\n",
    "- Baseline precision: {precision}\n",
    "- Baseline f1: {f1}\n",
    "\"\"\")"
   ]
  },
  {
   "cell_type": "code",
   "execution_count": 115,
   "metadata": {},
   "outputs": [
    {
     "data": {
      "image/png": "[encoded data removed]",
      "text/plain": [
       "<Figure size 640x480 with 2 Axes>"
      ]
     },
     "metadata": {},
     "output_type": "display_data"
    }
   ],
   "source": [
    "# Confusion Matrix\n",
    "cmx = confusion_matrix(y_test, xgb_fitted_grid.predict(X_test), labels=xgb_fitted_grid.best_estimator_.classes_)\n",
    "\n",
    "# Set the font color of values inside the matrix to white\n",
    "sns.heatmap(cmx, annot=True, cmap='vlag', fmt='d', annot_kws={\"color\": \"white\"})\n",
    "\n",
    "\n",
    "plt.title(\"Best XGBoost Model Confusion Matrix\")\n",
    "plt.xlabel(\"Predicted\")\n",
    "plt.ylabel(\"Actual\")\n",
    "plt.show()"
   ]
  },
  {
   "cell_type": "code",
   "execution_count": 116,
   "metadata": {},
   "outputs": [
    {
     "name": "stdout",
     "output_type": "stream",
     "text": [
      "Negative Predictive Value: 0.9100671140939597\n",
      "True Negative ratio: 0.7579653437674678\n"
     ]
    }
   ],
   "source": [
    "#Negative Predictive Value = TN / (TN + FN)\n",
    "print(f\"Negative Predictive Value: {1356 /(1356 + 134)}\")\n",
    "\n",
    "#True Negative Ratio = TN / (TN + FP)\n",
    "print(f\"True Negative ratio: {1356 / (1356 + 433)}\")"
   ]
  },
  {
   "cell_type": "code",
   "execution_count": 117,
   "metadata": {},
   "outputs": [],
   "source": [
    "xgdepth = np.arange(1, 25)"
   ]
  },
  {
   "cell_type": "code",
   "execution_count": 19,
   "metadata": {},
   "outputs": [
    {
     "ename": "NameError",
     "evalue": "name 'xgdepth' is not defined",
     "output_type": "error",
     "traceback": [
      "\u001b[0;31m---------------------------------------------------------------------------\u001b[0m",
      "\u001b[0;31mNameError\u001b[0m                                 Traceback (most recent call last)",
      "Cell \u001b[0;32mIn[19], line 14\u001b[0m\n\u001b[1;32m     11\u001b[0m recall_final \u001b[39m=\u001b[39m []\n\u001b[1;32m     13\u001b[0m \u001b[39m#Model: \u001b[39;00m\n\u001b[0;32m---> 14\u001b[0m \u001b[39mfor\u001b[39;00m depth \u001b[39min\u001b[39;00m xgdepth:\n\u001b[1;32m     15\u001b[0m     it2_xg \u001b[39m=\u001b[39m XGBClassifier(max_depth\u001b[39m=\u001b[39mdepth)\n\u001b[1;32m     16\u001b[0m     \u001b[39m#it2_cv = cross_val_score(it2_rf, X_train, y_train, cv=5)\u001b[39;00m\n",
      "\u001b[0;31mNameError\u001b[0m: name 'xgdepth' is not defined"
     ]
    }
   ],
   "source": [
    "#Split:\n",
    "\n",
    "#Train and test split\n",
    "X_train_tempxg, X_valxg, y_train_tempxg, y_valxg = train_test_split(X_train, y_train, test_size=0.2, stratify=y_train, random_state=24)\n",
    "\n",
    "#Lists:\n",
    "\n",
    "accuracy_testxg = []\n",
    "accuracy_trainxg = []\n",
    "\n",
    "recall_final = []\n",
    "\n",
    "#Model: \n",
    "for depth in xgdepth:\n",
    "    it2_xg = XGBClassifier(max_depth=depth)\n",
    "    #it2_cv = cross_val_score(it2_rf, X_train, y_train, cv=5)\n",
    "    it2_fitted = it2_xg.fit(X_train_tempxg, y_train_tempxg)\n",
    "    accuracy_testxg.append(it2_fitted.score(X_valxg, y_valxg))\n",
    "    accuracy_trainxg.append(it2_fitted.score(X_train_tempxg, y_train_tempxg))\n",
    "    y_pred = it2_fitted.predict(X_valxg)\n",
    "    recall_final.append(recall_score(y_valxg, y_pred))"
   ]
  },
  {
   "cell_type": "code",
   "execution_count": 119,
   "metadata": {},
   "outputs": [
    {
     "data": {
      "application/vnd.plotly.v1+json": {
       "config": {
        "plotlyServerURL": "https://plot.ly"
       },
       "data": [
        {
         "line": {
          "color": "red"
         },
         "name": "Accuracy Test",
         "type": "scatter",
         "x": [
          1,
          2,
          3,
          4,
          5,
          6,
          7,
          8,
          9,
          10,
          11,
          12,
          13,
          14,
          15,
          16,
          17,
          18,
          19,
          20,
          21,
          22,
          23,
          24
         ],
         "y": [
          0.9160225337350976,
          0.9289925324249967,
          0.9376391982182628,
          0.9380322284815931,
          0.9396043495349142,
          0.9386872789204769,
          0.9382942486571466,
          0.9389492990960304,
          0.9384252587449233,
          0.939211319271584,
          0.9403904100615748,
          0.939211319271584,
          0.9401283898860212,
          0.9399973797982445,
          0.9377702083060395,
          0.939735359622691,
          0.9403904100615748,
          0.9409144504126817,
          0.940259399973798,
          0.9414384907637888,
          0.940783440324905,
          0.9403904100615748,
          0.941307480676012,
          0.9410454605004586
         ]
        },
        {
         "line": {
          "color": "slateblue"
         },
         "name": "Accuracy Train",
         "type": "scatter",
         "x": [
          1,
          2,
          3,
          4,
          5,
          6,
          7,
          8,
          9,
          10,
          11,
          12,
          13,
          14,
          15,
          16,
          17,
          18,
          19,
          20,
          21,
          22,
          23,
          24
         ],
         "y": [
          0.9228300032754667,
          0.9382246970193252,
          0.9495905666557485,
          0.962102849656076,
          0.9756960366852276,
          0.9882738290206354,
          0.995774647887324,
          0.9995414346544382,
          1,
          1,
          1,
          1,
          1,
          1,
          1,
          1,
          1,
          1,
          1,
          1,
          1,
          1,
          1,
          1
         ]
        }
       ],
       "layout": {
        "legend": {
         "title": {
          "text": "Accuracy"
         }
        },
        "template": {
         "data": {
          "bar": [
           {
            "error_x": {
             "color": "#2a3f5f"
            },
            "error_y": {
             "color": "#2a3f5f"
            },
            "marker": {
             "line": {
              "color": "#E5ECF6",
              "width": 0.5
             }
            },
            "type": "bar"
           }
          ],
          "barpolar": [
           {
            "marker": {
             "line": {
              "color": "#E5ECF6",
              "width": 0.5
             }
            },
            "type": "barpolar"
           }
          ],
          "carpet": [
           {
            "aaxis": {
             "endlinecolor": "#2a3f5f",
             "gridcolor": "white",
             "linecolor": "white",
             "minorgridcolor": "white",
             "startlinecolor": "#2a3f5f"
            },
            "baxis": {
             "endlinecolor": "#2a3f5f",
             "gridcolor": "white",
             "linecolor": "white",
             "minorgridcolor": "white",
             "startlinecolor": "#2a3f5f"
            },
            "type": "carpet"
           }
          ],
          "choropleth": [
           {
            "colorbar": {
             "outlinewidth": 0,
             "ticks": ""
            },
            "type": "choropleth"
           }
          ],
          "contour": [
           {
            "colorbar": {
             "outlinewidth": 0,
             "ticks": ""
            },
            "colorscale": [
             [
              0,
              "#0d0887"
             ],
             [
              0.1111111111111111,
              "#46039f"
             ],
             [
              0.2222222222222222,
              "#7201a8"
             ],
             [
              0.3333333333333333,
              "#9c179e"
             ],
             [
              0.4444444444444444,
              "#bd3786"
             ],
             [
              0.5555555555555556,
              "#d8576b"
             ],
             [
              0.6666666666666666,
              "#ed7953"
             ],
             [
              0.7777777777777778,
              "#fb9f3a"
             ],
             [
              0.8888888888888888,
              "#fdca26"
             ],
             [
              1,
              "#f0f921"
             ]
            ],
            "type": "contour"
           }
          ],
          "contourcarpet": [
           {
            "colorbar": {
             "outlinewidth": 0,
             "ticks": ""
            },
            "type": "contourcarpet"
           }
          ],
          "heatmap": [
           {
            "colorbar": {
             "outlinewidth": 0,
             "ticks": ""
            },
            "colorscale": [
             [
              0,
              "#0d0887"
             ],
             [
              0.1111111111111111,
              "#46039f"
             ],
             [
              0.2222222222222222,
              "#7201a8"
             ],
             [
              0.3333333333333333,
              "#9c179e"
             ],
             [
              0.4444444444444444,
              "#bd3786"
             ],
             [
              0.5555555555555556,
              "#d8576b"
             ],
             [
              0.6666666666666666,
              "#ed7953"
             ],
             [
              0.7777777777777778,
              "#fb9f3a"
             ],
             [
              0.8888888888888888,
              "#fdca26"
             ],
             [
              1,
              "#f0f921"
             ]
            ],
            "type": "heatmap"
           }
          ],
          "heatmapgl": [
           {
            "colorbar": {
             "outlinewidth": 0,
             "ticks": ""
            },
            "colorscale": [
             [
              0,
              "#0d0887"
             ],
             [
              0.1111111111111111,
              "#46039f"
             ],
             [
              0.2222222222222222,
              "#7201a8"
             ],
             [
              0.3333333333333333,
              "#9c179e"
             ],
             [
              0.4444444444444444,
              "#bd3786"
             ],
             [
              0.5555555555555556,
              "#d8576b"
             ],
             [
              0.6666666666666666,
              "#ed7953"
             ],
             [
              0.7777777777777778,
              "#fb9f3a"
             ],
             [
              0.8888888888888888,
              "#fdca26"
             ],
             [
              1,
              "#f0f921"
             ]
            ],
            "type": "heatmapgl"
           }
          ],
          "histogram": [
           {
            "marker": {
             "colorbar": {
              "outlinewidth": 0,
              "ticks": ""
             }
            },
            "type": "histogram"
           }
          ],
          "histogram2d": [
           {
            "colorbar": {
             "outlinewidth": 0,
             "ticks": ""
            },
            "colorscale": [
             [
              0,
              "#0d0887"
             ],
             [
              0.1111111111111111,
              "#46039f"
             ],
             [
              0.2222222222222222,
              "#7201a8"
             ],
             [
              0.3333333333333333,
              "#9c179e"
             ],
             [
              0.4444444444444444,
              "#bd3786"
             ],
             [
              0.5555555555555556,
              "#d8576b"
             ],
             [
              0.6666666666666666,
              "#ed7953"
             ],
             [
              0.7777777777777778,
              "#fb9f3a"
             ],
             [
              0.8888888888888888,
              "#fdca26"
             ],
             [
              1,
              "#f0f921"
             ]
            ],
            "type": "histogram2d"
           }
          ],
          "histogram2dcontour": [
           {
            "colorbar": {
             "outlinewidth": 0,
             "ticks": ""
            },
            "colorscale": [
             [
              0,
              "#0d0887"
             ],
             [
              0.1111111111111111,
              "#46039f"
             ],
             [
              0.2222222222222222,
              "#7201a8"
             ],
             [
              0.3333333333333333,
              "#9c179e"
             ],
             [
              0.4444444444444444,
              "#bd3786"
             ],
             [
              0.5555555555555556,
              "#d8576b"
             ],
             [
              0.6666666666666666,
              "#ed7953"
             ],
             [
              0.7777777777777778,
              "#fb9f3a"
             ],
             [
              0.8888888888888888,
              "#fdca26"
             ],
             [
              1,
              "#f0f921"
             ]
            ],
            "type": "histogram2dcontour"
           }
          ],
          "mesh3d": [
           {
            "colorbar": {
             "outlinewidth": 0,
             "ticks": ""
            },
            "type": "mesh3d"
           }
          ],
          "parcoords": [
           {
            "line": {
             "colorbar": {
              "outlinewidth": 0,
              "ticks": ""
             }
            },
            "type": "parcoords"
           }
          ],
          "pie": [
           {
            "automargin": true,
            "type": "pie"
           }
          ],
          "scatter": [
           {
            "marker": {
             "colorbar": {
              "outlinewidth": 0,
              "ticks": ""
             }
            },
            "type": "scatter"
           }
          ],
          "scatter3d": [
           {
            "line": {
             "colorbar": {
              "outlinewidth": 0,
              "ticks": ""
             }
            },
            "marker": {
             "colorbar": {
              "outlinewidth": 0,
              "ticks": ""
             }
            },
            "type": "scatter3d"
           }
          ],
          "scattercarpet": [
           {
            "marker": {
             "colorbar": {
              "outlinewidth": 0,
              "ticks": ""
             }
            },
            "type": "scattercarpet"
           }
          ],
          "scattergeo": [
           {
            "marker": {
             "colorbar": {
              "outlinewidth": 0,
              "ticks": ""
             }
            },
            "type": "scattergeo"
           }
          ],
          "scattergl": [
           {
            "marker": {
             "colorbar": {
              "outlinewidth": 0,
              "ticks": ""
             }
            },
            "type": "scattergl"
           }
          ],
          "scattermapbox": [
           {
            "marker": {
             "colorbar": {
              "outlinewidth": 0,
              "ticks": ""
             }
            },
            "type": "scattermapbox"
           }
          ],
          "scatterpolar": [
           {
            "marker": {
             "colorbar": {
              "outlinewidth": 0,
              "ticks": ""
             }
            },
            "type": "scatterpolar"
           }
          ],
          "scatterpolargl": [
           {
            "marker": {
             "colorbar": {
              "outlinewidth": 0,
              "ticks": ""
             }
            },
            "type": "scatterpolargl"
           }
          ],
          "scatterternary": [
           {
            "marker": {
             "colorbar": {
              "outlinewidth": 0,
              "ticks": ""
             }
            },
            "type": "scatterternary"
           }
          ],
          "surface": [
           {
            "colorbar": {
             "outlinewidth": 0,
             "ticks": ""
            },
            "colorscale": [
             [
              0,
              "#0d0887"
             ],
             [
              0.1111111111111111,
              "#46039f"
             ],
             [
              0.2222222222222222,
              "#7201a8"
             ],
             [
              0.3333333333333333,
              "#9c179e"
             ],
             [
              0.4444444444444444,
              "#bd3786"
             ],
             [
              0.5555555555555556,
              "#d8576b"
             ],
             [
              0.6666666666666666,
              "#ed7953"
             ],
             [
              0.7777777777777778,
              "#fb9f3a"
             ],
             [
              0.8888888888888888,
              "#fdca26"
             ],
             [
              1,
              "#f0f921"
             ]
            ],
            "type": "surface"
           }
          ],
          "table": [
           {
            "cells": {
             "fill": {
              "color": "#EBF0F8"
             },
             "line": {
              "color": "white"
             }
            },
            "header": {
             "fill": {
              "color": "#C8D4E3"
             },
             "line": {
              "color": "white"
             }
            },
            "type": "table"
           }
          ]
         },
         "layout": {
          "annotationdefaults": {
           "arrowcolor": "#2a3f5f",
           "arrowhead": 0,
           "arrowwidth": 1
          },
          "coloraxis": {
           "colorbar": {
            "outlinewidth": 0,
            "ticks": ""
           }
          },
          "colorscale": {
           "diverging": [
            [
             0,
             "#8e0152"
            ],
            [
             0.1,
             "#c51b7d"
            ],
            [
             0.2,
             "#de77ae"
            ],
            [
             0.3,
             "#f1b6da"
            ],
            [
             0.4,
             "#fde0ef"
            ],
            [
             0.5,
             "#f7f7f7"
            ],
            [
             0.6,
             "#e6f5d0"
            ],
            [
             0.7,
             "#b8e186"
            ],
            [
             0.8,
             "#7fbc41"
            ],
            [
             0.9,
             "#4d9221"
            ],
            [
             1,
             "#276419"
            ]
           ],
           "sequential": [
            [
             0,
             "#0d0887"
            ],
            [
             0.1111111111111111,
             "#46039f"
            ],
            [
             0.2222222222222222,
             "#7201a8"
            ],
            [
             0.3333333333333333,
             "#9c179e"
            ],
            [
             0.4444444444444444,
             "#bd3786"
            ],
            [
             0.5555555555555556,
             "#d8576b"
            ],
            [
             0.6666666666666666,
             "#ed7953"
            ],
            [
             0.7777777777777778,
             "#fb9f3a"
            ],
            [
             0.8888888888888888,
             "#fdca26"
            ],
            [
             1,
             "#f0f921"
            ]
           ],
           "sequentialminus": [
            [
             0,
             "#0d0887"
            ],
            [
             0.1111111111111111,
             "#46039f"
            ],
            [
             0.2222222222222222,
             "#7201a8"
            ],
            [
             0.3333333333333333,
             "#9c179e"
            ],
            [
             0.4444444444444444,
             "#bd3786"
            ],
            [
             0.5555555555555556,
             "#d8576b"
            ],
            [
             0.6666666666666666,
             "#ed7953"
            ],
            [
             0.7777777777777778,
             "#fb9f3a"
            ],
            [
             0.8888888888888888,
             "#fdca26"
            ],
            [
             1,
             "#f0f921"
            ]
           ]
          },
          "colorway": [
           "#636efa",
           "#EF553B",
           "#00cc96",
           "#ab63fa",
           "#FFA15A",
           "#19d3f3",
           "#FF6692",
           "#B6E880",
           "#FF97FF",
           "#FECB52"
          ],
          "font": {
           "color": "#2a3f5f"
          },
          "geo": {
           "bgcolor": "white",
           "lakecolor": "white",
           "landcolor": "#E5ECF6",
           "showlakes": true,
           "showland": true,
           "subunitcolor": "white"
          },
          "hoverlabel": {
           "align": "left"
          },
          "hovermode": "closest",
          "mapbox": {
           "style": "light"
          },
          "paper_bgcolor": "white",
          "plot_bgcolor": "#E5ECF6",
          "polar": {
           "angularaxis": {
            "gridcolor": "white",
            "linecolor": "white",
            "ticks": ""
           },
           "bgcolor": "#E5ECF6",
           "radialaxis": {
            "gridcolor": "white",
            "linecolor": "white",
            "ticks": ""
           }
          },
          "scene": {
           "xaxis": {
            "backgroundcolor": "#E5ECF6",
            "gridcolor": "white",
            "gridwidth": 2,
            "linecolor": "white",
            "showbackground": true,
            "ticks": "",
            "zerolinecolor": "white"
           },
           "yaxis": {
            "backgroundcolor": "#E5ECF6",
            "gridcolor": "white",
            "gridwidth": 2,
            "linecolor": "white",
            "showbackground": true,
            "ticks": "",
            "zerolinecolor": "white"
           },
           "zaxis": {
            "backgroundcolor": "#E5ECF6",
            "gridcolor": "white",
            "gridwidth": 2,
            "linecolor": "white",
            "showbackground": true,
            "ticks": "",
            "zerolinecolor": "white"
           }
          },
          "shapedefaults": {
           "line": {
            "color": "#2a3f5f"
           }
          },
          "ternary": {
           "aaxis": {
            "gridcolor": "white",
            "linecolor": "white",
            "ticks": ""
           },
           "baxis": {
            "gridcolor": "white",
            "linecolor": "white",
            "ticks": ""
           },
           "bgcolor": "#E5ECF6",
           "caxis": {
            "gridcolor": "white",
            "linecolor": "white",
            "ticks": ""
           }
          },
          "title": {
           "x": 0.05
          },
          "xaxis": {
           "automargin": true,
           "gridcolor": "white",
           "linecolor": "white",
           "ticks": "",
           "title": {
            "standoff": 15
           },
           "zerolinecolor": "white",
           "zerolinewidth": 2
          },
          "yaxis": {
           "automargin": true,
           "gridcolor": "white",
           "linecolor": "white",
           "ticks": "",
           "title": {
            "standoff": 15
           },
           "zerolinecolor": "white",
           "zerolinewidth": 2
          }
         }
        },
        "title": {
         "text": "XGBoost overfitting: accuracy and depth"
        },
        "xaxis": {
         "title": {
          "text": "Depths"
         }
        },
        "yaxis": {
         "title": {
          "text": "Accuracy"
         }
        }
       }
      }
     },
     "metadata": {},
     "output_type": "display_data"
    }
   ],
   "source": [
    "fig = go.Figure()\n",
    "\n",
    "# Accuracy test\n",
    "fig.add_trace(go.Scatter(x=xgdepth, y=accuracy_testxg, name='Accuracy Test', line=dict(color='red')))\n",
    "\n",
    "# Accuracy_train\n",
    "fig.add_trace(go.Scatter(x=xgdepth, y=accuracy_trainxg, name='Accuracy Train', line=dict(color='slateblue')))\n",
    "\n",
    "# Set the layout with titles\n",
    "fig.update_layout(\n",
    "    title='XGBoost overfitting: accuracy and depth',\n",
    "    xaxis_title='Depths',\n",
    "    yaxis_title='Accuracy',\n",
    "    legend_title='Accuracy',\n",
    ")\n",
    "\n",
    "# Show the figure\n",
    "fig.show()"
   ]
  },
  {
   "cell_type": "code",
   "execution_count": null,
   "metadata": {},
   "outputs": [],
   "source": []
  },
  {
   "cell_type": "code",
   "execution_count": 15,
   "metadata": {},
   "outputs": [
    {
     "name": "stdout",
     "output_type": "stream",
     "text": [
      "Fitting 5 folds for each of 4 candidates, totalling 20 fits\n"
     ]
    }
   ],
   "source": [
    "#XGBoost It 2\n",
    "estimators = [\n",
    "    (\"model\", XGBClassifier())\n",
    "]\n",
    "\n",
    "pipe = Pipeline(estimators)\n",
    "\n",
    "param_grid = { \n",
    "    'model__max_depth': [5],\n",
    "    'model__colsample_bytree': [ 0.9],  # Hyperparameter for XGBoost\n",
    "    'model__reg_alpha': [1 ],  # Hyperparameter for XGBoost\n",
    "    'model__reg_lambda': [0.5],  # Hyperparameter for XGBoost\n",
    "    'model__learning_rate': [1],  # Hyperparameter for XGBoost\n",
    "    'model__gamma':[0.1,],\n",
    "    'model__n_estimators': [100, 150, 200, 500],\n",
    "    'model__scale_pos_weight': [1]\n",
    "}\n",
    "\n",
    "grid = GridSearchCV(pipe, param_grid, cv=5, verbose=1)\n",
    "xgb_fitted_grid2 = grid.fit(X_train, y_train)"
   ]
  },
  {
   "cell_type": "code",
   "execution_count": 16,
   "metadata": {},
   "outputs": [
    {
     "name": "stdout",
     "output_type": "stream",
     "text": [
      "{'model__colsample_bytree': 0.9, 'model__gamma': 0.1, 'model__learning_rate': 1, 'model__max_depth': 5, 'model__n_estimators': 200, 'model__reg_alpha': 1, 'model__reg_lambda': 0.5, 'model__scale_pos_weight': 1}\n"
     ]
    }
   ],
   "source": [
    "print(xgb_fitted_grid2.best_params_)"
   ]
  },
  {
   "cell_type": "code",
   "execution_count": 17,
   "metadata": {},
   "outputs": [
    {
     "data": {
      "text/plain": [
       "0.9405722670579604"
      ]
     },
     "execution_count": 17,
     "metadata": {},
     "output_type": "execute_result"
    }
   ],
   "source": [
    "xgb_fitted_grid2.score(X_test, y_test)\n"
   ]
  },
  {
   "cell_type": "code",
   "execution_count": 24,
   "metadata": {},
   "outputs": [
    {
     "data": {
      "application/vnd.plotly.v1+json": {
       "config": {
        "plotlyServerURL": "https://plot.ly"
       },
       "data": [
        {
         "mode": "lines",
         "name": "ROC Curve (AUC = 0.97)",
         "type": "scatter",
         "x": [
          0,
          0,
          0,
          0,
          0.0005589714924538849,
          0.0005589714924538849,
          0.0011179429849077697,
          0.0011179429849077697,
          0.0011179429849077697,
          0.0011179429849077697,
          0.0011179429849077697,
          0.0011179429849077697,
          0.0011179429849077697,
          0.0011179429849077697,
          0.0011179429849077697,
          0.0011179429849077697,
          0.0011179429849077697,
          0.0011179429849077697,
          0.0011179429849077697,
          0.0011179429849077697,
          0.0011179429849077697,
          0.0011179429849077697,
          0.0011179429849077697,
          0.0011179429849077697,
          0.0011179429849077697,
          0.0011179429849077697,
          0.0011179429849077697,
          0.0011179429849077697,
          0.0011179429849077697,
          0.0011179429849077697,
          0.0011179429849077697,
          0.0011179429849077697,
          0.0011179429849077697,
          0.0011179429849077697,
          0.0011179429849077697,
          0.0011179429849077697,
          0.0011179429849077697,
          0.0011179429849077697,
          0.0011179429849077697,
          0.0011179429849077697,
          0.0011179429849077697,
          0.0011179429849077697,
          0.0011179429849077697,
          0.0011179429849077697,
          0.0011179429849077697,
          0.0011179429849077697,
          0.0011179429849077697,
          0.0011179429849077697,
          0.0016769144773616546,
          0.0016769144773616546,
          0.0016769144773616546,
          0.0016769144773616546,
          0.0016769144773616546,
          0.0016769144773616546,
          0.0016769144773616546,
          0.0016769144773616546,
          0.0016769144773616546,
          0.0016769144773616546,
          0.0016769144773616546,
          0.0016769144773616546,
          0.0016769144773616546,
          0.0016769144773616546,
          0.0016769144773616546,
          0.0016769144773616546,
          0.0022358859698155395,
          0.0022358859698155395,
          0.0022358859698155395,
          0.0022358859698155395,
          0.0022358859698155395,
          0.0022358859698155395,
          0.0022358859698155395,
          0.0022358859698155395,
          0.0022358859698155395,
          0.0022358859698155395,
          0.0022358859698155395,
          0.0022358859698155395,
          0.0022358859698155395,
          0.0022358859698155395,
          0.0022358859698155395,
          0.0022358859698155395,
          0.0022358859698155395,
          0.0022358859698155395,
          0.0022358859698155395,
          0.0022358859698155395,
          0.0022358859698155395,
          0.0022358859698155395,
          0.0022358859698155395,
          0.0022358859698155395,
          0.0022358859698155395,
          0.0022358859698155395,
          0.0022358859698155395,
          0.0022358859698155395,
          0.0022358859698155395,
          0.0022358859698155395,
          0.0022358859698155395,
          0.0022358859698155395,
          0.0022358859698155395,
          0.0022358859698155395,
          0.0022358859698155395,
          0.0022358859698155395,
          0.0022358859698155395,
          0.0022358859698155395,
          0.0022358859698155395,
          0.0022358859698155395,
          0.0022358859698155395,
          0.0022358859698155395,
          0.0022358859698155395,
          0.0022358859698155395,
          0.0022358859698155395,
          0.0022358859698155395,
          0.0022358859698155395,
          0.0022358859698155395,
          0.0022358859698155395,
          0.0022358859698155395,
          0.0022358859698155395,
          0.0022358859698155395,
          0.0022358859698155395,
          0.0022358859698155395,
          0.0022358859698155395,
          0.0022358859698155395,
          0.0022358859698155395,
          0.0022358859698155395,
          0.0022358859698155395,
          0.0022358859698155395,
          0.0022358859698155395,
          0.0022358859698155395,
          0.0022358859698155395,
          0.0022358859698155395,
          0.0022358859698155395,
          0.0022358859698155395,
          0.0022358859698155395,
          0.0022358859698155395,
          0.0022358859698155395,
          0.0022358859698155395,
          0.0022358859698155395,
          0.0022358859698155395,
          0.0022358859698155395,
          0.0022358859698155395,
          0.0022358859698155395,
          0.0022358859698155395,
          0.0022358859698155395,
          0.0022358859698155395,
          0.0022358859698155395,
          0.0022358859698155395,
          0.0022358859698155395,
          0.0022358859698155395,
          0.0022358859698155395,
          0.0022358859698155395,
          0.0022358859698155395,
          0.0022358859698155395,
          0.0022358859698155395,
          0.0022358859698155395,
          0.0022358859698155395,
          0.0022358859698155395,
          0.0022358859698155395,
          0.0022358859698155395,
          0.0022358859698155395,
          0.0022358859698155395,
          0.0022358859698155395,
          0.0022358859698155395,
          0.0022358859698155395,
          0.0022358859698155395,
          0.0022358859698155395,
          0.0022358859698155395,
          0.0022358859698155395,
          0.0022358859698155395,
          0.0022358859698155395,
          0.0022358859698155395,
          0.0022358859698155395,
          0.0022358859698155395,
          0.0022358859698155395,
          0.0022358859698155395,
          0.0022358859698155395,
          0.0022358859698155395,
          0.0022358859698155395,
          0.0022358859698155395,
          0.0022358859698155395,
          0.0022358859698155395,
          0.0022358859698155395,
          0.0022358859698155395,
          0.0022358859698155395,
          0.0022358859698155395,
          0.0022358859698155395,
          0.0022358859698155395,
          0.0022358859698155395,
          0.0022358859698155395,
          0.0022358859698155395,
          0.0022358859698155395,
          0.0022358859698155395,
          0.0022358859698155395,
          0.0022358859698155395,
          0.0022358859698155395,
          0.0022358859698155395,
          0.0022358859698155395,
          0.0022358859698155395,
          0.0022358859698155395,
          0.0022358859698155395,
          0.0022358859698155395,
          0.0022358859698155395,
          0.0022358859698155395,
          0.0022358859698155395,
          0.0022358859698155395,
          0.0022358859698155395,
          0.0022358859698155395,
          0.0022358859698155395,
          0.0022358859698155395,
          0.0022358859698155395,
          0.0022358859698155395,
          0.0022358859698155395,
          0.0022358859698155395,
          0.0022358859698155395,
          0.0022358859698155395,
          0.0022358859698155395,
          0.0022358859698155395,
          0.0022358859698155395,
          0.0022358859698155395,
          0.0022358859698155395,
          0.0022358859698155395,
          0.0022358859698155395,
          0.0022358859698155395,
          0.0022358859698155395,
          0.0022358859698155395,
          0.002794857462269424,
          0.002794857462269424,
          0.002794857462269424,
          0.002794857462269424,
          0.002794857462269424,
          0.002794857462269424,
          0.002794857462269424,
          0.002794857462269424,
          0.002794857462269424,
          0.002794857462269424,
          0.002794857462269424,
          0.002794857462269424,
          0.002794857462269424,
          0.002794857462269424,
          0.002794857462269424,
          0.002794857462269424,
          0.002794857462269424,
          0.002794857462269424,
          0.002794857462269424,
          0.002794857462269424,
          0.002794857462269424,
          0.002794857462269424,
          0.002794857462269424,
          0.002794857462269424,
          0.002794857462269424,
          0.002794857462269424,
          0.002794857462269424,
          0.002794857462269424,
          0.002794857462269424,
          0.002794857462269424,
          0.002794857462269424,
          0.002794857462269424,
          0.002794857462269424,
          0.002794857462269424,
          0.002794857462269424,
          0.002794857462269424,
          0.002794857462269424,
          0.002794857462269424,
          0.002794857462269424,
          0.002794857462269424,
          0.002794857462269424,
          0.002794857462269424,
          0.002794857462269424,
          0.002794857462269424,
          0.002794857462269424,
          0.002794857462269424,
          0.002794857462269424,
          0.002794857462269424,
          0.002794857462269424,
          0.002794857462269424,
          0.002794857462269424,
          0.002794857462269424,
          0.002794857462269424,
          0.002794857462269424,
          0.002794857462269424,
          0.002794857462269424,
          0.002794857462269424,
          0.002794857462269424,
          0.002794857462269424,
          0.002794857462269424,
          0.002794857462269424,
          0.002794857462269424,
          0.002794857462269424,
          0.002794857462269424,
          0.002794857462269424,
          0.002794857462269424,
          0.002794857462269424,
          0.002794857462269424,
          0.002794857462269424,
          0.002794857462269424,
          0.003353828954723309,
          0.003353828954723309,
          0.003353828954723309,
          0.003353828954723309,
          0.003353828954723309,
          0.003353828954723309,
          0.003353828954723309,
          0.003353828954723309,
          0.003353828954723309,
          0.003353828954723309,
          0.003353828954723309,
          0.003353828954723309,
          0.003353828954723309,
          0.003353828954723309,
          0.003353828954723309,
          0.003353828954723309,
          0.003353828954723309,
          0.003353828954723309,
          0.003353828954723309,
          0.003353828954723309,
          0.003353828954723309,
          0.003353828954723309,
          0.003353828954723309,
          0.003353828954723309,
          0.003353828954723309,
          0.003353828954723309,
          0.003353828954723309,
          0.003353828954723309,
          0.003353828954723309,
          0.003353828954723309,
          0.003353828954723309,
          0.003353828954723309,
          0.003353828954723309,
          0.003353828954723309,
          0.003353828954723309,
          0.003353828954723309,
          0.003353828954723309,
          0.003353828954723309,
          0.003353828954723309,
          0.003353828954723309,
          0.003353828954723309,
          0.003353828954723309,
          0.003353828954723309,
          0.003353828954723309,
          0.003353828954723309,
          0.003353828954723309,
          0.003353828954723309,
          0.003353828954723309,
          0.003353828954723309,
          0.003353828954723309,
          0.003353828954723309,
          0.003353828954723309,
          0.003912800447177194,
          0.003912800447177194,
          0.003912800447177194,
          0.003912800447177194,
          0.003912800447177194,
          0.003912800447177194,
          0.003912800447177194,
          0.003912800447177194,
          0.004471771939631079,
          0.004471771939631079,
          0.004471771939631079,
          0.004471771939631079,
          0.004471771939631079,
          0.004471771939631079,
          0.004471771939631079,
          0.004471771939631079,
          0.004471771939631079,
          0.004471771939631079,
          0.004471771939631079,
          0.004471771939631079,
          0.004471771939631079,
          0.004471771939631079,
          0.004471771939631079,
          0.004471771939631079,
          0.004471771939631079,
          0.004471771939631079,
          0.004471771939631079,
          0.004471771939631079,
          0.004471771939631079,
          0.004471771939631079,
          0.004471771939631079,
          0.004471771939631079,
          0.005030743432084964,
          0.005030743432084964,
          0.005030743432084964,
          0.005030743432084964,
          0.005030743432084964,
          0.005030743432084964,
          0.005030743432084964,
          0.005030743432084964,
          0.005030743432084964,
          0.005030743432084964,
          0.005030743432084964,
          0.005030743432084964,
          0.005030743432084964,
          0.005030743432084964,
          0.005030743432084964,
          0.005030743432084964,
          0.005589714924538848,
          0.005589714924538848,
          0.005589714924538848,
          0.005589714924538848,
          0.005589714924538848,
          0.005589714924538848,
          0.005589714924538848,
          0.005589714924538848,
          0.005589714924538848,
          0.005589714924538848,
          0.005589714924538848,
          0.005589714924538848,
          0.005589714924538848,
          0.005589714924538848,
          0.005589714924538848,
          0.005589714924538848,
          0.005589714924538848,
          0.005589714924538848,
          0.005589714924538848,
          0.005589714924538848,
          0.005589714924538848,
          0.005589714924538848,
          0.005589714924538848,
          0.005589714924538848,
          0.005589714924538848,
          0.005589714924538848,
          0.005589714924538848,
          0.005589714924538848,
          0.005589714924538848,
          0.005589714924538848,
          0.005589714924538848,
          0.005589714924538848,
          0.005589714924538848,
          0.005589714924538848,
          0.005589714924538848,
          0.005589714924538848,
          0.005589714924538848,
          0.005589714924538848,
          0.005589714924538848,
          0.005589714924538848,
          0.005589714924538848,
          0.005589714924538848,
          0.005589714924538848,
          0.005589714924538848,
          0.005589714924538848,
          0.005589714924538848,
          0.005589714924538848,
          0.005589714924538848,
          0.005589714924538848,
          0.005589714924538848,
          0.005589714924538848,
          0.005589714924538848,
          0.005589714924538848,
          0.005589714924538848,
          0.005589714924538848,
          0.005589714924538848,
          0.005589714924538848,
          0.005589714924538848,
          0.006148686416992733,
          0.006148686416992733,
          0.006148686416992733,
          0.006148686416992733,
          0.006148686416992733,
          0.006148686416992733,
          0.006148686416992733,
          0.006148686416992733,
          0.006148686416992733,
          0.006707657909446618,
          0.006707657909446618,
          0.006707657909446618,
          0.006707657909446618,
          0.006707657909446618,
          0.006707657909446618,
          0.006707657909446618,
          0.006707657909446618,
          0.006707657909446618,
          0.006707657909446618,
          0.006707657909446618,
          0.006707657909446618,
          0.006707657909446618,
          0.006707657909446618,
          0.006707657909446618,
          0.006707657909446618,
          0.006707657909446618,
          0.006707657909446618,
          0.006707657909446618,
          0.0072666294019005035,
          0.0072666294019005035,
          0.007825600894354388,
          0.007825600894354388,
          0.007825600894354388,
          0.007825600894354388,
          0.007825600894354388,
          0.007825600894354388,
          0.007825600894354388,
          0.007825600894354388,
          0.007825600894354388,
          0.007825600894354388,
          0.007825600894354388,
          0.007825600894354388,
          0.007825600894354388,
          0.007825600894354388,
          0.007825600894354388,
          0.007825600894354388,
          0.007825600894354388,
          0.007825600894354388,
          0.007825600894354388,
          0.007825600894354388,
          0.007825600894354388,
          0.007825600894354388,
          0.007825600894354388,
          0.007825600894354388,
          0.007825600894354388,
          0.007825600894354388,
          0.007825600894354388,
          0.007825600894354388,
          0.008384572386808273,
          0.008384572386808273,
          0.008384572386808273,
          0.008384572386808273,
          0.008384572386808273,
          0.008384572386808273,
          0.008384572386808273,
          0.008384572386808273,
          0.008384572386808273,
          0.008384572386808273,
          0.008384572386808273,
          0.008384572386808273,
          0.008384572386808273,
          0.008384572386808273,
          0.008384572386808273,
          0.008384572386808273,
          0.008384572386808273,
          0.008384572386808273,
          0.008384572386808273,
          0.008384572386808273,
          0.008384572386808273,
          0.008384572386808273,
          0.008384572386808273,
          0.008384572386808273,
          0.008384572386808273,
          0.008384572386808273,
          0.008384572386808273,
          0.008384572386808273,
          0.008384572386808273,
          0.008384572386808273,
          0.008384572386808273,
          0.008384572386808273,
          0.008384572386808273,
          0.008384572386808273,
          0.008384572386808273,
          0.008384572386808273,
          0.008384572386808273,
          0.008384572386808273,
          0.008384572386808273,
          0.008384572386808273,
          0.008384572386808273,
          0.008384572386808273,
          0.008384572386808273,
          0.008384572386808273,
          0.008384572386808273,
          0.008384572386808273,
          0.008384572386808273,
          0.008384572386808273,
          0.008384572386808273,
          0.008384572386808273,
          0.008384572386808273,
          0.008384572386808273,
          0.008384572386808273,
          0.008384572386808273,
          0.008384572386808273,
          0.008384572386808273,
          0.008384572386808273,
          0.008384572386808273,
          0.008384572386808273,
          0.008384572386808273,
          0.008384572386808273,
          0.008384572386808273,
          0.008384572386808273,
          0.008384572386808273,
          0.008384572386808273,
          0.008384572386808273,
          0.008384572386808273,
          0.008384572386808273,
          0.008384572386808273,
          0.008384572386808273,
          0.008384572386808273,
          0.008384572386808273,
          0.008384572386808273,
          0.008384572386808273,
          0.008384572386808273,
          0.008384572386808273,
          0.008384572386808273,
          0.008384572386808273,
          0.008384572386808273,
          0.008384572386808273,
          0.008384572386808273,
          0.008384572386808273,
          0.008943543879262158,
          0.008943543879262158,
          0.008943543879262158,
          0.008943543879262158,
          0.008943543879262158,
          0.008943543879262158,
          0.008943543879262158,
          0.008943543879262158,
          0.008943543879262158,
          0.008943543879262158,
          0.008943543879262158,
          0.008943543879262158,
          0.008943543879262158,
          0.008943543879262158,
          0.008943543879262158,
          0.008943543879262158,
          0.008943543879262158,
          0.008943543879262158,
          0.008943543879262158,
          0.008943543879262158,
          0.008943543879262158,
          0.008943543879262158,
          0.008943543879262158,
          0.008943543879262158,
          0.008943543879262158,
          0.008943543879262158,
          0.008943543879262158,
          0.008943543879262158,
          0.008943543879262158,
          0.008943543879262158,
          0.008943543879262158,
          0.008943543879262158,
          0.008943543879262158,
          0.008943543879262158,
          0.008943543879262158,
          0.008943543879262158,
          0.008943543879262158,
          0.008943543879262158,
          0.008943543879262158,
          0.009502515371716043,
          0.009502515371716043,
          0.009502515371716043,
          0.010061486864169928,
          0.010061486864169928,
          0.010061486864169928,
          0.010061486864169928,
          0.010620458356623811,
          0.010620458356623811,
          0.010620458356623811,
          0.010620458356623811,
          0.010620458356623811,
          0.010620458356623811,
          0.010620458356623811,
          0.010620458356623811,
          0.010620458356623811,
          0.010620458356623811,
          0.010620458356623811,
          0.010620458356623811,
          0.010620458356623811,
          0.010620458356623811,
          0.011179429849077696,
          0.011179429849077696,
          0.011179429849077696,
          0.011179429849077696,
          0.011179429849077696,
          0.011179429849077696,
          0.011738401341531582,
          0.011738401341531582,
          0.011738401341531582,
          0.011738401341531582,
          0.012297372833985467,
          0.012297372833985467,
          0.012297372833985467,
          0.012297372833985467,
          0.012297372833985467,
          0.012297372833985467,
          0.012297372833985467,
          0.012297372833985467,
          0.012297372833985467,
          0.012297372833985467,
          0.012297372833985467,
          0.012297372833985467,
          0.012297372833985467,
          0.012297372833985467,
          0.012297372833985467,
          0.013415315818893237,
          0.013415315818893237,
          0.013415315818893237,
          0.013415315818893237,
          0.013974287311347122,
          0.013974287311347122,
          0.013974287311347122,
          0.013974287311347122,
          0.014533258803801007,
          0.014533258803801007,
          0.01509223029625489,
          0.01509223029625489,
          0.015651201788708775,
          0.015651201788708775,
          0.015651201788708775,
          0.015651201788708775,
          0.015651201788708775,
          0.015651201788708775,
          0.015651201788708775,
          0.015651201788708775,
          0.015651201788708775,
          0.01621017328116266,
          0.01621017328116266,
          0.016769144773616546,
          0.016769144773616546,
          0.016769144773616546,
          0.016769144773616546,
          0.01732811626607043,
          0.01732811626607043,
          0.01732811626607043,
          0.017887087758524316,
          0.017887087758524316,
          0.017887087758524316,
          0.017887087758524316,
          0.0184460592509782,
          0.0184460592509782,
          0.019005030743432086,
          0.019005030743432086,
          0.01956400223588597,
          0.01956400223588597,
          0.020122973728339856,
          0.020122973728339856,
          0.020122973728339856,
          0.020122973728339856,
          0.02068194522079374,
          0.02068194522079374,
          0.02068194522079374,
          0.02068194522079374,
          0.02068194522079374,
          0.02068194522079374,
          0.021240916713247623,
          0.021240916713247623,
          0.021799888205701508,
          0.021799888205701508,
          0.022358859698155393,
          0.022358859698155393,
          0.022917831190609278,
          0.022917831190609278,
          0.022917831190609278,
          0.022917831190609278,
          0.023476802683063163,
          0.023476802683063163,
          0.023476802683063163,
          0.024035774175517048,
          0.024035774175517048,
          0.024594745667970933,
          0.024594745667970933,
          0.02515371716042482,
          0.02515371716042482,
          0.025712688652878703,
          0.025712688652878703,
          0.02627166014533259,
          0.02627166014533259,
          0.026830631637786474,
          0.026830631637786474,
          0.02738960313024036,
          0.02738960313024036,
          0.027948574622694244,
          0.027948574622694244,
          0.02850754611514813,
          0.02850754611514813,
          0.029066517607602014,
          0.029066517607602014,
          0.029625489100055896,
          0.029625489100055896,
          0.029625489100055896,
          0.029625489100055896,
          0.03018446059250978,
          0.03018446059250978,
          0.030743432084963666,
          0.030743432084963666,
          0.03130240357741755,
          0.03130240357741755,
          0.03186137506987144,
          0.03186137506987144,
          0.03186137506987144,
          0.03186137506987144,
          0.03242034656232532,
          0.03242034656232532,
          0.03297931805477921,
          0.03297931805477921,
          0.03353828954723309,
          0.03353828954723309,
          0.03465623253214086,
          0.03465623253214086,
          0.03521520402459474,
          0.03521520402459474,
          0.03577417551704863,
          0.03577417551704863,
          0.0368921185019564,
          0.0368921185019564,
          0.03745108999441028,
          0.03745108999441028,
          0.03801006148686417,
          0.03801006148686417,
          0.03856903297931805,
          0.03856903297931805,
          0.03912800447177194,
          0.03912800447177194,
          0.039686975964225824,
          0.039686975964225824,
          0.04024594745667971,
          0.04024594745667971,
          0.040804918949133594,
          0.040804918949133594,
          0.041922861934041364,
          0.041922861934041364,
          0.042481833426495245,
          0.042481833426495245,
          0.043040804918949134,
          0.043040804918949134,
          0.043599776411403016,
          0.043599776411403016,
          0.044158747903856904,
          0.044158747903856904,
          0.045276690888764674,
          0.045276690888764674,
          0.046394633873672445,
          0.046394633873672445,
          0.046953605366126326,
          0.046953605366126326,
          0.047512576858580215,
          0.047512576858580215,
          0.048071548351034096,
          0.048071548351034096,
          0.048630519843487985,
          0.048630519843487985,
          0.049189491335941866,
          0.049189491335941866,
          0.049748462828395755,
          0.049748462828395755,
          0.05030743432084964,
          0.05030743432084964,
          0.05142537730575741,
          0.05142537730575741,
          0.05198434879821129,
          0.05198434879821129,
          0.05254332029066518,
          0.05254332029066518,
          0.05310229178311906,
          0.05310229178311906,
          0.05366126327557295,
          0.05366126327557295,
          0.05422023476802683,
          0.05422023476802683,
          0.05477920626048072,
          0.05477920626048072,
          0.0553381777529346,
          0.0553381777529346,
          0.05589714924538849,
          0.05589714924538849,
          0.05701509223029626,
          0.05701509223029626,
          0.05757406372275014,
          0.05757406372275014,
          0.05813303521520403,
          0.05813303521520403,
          0.05869200670765791,
          0.05869200670765791,
          0.05925097820011179,
          0.05925097820011179,
          0.05980994969256568,
          0.05980994969256568,
          0.06036892118501956,
          0.06036892118501956,
          0.06148686416992733,
          0.06148686416992733,
          0.06204583566238122,
          0.06204583566238122,
          0.0626048071548351,
          0.0626048071548351,
          0.06316377864728899,
          0.06316377864728899,
          0.06372275013974288,
          0.06372275013974288,
          0.06428172163219675,
          0.06428172163219675,
          0.06484069312465064,
          0.06484069312465064,
          0.06539966461710453,
          0.06539966461710453,
          0.06595863610955842,
          0.06595863610955842,
          0.0665176076020123,
          0.0665176076020123,
          0.06707657909446618,
          0.06707657909446618,
          0.06763555058692007,
          0.06763555058692007,
          0.06819452207937395,
          0.06819452207937395,
          0.06875349357182783,
          0.06875349357182783,
          0.06931246506428172,
          0.06931246506428172,
          0.06987143655673561,
          0.06987143655673561,
          0.07043040804918949,
          0.07043040804918949,
          0.07098937954164337,
          0.07098937954164337,
          0.07154835103409726,
          0.07154835103409726,
          0.07210732252655115,
          0.07210732252655115,
          0.07266629401900503,
          0.07266629401900503,
          0.07322526551145891,
          0.07322526551145891,
          0.0737842370039128,
          0.0737842370039128,
          0.07434320849636669,
          0.07434320849636669,
          0.07490217998882057,
          0.07490217998882057,
          0.07602012297372834,
          0.07602012297372834,
          0.07657909446618222,
          0.07657909446618222,
          0.0771380659586361,
          0.0771380659586361,
          0.07769703745109,
          0.07769703745109,
          0.07825600894354388,
          0.07825600894354388,
          0.07881498043599776,
          0.07881498043599776,
          0.07937395192845165,
          0.07937395192845165,
          0.08049189491335942,
          0.08049189491335942,
          0.0810508664058133,
          0.0810508664058133,
          0.08160983789826719,
          0.08160983789826719,
          0.08216880939072108,
          0.08216880939072108,
          0.08272778088317496,
          0.08272778088317496,
          0.08328675237562884,
          0.08328675237562884,
          0.08440469536053662,
          0.08440469536053662,
          0.08496366685299049,
          0.08496366685299049,
          0.08552263834544438,
          0.08552263834544438,
          0.08719955282280603,
          0.08719955282280603,
          0.08775852431525992,
          0.08775852431525992,
          0.08831749580771381,
          0.08831749580771381,
          0.0888764673001677,
          0.0888764673001677,
          0.08943543879262157,
          0.08943543879262157,
          0.08999441028507546,
          0.08999441028507546,
          0.09111235326998324,
          0.09111235326998324,
          0.092230296254891,
          0.092230296254891,
          0.09278926774734489,
          0.09278926774734489,
          0.09334823923979876,
          0.09334823923979876,
          0.09390721073225265,
          0.09390721073225265,
          0.09446618222470654,
          0.09446618222470654,
          0.09502515371716043,
          0.09502515371716043,
          0.0955841252096143,
          0.0955841252096143,
          0.09614309670206819,
          0.09614309670206819,
          0.09670206819452208,
          0.09670206819452208,
          0.09726103968697597,
          0.09726103968697597,
          0.09782001117942984,
          0.09782001117942984,
          0.09837898267188373,
          0.09837898267188373,
          0.09893795416433762,
          0.09893795416433762,
          0.10005589714924538,
          0.10005589714924538,
          0.10061486864169927,
          0.10061486864169927,
          0.10117384013415316,
          0.10117384013415316,
          0.10173281162660704,
          0.10173281162660704,
          0.10285075461151481,
          0.10285075461151481,
          0.1034097261039687,
          0.1034097261039687,
          0.10396869759642258,
          0.10396869759642258,
          0.10452766908887647,
          0.10452766908887647,
          0.10508664058133035,
          0.10508664058133035,
          0.106763555058692,
          0.106763555058692,
          0.1073225265511459,
          0.1073225265511459,
          0.10844046953605366,
          0.10844046953605366,
          0.10899944102850755,
          0.10899944102850755,
          0.10955841252096143,
          0.10955841252096143,
          0.11011738401341531,
          0.11011738401341531,
          0.11179429849077697,
          0.11179429849077697,
          0.11235326998323085,
          0.11235326998323085,
          0.11347121296813863,
          0.11347121296813863,
          0.11458915595304639,
          0.11458915595304639,
          0.11626607043040806,
          0.11626607043040806,
          0.11682504192286193,
          0.11682504192286193,
          0.11738401341531582,
          0.11738401341531582,
          0.11794298490776971,
          0.11794298490776971,
          0.11850195640022358,
          0.11850195640022358,
          0.11906092789267747,
          0.11906092789267747,
          0.12017887087758525,
          0.12017887087758525,
          0.12073784237003912,
          0.12073784237003912,
          0.12129681386249301,
          0.12129681386249301,
          0.1218557853549469,
          0.1218557853549469,
          0.12241475684740079,
          0.12241475684740079,
          0.12297372833985466,
          0.12297372833985466,
          0.12353269983230855,
          0.12353269983230855,
          0.12409167132476244,
          0.12409167132476244,
          0.12465064281721633,
          0.12465064281721633,
          0.1252096143096702,
          0.1252096143096702,
          0.1257685858021241,
          0.1257685858021241,
          0.12632755729457798,
          0.12632755729457798,
          0.12744550027948576,
          0.12744550027948576,
          0.12800447177193963,
          0.12800447177193963,
          0.1291224147568474,
          0.1291224147568474,
          0.12968138624930128,
          0.12968138624930128,
          0.13024035774175516,
          0.13024035774175516,
          0.13079932923420906,
          0.13079932923420906,
          0.13135830072666294,
          0.13135830072666294,
          0.13191727221911684,
          0.13191727221911684,
          0.1324762437115707,
          0.1324762437115707,
          0.1335941866964785,
          0.1335941866964785,
          0.13415315818893236,
          0.13415315818893236,
          0.13471212968138624,
          0.13471212968138624,
          0.13527110117384014,
          0.13527110117384014,
          0.13583007266629402,
          0.13583007266629402,
          0.1363890441587479,
          0.1363890441587479,
          0.1369480156512018,
          0.1369480156512018,
          0.13750698714365567,
          0.13750698714365567,
          0.13862493012856344,
          0.13862493012856344,
          0.13918390162101732,
          0.13918390162101732,
          0.13974287311347122,
          0.13974287311347122,
          0.1403018446059251,
          0.1403018446059251,
          0.14086081609837897,
          0.14086081609837897,
          0.14141978759083287,
          0.14141978759083287,
          0.14253773057574065,
          0.14253773057574065,
          0.1436556735606484,
          0.1436556735606484,
          0.14477361654555618,
          0.14477361654555618,
          0.14533258803801005,
          0.14533258803801005,
          0.14645053102291783,
          0.14645053102291783,
          0.14868641699273338,
          0.14868641699273338,
          0.14980435997764113,
          0.14980435997764113,
          0.1509223029625489,
          0.1509223029625489,
          0.15148127445500278,
          0.15148127445500278,
          0.15315818893236444,
          0.15315818893236444,
          0.15371716042481834,
          0.15371716042481834,
          0.1542761319172722,
          0.1542761319172722,
          0.15483510340972612,
          0.15483510340972612,
          0.15539407490218,
          0.15539407490218,
          0.15595304639463387,
          0.15595304639463387,
          0.15707098937954164,
          0.15707098937954164,
          0.15762996087199552,
          0.15762996087199552,
          0.1593068753493572,
          0.1593068753493572,
          0.15986584684181107,
          0.15986584684181107,
          0.16042481833426495,
          0.16042481833426495,
          0.16154276131917272,
          0.16154276131917272,
          0.16321967579653437,
          0.16321967579653437,
          0.16433761878144215,
          0.16433761878144215,
          0.16489659027389603,
          0.16489659027389603,
          0.16545556176634993,
          0.16545556176634993,
          0.16657350475125768,
          0.16657350475125768,
          0.16713247624371158,
          0.16713247624371158,
          0.16769144773616546,
          0.16769144773616546,
          0.16880939072107323,
          0.16880939072107323,
          0.1693683622135271,
          0.1693683622135271,
          0.17048630519843488,
          0.17048630519843488,
          0.17104527669088876,
          0.17104527669088876,
          0.17160424818334266,
          0.17160424818334266,
          0.17216321967579654,
          0.17216321967579654,
          0.1727221911682504,
          0.1727221911682504,
          0.1732811626607043,
          0.1732811626607043,
          0.1738401341531582,
          0.1738401341531582,
          0.17439910564561206,
          0.17439910564561206,
          0.17495807713806596,
          0.17495807713806596,
          0.17551704863051984,
          0.17551704863051984,
          0.17607602012297374,
          0.17607602012297374,
          0.1771939631078815,
          0.1771939631078815,
          0.1777529346003354,
          0.1777529346003354,
          0.17831190609278927,
          0.17831190609278927,
          0.17942984907769705,
          0.17942984907769705,
          0.17998882057015092,
          0.17998882057015092,
          0.1805477920626048,
          0.1805477920626048,
          0.1811067635550587,
          0.1811067635550587,
          0.18166573504751257,
          0.18166573504751257,
          0.18278367803242035,
          0.18278367803242035,
          0.18334264952487422,
          0.18334264952487422,
          0.184460592509782,
          0.184460592509782,
          0.1878144214645053,
          0.1878144214645053,
          0.1883733929569592,
          0.1883733929569592,
          0.18949133594186696,
          0.18949133594186696,
          0.19005030743432086,
          0.19005030743432086,
          0.1917272219116825,
          0.1917272219116825,
          0.19340413638904416,
          0.19340413638904416,
          0.19452207937395194,
          0.19452207937395194,
          0.19508105086640581,
          0.19508105086640581,
          0.1956400223588597,
          0.1956400223588597,
          0.1961989938513136,
          0.1961989938513136,
          0.20067076579094467,
          0.20067076579094467,
          0.20178870877585242,
          0.20178870877585242,
          0.20346562325321407,
          0.20346562325321407,
          0.20458356623812185,
          0.20458356623812185,
          0.20514253773057575,
          0.20514253773057575,
          0.2062604807154835,
          0.2062604807154835,
          0.2068194522079374,
          0.2068194522079374,
          0.20793739519284515,
          0.20793739519284515,
          0.20905533817775293,
          0.20905533817775293,
          0.2101732811626607,
          0.2101732811626607,
          0.21073225265511458,
          0.21073225265511458,
          0.21185019564002236,
          0.21185019564002236,
          0.21296813862493014,
          0.21296813862493014,
          0.21408608160983789,
          0.21408608160983789,
          0.21576299608719957,
          0.21576299608719957,
          0.21632196757965344,
          0.21632196757965344,
          0.21688093907210731,
          0.21688093907210731,
          0.2179988820570151,
          0.2179988820570151,
          0.21967579653437674,
          0.21967579653437674,
          0.22023476802683062,
          0.22023476802683062,
          0.2213527110117384,
          0.2213527110117384,
          0.22302962548910005,
          0.22302962548910005,
          0.22358859698155395,
          0.22358859698155395,
          0.2247065399664617,
          0.2247065399664617,
          0.2252655114589156,
          0.2252655114589156,
          0.22582448295136948,
          0.22582448295136948,
          0.22638345444382338,
          0.22638345444382338,
          0.23085522638345443,
          0.23085522638345443,
          0.23141419787590833,
          0.23141419787590833,
          0.23420905533817776,
          0.23420905533817776,
          0.23476802683063164,
          0.23476802683063164,
          0.2353269983230855,
          0.2353269983230855,
          0.2364449413079933,
          0.2364449413079933,
          0.23700391280044716,
          0.23700391280044716,
          0.23756288429290107,
          0.23756288429290107,
          0.23923979877026272,
          0.23923979877026272,
          0.24091671324762437,
          0.24091671324762437,
          0.24259362772498602,
          0.24259362772498602,
          0.24427054220234767,
          0.24427054220234767,
          0.24482951369480158,
          0.24482951369480158,
          0.24594745667970933,
          0.24594745667970933,
          0.24650642817216323,
          0.24650642817216323,
          0.2470653996646171,
          0.2470653996646171,
          0.2515371716042482,
          0.2515371716042482,
          0.25321408608160983,
          0.25321408608160983,
          0.2537730575740637,
          0.2537730575740637,
          0.2543320290665176,
          0.2543320290665176,
          0.2548910005589715,
          0.2548910005589715,
          0.25768585802124094,
          0.25768585802124094,
          0.2588038010061487,
          0.2588038010061487,
          0.2604807154835103,
          0.2604807154835103,
          0.2615986584684181,
          0.2615986584684181,
          0.26439351593068755,
          0.26439351593068755,
          0.2660704304080492,
          0.2660704304080492,
          0.26774734488541085,
          0.26774734488541085,
          0.2699832308552264,
          0.2699832308552264,
          0.2705422023476803,
          0.2705422023476803,
          0.2727780883174958,
          0.2727780883174958,
          0.27445500279485746,
          0.27445500279485746,
          0.27948574622694244,
          0.27948574622694244,
          0.2800447177193963,
          0.2800447177193963,
          0.2822806036892119,
          0.2822806036892119,
          0.28283957518166575,
          0.28283957518166575,
          0.2839575181665735,
          0.2839575181665735,
          0.28451648965902737,
          0.28451648965902737,
          0.2884292901062046,
          0.2884292901062046,
          0.2889882615986585,
          0.2889882615986585,
          0.28954723309111235,
          0.28954723309111235,
          0.2917831190609279,
          0.2917831190609279,
          0.2923420905533818,
          0.2923420905533818,
          0.29625489100055896,
          0.29625489100055896,
          0.29793180547792064,
          0.29793180547792064,
          0.3040804918949134,
          0.3040804918949134,
          0.30463946338736725,
          0.30463946338736725,
          0.3063163778647289,
          0.3063163778647289,
          0.3091112353269983,
          0.3091112353269983,
          0.3102291783119061,
          0.3102291783119061,
          0.31134712129681386,
          0.31134712129681386,
          0.31190609278926773,
          0.31190609278926773,
          0.3124650642817216,
          0.3124650642817216,
          0.31470095025153716,
          0.31470095025153716,
          0.31805477920626046,
          0.31805477920626046,
          0.31917272219116827,
          0.31917272219116827,
          0.31973169368362214,
          0.31973169368362214,
          0.32140860816098377,
          0.32140860816098377,
          0.325321408608161,
          0.325321408608161,
          0.3275572945779765,
          0.3275572945779765,
          0.32811626607043043,
          0.32811626607043043,
          0.33147009502515373,
          0.33147009502515373,
          0.3320290665176076,
          0.3320290665176076,
          0.3325880380100615,
          0.3325880380100615,
          0.33370598099496923,
          0.33370598099496923,
          0.3353828954723309,
          0.3353828954723309,
          0.33650083845723866,
          0.33650083845723866,
          0.33817775293460034,
          0.33817775293460034,
          0.3437674678591392,
          0.3437674678591392,
          0.3460033538289547,
          0.3460033538289547,
          0.3510340972610397,
          0.3510340972610397,
          0.35159306875349355,
          0.35159306875349355,
          0.3538289547233091,
          0.3538289547233091,
          0.354387926215763,
          0.354387926215763,
          0.3555058692006708,
          0.3555058692006708,
          0.3588596981553941,
          0.3588596981553941,
          0.35941866964784797,
          0.35941866964784797,
          0.3605366126327557,
          0.3605366126327557,
          0.36668529904974845,
          0.36668529904974845,
          0.3705980994969257,
          0.3705980994969257,
          0.37339295695919505,
          0.37339295695919505,
          0.37842370039128004,
          0.37842370039128004,
          0.383454443823365,
          0.383454443823365,
          0.3923979877026272,
          0.3923979877026272,
          0.3951928451648966,
          0.3951928451648966,
          0.4169927333705981,
          0.4169927333705981,
          0.41866964784795974,
          0.41866964784795974,
          0.42258244829513697,
          0.42258244829513697,
          0.4237003912800447,
          0.4237003912800447,
          0.4242593627724986,
          0.4242593627724986,
          0.4343208496366685,
          0.4343208496366685,
          0.4455002794857462,
          0.4455002794857462,
          0.47177193963107883,
          0.47177193963107883,
          0.4795975405254332,
          0.4795975405254332,
          0.5114589155953047,
          0.5114589155953047,
          0.5204024594745668,
          0.5204024594745668,
          0.5310229178311906,
          0.5310229178311906,
          0.5377305757406372,
          0.5377305757406372,
          0.5399664617104528,
          0.5399664617104528,
          0.5511458915595304,
          0.5511458915595304,
          0.5589714924538849,
          0.5589714924538849,
          0.5662381218557854,
          0.5662381218557854,
          1
         ],
         "y": [
          0,
          0.05082559339525284,
          0.09932920536635707,
          0.12938596491228072,
          0.15118679050567596,
          0.16808565531475747,
          0.18253353973168215,
          0.1937564499484004,
          0.2052373581011352,
          0.2149122807017544,
          0.22523219814241485,
          0.233875128998968,
          0.24006707946336428,
          0.24651702786377708,
          0.25270897832817335,
          0.2576109391124871,
          0.2626418988648091,
          0.26741486068111453,
          0.27296181630546956,
          0.27657378740970073,
          0.27954076367389064,
          0.2836687306501548,
          0.28766769865841074,
          0.29089267285861714,
          0.2936016511867905,
          0.2961816305469556,
          0.29889060887512897,
          0.30172858617131065,
          0.3046955624355005,
          0.30714654282765735,
          0.3110165118679051,
          0.3137254901960784,
          0.3161764705882353,
          0.31824045407636736,
          0.32146542827657376,
          0.32417440660474717,
          0.3281733746130031,
          0.33152734778121773,
          0.33397832817337464,
          0.3352683178534572,
          0.33759029927760575,
          0.33888028895768835,
          0.34029927760577916,
          0.3446852425180599,
          0.3461042311661507,
          0.347781217750258,
          0.3495872033023736,
          0.3507481940144479,
          0.35190918472652216,
          0.3530701754385965,
          0.35487616099071206,
          0.35655314757481943,
          0.3574561403508772,
          0.3591331269349845,
          0.3606811145510836,
          0.3627450980392157,
          0.3637770897832817,
          0.3654540763673891,
          0.3670020639834881,
          0.3688080495356037,
          0.36958204334365324,
          0.37138802889576883,
          0.3734520123839009,
          0.37435500515995873,
          0.37603199174406604,
          0.3770639834881321,
          0.3778379772961816,
          0.37951496388028894,
          0.380030959752322,
          0.3811919504643963,
          0.3831269349845201,
          0.3849329205366357,
          0.3858359133126935,
          0.38712590299277605,
          0.38867389060887514,
          0.3899638802889577,
          0.3913828689370485,
          0.39241486068111453,
          0.3939628482972136,
          0.39512383900928794,
          0.39563983488132093,
          0.3964138286893705,
          0.39705882352941174,
          0.3974458204334365,
          0.39809081527347784,
          0.39989680082559337,
          0.40131578947368424,
          0.4019607843137255,
          0.40312177502579977,
          0.40350877192982454,
          0.40505675954592363,
          0.4054437564499484,
          0.40595975232198145,
          0.40802373581011353,
          0.4098297213622291,
          0.41060371517027866,
          0.4117647058823529,
          0.4120227038183695,
          0.41240970072239425,
          0.4134416924664603,
          0.4144736842105263,
          0.41563467492260064,
          0.41602167182662536,
          0.4162796697626419,
          0.41744066047471623,
          0.41847265221878227,
          0.41898864809081526,
          0.4215686274509804,
          0.42195562435500517,
          0.42260061919504643,
          0.4227296181630547,
          0.42376160990712075,
          0.42401960784313725,
          0.42492260061919507,
          0.4264705882352941,
          0.42698658410732715,
          0.4277605779153767,
          0.42814757481940147,
          0.42879256965944273,
          0.4298245614035088,
          0.43008255933952527,
          0.4305985552115583,
          0.4309855521155831,
          0.4315015479876161,
          0.4327915376676987,
          0.43369453044375644,
          0.4340815273477812,
          0.4343395252837977,
          0.4347265221878225,
          0.43550051599587203,
          0.43640350877192985,
          0.43717750257997934,
          0.43949948400412797,
          0.44014447884416924,
          0.4406604747162023,
          0.4407894736842105,
          0.44156346749226005,
          0.4425954592363261,
          0.44336945304437564,
          0.4440144478844169,
          0.4451754385964912,
          0.4456914344685243,
          0.4472394220846233,
          0.44775541795665635,
          0.4485294117647059,
          0.4487874097007224,
          0.4503353973168215,
          0.45072239422084626,
          0.451625386996904,
          0.4518833849329205,
          0.45252837977296184,
          0.4534313725490196,
          0.4538183694530444,
          0.45433436532507737,
          0.4552373581011352,
          0.4554953560371517,
          0.4570433436532508,
          0.4582043343653251,
          0.4587203302373581,
          0.4602683178534572,
          0.46078431372549017,
          0.4614293085655315,
          0.46233230134158926,
          0.46259029927760575,
          0.46271929824561403,
          0.4632352941176471,
          0.4634932920536636,
          0.46388028895768835,
          0.46400928792569657,
          0.46439628482972134,
          0.4645252837977296,
          0.46504127966976266,
          0.46568627450980393,
          0.4664602683178535,
          0.46671826625387,
          0.46723426212590297,
          0.4680082559339525,
          0.46852425180598556,
          0.46878224974200206,
          0.46891124871001033,
          0.4696852425180599,
          0.46994324045407637,
          0.47084623323013414,
          0.4713622291021672,
          0.4716202270381837,
          0.47226522187822495,
          0.4726522187822497,
          0.4729102167182663,
          0.47355521155830754,
          0.47381320949432404,
          0.4742002063983488,
          0.47549019607843135,
          0.4762641898864809,
          0.47639318885448917,
          0.47665118679050567,
          0.47678018575851394,
          0.47729618163054693,
          0.4774251805985552,
          0.47781217750258,
          0.478844169246646,
          0.4792311661506708,
          0.47974716202270384,
          0.48026315789473684,
          0.4803921568627451,
          0.48116615067079466,
          0.48168214654282765,
          0.4818111455108359,
          0.4821981424148607,
          0.48284313725490197,
          0.48323013415892674,
          0.48348813209494323,
          0.4840041279669763,
          0.48439112487100106,
          0.4845201238390093,
          0.48581011351909187,
          0.4868421052631579,
          0.4872291021671827,
          0.4874871001031992,
          0.4886480908152735,
          0.48890608875129,
          0.48929308565531476,
          0.48955108359133126,
          0.48980908152734776,
          0.4904540763673891,
          0.4907120743034056,
          0.49084107327141385,
          0.49122807017543857,
          0.49251805985552116,
          0.49303405572755415,
          0.4935500515995872,
          0.493937048503612,
          0.49445304437564497,
          0.49484004127966974,
          0.4950980392156863,
          0.4952270381836945,
          0.4956140350877193,
          0.49574303405572756,
          0.49600103199174406,
          0.4965170278637771,
          0.4967750257997936,
          0.4970330237358101,
          0.4971620227038184,
          0.49754901960784315,
          0.49767801857585137,
          0.4981940144478844,
          0.49922600619195046,
          0.4997420020639835,
          0.4998710010319917,
          0.5009029927760578,
          0.5011609907120743,
          0.5012899896800825,
          0.5018059855521155,
          0.5021929824561403,
          0.5024509803921569,
          0.5028379772961816,
          0.5041279669762642,
          0.5046439628482973,
          0.5049019607843137,
          0.5052889576883385,
          0.5054179566563467,
          0.5061919504643962,
          0.5067079463364293,
          0.5068369453044376,
          0.5076109391124871,
          0.5078689370485037,
          0.5079979360165119,
          0.5083849329205367,
          0.5085139318885449,
          0.5090299277605779,
          0.5091589267285862,
          0.5094169246646026,
          0.5098039215686274,
          0.5103199174406605,
          0.510577915376677,
          0.5110939112487101,
          0.5117389060887513,
          0.5122549019607843,
          0.5125128998968008,
          0.5130288957688338,
          0.5132868937048504,
          0.5135448916408669,
          0.5139318885448917,
          0.5141898864809081,
          0.5147058823529411,
          0.5148348813209495,
          0.5153508771929824,
          0.5158668730650154,
          0.5162538699690402,
          0.5167698658410733,
          0.5174148606811145,
          0.5178018575851393,
          0.5180598555211559,
          0.5180598555211559,
          0.5184468524251806,
          0.5185758513931888,
          0.5189628482972136,
          0.5194788441692466,
          0.5201238390092879,
          0.5203818369453045,
          0.5207688338493293,
          0.5210268317853457,
          0.5214138286893705,
          0.52218782249742,
          0.522703818369453,
          0.5230908152734778,
          0.5233488132094943,
          0.5234778121775026,
          0.5242518059855521,
          0.5245098039215687,
          0.5246388028895769,
          0.5248968008255934,
          0.5255417956656346,
          0.5257997936016512,
          0.5263157894736842,
          0.5265737874097007,
          0.5268317853457173,
          0.5273477812177503,
          0.5274767801857585,
          0.5279927760577915,
          0.5281217750257998,
          0.5285087719298246,
          0.5288957688338494,
          0.5294117647058824,
          0.5295407636738906,
          0.5297987616099071,
          0.5300567595459237,
          0.5308307533539731,
          0.5309597523219814,
          0.5316047471620227,
          0.531733746130031,
          0.532249742002064,
          0.5326367389060888,
          0.5331527347781218,
          0.5335397316821465,
          0.5339267285861713,
          0.5344427244582043,
          0.5347007223942208,
          0.5349587203302374,
          0.5353457172342622,
          0.5356037151702786,
          0.5357327141382869,
          0.5361197110423117,
          0.5367647058823529,
          0.5372807017543859,
          0.5375386996904025,
          0.538312693498452,
          0.538828689370485,
          0.5392156862745098,
          0.5394736842105263,
          0.5405056759545923,
          0.5412796697626419,
          0.541795665634675,
          0.5419246646026832,
          0.5421826625386997,
          0.5425696594427245,
          0.5433436532507739,
          0.5437306501547987,
          0.5439886480908153,
          0.5441176470588235,
          0.5445046439628483,
          0.5447626418988648,
          0.5451496388028896,
          0.5456656346749226,
          0.5457946336429309,
          0.5460526315789473,
          0.5464396284829721,
          0.5466976264189887,
          0.5472136222910217,
          0.5477296181630547,
          0.5481166150670794,
          0.5482456140350878,
          0.5487616099071208,
          0.5491486068111455,
          0.5494066047471621,
          0.5497936016511867,
          0.5500515995872033,
          0.5501805985552115,
          0.5505675954592363,
          0.5508255933952528,
          0.5512125902992776,
          0.5517285861713106,
          0.5518575851393189,
          0.5522445820433437,
          0.5525025799793601,
          0.5527605779153767,
          0.5531475748194015,
          0.5534055727554179,
          0.5535345717234262,
          0.5537925696594427,
          0.5541795665634675,
          0.5546955624355006,
          0.5550825593395253,
          0.5554695562435501,
          0.5558565531475749,
          0.5561145510835913,
          0.5562435500515995,
          0.5565015479876161,
          0.5566305469556243,
          0.5568885448916409,
          0.5572755417956656,
          0.5574045407636739,
          0.5576625386996904,
          0.5577915376676986,
          0.5583075335397317,
          0.55843653250774,
          0.5589525283797729,
          0.5592105263157895,
          0.5595975232198143,
          0.5602425180598555,
          0.5606295149638802,
          0.5612745098039216,
          0.5617905056759546,
          0.5624355005159959,
          0.5629514963880289,
          0.5641124871001032,
          0.5646284829721362,
          0.5648864809081527,
          0.5656604747162023,
          0.5659184726522187,
          0.5661764705882353,
          0.5663054695562435,
          0.56656346749226,
          0.567079463364293,
          0.5673374613003096,
          0.5678534571723426,
          0.5681114551083591,
          0.5683694530443757,
          0.5686274509803921,
          0.5687564499484005,
          0.5691434468524251,
          0.5695304437564499,
          0.5697884416924665,
          0.5706914344685242,
          0.5709494324045408,
          0.571078431372549,
          0.5713364293085655,
          0.5714654282765738,
          0.5718524251805985,
          0.5721104231166151,
          0.5727554179566563,
          0.5732714138286894,
          0.5734004127966976,
          0.5739164086687306,
          0.5744324045407637,
          0.5746904024767802,
          0.5748194014447885,
          0.5750773993808049,
          0.5754643962848297,
          0.5755933952528379,
          0.5759803921568627,
          0.5762383900928792,
          0.5764963880288958,
          0.576625386996904,
          0.5768833849329206,
          0.5770123839009288,
          0.5772703818369453,
          0.5783023735810113,
          0.5785603715170279,
          0.5786893704850361,
          0.5786893704850361,
          0.5792053663570691,
          0.5797213622291022,
          0.58062435500516,
          0.5808823529411765,
          0.5812693498452013,
          0.5815273477812177,
          0.5819143446852425,
          0.5823013415892673,
          0.582688338493292,
          0.583204334365325,
          0.5839783281733746,
          0.5844943240454077,
          0.5846233230134159,
          0.5848813209494325,
          0.5850103199174407,
          0.5852683178534571,
          0.5856553147574819,
          0.5860423116615067,
          0.5860423116615067,
          0.586171310629515,
          0.5864293085655314,
          0.5869453044375645,
          0.587203302373581,
          0.5874613003095975,
          0.5877192982456141,
          0.5881062951496389,
          0.5883642930856553,
          0.5895252837977296,
          0.5897832817337462,
          0.5899122807017544,
          0.5904282765737874,
          0.5906862745098039,
          0.5910732714138287,
          0.5912022703818369,
          0.5914602683178535,
          0.5915892672858617,
          0.5919762641898865,
          0.5936532507739938,
          0.5941692466460269,
          0.5948142414860681,
          0.5950722394220846,
          0.5959752321981424,
          0.596233230134159,
          0.5963622291021672,
          0.5966202270381837,
          0.5973942208462333,
          0.5976522187822497,
          0.5990712074303406,
          0.5992002063983488,
          0.599329205366357,
          0.5995872033023736,
          0.6004901960784313,
          0.6007481940144479,
          0.6013931888544891,
          0.6016511867905057,
          0.6038441692466461,
          0.6043601651186791,
          0.6051341589267286,
          0.6053921568627451,
          0.6069401444788441,
          0.6071981424148607,
          0.6074561403508771,
          0.6077141382868937,
          0.6086171310629515,
          0.6090041279669762,
          0.6097781217750258,
          0.6100361197110423,
          0.6102941176470589,
          0.6106811145510835,
          0.6113261093911249,
          0.6115841073271414,
          0.6132610939112487,
          0.6135190918472653,
          0.6150670794633643,
          0.6153250773993808,
          0.615454076367389,
          0.6157120743034056,
          0.6162280701754386,
          0.6164860681114551,
          0.6170020639834881,
          0.6172600619195047,
          0.6177760577915377,
          0.6180340557275542,
          0.6181630546955624,
          0.618421052631579,
          0.6190660474716202,
          0.6195820433436533,
          0.6210010319917441,
          0.6212590299277606,
          0.6219040247678018,
          0.6221620227038184,
          0.6225490196078431,
          0.6228070175438597,
          0.6231940144478845,
          0.6234520123839009,
          0.6235810113519091,
          0.6238390092879257,
          0.6247420020639834,
          0.6251289989680082,
          0.6259029927760578,
          0.6264189886480909,
          0.6268059855521155,
          0.6273219814241486,
          0.6277089783281734,
          0.6282249742002064,
          0.628482972136223,
          0.6289989680082559,
          0.6295149638802889,
          0.6296439628482973,
          0.6299019607843137,
          0.630546955624355,
          0.6308049535603715,
          0.6322239422084623,
          0.6324819401444789,
          0.6328689370485037,
          0.6331269349845201,
          0.6333849329205367,
          0.6346749226006192,
          0.6349329205366357,
          0.6353199174406605,
          0.635577915376677,
          0.6358359133126935,
          0.6363519091847265,
          0.6366099071207431,
          0.6368679050567595,
          0.6385448916408669,
          0.6390608875128999,
          0.6395768833849329,
          0.6398348813209495,
          0.6425438596491229,
          0.6426728586171311,
          0.6430598555211559,
          0.6431888544891641,
          0.6434468524251806,
          0.6435758513931888,
          0.6440918472652218,
          0.6443498452012384,
          0.6446078431372549,
          0.6453818369453045,
          0.6456398348813209,
          0.6464138286893705,
          0.646671826625387,
          0.6468008255933952,
          0.6470588235294118,
          0.6478328173374613,
          0.6482198142414861,
          0.6502837977296182,
          0.6505417956656346,
          0.650670794633643,
          0.6509287925696594,
          0.6558307533539731,
          0.6560887512899897,
          0.6576367389060888,
          0.6578947368421053,
          0.6584107327141383,
          0.6586687306501547,
          0.6599587203302374,
          0.6604747162022704,
          0.6629256965944272,
          0.663312693498452,
          0.6674406604747162,
          0.6676986584107327,
          0.6695046439628483,
          0.6697626418988648,
          0.6714396284829721,
          0.6716976264189887,
          0.6726006191950464,
          0.672858617131063,
          0.6731166150670794,
          0.6731166150670794,
          0.6749226006191951,
          0.6751805985552115,
          0.6751805985552115,
          0.6758255933952528,
          0.6763415892672858,
          0.6764705882352942,
          0.6764705882352942,
          0.6771155830753354,
          0.6773735810113519,
          0.6777605779153767,
          0.6780185758513931,
          0.6804695562435501,
          0.6807275541795665,
          0.6833075335397317,
          0.6835655314757482,
          0.6858875128998968,
          0.6861455108359134,
          0.6869195046439629,
          0.6871775025799793,
          0.6892414860681114,
          0.6893704850361198,
          0.6911764705882353,
          0.6914344685242518,
          0.6941434468524251,
          0.6946594427244582,
          0.6954334365325078,
          0.6954334365325078,
          0.6981424148606811,
          0.6984004127966976,
          0.6987874097007224,
          0.6987874097007224,
          0.6993034055727554,
          0.6995614035087719,
          0.7018833849329206,
          0.702141382868937,
          0.7022703818369453,
          0.7025283797729618,
          0.7031733746130031,
          0.7034313725490197,
          0.7048503611971104,
          0.705108359133127,
          0.7057533539731682,
          0.7060113519091847,
          0.706140350877193,
          0.7063983488132095,
          0.7063983488132095,
          0.7143962848297214,
          0.7146542827657378,
          0.7165892672858617,
          0.7165892672858617,
          0.7178792569659442,
          0.7181372549019608,
          0.7186532507739938,
          0.7186532507739938,
          0.7190402476780186,
          0.7191692466460269,
          0.7194272445820433,
          0.7194272445820433,
          0.7252321981424149,
          0.7254901960784313,
          0.7281991744066048,
          0.7284571723426213,
          0.7314241486068112,
          0.7316821465428277,
          0.7345201238390093,
          0.7347781217750258,
          0.7347781217750258,
          0.7356811145510835,
          0.7356811145510835,
          0.7361971104231166,
          0.7364551083591331,
          0.7371001031991744,
          0.7371001031991744,
          0.7407120743034056,
          0.7409700722394221,
          0.7409700722394221,
          0.7432920536635707,
          0.7435500515995872,
          0.744453044375645,
          0.744453044375645,
          0.7447110423116615,
          0.7447110423116615,
          0.7467750257997936,
          0.7467750257997936,
          0.7485810113519091,
          0.7485810113519091,
          0.749484004127967,
          0.7497420020639834,
          0.75,
          0.75,
          0.7523219814241486,
          0.7525799793601651,
          0.7552889576883385,
          0.755546955624355,
          0.756062951496388,
          0.756062951496388,
          0.7569659442724458,
          0.7569659442724458,
          0.7574819401444789,
          0.7574819401444789,
          0.7587719298245614,
          0.7587719298245614,
          0.7617389060887513,
          0.7619969040247678,
          0.7764447884416925,
          0.7764447884416925,
          0.7783797729618163,
          0.7786377708978328,
          0.7786377708978328,
          0.7792827657378741,
          0.7792827657378741,
          0.7800567595459237,
          0.7800567595459237,
          0.7814757481940144,
          0.7814757481940144,
          0.7853457172342622,
          0.7853457172342622,
          0.7866357069143447,
          0.7866357069143447,
          0.7890866873065016,
          0.7890866873065016,
          0.7925696594427245,
          0.7925696594427245,
          0.7929566563467493,
          0.7929566563467493,
          0.793859649122807,
          0.793859649122807,
          0.7941176470588235,
          0.7941176470588235,
          0.7960526315789473,
          0.7963106295149639,
          0.7972136222910217,
          0.7972136222910217,
          0.7990196078431373,
          0.7990196078431373,
          0.7994066047471621,
          0.7994066047471621,
          0.8040505675954592,
          0.8040505675954592,
          0.804437564499484,
          0.8046955624355006,
          0.8048245614035088,
          0.8048245614035088,
          0.8076625386996904,
          0.8076625386996904,
          0.8081785345717234,
          0.8081785345717234,
          0.8083075335397317,
          0.8083075335397317,
          0.811016511867905,
          0.811016511867905,
          0.815015479876161,
          0.815015479876161,
          0.8152734778121775,
          0.8152734778121775,
          0.8174664602683178,
          0.8174664602683178,
          0.8184984520123839,
          0.8184984520123839,
          0.8196594427244582,
          0.8196594427244582,
          0.8228844169246646,
          0.8228844169246646,
          0.8250773993808049,
          0.8250773993808049,
          0.827141382868937,
          0.827141382868937,
          0.8316563467492261,
          0.8316563467492261,
          0.8329463364293086,
          0.8329463364293086,
          0.833204334365325,
          0.833204334365325,
          0.8334623323013416,
          0.8334623323013416,
          0.8351393188854489,
          0.8351393188854489,
          0.8356553147574819,
          0.8356553147574819,
          0.8390092879256966,
          0.8390092879256966,
          0.8424922600619195,
          0.8424922600619195,
          0.8437822497420021,
          0.8437822497420021,
          0.846233230134159,
          0.846233230134159,
          0.8479102167182663,
          0.8479102167182663,
          0.8484262125902993,
          0.8484262125902993,
          0.8506191950464397,
          0.8506191950464397,
          0.8508771929824561,
          0.8508771929824561,
          0.852296181630547,
          0.852296181630547,
          0.85281217750258,
          0.85281217750258,
          0.8577141382868937,
          0.8577141382868937,
          0.8601651186790505,
          0.8601651186790505,
          0.8621001031991744,
          0.8621001031991744,
          0.8642930856553147,
          0.8642930856553147,
          0.8663570691434469,
          0.8663570691434469,
          0.8666150670794633,
          0.8666150670794633,
          0.8673890608875129,
          0.8673890608875129,
          0.8691950464396285,
          0.8691950464396285,
          0.8704850361197111,
          0.8704850361197111,
          0.871517027863777,
          0.871517027863777,
          0.8724200206398349,
          0.8724200206398349,
          0.8735810113519091,
          0.8735810113519091,
          0.8742260061919505,
          0.8742260061919505,
          0.8760319917440661,
          0.8760319917440661,
          0.8774509803921569,
          0.8774509803921569,
          0.8775799793601651,
          0.8775799793601651,
          0.8799019607843137,
          0.8799019607843137,
          0.880546955624355,
          0.880546955624355,
          0.8809339525283798,
          0.8809339525283798,
          0.8829979360165119,
          0.8829979360165119,
          0.8831269349845201,
          0.8831269349845201,
          0.8837719298245614,
          0.8837719298245614,
          0.8849329205366357,
          0.8849329205366357,
          0.8863519091847265,
          0.8863519091847265,
          0.8881578947368421,
          0.8881578947368421,
          0.8889318885448917,
          0.8889318885448917,
          0.8891898864809081,
          0.8891898864809081,
          0.8930598555211559,
          0.8930598555211559,
          0.8943498452012384,
          0.8943498452012384,
          0.8956398348813209,
          0.8956398348813209,
          0.89718782249742,
          0.89718782249742,
          0.8978328173374613,
          0.8978328173374613,
          0.8987358101135191,
          0.8987358101135191,
          0.8993808049535603,
          0.8993808049535603,
          0.8995098039215687,
          0.8995098039215687,
          0.8996388028895769,
          0.8996388028895769,
          0.9020897832817337,
          0.9020897832817337,
          0.9033797729618163,
          0.9033797729618163,
          0.9036377708978328,
          0.9036377708978328,
          0.9038957688338494,
          0.9038957688338494,
          0.9040247678018576,
          0.9040247678018576,
          0.9042827657378741,
          0.9042827657378741,
          0.9047987616099071,
          0.9047987616099071,
          0.9058307533539731,
          0.9058307533539731,
          0.9078947368421053,
          0.9078947368421053,
          0.9084107327141383,
          0.9084107327141383,
          0.9094427244582043,
          0.9094427244582043,
          0.9099587203302374,
          0.9099587203302374,
          0.9100877192982456,
          0.9100877192982456,
          0.9139576883384933,
          0.9139576883384933,
          0.9140866873065016,
          0.9140866873065016,
          0.9144736842105263,
          0.9144736842105263,
          0.9148606811145511,
          0.9148606811145511,
          0.9155056759545923,
          0.9155056759545923,
          0.9157636738906089,
          0.9157636738906089,
          0.9166666666666666,
          0.9166666666666666,
          0.9170536635706914,
          0.9170536635706914,
          0.9183436532507739,
          0.9183436532507739,
          0.9189886480908153,
          0.9189886480908153,
          0.9192466460268318,
          0.9192466460268318,
          0.91937564499484,
          0.91937564499484,
          0.9207946336429309,
          0.9207946336429309,
          0.9213106295149639,
          0.9213106295149639,
          0.9218266253869969,
          0.9218266253869969,
          0.9219556243550051,
          0.9219556243550051,
          0.9227296181630547,
          0.9227296181630547,
          0.9231166150670794,
          0.9231166150670794,
          0.923374613003096,
          0.923374613003096,
          0.9241486068111455,
          0.9241486068111455,
          0.9246646026831785,
          0.9246646026831785,
          0.9249226006191951,
          0.9249226006191951,
          0.9251805985552115,
          0.9251805985552115,
          0.9260835913312694,
          0.9260835913312694,
          0.9268575851393189,
          0.9268575851393189,
          0.9273735810113519,
          0.9273735810113519,
          0.9276315789473685,
          0.9276315789473685,
          0.9281475748194015,
          0.9281475748194015,
          0.9284055727554179,
          0.9284055727554179,
          0.9286635706914345,
          0.9286635706914345,
          0.9298245614035088,
          0.9298245614035088,
          0.9302115583075335,
          0.9302115583075335,
          0.9309855521155831,
          0.9309855521155831,
          0.9313725490196079,
          0.9313725490196079,
          0.9315015479876161,
          0.9315015479876161,
          0.9318885448916409,
          0.9318885448916409,
          0.9326625386996904,
          0.9326625386996904,
          0.932920536635707,
          0.932920536635707,
          0.9333075335397317,
          0.9333075335397317,
          0.9335655314757482,
          0.9335655314757482,
          0.9342105263157895,
          0.9342105263157895,
          0.9343395252837977,
          0.9343395252837977,
          0.9352425180598555,
          0.9352425180598555,
          0.9356295149638802,
          0.9356295149638802,
          0.9361455108359134,
          0.9361455108359134,
          0.9366615067079463,
          0.9366615067079463,
          0.9369195046439629,
          0.9369195046439629,
          0.9373065015479877,
          0.9373065015479877,
          0.9379514963880289,
          0.9379514963880289,
          0.9380804953560371,
          0.9380804953560371,
          0.9382094943240454,
          0.9382094943240454,
          0.9383384932920537,
          0.9383384932920537,
          0.9387254901960784,
          0.9387254901960784,
          0.9397574819401445,
          0.9397574819401445,
          0.9398864809081527,
          0.9398864809081527,
          0.940015479876161,
          0.940015479876161,
          0.9401444788441693,
          0.9401444788441693,
          0.9410474716202271,
          0.9410474716202271,
          0.9411764705882353,
          0.9411764705882353,
          0.9414344685242518,
          0.9414344685242518,
          0.942079463364293,
          0.942079463364293,
          0.9423374613003096,
          0.9423374613003096,
          0.9431114551083591,
          0.9431114551083591,
          0.9437564499484005,
          0.9437564499484005,
          0.9446594427244582,
          0.9446594427244582,
          0.9451754385964912,
          0.9451754385964912,
          0.9453044375644994,
          0.9453044375644994,
          0.945562435500516,
          0.945562435500516,
          0.9456914344685242,
          0.9456914344685242,
          0.9459494324045408,
          0.9459494324045408,
          0.946078431372549,
          0.946078431372549,
          0.9464654282765738,
          0.9464654282765738,
          0.9468524251805985,
          0.9468524251805985,
          0.9472394220846233,
          0.9472394220846233,
          0.9474974200206399,
          0.9474974200206399,
          0.9484004127966976,
          0.9484004127966976,
          0.9485294117647058,
          0.9485294117647058,
          0.9487874097007224,
          0.9487874097007224,
          0.949045407636739,
          0.949045407636739,
          0.9502063983488133,
          0.9502063983488133,
          0.9504643962848297,
          0.9504643962848297,
          0.951109391124871,
          0.951109391124871,
          0.951625386996904,
          0.951625386996904,
          0.9517543859649122,
          0.9517543859649122,
          0.9518833849329206,
          0.9518833849329206,
          0.9526573787409701,
          0.9526573787409701,
          0.9530443756449949,
          0.9530443756449949,
          0.9538183694530443,
          0.9538183694530443,
          0.9540763673890609,
          0.9540763673890609,
          0.9543343653250774,
          0.9543343653250774,
          0.9548503611971104,
          0.9548503611971104,
          0.9549793601651186,
          0.9549793601651186,
          0.955108359133127,
          0.955108359133127,
          0.9554953560371517,
          0.9554953560371517,
          0.95562435500516,
          0.95562435500516,
          0.9557533539731682,
          0.9557533539731682,
          0.9563983488132095,
          0.9563983488132095,
          0.9565273477812177,
          0.9565273477812177,
          0.9569143446852425,
          0.9569143446852425,
          0.9570433436532507,
          0.9570433436532507,
          0.957688338493292,
          0.957688338493292,
          0.9591073271413829,
          0.9591073271413829,
          0.9592363261093911,
          0.9592363261093911,
          0.9594943240454077,
          0.9594943240454077,
          0.9596233230134159,
          0.9596233230134159,
          0.9597523219814241,
          0.9597523219814241,
          0.9606553147574819,
          0.9606553147574819,
          0.9607843137254902,
          0.9607843137254902,
          0.9610423116615067,
          0.9610423116615067,
          0.9614293085655314,
          0.9614293085655314,
          0.9618163054695562,
          0.9618163054695562,
          0.9619453044375645,
          0.9619453044375645,
          0.9629772961816305,
          0.9629772961816305,
          0.9634932920536635,
          0.9634932920536635,
          0.9636222910216719,
          0.9636222910216719,
          0.9637512899896801,
          0.9637512899896801,
          0.9643962848297214,
          0.9643962848297214,
          0.9645252837977296,
          0.9645252837977296,
          0.9646542827657378,
          0.9646542827657378,
          0.9651702786377709,
          0.9651702786377709,
          0.9655572755417957,
          0.9655572755417957,
          0.9656862745098039,
          0.9656862745098039,
          0.9659442724458205,
          0.9659442724458205,
          0.9660732714138287,
          0.9660732714138287,
          0.9662022703818369,
          0.9662022703818369,
          0.9671052631578947,
          0.9671052631578947,
          0.9674922600619195,
          0.9674922600619195,
          0.9676212590299278,
          0.9676212590299278,
          0.9680082559339526,
          0.9680082559339526,
          0.9683952528379773,
          0.9683952528379773,
          0.9687822497420021,
          0.9687822497420021,
          0.9689112487100103,
          0.9689112487100103,
          0.9695562435500515,
          0.9695562435500515,
          0.9696852425180599,
          0.9696852425180599,
          0.9699432404540763,
          0.9699432404540763,
          0.9702012383900929,
          0.9702012383900929,
          0.9703302373581011,
          0.9703302373581011,
          0.9704592363261094,
          0.9704592363261094,
          0.9705882352941176,
          0.9705882352941176,
          0.9707172342621259,
          0.9707172342621259,
          0.9708462332301342,
          0.9708462332301342,
          0.9709752321981424,
          0.9709752321981424,
          0.9714912280701754,
          0.9714912280701754,
          0.9718782249742002,
          0.9718782249742002,
          0.9720072239422085,
          0.9720072239422085,
          0.9721362229102167,
          0.9721362229102167,
          0.972265221878225,
          0.972265221878225,
          0.9725232198142415,
          0.9725232198142415,
          0.9726522187822497,
          0.9726522187822497,
          0.9729102167182663,
          0.9729102167182663,
          0.9734262125902993,
          0.9734262125902993,
          0.9735552115583075,
          0.9735552115583075,
          0.9736842105263158,
          0.9736842105263158,
          0.973813209494324,
          0.973813209494324,
          0.9740712074303406,
          0.9740712074303406,
          0.974329205366357,
          0.974329205366357,
          0.9747162022703818,
          0.9747162022703818,
          0.9760061919504643,
          0.9760061919504643,
          0.9765221878224974,
          0.9765221878224974,
          0.9767801857585139,
          0.9767801857585139,
          0.9769091847265222,
          0.9769091847265222,
          0.9771671826625387,
          0.9771671826625387,
          0.9774251805985552,
          0.9774251805985552,
          0.9776831785345718,
          0.9776831785345718,
          0.978328173374613,
          0.978328173374613,
          0.9784571723426213,
          0.9784571723426213,
          0.9791021671826625,
          0.9791021671826625,
          0.9792311661506707,
          0.9792311661506707,
          0.9794891640866873,
          0.9794891640866873,
          0.9796181630546955,
          0.9796181630546955,
          0.9800051599587203,
          0.9800051599587203,
          0.9801341589267286,
          0.9801341589267286,
          0.9802631578947368,
          0.9802631578947368,
          0.9806501547987616,
          0.9806501547987616,
          0.9807791537667698,
          0.9807791537667698,
          0.9810371517027864,
          0.9810371517027864,
          0.9814241486068112,
          0.9814241486068112,
          0.9815531475748194,
          0.9815531475748194,
          0.9816821465428277,
          0.9816821465428277,
          0.9818111455108359,
          0.9818111455108359,
          0.9819401444788441,
          0.9819401444788441,
          0.9823271413828689,
          0.9823271413828689,
          0.9828431372549019,
          0.9828431372549019,
          0.9829721362229102,
          0.9829721362229102,
          0.9832301341589267,
          0.9832301341589267,
          0.983359133126935,
          0.983359133126935,
          0.983875128998968,
          0.983875128998968,
          0.9841331269349846,
          0.9841331269349846,
          0.9842621259029928,
          0.9842621259029928,
          0.9845201238390093,
          0.9845201238390093,
          0.9846491228070176,
          0.9846491228070176,
          0.9849071207430341,
          0.9849071207430341,
          0.9850361197110423,
          0.9850361197110423,
          0.9851651186790505,
          0.9851651186790505,
          0.9852941176470589,
          0.9852941176470589,
          0.9855521155830753,
          0.9855521155830753,
          0.9856811145510835,
          0.9856811145510835,
          0.9858101135190919,
          0.9858101135190919,
          0.9861971104231166,
          0.9861971104231166,
          0.9867131062951496,
          0.9867131062951496,
          0.9869711042311662,
          0.9869711042311662,
          0.987358101135191,
          0.987358101135191,
          0.9874871001031992,
          0.9874871001031992,
          0.9882610939112487,
          0.9882610939112487,
          0.9883900928792569,
          0.9883900928792569,
          0.9886480908152735,
          0.9886480908152735,
          0.9887770897832817,
          0.9887770897832817,
          0.9889060887512899,
          0.9889060887512899,
          0.9890350877192983,
          0.9890350877192983,
          0.9891640866873065,
          0.9891640866873065,
          0.9892930856553147,
          0.9892930856553147,
          0.989422084623323,
          0.989422084623323,
          0.9895510835913313,
          0.9895510835913313,
          0.9896800825593395,
          0.9896800825593395,
          0.9898090815273478,
          0.9898090815273478,
          0.9901960784313726,
          0.9901960784313726,
          0.9903250773993808,
          0.9903250773993808,
          0.990454076367389,
          0.990454076367389,
          0.9905830753353974,
          0.9905830753353974,
          0.9907120743034056,
          0.9907120743034056,
          0.9908410732714138,
          0.9908410732714138,
          0.9909700722394221,
          0.9909700722394221,
          0.9913570691434469,
          0.9913570691434469,
          0.9914860681114551,
          0.9914860681114551,
          0.9916150670794633,
          0.9916150670794633,
          0.9917440660474717,
          0.9917440660474717,
          0.9918730650154799,
          0.9918730650154799,
          0.9920020639834881,
          0.9920020639834881,
          0.9921310629514963,
          0.9921310629514963,
          0.9922600619195047,
          0.9922600619195047,
          0.9926470588235294,
          0.9926470588235294,
          0.9929050567595459,
          0.9929050567595459,
          0.9930340557275542,
          0.9930340557275542,
          0.9931630546955624,
          0.9931630546955624,
          0.9932920536635707,
          0.9932920536635707,
          0.993421052631579,
          0.993421052631579,
          0.9935500515995872,
          0.9935500515995872,
          0.993937048503612,
          0.993937048503612,
          0.9941950464396285,
          0.9941950464396285,
          0.9943240454076367,
          0.9943240454076367,
          0.994453044375645,
          0.994453044375645,
          0.9945820433436533,
          0.9945820433436533,
          0.9947110423116615,
          0.9947110423116615,
          0.9948400412796697,
          0.9948400412796697,
          0.9949690402476781,
          0.9949690402476781,
          0.9950980392156863,
          0.9950980392156863,
          0.9952270381836945,
          0.9952270381836945,
          0.9953560371517027,
          0.9953560371517027,
          0.9956140350877193,
          0.9956140350877193,
          0.9957430340557275,
          0.9957430340557275,
          0.9958720330237358,
          0.9958720330237358,
          0.9961300309597523,
          0.9961300309597523,
          0.9962590299277606,
          0.9962590299277606,
          0.9963880288957688,
          0.9963880288957688,
          0.9966460268317854,
          0.9966460268317854,
          0.9967750257997936,
          0.9967750257997936,
          0.9969040247678018,
          0.9969040247678018,
          0.9970330237358102,
          0.9970330237358102,
          0.9971620227038184,
          0.9971620227038184,
          0.9972910216718266,
          0.9972910216718266,
          0.9974200206398349,
          0.9974200206398349,
          0.9975490196078431,
          0.9975490196078431,
          0.9976780185758514,
          0.9976780185758514,
          0.9978070175438597,
          0.9978070175438597,
          0.9980650154798761,
          0.9980650154798761,
          0.9981940144478845,
          0.9981940144478845,
          0.9983230134158927,
          0.9983230134158927,
          0.9984520123839009,
          0.9984520123839009,
          0.9985810113519091,
          0.9985810113519091,
          0.9988390092879257,
          0.9988390092879257,
          0.9989680082559339,
          0.9989680082559339,
          0.9990970072239422,
          0.9990970072239422,
          0.9992260061919505,
          0.9992260061919505,
          0.9993550051599587,
          0.9993550051599587,
          0.999484004127967,
          0.999484004127967,
          0.9996130030959752,
          0.9996130030959752,
          0.9997420020639834,
          0.9997420020639834,
          0.9998710010319918,
          0.9998710010319918,
          1,
          1
         ]
        },
        {
         "line": {
          "dash": "dash"
         },
         "mode": "lines",
         "name": "Diagonal line (equal measures)",
         "type": "scatter",
         "x": [
          0,
          1
         ],
         "y": [
          0,
          1
         ]
        }
       ],
       "layout": {
        "showlegend": true,
        "template": {
         "data": {
          "bar": [
           {
            "error_x": {
             "color": "#2a3f5f"
            },
            "error_y": {
             "color": "#2a3f5f"
            },
            "marker": {
             "line": {
              "color": "#E5ECF6",
              "width": 0.5
             }
            },
            "type": "bar"
           }
          ],
          "barpolar": [
           {
            "marker": {
             "line": {
              "color": "#E5ECF6",
              "width": 0.5
             }
            },
            "type": "barpolar"
           }
          ],
          "carpet": [
           {
            "aaxis": {
             "endlinecolor": "#2a3f5f",
             "gridcolor": "white",
             "linecolor": "white",
             "minorgridcolor": "white",
             "startlinecolor": "#2a3f5f"
            },
            "baxis": {
             "endlinecolor": "#2a3f5f",
             "gridcolor": "white",
             "linecolor": "white",
             "minorgridcolor": "white",
             "startlinecolor": "#2a3f5f"
            },
            "type": "carpet"
           }
          ],
          "choropleth": [
           {
            "colorbar": {
             "outlinewidth": 0,
             "ticks": ""
            },
            "type": "choropleth"
           }
          ],
          "contour": [
           {
            "colorbar": {
             "outlinewidth": 0,
             "ticks": ""
            },
            "colorscale": [
             [
              0,
              "#0d0887"
             ],
             [
              0.1111111111111111,
              "#46039f"
             ],
             [
              0.2222222222222222,
              "#7201a8"
             ],
             [
              0.3333333333333333,
              "#9c179e"
             ],
             [
              0.4444444444444444,
              "#bd3786"
             ],
             [
              0.5555555555555556,
              "#d8576b"
             ],
             [
              0.6666666666666666,
              "#ed7953"
             ],
             [
              0.7777777777777778,
              "#fb9f3a"
             ],
             [
              0.8888888888888888,
              "#fdca26"
             ],
             [
              1,
              "#f0f921"
             ]
            ],
            "type": "contour"
           }
          ],
          "contourcarpet": [
           {
            "colorbar": {
             "outlinewidth": 0,
             "ticks": ""
            },
            "type": "contourcarpet"
           }
          ],
          "heatmap": [
           {
            "colorbar": {
             "outlinewidth": 0,
             "ticks": ""
            },
            "colorscale": [
             [
              0,
              "#0d0887"
             ],
             [
              0.1111111111111111,
              "#46039f"
             ],
             [
              0.2222222222222222,
              "#7201a8"
             ],
             [
              0.3333333333333333,
              "#9c179e"
             ],
             [
              0.4444444444444444,
              "#bd3786"
             ],
             [
              0.5555555555555556,
              "#d8576b"
             ],
             [
              0.6666666666666666,
              "#ed7953"
             ],
             [
              0.7777777777777778,
              "#fb9f3a"
             ],
             [
              0.8888888888888888,
              "#fdca26"
             ],
             [
              1,
              "#f0f921"
             ]
            ],
            "type": "heatmap"
           }
          ],
          "heatmapgl": [
           {
            "colorbar": {
             "outlinewidth": 0,
             "ticks": ""
            },
            "colorscale": [
             [
              0,
              "#0d0887"
             ],
             [
              0.1111111111111111,
              "#46039f"
             ],
             [
              0.2222222222222222,
              "#7201a8"
             ],
             [
              0.3333333333333333,
              "#9c179e"
             ],
             [
              0.4444444444444444,
              "#bd3786"
             ],
             [
              0.5555555555555556,
              "#d8576b"
             ],
             [
              0.6666666666666666,
              "#ed7953"
             ],
             [
              0.7777777777777778,
              "#fb9f3a"
             ],
             [
              0.8888888888888888,
              "#fdca26"
             ],
             [
              1,
              "#f0f921"
             ]
            ],
            "type": "heatmapgl"
           }
          ],
          "histogram": [
           {
            "marker": {
             "colorbar": {
              "outlinewidth": 0,
              "ticks": ""
             }
            },
            "type": "histogram"
           }
          ],
          "histogram2d": [
           {
            "colorbar": {
             "outlinewidth": 0,
             "ticks": ""
            },
            "colorscale": [
             [
              0,
              "#0d0887"
             ],
             [
              0.1111111111111111,
              "#46039f"
             ],
             [
              0.2222222222222222,
              "#7201a8"
             ],
             [
              0.3333333333333333,
              "#9c179e"
             ],
             [
              0.4444444444444444,
              "#bd3786"
             ],
             [
              0.5555555555555556,
              "#d8576b"
             ],
             [
              0.6666666666666666,
              "#ed7953"
             ],
             [
              0.7777777777777778,
              "#fb9f3a"
             ],
             [
              0.8888888888888888,
              "#fdca26"
             ],
             [
              1,
              "#f0f921"
             ]
            ],
            "type": "histogram2d"
           }
          ],
          "histogram2dcontour": [
           {
            "colorbar": {
             "outlinewidth": 0,
             "ticks": ""
            },
            "colorscale": [
             [
              0,
              "#0d0887"
             ],
             [
              0.1111111111111111,
              "#46039f"
             ],
             [
              0.2222222222222222,
              "#7201a8"
             ],
             [
              0.3333333333333333,
              "#9c179e"
             ],
             [
              0.4444444444444444,
              "#bd3786"
             ],
             [
              0.5555555555555556,
              "#d8576b"
             ],
             [
              0.6666666666666666,
              "#ed7953"
             ],
             [
              0.7777777777777778,
              "#fb9f3a"
             ],
             [
              0.8888888888888888,
              "#fdca26"
             ],
             [
              1,
              "#f0f921"
             ]
            ],
            "type": "histogram2dcontour"
           }
          ],
          "mesh3d": [
           {
            "colorbar": {
             "outlinewidth": 0,
             "ticks": ""
            },
            "type": "mesh3d"
           }
          ],
          "parcoords": [
           {
            "line": {
             "colorbar": {
              "outlinewidth": 0,
              "ticks": ""
             }
            },
            "type": "parcoords"
           }
          ],
          "pie": [
           {
            "automargin": true,
            "type": "pie"
           }
          ],
          "scatter": [
           {
            "marker": {
             "colorbar": {
              "outlinewidth": 0,
              "ticks": ""
             }
            },
            "type": "scatter"
           }
          ],
          "scatter3d": [
           {
            "line": {
             "colorbar": {
              "outlinewidth": 0,
              "ticks": ""
             }
            },
            "marker": {
             "colorbar": {
              "outlinewidth": 0,
              "ticks": ""
             }
            },
            "type": "scatter3d"
           }
          ],
          "scattercarpet": [
           {
            "marker": {
             "colorbar": {
              "outlinewidth": 0,
              "ticks": ""
             }
            },
            "type": "scattercarpet"
           }
          ],
          "scattergeo": [
           {
            "marker": {
             "colorbar": {
              "outlinewidth": 0,
              "ticks": ""
             }
            },
            "type": "scattergeo"
           }
          ],
          "scattergl": [
           {
            "marker": {
             "colorbar": {
              "outlinewidth": 0,
              "ticks": ""
             }
            },
            "type": "scattergl"
           }
          ],
          "scattermapbox": [
           {
            "marker": {
             "colorbar": {
              "outlinewidth": 0,
              "ticks": ""
             }
            },
            "type": "scattermapbox"
           }
          ],
          "scatterpolar": [
           {
            "marker": {
             "colorbar": {
              "outlinewidth": 0,
              "ticks": ""
             }
            },
            "type": "scatterpolar"
           }
          ],
          "scatterpolargl": [
           {
            "marker": {
             "colorbar": {
              "outlinewidth": 0,
              "ticks": ""
             }
            },
            "type": "scatterpolargl"
           }
          ],
          "scatterternary": [
           {
            "marker": {
             "colorbar": {
              "outlinewidth": 0,
              "ticks": ""
             }
            },
            "type": "scatterternary"
           }
          ],
          "surface": [
           {
            "colorbar": {
             "outlinewidth": 0,
             "ticks": ""
            },
            "colorscale": [
             [
              0,
              "#0d0887"
             ],
             [
              0.1111111111111111,
              "#46039f"
             ],
             [
              0.2222222222222222,
              "#7201a8"
             ],
             [
              0.3333333333333333,
              "#9c179e"
             ],
             [
              0.4444444444444444,
              "#bd3786"
             ],
             [
              0.5555555555555556,
              "#d8576b"
             ],
             [
              0.6666666666666666,
              "#ed7953"
             ],
             [
              0.7777777777777778,
              "#fb9f3a"
             ],
             [
              0.8888888888888888,
              "#fdca26"
             ],
             [
              1,
              "#f0f921"
             ]
            ],
            "type": "surface"
           }
          ],
          "table": [
           {
            "cells": {
             "fill": {
              "color": "#EBF0F8"
             },
             "line": {
              "color": "white"
             }
            },
            "header": {
             "fill": {
              "color": "#C8D4E3"
             },
             "line": {
              "color": "white"
             }
            },
            "type": "table"
           }
          ]
         },
         "layout": {
          "annotationdefaults": {
           "arrowcolor": "#2a3f5f",
           "arrowhead": 0,
           "arrowwidth": 1
          },
          "coloraxis": {
           "colorbar": {
            "outlinewidth": 0,
            "ticks": ""
           }
          },
          "colorscale": {
           "diverging": [
            [
             0,
             "#8e0152"
            ],
            [
             0.1,
             "#c51b7d"
            ],
            [
             0.2,
             "#de77ae"
            ],
            [
             0.3,
             "#f1b6da"
            ],
            [
             0.4,
             "#fde0ef"
            ],
            [
             0.5,
             "#f7f7f7"
            ],
            [
             0.6,
             "#e6f5d0"
            ],
            [
             0.7,
             "#b8e186"
            ],
            [
             0.8,
             "#7fbc41"
            ],
            [
             0.9,
             "#4d9221"
            ],
            [
             1,
             "#276419"
            ]
           ],
           "sequential": [
            [
             0,
             "#0d0887"
            ],
            [
             0.1111111111111111,
             "#46039f"
            ],
            [
             0.2222222222222222,
             "#7201a8"
            ],
            [
             0.3333333333333333,
             "#9c179e"
            ],
            [
             0.4444444444444444,
             "#bd3786"
            ],
            [
             0.5555555555555556,
             "#d8576b"
            ],
            [
             0.6666666666666666,
             "#ed7953"
            ],
            [
             0.7777777777777778,
             "#fb9f3a"
            ],
            [
             0.8888888888888888,
             "#fdca26"
            ],
            [
             1,
             "#f0f921"
            ]
           ],
           "sequentialminus": [
            [
             0,
             "#0d0887"
            ],
            [
             0.1111111111111111,
             "#46039f"
            ],
            [
             0.2222222222222222,
             "#7201a8"
            ],
            [
             0.3333333333333333,
             "#9c179e"
            ],
            [
             0.4444444444444444,
             "#bd3786"
            ],
            [
             0.5555555555555556,
             "#d8576b"
            ],
            [
             0.6666666666666666,
             "#ed7953"
            ],
            [
             0.7777777777777778,
             "#fb9f3a"
            ],
            [
             0.8888888888888888,
             "#fdca26"
            ],
            [
             1,
             "#f0f921"
            ]
           ]
          },
          "colorway": [
           "#636efa",
           "#EF553B",
           "#00cc96",
           "#ab63fa",
           "#FFA15A",
           "#19d3f3",
           "#FF6692",
           "#B6E880",
           "#FF97FF",
           "#FECB52"
          ],
          "font": {
           "color": "#2a3f5f"
          },
          "geo": {
           "bgcolor": "white",
           "lakecolor": "white",
           "landcolor": "#E5ECF6",
           "showlakes": true,
           "showland": true,
           "subunitcolor": "white"
          },
          "hoverlabel": {
           "align": "left"
          },
          "hovermode": "closest",
          "mapbox": {
           "style": "light"
          },
          "paper_bgcolor": "white",
          "plot_bgcolor": "#E5ECF6",
          "polar": {
           "angularaxis": {
            "gridcolor": "white",
            "linecolor": "white",
            "ticks": ""
           },
           "bgcolor": "#E5ECF6",
           "radialaxis": {
            "gridcolor": "white",
            "linecolor": "white",
            "ticks": ""
           }
          },
          "scene": {
           "xaxis": {
            "backgroundcolor": "#E5ECF6",
            "gridcolor": "white",
            "gridwidth": 2,
            "linecolor": "white",
            "showbackground": true,
            "ticks": "",
            "zerolinecolor": "white"
           },
           "yaxis": {
            "backgroundcolor": "#E5ECF6",
            "gridcolor": "white",
            "gridwidth": 2,
            "linecolor": "white",
            "showbackground": true,
            "ticks": "",
            "zerolinecolor": "white"
           },
           "zaxis": {
            "backgroundcolor": "#E5ECF6",
            "gridcolor": "white",
            "gridwidth": 2,
            "linecolor": "white",
            "showbackground": true,
            "ticks": "",
            "zerolinecolor": "white"
           }
          },
          "shapedefaults": {
           "line": {
            "color": "#2a3f5f"
           }
          },
          "ternary": {
           "aaxis": {
            "gridcolor": "white",
            "linecolor": "white",
            "ticks": ""
           },
           "baxis": {
            "gridcolor": "white",
            "linecolor": "white",
            "ticks": ""
           },
           "bgcolor": "#E5ECF6",
           "caxis": {
            "gridcolor": "white",
            "linecolor": "white",
            "ticks": ""
           }
          },
          "title": {
           "x": 0.05
          },
          "xaxis": {
           "automargin": true,
           "gridcolor": "white",
           "linecolor": "white",
           "ticks": "",
           "title": {
            "standoff": 15
           },
           "zerolinecolor": "white",
           "zerolinewidth": 2
          },
          "yaxis": {
           "automargin": true,
           "gridcolor": "white",
           "linecolor": "white",
           "ticks": "",
           "title": {
            "standoff": 15
           },
           "zerolinecolor": "white",
           "zerolinewidth": 2
          }
         }
        },
        "title": {
         "text": "ROC Curve: XGBoost"
        },
        "xaxis": {
         "title": {
          "text": "False Positive Rate"
         }
        },
        "yaxis": {
         "title": {
          "text": "Recall"
         }
        }
       }
      }
     },
     "metadata": {},
     "output_type": "display_data"
    }
   ],
   "source": [
    "#ROC XGB it 2\n",
    "# Predicted probabilities from the fitted grid search\n",
    "y_pred_prob = xgb_fitted_grid2.predict_proba(X_test)[:, 1]\n",
    "\n",
    "# FPR, TPR and Thresholds\n",
    "fpr, tpr, thresholds = roc_curve(y_test, y_pred_prob)\n",
    "\n",
    "#AUC score\n",
    "auc_score = roc_auc_score(y_test, y_pred_prob)\n",
    "\n",
    "#ROC curve \n",
    "roc_trace = go.Scatter(\n",
    "    x=fpr,\n",
    "    y=tpr,\n",
    "    mode='lines',\n",
    "    name='ROC Curve (AUC = {:.2f})'.format(auc_score)\n",
    ")\n",
    "\n",
    "#Diagonal line trace\n",
    "diagonal_trace = go.Scatter(\n",
    "    x=[0, 1],\n",
    "    y=[0, 1],\n",
    "    mode='lines',\n",
    "    name='Diagonal line (equal measures)',\n",
    "    line=dict(dash='dash')\n",
    ")\n",
    "\n",
    "#Layout & figure\n",
    "layout = go.Layout(\n",
    "    title='ROC Curve: XGBoost',\n",
    "    xaxis=dict(title='False Positive Rate'),\n",
    "    yaxis=dict(title='Recall'),\n",
    "    showlegend=True\n",
    ")\n",
    "\n",
    "fig = go.Figure(data=[roc_trace, diagonal_trace], layout=layout)\n",
    "\n",
    "\n",
    "fig.show()"
   ]
  },
  {
   "attachments": {},
   "cell_type": "markdown",
   "metadata": {},
   "source": [
    "## Random Forest optimization:"
   ]
  },
  {
   "cell_type": "code",
   "execution_count": 33,
   "metadata": {},
   "outputs": [],
   "source": [
    "## Parameters\n",
    "\n",
    "depths = np.arange(1,75)\n"
   ]
  },
  {
   "cell_type": "code",
   "execution_count": 40,
   "metadata": {},
   "outputs": [],
   "source": [
    "#Split:\n",
    "\n",
    "#Train and test split\n",
    "X_train_temp, X_val, y_train_temp, y_val = train_test_split(X_train, y_train, test_size=0.2, stratify=y_train, random_state=24)\n",
    "\n",
    "#Lists:\n",
    "\n",
    "accuracy_test = []\n",
    "accuracy_train = []\n",
    "\n",
    "recall_final = []\n",
    "\n",
    "#Model: \n",
    "for depth in depths:\n",
    "    it2_rf = RandomForestClassifier(max_depth=depth)\n",
    "    #it2_cv = cross_val_score(it2_rf, X_train, y_train, cv=5)\n",
    "    it2_fitted = it2_rf.fit(X_train_temp, y_train_temp)\n",
    "    accuracy_test.append(it2_fitted.score(X_val, y_val))\n",
    "    accuracy_train.append(it2_fitted.score(X_train_temp, y_train_temp))\n",
    "    y_pred = it2_fitted.predict(X_val)\n",
    "    recall_final.append(recall_score(y_val, y_pred))\n"
   ]
  },
  {
   "cell_type": "code",
   "execution_count": 25,
   "metadata": {},
   "outputs": [
    {
     "data": {
      "text/plain": [
       "18"
      ]
     },
     "execution_count": 25,
     "metadata": {},
     "output_type": "execute_result"
    }
   ],
   "source": [
    "len(accuracy_test)"
   ]
  },
  {
   "cell_type": "code",
   "execution_count": 83,
   "metadata": {},
   "outputs": [
    {
     "data": {
      "application/vnd.plotly.v1+json": {
       "config": {
        "plotlyServerURL": "https://plot.ly"
       },
       "data": [
        {
         "line": {
          "color": "red"
         },
         "name": "Accuracy Test",
         "type": "scatter",
         "x": [
          1,
          2,
          3,
          4,
          5,
          6,
          7,
          8,
          9,
          10,
          11,
          12,
          13,
          14,
          15,
          16,
          17,
          18,
          19,
          20,
          21,
          22,
          23,
          24,
          25,
          26,
          27,
          28,
          29,
          30,
          31,
          32,
          33,
          34,
          35,
          36,
          37,
          38,
          39,
          40,
          41,
          42,
          43,
          44,
          45,
          46,
          47,
          48,
          49,
          50,
          51,
          52,
          53,
          54,
          55,
          56,
          57,
          58,
          59,
          60,
          61,
          62,
          63,
          64,
          65,
          66,
          67,
          68,
          69,
          70,
          71,
          72,
          73,
          74
         ],
         "y": [
          0.8125245643914581,
          0.8708240534521158,
          0.8852351631075592,
          0.9010873837285471,
          0.9078999082929385,
          0.9130093017162322,
          0.9175946547884187,
          0.9208699069828377,
          0.9238831390017032,
          0.9257172802305778,
          0.9280754618105594,
          0.9310886938294248,
          0.9314817240927551,
          0.9309576837416481,
          0.9317437442683086,
          0.9334468754094065,
          0.9309576837416481,
          0.9334468754094065,
          0.9341019258482903,
          0.9341019258482903,
          0.933184855233853,
          0.9350189964627277,
          0.9316127341805319,
          0.934232935936067,
          0.9333158653216298,
          0.9347569762871741,
          0.9341019258482903,
          0.933184855233853,
          0.9335778854971832,
          0.9339709157605136,
          0.9334468754094065,
          0.9341019258482903,
          0.9327918249705227,
          0.9327918249705227,
          0.9329228350582995,
          0.9334468754094065,
          0.9338399056727368,
          0.9327918249705227,
          0.9333158653216298,
          0.9338399056727368,
          0.9338399056727368,
          0.9348879863749509,
          0.9335778854971832,
          0.9343639460238439,
          0.9338399056727368,
          0.9337088955849601,
          0.9351500065505044,
          0.934232935936067,
          0.934232935936067,
          0.9339709157605136,
          0.9341019258482903,
          0.9335778854971832,
          0.9322677846194157,
          0.9347569762871741,
          0.9343639460238439,
          0.9333158653216298,
          0.9334468754094065,
          0.9337088955849601,
          0.9335778854971832,
          0.9339709157605136,
          0.9335778854971832,
          0.933184855233853,
          0.9337088955849601,
          0.9348879863749509,
          0.9339709157605136,
          0.9329228350582995,
          0.9341019258482903,
          0.9343639460238439,
          0.932660814882746,
          0.9334468754094065,
          0.9327918249705227,
          0.9344949561116206,
          0.9334468754094065,
          0.9330538451460763
         ]
        },
        {
         "line": {
          "color": "slateblue"
         },
         "name": "Accuracy Train",
         "type": "scatter",
         "x": [
          1,
          2,
          3,
          4,
          5,
          6,
          7,
          8,
          9,
          10,
          11,
          12,
          13,
          14,
          15,
          16,
          17,
          18,
          19,
          20,
          21,
          22,
          23,
          24,
          25,
          26,
          27,
          28,
          29,
          30,
          31,
          32,
          33,
          34,
          35,
          36,
          37,
          38,
          39,
          40,
          41,
          42,
          43,
          44,
          45,
          46,
          47,
          48,
          49,
          50,
          51,
          52,
          53,
          54,
          55,
          56,
          57,
          58,
          59,
          60,
          61,
          62,
          63,
          64,
          65,
          66,
          67,
          68,
          69,
          70,
          71,
          72,
          73,
          74
         ],
         "y": [
          0.8125122830003275,
          0.8762528660334098,
          0.8900753357353423,
          0.9054700294792007,
          0.9129053390108091,
          0.9205044218801179,
          0.9283982967572879,
          0.9348509662626925,
          0.9416311824434982,
          0.9495578119882083,
          0.9578119882083197,
          0.9648869963969866,
          0.9697674418604652,
          0.9767114313789715,
          0.9815918768424501,
          0.9862757943006879,
          0.9900425810678022,
          0.9922371437929906,
          0.9955781198820832,
          0.9961677038978054,
          0.9978054372748116,
          0.9989846053062561,
          0.9993449066491975,
          0.9997707173272191,
          0.9999672453324598,
          0.9999672453324598,
          0.9999672453324598,
          1,
          1,
          1,
          1,
          1,
          1,
          1,
          1,
          1,
          1,
          1,
          1,
          1,
          1,
          1,
          1,
          1,
          1,
          1,
          1,
          1,
          1,
          1,
          1,
          1,
          1,
          0.9999672453324598,
          1,
          1,
          1,
          1,
          1,
          1,
          1,
          1,
          1,
          1,
          0.9999672453324598,
          1,
          1,
          1,
          1,
          1,
          1,
          1,
          1,
          1
         ]
        }
       ],
       "layout": {
        "legend": {
         "title": {
          "text": "Accuracy"
         }
        },
        "template": {
         "data": {
          "bar": [
           {
            "error_x": {
             "color": "#2a3f5f"
            },
            "error_y": {
             "color": "#2a3f5f"
            },
            "marker": {
             "line": {
              "color": "#E5ECF6",
              "width": 0.5
             }
            },
            "type": "bar"
           }
          ],
          "barpolar": [
           {
            "marker": {
             "line": {
              "color": "#E5ECF6",
              "width": 0.5
             }
            },
            "type": "barpolar"
           }
          ],
          "carpet": [
           {
            "aaxis": {
             "endlinecolor": "#2a3f5f",
             "gridcolor": "white",
             "linecolor": "white",
             "minorgridcolor": "white",
             "startlinecolor": "#2a3f5f"
            },
            "baxis": {
             "endlinecolor": "#2a3f5f",
             "gridcolor": "white",
             "linecolor": "white",
             "minorgridcolor": "white",
             "startlinecolor": "#2a3f5f"
            },
            "type": "carpet"
           }
          ],
          "choropleth": [
           {
            "colorbar": {
             "outlinewidth": 0,
             "ticks": ""
            },
            "type": "choropleth"
           }
          ],
          "contour": [
           {
            "colorbar": {
             "outlinewidth": 0,
             "ticks": ""
            },
            "colorscale": [
             [
              0,
              "#0d0887"
             ],
             [
              0.1111111111111111,
              "#46039f"
             ],
             [
              0.2222222222222222,
              "#7201a8"
             ],
             [
              0.3333333333333333,
              "#9c179e"
             ],
             [
              0.4444444444444444,
              "#bd3786"
             ],
             [
              0.5555555555555556,
              "#d8576b"
             ],
             [
              0.6666666666666666,
              "#ed7953"
             ],
             [
              0.7777777777777778,
              "#fb9f3a"
             ],
             [
              0.8888888888888888,
              "#fdca26"
             ],
             [
              1,
              "#f0f921"
             ]
            ],
            "type": "contour"
           }
          ],
          "contourcarpet": [
           {
            "colorbar": {
             "outlinewidth": 0,
             "ticks": ""
            },
            "type": "contourcarpet"
           }
          ],
          "heatmap": [
           {
            "colorbar": {
             "outlinewidth": 0,
             "ticks": ""
            },
            "colorscale": [
             [
              0,
              "#0d0887"
             ],
             [
              0.1111111111111111,
              "#46039f"
             ],
             [
              0.2222222222222222,
              "#7201a8"
             ],
             [
              0.3333333333333333,
              "#9c179e"
             ],
             [
              0.4444444444444444,
              "#bd3786"
             ],
             [
              0.5555555555555556,
              "#d8576b"
             ],
             [
              0.6666666666666666,
              "#ed7953"
             ],
             [
              0.7777777777777778,
              "#fb9f3a"
             ],
             [
              0.8888888888888888,
              "#fdca26"
             ],
             [
              1,
              "#f0f921"
             ]
            ],
            "type": "heatmap"
           }
          ],
          "heatmapgl": [
           {
            "colorbar": {
             "outlinewidth": 0,
             "ticks": ""
            },
            "colorscale": [
             [
              0,
              "#0d0887"
             ],
             [
              0.1111111111111111,
              "#46039f"
             ],
             [
              0.2222222222222222,
              "#7201a8"
             ],
             [
              0.3333333333333333,
              "#9c179e"
             ],
             [
              0.4444444444444444,
              "#bd3786"
             ],
             [
              0.5555555555555556,
              "#d8576b"
             ],
             [
              0.6666666666666666,
              "#ed7953"
             ],
             [
              0.7777777777777778,
              "#fb9f3a"
             ],
             [
              0.8888888888888888,
              "#fdca26"
             ],
             [
              1,
              "#f0f921"
             ]
            ],
            "type": "heatmapgl"
           }
          ],
          "histogram": [
           {
            "marker": {
             "colorbar": {
              "outlinewidth": 0,
              "ticks": ""
             }
            },
            "type": "histogram"
           }
          ],
          "histogram2d": [
           {
            "colorbar": {
             "outlinewidth": 0,
             "ticks": ""
            },
            "colorscale": [
             [
              0,
              "#0d0887"
             ],
             [
              0.1111111111111111,
              "#46039f"
             ],
             [
              0.2222222222222222,
              "#7201a8"
             ],
             [
              0.3333333333333333,
              "#9c179e"
             ],
             [
              0.4444444444444444,
              "#bd3786"
             ],
             [
              0.5555555555555556,
              "#d8576b"
             ],
             [
              0.6666666666666666,
              "#ed7953"
             ],
             [
              0.7777777777777778,
              "#fb9f3a"
             ],
             [
              0.8888888888888888,
              "#fdca26"
             ],
             [
              1,
              "#f0f921"
             ]
            ],
            "type": "histogram2d"
           }
          ],
          "histogram2dcontour": [
           {
            "colorbar": {
             "outlinewidth": 0,
             "ticks": ""
            },
            "colorscale": [
             [
              0,
              "#0d0887"
             ],
             [
              0.1111111111111111,
              "#46039f"
             ],
             [
              0.2222222222222222,
              "#7201a8"
             ],
             [
              0.3333333333333333,
              "#9c179e"
             ],
             [
              0.4444444444444444,
              "#bd3786"
             ],
             [
              0.5555555555555556,
              "#d8576b"
             ],
             [
              0.6666666666666666,
              "#ed7953"
             ],
             [
              0.7777777777777778,
              "#fb9f3a"
             ],
             [
              0.8888888888888888,
              "#fdca26"
             ],
             [
              1,
              "#f0f921"
             ]
            ],
            "type": "histogram2dcontour"
           }
          ],
          "mesh3d": [
           {
            "colorbar": {
             "outlinewidth": 0,
             "ticks": ""
            },
            "type": "mesh3d"
           }
          ],
          "parcoords": [
           {
            "line": {
             "colorbar": {
              "outlinewidth": 0,
              "ticks": ""
             }
            },
            "type": "parcoords"
           }
          ],
          "pie": [
           {
            "automargin": true,
            "type": "pie"
           }
          ],
          "scatter": [
           {
            "marker": {
             "colorbar": {
              "outlinewidth": 0,
              "ticks": ""
             }
            },
            "type": "scatter"
           }
          ],
          "scatter3d": [
           {
            "line": {
             "colorbar": {
              "outlinewidth": 0,
              "ticks": ""
             }
            },
            "marker": {
             "colorbar": {
              "outlinewidth": 0,
              "ticks": ""
             }
            },
            "type": "scatter3d"
           }
          ],
          "scattercarpet": [
           {
            "marker": {
             "colorbar": {
              "outlinewidth": 0,
              "ticks": ""
             }
            },
            "type": "scattercarpet"
           }
          ],
          "scattergeo": [
           {
            "marker": {
             "colorbar": {
              "outlinewidth": 0,
              "ticks": ""
             }
            },
            "type": "scattergeo"
           }
          ],
          "scattergl": [
           {
            "marker": {
             "colorbar": {
              "outlinewidth": 0,
              "ticks": ""
             }
            },
            "type": "scattergl"
           }
          ],
          "scattermapbox": [
           {
            "marker": {
             "colorbar": {
              "outlinewidth": 0,
              "ticks": ""
             }
            },
            "type": "scattermapbox"
           }
          ],
          "scatterpolar": [
           {
            "marker": {
             "colorbar": {
              "outlinewidth": 0,
              "ticks": ""
             }
            },
            "type": "scatterpolar"
           }
          ],
          "scatterpolargl": [
           {
            "marker": {
             "colorbar": {
              "outlinewidth": 0,
              "ticks": ""
             }
            },
            "type": "scatterpolargl"
           }
          ],
          "scatterternary": [
           {
            "marker": {
             "colorbar": {
              "outlinewidth": 0,
              "ticks": ""
             }
            },
            "type": "scatterternary"
           }
          ],
          "surface": [
           {
            "colorbar": {
             "outlinewidth": 0,
             "ticks": ""
            },
            "colorscale": [
             [
              0,
              "#0d0887"
             ],
             [
              0.1111111111111111,
              "#46039f"
             ],
             [
              0.2222222222222222,
              "#7201a8"
             ],
             [
              0.3333333333333333,
              "#9c179e"
             ],
             [
              0.4444444444444444,
              "#bd3786"
             ],
             [
              0.5555555555555556,
              "#d8576b"
             ],
             [
              0.6666666666666666,
              "#ed7953"
             ],
             [
              0.7777777777777778,
              "#fb9f3a"
             ],
             [
              0.8888888888888888,
              "#fdca26"
             ],
             [
              1,
              "#f0f921"
             ]
            ],
            "type": "surface"
           }
          ],
          "table": [
           {
            "cells": {
             "fill": {
              "color": "#EBF0F8"
             },
             "line": {
              "color": "white"
             }
            },
            "header": {
             "fill": {
              "color": "#C8D4E3"
             },
             "line": {
              "color": "white"
             }
            },
            "type": "table"
           }
          ]
         },
         "layout": {
          "annotationdefaults": {
           "arrowcolor": "#2a3f5f",
           "arrowhead": 0,
           "arrowwidth": 1
          },
          "coloraxis": {
           "colorbar": {
            "outlinewidth": 0,
            "ticks": ""
           }
          },
          "colorscale": {
           "diverging": [
            [
             0,
             "#8e0152"
            ],
            [
             0.1,
             "#c51b7d"
            ],
            [
             0.2,
             "#de77ae"
            ],
            [
             0.3,
             "#f1b6da"
            ],
            [
             0.4,
             "#fde0ef"
            ],
            [
             0.5,
             "#f7f7f7"
            ],
            [
             0.6,
             "#e6f5d0"
            ],
            [
             0.7,
             "#b8e186"
            ],
            [
             0.8,
             "#7fbc41"
            ],
            [
             0.9,
             "#4d9221"
            ],
            [
             1,
             "#276419"
            ]
           ],
           "sequential": [
            [
             0,
             "#0d0887"
            ],
            [
             0.1111111111111111,
             "#46039f"
            ],
            [
             0.2222222222222222,
             "#7201a8"
            ],
            [
             0.3333333333333333,
             "#9c179e"
            ],
            [
             0.4444444444444444,
             "#bd3786"
            ],
            [
             0.5555555555555556,
             "#d8576b"
            ],
            [
             0.6666666666666666,
             "#ed7953"
            ],
            [
             0.7777777777777778,
             "#fb9f3a"
            ],
            [
             0.8888888888888888,
             "#fdca26"
            ],
            [
             1,
             "#f0f921"
            ]
           ],
           "sequentialminus": [
            [
             0,
             "#0d0887"
            ],
            [
             0.1111111111111111,
             "#46039f"
            ],
            [
             0.2222222222222222,
             "#7201a8"
            ],
            [
             0.3333333333333333,
             "#9c179e"
            ],
            [
             0.4444444444444444,
             "#bd3786"
            ],
            [
             0.5555555555555556,
             "#d8576b"
            ],
            [
             0.6666666666666666,
             "#ed7953"
            ],
            [
             0.7777777777777778,
             "#fb9f3a"
            ],
            [
             0.8888888888888888,
             "#fdca26"
            ],
            [
             1,
             "#f0f921"
            ]
           ]
          },
          "colorway": [
           "#636efa",
           "#EF553B",
           "#00cc96",
           "#ab63fa",
           "#FFA15A",
           "#19d3f3",
           "#FF6692",
           "#B6E880",
           "#FF97FF",
           "#FECB52"
          ],
          "font": {
           "color": "#2a3f5f"
          },
          "geo": {
           "bgcolor": "white",
           "lakecolor": "white",
           "landcolor": "#E5ECF6",
           "showlakes": true,
           "showland": true,
           "subunitcolor": "white"
          },
          "hoverlabel": {
           "align": "left"
          },
          "hovermode": "closest",
          "mapbox": {
           "style": "light"
          },
          "paper_bgcolor": "white",
          "plot_bgcolor": "#E5ECF6",
          "polar": {
           "angularaxis": {
            "gridcolor": "white",
            "linecolor": "white",
            "ticks": ""
           },
           "bgcolor": "#E5ECF6",
           "radialaxis": {
            "gridcolor": "white",
            "linecolor": "white",
            "ticks": ""
           }
          },
          "scene": {
           "xaxis": {
            "backgroundcolor": "#E5ECF6",
            "gridcolor": "white",
            "gridwidth": 2,
            "linecolor": "white",
            "showbackground": true,
            "ticks": "",
            "zerolinecolor": "white"
           },
           "yaxis": {
            "backgroundcolor": "#E5ECF6",
            "gridcolor": "white",
            "gridwidth": 2,
            "linecolor": "white",
            "showbackground": true,
            "ticks": "",
            "zerolinecolor": "white"
           },
           "zaxis": {
            "backgroundcolor": "#E5ECF6",
            "gridcolor": "white",
            "gridwidth": 2,
            "linecolor": "white",
            "showbackground": true,
            "ticks": "",
            "zerolinecolor": "white"
           }
          },
          "shapedefaults": {
           "line": {
            "color": "#2a3f5f"
           }
          },
          "ternary": {
           "aaxis": {
            "gridcolor": "white",
            "linecolor": "white",
            "ticks": ""
           },
           "baxis": {
            "gridcolor": "white",
            "linecolor": "white",
            "ticks": ""
           },
           "bgcolor": "#E5ECF6",
           "caxis": {
            "gridcolor": "white",
            "linecolor": "white",
            "ticks": ""
           }
          },
          "title": {
           "x": 0.05
          },
          "xaxis": {
           "automargin": true,
           "gridcolor": "white",
           "linecolor": "white",
           "ticks": "",
           "title": {
            "standoff": 15
           },
           "zerolinecolor": "white",
           "zerolinewidth": 2
          },
          "yaxis": {
           "automargin": true,
           "gridcolor": "white",
           "linecolor": "white",
           "ticks": "",
           "title": {
            "standoff": 15
           },
           "zerolinecolor": "white",
           "zerolinewidth": 2
          }
         }
        },
        "title": {
         "text": "Model overfitting: accuracy and depth"
        },
        "xaxis": {
         "title": {
          "text": "Depths"
         }
        },
        "yaxis": {
         "title": {
          "text": "Accuracy"
         }
        }
       }
      }
     },
     "metadata": {},
     "output_type": "display_data"
    }
   ],
   "source": [
    "# Overfitting review\n",
    "fig = go.Figure()\n",
    "\n",
    "# Add the first line trace for accuracy_test\n",
    "fig.add_trace(go.Scatter(x=depths, y=accuracy_test, name='Accuracy Test', line=dict(color='red')))\n",
    "\n",
    "# Add the second line trace for accuracy_train\n",
    "fig.add_trace(go.Scatter(x=depths, y=accuracy_train, name='Accuracy Train', line=dict(color='slateblue')))\n",
    "\n",
    "# Set the layout with titles\n",
    "fig.update_layout(\n",
    "    title='Model overfitting: accuracy and depth',\n",
    "    xaxis_title='Depths',\n",
    "    yaxis_title='Accuracy',\n",
    "    legend_title='Accuracy',\n",
    ")\n",
    "\n",
    "# Show the figure\n",
    "fig.show()\n",
    "\n"
   ]
  },
  {
   "attachments": {},
   "cell_type": "markdown",
   "metadata": {},
   "source": [
    "Visualize best and worse variables\n",
    "\n",
    "PRecision and recall of the negative class\n",
    "\n",
    "Review the cases that the model was wrong with y_test, filtering to see patterns"
   ]
  },
  {
   "cell_type": "code",
   "execution_count": 75,
   "metadata": {},
   "outputs": [
    {
     "data": {
      "image/png": "[encoded data removed]",
      "text/plain": [
       "<Figure size 1000x600 with 1 Axes>"
      ]
     },
     "metadata": {},
     "output_type": "display_data"
    }
   ],
   "source": [
    "#Feature importance visualization\n",
    "random_forest = rf_fitted_grid.best_estimator_.named_steps['model']\n",
    "\n",
    "# Retrieve the features with their respective n ames\n",
    "feature_importances = random_forest.feature_importances_\n",
    "\n",
    "\n",
    "feature_names = X_train.columns\n",
    "\n",
    "# Sort the feature importances desc\n",
    "indices = np.argsort(feature_importances)[::-1]\n",
    "\n",
    "#Top K features\n",
    "top_k_indices = indices[:10]  \n",
    "\n",
    "# Feature names for the top K features\n",
    "top_k_feature_names = feature_names[top_k_indices]\n",
    "\n",
    "# Plot the feature importances\n",
    "plt.figure(figsize=(10, 6))\n",
    "plt.barh(range(len(top_k_feature_names)), feature_importances[top_k_indices], align='center', color=\"#80a2ff\")\n",
    "plt.yticks(range(len(top_k_feature_names)), top_k_feature_names)\n",
    "plt.xlabel('Feature Importances (total Gini reduction by feature)')\n",
    "plt.ylabel('Feature Names')\n",
    "plt.title('Top K Features by Feature Importances')\n",
    "plt.show()"
   ]
  },
  {
   "cell_type": "code",
   "execution_count": 66,
   "metadata": {},
   "outputs": [
    {
     "data": {
      "image/png": "[encoded data removed]",
      "text/plain": [
       "<Figure size 1000x600 with 1 Axes>"
      ]
     },
     "metadata": {},
     "output_type": "display_data"
    }
   ],
   "source": [
    "# Indices of the bottom K features\n",
    "bottom_k_indices = feature_importances.argsort()[4:14]\n",
    "\n",
    "# Feature names for the bottom K features\n",
    "bottom_k_feature_names = feature_names[bottom_k_indices]\n",
    "\n",
    "# Plot the feature importances\n",
    "plt.figure(figsize=(10, 6))\n",
    "plt.barh(range(len(bottom_k_feature_names)), feature_importances[bottom_k_indices], align='center', color=\"tomato\")\n",
    "plt.yticks(range(len(bottom_k_feature_names)), bottom_k_feature_names)\n",
    "plt.xlabel('Feature Importances (total Gini reduction by feature)')\n",
    "plt.ylabel('Feature Names')\n",
    "plt.title('Bottom K Features by Feature Importances')\n",
    "plt.show()"
   ]
  },
  {
   "attachments": {},
   "cell_type": "markdown",
   "metadata": {},
   "source": [
    "**Confusion Matrix**"
   ]
  },
  {
   "cell_type": "code",
   "execution_count": 71,
   "metadata": {},
   "outputs": [
    {
     "data": {
      "image/png": "[encoded data removed]",
      "text/plain": [
       "<Figure size 640x480 with 2 Axes>"
      ]
     },
     "metadata": {},
     "output_type": "display_data"
    }
   ],
   "source": [
    "# Confusion Matrix\n",
    "cm = confusion_matrix(y_test, rf_fitted_grid.predict(X_test), labels=rf_fitted_grid.best_estimator_.classes_)\n",
    "\n",
    "# Set the font color of values inside the matrix to white\n",
    "sns.heatmap(cm, annot=True, cmap='vlag', fmt='d', annot_kws={\"color\": \"white\"})\n",
    "\n",
    "\n",
    "plt.title(\"Best Random Forest Model Confusion Matrix\")\n",
    "plt.xlabel(\"Predicted\")\n",
    "plt.ylabel(\"Actual\")\n",
    "plt.show()\n",
    "\n"
   ]
  },
  {
   "cell_type": "code",
   "execution_count": 94,
   "metadata": {},
   "outputs": [
    {
     "name": "stdout",
     "output_type": "stream",
     "text": [
      "Negative Predictive Value: 0.9155709342560554\n",
      "True Negative ratio: 0.7395192845164896\n"
     ]
    }
   ],
   "source": [
    "#Negative Predictive Value = TN / (TN + FN)\n",
    "print(f\"Negative Predictive Value: {1323 /(1323 + 122)}\")\n",
    "\n",
    "#True Negative Ratio = TN / (TN + FP)\n",
    "print(f\"True Negative ratio: {1323 / (1323 + 466)}\")\n"
   ]
  },
  {
   "cell_type": "code",
   "execution_count": 1,
   "metadata": {},
   "outputs": [
    {
     "ename": "NameError",
     "evalue": "name 'rf_fitted_grid' is not defined",
     "output_type": "error",
     "traceback": [
      "\u001b[0;31m---------------------------------------------------------------------------\u001b[0m",
      "\u001b[0;31mNameError\u001b[0m                                 Traceback (most recent call last)",
      "Cell \u001b[0;32mIn[1], line 2\u001b[0m\n\u001b[1;32m      1\u001b[0m \u001b[39m# Predicted probabilities from the fitted grid search\u001b[39;00m\n\u001b[0;32m----> 2\u001b[0m y_pred_prob \u001b[39m=\u001b[39m rf_fitted_grid\u001b[39m.\u001b[39mpredict_proba(X_test)[:, \u001b[39m1\u001b[39m]\n\u001b[1;32m      4\u001b[0m \u001b[39m# FPR, TPR and Thresholds\u001b[39;00m\n\u001b[1;32m      5\u001b[0m fpr, tpr, thresholds \u001b[39m=\u001b[39m roc_curve(y_test, y_pred_prob)\n",
      "\u001b[0;31mNameError\u001b[0m: name 'rf_fitted_grid' is not defined"
     ]
    }
   ],
   "source": [
    "# Predicted probabilities from the fitted grid search\n",
    "y_pred_prob = rf_fitted_grid.predict_proba(X_test)[:, 1]\n",
    "\n",
    "# FPR, TPR and Thresholds\n",
    "fpr, tpr, thresholds = roc_curve(y_test, y_pred_prob)\n",
    "\n",
    "#AUC score\n",
    "auc_score = roc_auc_score(y_test, y_pred_prob)\n",
    "\n",
    "#ROC curve \n",
    "roc_trace = go.Scatter(\n",
    "    x=fpr,\n",
    "    y=tpr,\n",
    "    mode='lines',\n",
    "    name='ROC Curve (AUC = {:.2f})'.format(auc_score)\n",
    ")\n",
    "\n",
    "#Diagonal line trace\n",
    "diagonal_trace = go.Scatter(\n",
    "    x=[0, 1],\n",
    "    y=[0, 1],\n",
    "    mode='lines',\n",
    "    name='Diagonal line (equal measures)',\n",
    "    line=dict(dash='dash')\n",
    ")\n",
    "\n",
    "#Layout & figure\n",
    "layout = go.Layout(\n",
    "    title='ROC Curve: Random Forest',\n",
    "    xaxis=dict(title='False Positive Rate'),\n",
    "    yaxis=dict(title='Recall'),\n",
    "    showlegend=True\n",
    ")\n",
    "\n",
    "fig = go.Figure(data=[roc_trace, diagonal_trace], layout=layout)\n",
    "\n",
    "\n",
    "fig.show()"
   ]
  },
  {
   "cell_type": "code",
   "execution_count": 101,
   "metadata": {},
   "outputs": [
    {
     "data": {
      "text/plain": [
       "['../model/it2_random_forest.pkl']"
      ]
     },
     "execution_count": 101,
     "metadata": {},
     "output_type": "execute_result"
    }
   ],
   "source": [
    "#Saving the model:\n",
    "joblib.dump(rf_fitted_grid, '../model/it2_random_forest.pkl')\n",
    "            "
   ]
  },
  {
   "cell_type": "code",
   "execution_count": 18,
   "metadata": {},
   "outputs": [
    {
     "data": {
      "text/plain": [
       "['../model/it2_xgboost.pkl']"
      ]
     },
     "execution_count": 18,
     "metadata": {},
     "output_type": "execute_result"
    }
   ],
   "source": [
    "#Saving the model:\n",
    "joblib.dump(xgb_fitted_grid2, '../model/it2_xgboost.pkl')"
   ]
  },
  {
   "cell_type": "code",
   "execution_count": null,
   "metadata": {},
   "outputs": [],
   "source": []
  }
 ],
 "metadata": {
  "kernelspec": {
   "display_name": "capstone",
   "language": "python",
   "name": "python3"
  },
  "language_info": {
   "codemirror_mode": {
    "name": "ipython",
    "version": 3
   },
   "file_extension": ".py",
   "mimetype": "text/x-python",
   "name": "python",
   "nbconvert_exporter": "python",
   "pygments_lexer": "ipython3",
   "version": "3.8.16"
  },
  "orig_nbformat": 4
 },
 "nbformat": 4,
 "nbformat_minor": 2
}
