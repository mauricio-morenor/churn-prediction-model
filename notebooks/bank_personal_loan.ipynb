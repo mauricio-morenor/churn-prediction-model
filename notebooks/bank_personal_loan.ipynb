{
 "cells": [
  {
   "cell_type": "code",
   "execution_count": null,
   "metadata": {},
   "outputs": [],
   "source": [
    "\n",
    "------------------"
   ]
  },
  {
   "attachments": {},
   "cell_type": "markdown",
   "metadata": {},
   "source": [
    "ID: Customer ID\n",
    "Age: Customer's age in completed years\n",
    "Experience:\t#years of professional experience\n",
    "Income:\tAnnual income of the customer ($000)\n",
    "ZIPCode:\tHome Address ZIP code.\n",
    "Family:\tFamily size of the customer\n",
    "CCAvg:\tAvg. spending on credit cards per month ($000)\n",
    "Education:\tEducation Level. 1: Undergrad; 2: Graduate; 3: Advanced/Professional\n",
    "Mortgage:\tValue of house mortgage if any. ($000)\n",
    "Personal Loan:\tDid this customer accept the personal loan offered in the last campaign?\n",
    "Securities Account:\tDoes the customer have a securities account with the bank?\n",
    "CD Account:\tDoes the customer have a certificate of deposit (CD) account with the bank?\n",
    "Online:\tDoes the customer use internet banking facilities?\n",
    "CreditCard:\tDoes the customer use a credit card issued by UniversalBank?"
   ]
  },
  {
   "attachments": {},
   "cell_type": "markdown",
   "metadata": {},
   "source": [
    "#### Libraries"
   ]
  },
  {
   "cell_type": "code",
   "execution_count": null,
   "metadata": {},
   "outputs": [],
   "source": [
    "# Importing the libraries\n",
    "import numpy as np\n",
    "import pandas as pd\n",
    "\n",
    "#Plotting\n",
    "import matplotlib.pyplot as plt\n",
    "import seaborn as sns\n",
    "import plotly.express as px\n",
    "from plotly.subplots import make_subplots\n",
    "import plotly.graph_objects as go\n",
    "import plotly.express as px"
   ]
  }
 ],
 "metadata": {
  "language_info": {
   "name": "python"
  },
  "orig_nbformat": 4
 },
 "nbformat": 4,
 "nbformat_minor": 2
}
