{
 "cells": [
  {
   "attachments": {},
   "cell_type": "markdown",
   "metadata": {},
   "source": [
    "# Modelling\n",
    "\n",
    "This notebook contains the main models of both iterations\n",
    "Since some cells require significant computing power, they are commented and the respective model is pickled\n",
    "Following the structure of the previous notebooks, the second iteration appears first, followed by the first one as a backup\n",
    "\n",
    "**Summary**\n",
    "Given the distribution of the target variable, it is deemed relevant for a model to achieve an accuracy of over 82%. However, considering the objective of optimizing retention in a cost-efficient manner, additional evaluation metrics were prioritized. These metrics include recall and specificity for the negative class (not churned) and computing power, for example, a distance based KNN yielded good results but proved to be significantly expensive to run. \n",
    "\n",
    "The top-performing models were Random Forest and XGBoost. While they had similar performance overall, XGBoost was chosen as the preferred model due to its computational efficiency (less depth layers) and an improvement of 200 basis points in specificity for the negative class.\n",
    "\n",
    "The final model achieved an accuracy of 94%, recall of 98%, 94% precision. For the negative class, the model achieved a true negative ratio of 75% and a negative predicted value of 91%. These results indicate that the model effectively classifies instances, with a high rate of correctly identifying positive cases and a satisfactory rate of avoiding false negatives.\n",
    "\n",
    "----\n",
    "\n",
    "**Table of contents**\n",
    "1. Baseline Model\n",
    "2. Random Forest\n",
    "    1. Random Forest optimization\n",
    "3. XGBoost\n",
    "    1. XGBoost optimization\n",
    "4. Backup: Iteration 1\n",
    "    1. Baseline model\n",
    "    2. KNN\n",
    "    3. Random Forest\n",
    "    4. XGBoost\n",
    "\n",
    "----"
   ]
  },
  {
   "attachments": {},
   "cell_type": "markdown",
   "metadata": {},
   "source": [
    "### Libraries"
   ]
  },
  {
   "cell_type": "code",
   "execution_count": 1,
   "metadata": {},
   "outputs": [],
   "source": [
    "#Imports:\n",
    "#General imports\n",
    "import numpy as np\n",
    "import pandas as pd\n",
    "\n",
    "\n",
    "\n",
    "# Plotting\n",
    "import plotly.express as px\n",
    "from plotly.subplots import make_subplots\n",
    "import plotly.graph_objs as go\n",
    "import matplotlib.pyplot as plt\n",
    "import seaborn as sns\n",
    "from sklearn.tree import plot_tree"
   ]
  },
  {
   "cell_type": "code",
   "execution_count": 2,
   "metadata": {},
   "outputs": [],
   "source": [
    "#Imports:\n",
    "#Storing the model\n",
    "import joblib"
   ]
  },
  {
   "cell_type": "code",
   "execution_count": 3,
   "metadata": {},
   "outputs": [],
   "source": [
    "#Imports:\n",
    "#Sklearn\n",
    "from sklearn.model_selection import train_test_split\n",
    "from sklearn.tree import DecisionTreeClassifier\n",
    "from sklearn.model_selection import cross_val_score\n",
    "from sklearn.preprocessing import StandardScaler, MinMaxScaler\n",
    "from sklearn.feature_selection import SelectPercentile, f_regression\n",
    "from sklearn.model_selection import cross_val_score\n",
    "from sklearn.linear_model import Ridge, LogisticRegression\n",
    "from sklearn.pipeline import Pipeline\n",
    "from sklearn.model_selection import GridSearchCV, RandomizedSearchCV\n",
    "from sklearn.decomposition import PCA\n",
    "from sklearn.neighbors import KNeighborsClassifier\n",
    "from sklearn.feature_selection import SelectKBest, f_regression\n",
    "from sklearn.ensemble import RandomForestClassifier, AdaBoostClassifier\n",
    "\n",
    "#Other models\n",
    "from xgboost import XGBClassifier\n",
    "\n",
    "\n",
    "#Sklearn metrics\n",
    "from sklearn.metrics import RocCurveDisplay, roc_curve, roc_auc_score, recall_score, precision_score, f1_score\n",
    "from sklearn.metrics import confusion_matrix, ConfusionMatrixDisplay"
   ]
  },
  {
   "attachments": {},
   "cell_type": "markdown",
   "metadata": {},
   "source": [
    "### Functions"
   ]
  },
  {
   "cell_type": "code",
   "execution_count": 4,
   "metadata": {},
   "outputs": [],
   "source": [
    "def nan_vis(df):\n",
    "    \"\"\"\n",
    "    Visualizes missing values in a DataFrame.\n",
    "\n",
    "    Parameters:\n",
    "    - df (pandas.DataFrame): The input DataFrame.\n",
    "\n",
    "    Returns:\n",
    "    - str: A message indicating if there are any missing values or not.\n",
    "    - If there are missing values, returns a bar graph with the missing values.\n",
    "    \"\"\"\n",
    "\n",
    "    # Visualize missing values\n",
    "    if df.isna().sum().sum() == 0:\n",
    "        return \"There are no missing values\"\n",
    "    else:\n",
    "        plt.figure(figsize=(10, 6))\n",
    "        plt.title(\"Missing Values\")\n",
    "        ax = sns.barplot(x=df.columns, y=df.isna().sum())\n",
    "        ax.set_xticklabels(ax.get_xticklabels(), rotation=90)\n",
    "        plt.xlabel(\"Columns\")\n",
    "        plt.ylabel(\"Missing Values Count\")\n",
    "        plt.show()"
   ]
  },
  {
   "cell_type": "code",
   "execution_count": 5,
   "metadata": {},
   "outputs": [],
   "source": [
    "def replace_nan_with_zero(df, columns):\n",
    "    \"\"\"\n",
    "    Replaces the NaN values with 0\n",
    "\n",
    "    Parameters:\n",
    "    - df (pandas.DataFrame): The input DataFrame.\n",
    "    - List columns of the DataFrame that will be removed.\n",
    "\n",
    "    Returns:\n",
    "    - df (pandas.DataFrame): The input DataFrame with the updated values\n",
    "    \"\"\"\n",
    "    df[columns] = df[columns].fillna(0)\n",
    "    return df"
   ]
  },
  {
   "attachments": {},
   "cell_type": "markdown",
   "metadata": {},
   "source": [
    "## Iteration 2\n",
    "\n",
    "For this iteration, I decided to focus on Random Forest and XGBoost models, as KNN models are less accurate and more expensive to run.\n",
    "\n",
    "After optimizing both models, both of them achieved a ROC AUC of 0.97. But  I decided to proceed with the second iteration of XGBoost.\n",
    "\n",
    "XGBoost required less computational power, had fewer layers, and performed slightly better in predicting the negative classes as well."
   ]
  },
  {
   "attachments": {},
   "cell_type": "markdown",
   "metadata": {},
   "source": [
    "### Loading the DF and splitting"
   ]
  },
  {
   "cell_type": "code",
   "execution_count": 6,
   "metadata": {},
   "outputs": [],
   "source": [
    "#Loading the final DF\n",
    "dfmodel = pd.read_csv('../data/elenas-it2-postpreprocessing.csv')"
   ]
  },
  {
   "cell_type": "code",
   "execution_count": 7,
   "metadata": {},
   "outputs": [
    {
     "name": "stdout",
     "output_type": "stream",
     "text": [
      "There are no missing values\n"
     ]
    },
    {
     "data": {
      "text/plain": [
       "1    38760\n",
       "0     8944\n",
       "Name: churn, dtype: int64"
      ]
     },
     "execution_count": 7,
     "metadata": {},
     "output_type": "execute_result"
    }
   ],
   "source": [
    "#Sanity checks: \n",
    "\n",
    "#Visualizing the NaN values\n",
    "print(nan_vis(dfmodel))\n",
    "\n",
    "# Target variable distribution\n",
    "dfmodel[\"churn\"].value_counts()"
   ]
  },
  {
   "cell_type": "code",
   "execution_count": 8,
   "metadata": {},
   "outputs": [],
   "source": [
    "#Dropping non numerical values:\n",
    "dfmodel.drop([\"seller_created_at\"], axis=1, inplace=True)"
   ]
  },
  {
   "cell_type": "code",
   "execution_count": 9,
   "metadata": {},
   "outputs": [],
   "source": [
    "#Splitting the variables\n",
    "X = dfmodel.drop(columns=\"churn\")\n",
    "y = dfmodel[\"churn\"]\n",
    "\n",
    "#Train and test split\n",
    "X_train, X_test, y_train, y_test = train_test_split(X, y, test_size=0.2, stratify=y, random_state=24)"
   ]
  },
  {
   "attachments": {},
   "cell_type": "markdown",
   "metadata": {},
   "source": [
    "### Baseline model:\n",
    "\n",
    "Based on the findings of the first iteration, the baseline model for this version is a decision tree with 2 layers of depth, cross-validated 5 times. \n",
    "\n",
    "- The accuracy is 0.88 which is higher than the values distribution so is interesting. This score was 0.88 for the train set, indicating that there is no overfitting\n",
    "- The recall is 0.98, meaning that almost all the churn cases were identified by the model\n",
    "- The precision is 0.88, indicating that false positives are present"
   ]
  },
  {
   "cell_type": "code",
   "execution_count": 10,
   "metadata": {},
   "outputs": [],
   "source": [
    "#Fitting the baseline model\n",
    "baseline_dt = DecisionTreeClassifier(max_depth=2)\n",
    "baseline_cv = cross_val_score(baseline_dt, X_train, y_train, cv=5)\n",
    "baseline_fitted = baseline_dt.fit(X_train, y_train)\n"
   ]
  },
  {
   "cell_type": "code",
   "execution_count": 11,
   "metadata": {},
   "outputs": [
    {
     "name": "stdout",
     "output_type": "stream",
     "text": [
      "\n",
      "- Baseline accuracy: 0.8816685881983021\n",
      "- Baseline recall: 0.9872291021671826\n",
      "- Baseline precision: 0.8813774041229989\n",
      "- Baseline f1: 0.9313051414663827\n",
      "\n"
     ]
    }
   ],
   "source": [
    "#Baseline scores:\n",
    "\n",
    "# Predict labels\n",
    "y_pred = baseline_fitted.predict(X_test)\n",
    "\n",
    "# Accuracy, Precision, recall, and F1-score\n",
    "accuracy = baseline_fitted.score(X_test, y_test)\n",
    "precision = precision_score(y_test, y_pred)\n",
    "recall = recall_score(y_test, y_pred)\n",
    "f1 = f1_score(y_test, y_pred)\n",
    "\n",
    "print(f\"\"\"\n",
    "- Baseline accuracy: {accuracy}\n",
    "- Baseline recall: {recall}\n",
    "- Baseline precision: {precision}\n",
    "- Baseline f1: {f1}\n",
    "\"\"\")"
   ]
  },
  {
   "cell_type": "code",
   "execution_count": 12,
   "metadata": {},
   "outputs": [
    {
     "name": "stdout",
     "output_type": "stream",
     "text": [
      "overfitting - train model score: 0.882137148547022\n"
     ]
    }
   ],
   "source": [
    "#Check for overfitting\n",
    "print(f\"overfitting - train model score: {baseline_fitted.score(X_train, y_train)}\")"
   ]
  },
  {
   "cell_type": "code",
   "execution_count": 13,
   "metadata": {},
   "outputs": [
    {
     "data": {
      "image/png": "[encoded data removed]",
      "text/plain": [
       "<Figure size 1000x600 with 1 Axes>"
      ]
     },
     "metadata": {},
     "output_type": "display_data"
    }
   ],
   "source": [
    "# Plot the decision tree\n",
    "plt.figure(figsize=(10, 6))\n",
    "plot_tree(baseline_fitted, feature_names=X_train.columns, filled=True, class_names=[\"Not Churn\", \"Churn\"], impurity=True)\n",
    "plt.title(\"Baseline decision tree\")\n",
    "plt.show()"
   ]
  },
  {
   "attachments": {},
   "cell_type": "markdown",
   "metadata": {},
   "source": [
    "### Random Forest\n",
    "\n",
    "|  Name |Comments   |Accuracy / recall   |Parameters|\n",
    "|---|---|---|---|\n",
    "| Version 1: |The The model is significantly overfitting, as the train model score is 1.0|0.93 / 0.98|200 max depth(based on iteration 1), standard scaler, no PCA, 5 cross- validation|\n",
    "| Version 2 |The model continues to overfit so, min samples split will be added for the next iteration with a less layers |0.94 / 0.98|Changed the range of max depth to 10, 12, 200, but the chosen parameter was 200. No PCA and no Scaler, 5 cross-validation|\n",
    "| Version 3|Less overfitting but it is still relevant 5% difference of scores between test and train|0.93 / 0.98 |Max depth of 10, 12, 15, 20 with min samples of 2,4,6, 12. The chosen ones are max depth of 20, min sample split 6, Standard Scaler and no PCA, 5 cross-validation|\n",
    "\n",
    "\n",
    "The ideal number of layers is 9, after that the results marginally decrease and starts to overfit. \n",
    "\n",
    "The AUC is 0.97, indicating that in general, is a good and reliable model\n",
    "\n",
    "The main opportunity area is improving the true negative ratio, 0.73. Which means that the model tends to over label sellers as churned\n",
    "\n",
    "\n",
    "\n",
    " "
   ]
  },
  {
   "cell_type": "code",
   "execution_count": 14,
   "metadata": {},
   "outputs": [
    {
     "data": {
      "text/plain": [
       "'\\n#Final GridSearch\\n#Random Forest gridsearch:\\nestimators = [\\n    (\"normalise\", StandardScaler()),\\n    (\"select\", PCA()),\\n    (\"model\", RandomForestClassifier())\\n]\\n\\npipe = Pipeline(estimators)\\n\\nparam_grid = [\\n    {\\n        \\'model\\': [RandomForestClassifier()],\\n        \\'normalise\\': [StandardScaler(), None],\\n        \\'model__max_depth\\': [20],\\n        \\'model__min_samples_split\\': [6],\\n        \\'select\\':  [ None],\\n    }]\\n\\ngrid = GridSearchCV(pipe, param_grid, cv=5, verbose=1)\\nrf_fitted_grid = grid.fit(X_train, y_train)'"
      ]
     },
     "execution_count": 14,
     "metadata": {},
     "output_type": "execute_result"
    }
   ],
   "source": [
    "\"\"\"\n",
    "#Final GridSearch\n",
    "#Random Forest gridsearch:\n",
    "estimators = [\n",
    "    (\"normalise\", StandardScaler()),\n",
    "    (\"select\", PCA()),\n",
    "    (\"model\", RandomForestClassifier())\n",
    "]\n",
    "\n",
    "pipe = Pipeline(estimators)\n",
    "\n",
    "param_grid = [\n",
    "    {\n",
    "        'model': [RandomForestClassifier()],\n",
    "        'normalise': [StandardScaler(), None],\n",
    "        'model__max_depth': [20],\n",
    "        'model__min_samples_split': [6],\n",
    "        'select':  [ None],\n",
    "    }]\n",
    "\n",
    "grid = GridSearchCV(pipe, param_grid, cv=5, verbose=1)\n",
    "rf_fitted_grid = grid.fit(X_train, y_train)\"\"\""
   ]
  },
  {
   "cell_type": "code",
   "execution_count": 15,
   "metadata": {},
   "outputs": [],
   "source": [
    "#Saving the model:\n",
    "#joblib.dump(rf_fitted_grid, '../model/it2_random_forest.pkl')\n",
    "            "
   ]
  },
  {
   "cell_type": "code",
   "execution_count": 16,
   "metadata": {},
   "outputs": [
    {
     "data": {
      "text/plain": [
       "{'model': RandomForestClassifier(max_depth=20, min_samples_split=6),\n",
       " 'model__max_depth': 20,\n",
       " 'model__min_samples_split': 6,\n",
       " 'normalise': None,\n",
       " 'select': None}"
      ]
     },
     "execution_count": 16,
     "metadata": {},
     "output_type": "execute_result"
    }
   ],
   "source": [
    "#Loading the model: \n",
    "rf_fitted_grid = joblib.load('../model/it2_random_forest.pkl')\n",
    "\n",
    "#Sanity check: #Parameters of the fitted grid\n",
    "rf_fitted_grid.best_params_"
   ]
  },
  {
   "cell_type": "code",
   "execution_count": 17,
   "metadata": {},
   "outputs": [
    {
     "name": "stdout",
     "output_type": "stream",
     "text": [
      "\n",
      "- Baseline accuracy: 0.9381616182790063\n",
      "- Baseline recall: 0.9841331269349846\n",
      "- Baseline precision: 0.9423171936758893\n",
      "- Baseline f1: 0.9627713276123171\n",
      "\n"
     ]
    }
   ],
   "source": [
    "#Results of the optimized grid\n",
    "\n",
    "# Predict labels\n",
    "y_pred = rf_fitted_grid.predict(X_test)\n",
    "\n",
    "# Accuracy, Precision, recall, and F1-score\n",
    "accuracy = rf_fitted_grid.score(X_test, y_test)\n",
    "precision = precision_score(y_test, y_pred)\n",
    "recall = recall_score(y_test, y_pred)\n",
    "f1 = f1_score(y_test, y_pred)\n",
    "\n",
    "print(f\"\"\"\n",
    "- Baseline accuracy: {accuracy}\n",
    "- Baseline recall: {recall}\n",
    "- Baseline precision: {precision}\n",
    "- Baseline f1: {f1}\n",
    "\"\"\")"
   ]
  },
  {
   "cell_type": "code",
   "execution_count": 18,
   "metadata": {},
   "outputs": [
    {
     "name": "stdout",
     "output_type": "stream",
     "text": [
      "overfitting - train model score: 0.9894400335403402\n"
     ]
    }
   ],
   "source": [
    "print(f\"overfitting - train model score: {rf_fitted_grid.score(X_train, y_train)}\")"
   ]
  },
  {
   "attachments": {},
   "cell_type": "markdown",
   "metadata": {},
   "source": [
    "#### Optimizing the random forest:"
   ]
  },
  {
   "cell_type": "code",
   "execution_count": 19,
   "metadata": {},
   "outputs": [],
   "source": [
    "## Max depth optimization\n",
    "depths = np.arange(1,75)"
   ]
  },
  {
   "cell_type": "code",
   "execution_count": 20,
   "metadata": {},
   "outputs": [],
   "source": [
    "\n",
    "\n",
    "#Train and test split\n",
    "X_train_temp, X_val, y_train_temp, y_val = train_test_split(X_train, y_train, test_size=0.2, stratify=y_train, random_state=24)\n",
    "\n",
    "#Lists:\n",
    "accuracy_test = []\n",
    "accuracy_train = []\n",
    "\n",
    "recall_final = []\n",
    "\n",
    "#Model: \n",
    "for depth in depths:\n",
    "    it2_rf = RandomForestClassifier(max_depth=depth, min_samples_split=6)\n",
    "    #it2_cv = cross_val_score(it2_rf, X_train, y_train, cv=5)\n",
    "    it2_fitted = it2_rf.fit(X_train_temp, y_train_temp)\n",
    "    accuracy_test.append(it2_fitted.score(X_val, y_val))\n",
    "    accuracy_train.append(it2_fitted.score(X_train_temp, y_train_temp))\n",
    "    y_pred = it2_fitted.predict(X_val)\n",
    "    recall_final.append(recall_score(y_val, y_pred))\n",
    "\n",
    "\n"
   ]
  },
  {
   "cell_type": "code",
   "execution_count": 21,
   "metadata": {},
   "outputs": [
    {
     "data": {
      "application/vnd.plotly.v1+json": {
       "config": {
        "plotlyServerURL": "https://plot.ly"
       },
       "data": [
        {
         "line": {
          "color": "red"
         },
         "name": "Accuracy Test",
         "type": "scatter",
         "x": [
          1,
          2,
          3,
          4,
          5,
          6,
          7,
          8,
          9,
          10,
          11,
          12,
          13,
          14,
          15,
          16,
          17,
          18,
          19,
          20,
          21,
          22,
          23,
          24,
          25,
          26,
          27,
          28,
          29,
          30,
          31,
          32,
          33,
          34,
          35,
          36,
          37,
          38,
          39,
          40,
          41,
          42,
          43,
          44,
          45,
          46,
          47,
          48,
          49,
          50,
          51,
          52,
          53,
          54,
          55,
          56,
          57,
          58,
          59,
          60,
          61,
          62,
          63,
          64,
          65,
          66,
          67,
          68,
          69,
          70,
          71,
          72,
          73,
          74
         ],
         "y": [
          0.8125245643914581,
          0.8693829424865714,
          0.8837940521420149,
          0.8999082929385562,
          0.9072448578540547,
          0.9137953622428927,
          0.9174636447006419,
          0.9215249574217215,
          0.924538189440587,
          0.9284684920738897,
          0.9280754618105594,
          0.9306956635660946,
          0.9322677846194157,
          0.9309576837416481,
          0.9317437442683086,
          0.9325298047949692,
          0.9339709157605136,
          0.9335778854971832,
          0.9338399056727368,
          0.9330538451460763,
          0.9339709157605136,
          0.9335778854971832,
          0.9348879863749509,
          0.9347569762871741,
          0.9338399056727368,
          0.9323987947071924,
          0.9341019258482903,
          0.9323987947071924,
          0.9343639460238439,
          0.934232935936067,
          0.9330538451460763,
          0.933184855233853,
          0.9350189964627277,
          0.9338399056727368,
          0.9344949561116206,
          0.9339709157605136,
          0.933184855233853,
          0.9338399056727368,
          0.9322677846194157,
          0.9334468754094065,
          0.9329228350582995,
          0.934232935936067,
          0.9348879863749509,
          0.9337088955849601,
          0.9320057644438622,
          0.9343639460238439,
          0.9323987947071924,
          0.9334468754094065,
          0.9335778854971832,
          0.9344949561116206,
          0.9335778854971832,
          0.934232935936067,
          0.9335778854971832,
          0.9333158653216298,
          0.9333158653216298,
          0.9323987947071924,
          0.933184855233853,
          0.9321367745316389,
          0.9333158653216298,
          0.9325298047949692,
          0.9335778854971832,
          0.9333158653216298,
          0.9334468754094065,
          0.9325298047949692,
          0.933184855233853,
          0.9337088955849601,
          0.9323987947071924,
          0.9343639460238439,
          0.9330538451460763,
          0.9341019258482903,
          0.9339709157605136,
          0.9327918249705227,
          0.9339709157605136,
          0.9329228350582995
         ]
        },
        {
         "line": {
          "color": "slateblue"
         },
         "name": "Accuracy Train",
         "type": "scatter",
         "x": [
          1,
          2,
          3,
          4,
          5,
          6,
          7,
          8,
          9,
          10,
          11,
          12,
          13,
          14,
          15,
          16,
          17,
          18,
          19,
          20,
          21,
          22,
          23,
          24,
          25,
          26,
          27,
          28,
          29,
          30,
          31,
          32,
          33,
          34,
          35,
          36,
          37,
          38,
          39,
          40,
          41,
          42,
          43,
          44,
          45,
          46,
          47,
          48,
          49,
          50,
          51,
          52,
          53,
          54,
          55,
          56,
          57,
          58,
          59,
          60,
          61,
          62,
          63,
          64,
          65,
          66,
          67,
          68,
          69,
          70,
          71,
          72,
          73,
          74
         ],
         "y": [
          0.8125122830003275,
          0.8760890926957091,
          0.8887979037012774,
          0.9038322961021945,
          0.9138224697019325,
          0.9213560432361612,
          0.9279724860792663,
          0.9354405502784147,
          0.94208974778906,
          0.9484769079593842,
          0.9552571241401899,
          0.961316737635113,
          0.9669177857844743,
          0.9714706845725516,
          0.9756632820176875,
          0.9810022928267278,
          0.9834588928922371,
          0.984736324926302,
          0.9882738290206354,
          0.9895185063871602,
          0.9914837864395677,
          0.9920078611202097,
          0.9930560104814936,
          0.993416311824435,
          0.993940386505077,
          0.9942351785129381,
          0.9938093678349165,
          0.9947920078611202,
          0.9948247625286604,
          0.9943989518506388,
          0.9943334425155584,
          0.9943989518506388,
          0.994464461185719,
          0.9943334425155584,
          0.9949885358663609,
          0.994464461185719,
          0.9949557811988208,
          0.9945954798558795,
          0.9943334425155584,
          0.9949230265312807,
          0.9948247625286604,
          0.9950540452014413,
          0.9943661971830986,
          0.9944317065181788,
          0.9946609891909597,
          0.9949557811988208,
          0.9949230265312807,
          0.9948575171962004,
          0.994464461185719,
          0.9946937438584998,
          0.9948575171962004,
          0.9945299705207992,
          0.9950212905339011,
          0.9942351785129381,
          0.9945954798558795,
          0.9943661971830986,
          0.9945954798558795,
          0.9945299705207992,
          0.9943661971830986,
          0.994464461185719,
          0.9945627251883393,
          0.9945299705207992,
          0.9946609891909597,
          0.99475925319358,
          0.994464461185719,
          0.9947920078611202,
          0.9944972158532591,
          0.9944317065181788,
          0.9947920078611202,
          0.9948575171962004,
          0.9946609891909597,
          0.9944972158532591,
          0.9946609891909597,
          0.9945299705207992
         ]
        }
       ],
       "layout": {
        "legend": {
         "title": {
          "text": "Accuracy"
         }
        },
        "template": {
         "data": {
          "bar": [
           {
            "error_x": {
             "color": "#2a3f5f"
            },
            "error_y": {
             "color": "#2a3f5f"
            },
            "marker": {
             "line": {
              "color": "#E5ECF6",
              "width": 0.5
             },
             "pattern": {
              "fillmode": "overlay",
              "size": 10,
              "solidity": 0.2
             }
            },
            "type": "bar"
           }
          ],
          "barpolar": [
           {
            "marker": {
             "line": {
              "color": "#E5ECF6",
              "width": 0.5
             },
             "pattern": {
              "fillmode": "overlay",
              "size": 10,
              "solidity": 0.2
             }
            },
            "type": "barpolar"
           }
          ],
          "carpet": [
           {
            "aaxis": {
             "endlinecolor": "#2a3f5f",
             "gridcolor": "white",
             "linecolor": "white",
             "minorgridcolor": "white",
             "startlinecolor": "#2a3f5f"
            },
            "baxis": {
             "endlinecolor": "#2a3f5f",
             "gridcolor": "white",
             "linecolor": "white",
             "minorgridcolor": "white",
             "startlinecolor": "#2a3f5f"
            },
            "type": "carpet"
           }
          ],
          "choropleth": [
           {
            "colorbar": {
             "outlinewidth": 0,
             "ticks": ""
            },
            "type": "choropleth"
           }
          ],
          "contour": [
           {
            "colorbar": {
             "outlinewidth": 0,
             "ticks": ""
            },
            "colorscale": [
             [
              0,
              "#0d0887"
             ],
             [
              0.1111111111111111,
              "#46039f"
             ],
             [
              0.2222222222222222,
              "#7201a8"
             ],
             [
              0.3333333333333333,
              "#9c179e"
             ],
             [
              0.4444444444444444,
              "#bd3786"
             ],
             [
              0.5555555555555556,
              "#d8576b"
             ],
             [
              0.6666666666666666,
              "#ed7953"
             ],
             [
              0.7777777777777778,
              "#fb9f3a"
             ],
             [
              0.8888888888888888,
              "#fdca26"
             ],
             [
              1,
              "#f0f921"
             ]
            ],
            "type": "contour"
           }
          ],
          "contourcarpet": [
           {
            "colorbar": {
             "outlinewidth": 0,
             "ticks": ""
            },
            "type": "contourcarpet"
           }
          ],
          "heatmap": [
           {
            "colorbar": {
             "outlinewidth": 0,
             "ticks": ""
            },
            "colorscale": [
             [
              0,
              "#0d0887"
             ],
             [
              0.1111111111111111,
              "#46039f"
             ],
             [
              0.2222222222222222,
              "#7201a8"
             ],
             [
              0.3333333333333333,
              "#9c179e"
             ],
             [
              0.4444444444444444,
              "#bd3786"
             ],
             [
              0.5555555555555556,
              "#d8576b"
             ],
             [
              0.6666666666666666,
              "#ed7953"
             ],
             [
              0.7777777777777778,
              "#fb9f3a"
             ],
             [
              0.8888888888888888,
              "#fdca26"
             ],
             [
              1,
              "#f0f921"
             ]
            ],
            "type": "heatmap"
           }
          ],
          "heatmapgl": [
           {
            "colorbar": {
             "outlinewidth": 0,
             "ticks": ""
            },
            "colorscale": [
             [
              0,
              "#0d0887"
             ],
             [
              0.1111111111111111,
              "#46039f"
             ],
             [
              0.2222222222222222,
              "#7201a8"
             ],
             [
              0.3333333333333333,
              "#9c179e"
             ],
             [
              0.4444444444444444,
              "#bd3786"
             ],
             [
              0.5555555555555556,
              "#d8576b"
             ],
             [
              0.6666666666666666,
              "#ed7953"
             ],
             [
              0.7777777777777778,
              "#fb9f3a"
             ],
             [
              0.8888888888888888,
              "#fdca26"
             ],
             [
              1,
              "#f0f921"
             ]
            ],
            "type": "heatmapgl"
           }
          ],
          "histogram": [
           {
            "marker": {
             "pattern": {
              "fillmode": "overlay",
              "size": 10,
              "solidity": 0.2
             }
            },
            "type": "histogram"
           }
          ],
          "histogram2d": [
           {
            "colorbar": {
             "outlinewidth": 0,
             "ticks": ""
            },
            "colorscale": [
             [
              0,
              "#0d0887"
             ],
             [
              0.1111111111111111,
              "#46039f"
             ],
             [
              0.2222222222222222,
              "#7201a8"
             ],
             [
              0.3333333333333333,
              "#9c179e"
             ],
             [
              0.4444444444444444,
              "#bd3786"
             ],
             [
              0.5555555555555556,
              "#d8576b"
             ],
             [
              0.6666666666666666,
              "#ed7953"
             ],
             [
              0.7777777777777778,
              "#fb9f3a"
             ],
             [
              0.8888888888888888,
              "#fdca26"
             ],
             [
              1,
              "#f0f921"
             ]
            ],
            "type": "histogram2d"
           }
          ],
          "histogram2dcontour": [
           {
            "colorbar": {
             "outlinewidth": 0,
             "ticks": ""
            },
            "colorscale": [
             [
              0,
              "#0d0887"
             ],
             [
              0.1111111111111111,
              "#46039f"
             ],
             [
              0.2222222222222222,
              "#7201a8"
             ],
             [
              0.3333333333333333,
              "#9c179e"
             ],
             [
              0.4444444444444444,
              "#bd3786"
             ],
             [
              0.5555555555555556,
              "#d8576b"
             ],
             [
              0.6666666666666666,
              "#ed7953"
             ],
             [
              0.7777777777777778,
              "#fb9f3a"
             ],
             [
              0.8888888888888888,
              "#fdca26"
             ],
             [
              1,
              "#f0f921"
             ]
            ],
            "type": "histogram2dcontour"
           }
          ],
          "mesh3d": [
           {
            "colorbar": {
             "outlinewidth": 0,
             "ticks": ""
            },
            "type": "mesh3d"
           }
          ],
          "parcoords": [
           {
            "line": {
             "colorbar": {
              "outlinewidth": 0,
              "ticks": ""
             }
            },
            "type": "parcoords"
           }
          ],
          "pie": [
           {
            "automargin": true,
            "type": "pie"
           }
          ],
          "scatter": [
           {
            "fillpattern": {
             "fillmode": "overlay",
             "size": 10,
             "solidity": 0.2
            },
            "type": "scatter"
           }
          ],
          "scatter3d": [
           {
            "line": {
             "colorbar": {
              "outlinewidth": 0,
              "ticks": ""
             }
            },
            "marker": {
             "colorbar": {
              "outlinewidth": 0,
              "ticks": ""
             }
            },
            "type": "scatter3d"
           }
          ],
          "scattercarpet": [
           {
            "marker": {
             "colorbar": {
              "outlinewidth": 0,
              "ticks": ""
             }
            },
            "type": "scattercarpet"
           }
          ],
          "scattergeo": [
           {
            "marker": {
             "colorbar": {
              "outlinewidth": 0,
              "ticks": ""
             }
            },
            "type": "scattergeo"
           }
          ],
          "scattergl": [
           {
            "marker": {
             "colorbar": {
              "outlinewidth": 0,
              "ticks": ""
             }
            },
            "type": "scattergl"
           }
          ],
          "scattermapbox": [
           {
            "marker": {
             "colorbar": {
              "outlinewidth": 0,
              "ticks": ""
             }
            },
            "type": "scattermapbox"
           }
          ],
          "scatterpolar": [
           {
            "marker": {
             "colorbar": {
              "outlinewidth": 0,
              "ticks": ""
             }
            },
            "type": "scatterpolar"
           }
          ],
          "scatterpolargl": [
           {
            "marker": {
             "colorbar": {
              "outlinewidth": 0,
              "ticks": ""
             }
            },
            "type": "scatterpolargl"
           }
          ],
          "scatterternary": [
           {
            "marker": {
             "colorbar": {
              "outlinewidth": 0,
              "ticks": ""
             }
            },
            "type": "scatterternary"
           }
          ],
          "surface": [
           {
            "colorbar": {
             "outlinewidth": 0,
             "ticks": ""
            },
            "colorscale": [
             [
              0,
              "#0d0887"
             ],
             [
              0.1111111111111111,
              "#46039f"
             ],
             [
              0.2222222222222222,
              "#7201a8"
             ],
             [
              0.3333333333333333,
              "#9c179e"
             ],
             [
              0.4444444444444444,
              "#bd3786"
             ],
             [
              0.5555555555555556,
              "#d8576b"
             ],
             [
              0.6666666666666666,
              "#ed7953"
             ],
             [
              0.7777777777777778,
              "#fb9f3a"
             ],
             [
              0.8888888888888888,
              "#fdca26"
             ],
             [
              1,
              "#f0f921"
             ]
            ],
            "type": "surface"
           }
          ],
          "table": [
           {
            "cells": {
             "fill": {
              "color": "#EBF0F8"
             },
             "line": {
              "color": "white"
             }
            },
            "header": {
             "fill": {
              "color": "#C8D4E3"
             },
             "line": {
              "color": "white"
             }
            },
            "type": "table"
           }
          ]
         },
         "layout": {
          "annotationdefaults": {
           "arrowcolor": "#2a3f5f",
           "arrowhead": 0,
           "arrowwidth": 1
          },
          "autotypenumbers": "strict",
          "coloraxis": {
           "colorbar": {
            "outlinewidth": 0,
            "ticks": ""
           }
          },
          "colorscale": {
           "diverging": [
            [
             0,
             "#8e0152"
            ],
            [
             0.1,
             "#c51b7d"
            ],
            [
             0.2,
             "#de77ae"
            ],
            [
             0.3,
             "#f1b6da"
            ],
            [
             0.4,
             "#fde0ef"
            ],
            [
             0.5,
             "#f7f7f7"
            ],
            [
             0.6,
             "#e6f5d0"
            ],
            [
             0.7,
             "#b8e186"
            ],
            [
             0.8,
             "#7fbc41"
            ],
            [
             0.9,
             "#4d9221"
            ],
            [
             1,
             "#276419"
            ]
           ],
           "sequential": [
            [
             0,
             "#0d0887"
            ],
            [
             0.1111111111111111,
             "#46039f"
            ],
            [
             0.2222222222222222,
             "#7201a8"
            ],
            [
             0.3333333333333333,
             "#9c179e"
            ],
            [
             0.4444444444444444,
             "#bd3786"
            ],
            [
             0.5555555555555556,
             "#d8576b"
            ],
            [
             0.6666666666666666,
             "#ed7953"
            ],
            [
             0.7777777777777778,
             "#fb9f3a"
            ],
            [
             0.8888888888888888,
             "#fdca26"
            ],
            [
             1,
             "#f0f921"
            ]
           ],
           "sequentialminus": [
            [
             0,
             "#0d0887"
            ],
            [
             0.1111111111111111,
             "#46039f"
            ],
            [
             0.2222222222222222,
             "#7201a8"
            ],
            [
             0.3333333333333333,
             "#9c179e"
            ],
            [
             0.4444444444444444,
             "#bd3786"
            ],
            [
             0.5555555555555556,
             "#d8576b"
            ],
            [
             0.6666666666666666,
             "#ed7953"
            ],
            [
             0.7777777777777778,
             "#fb9f3a"
            ],
            [
             0.8888888888888888,
             "#fdca26"
            ],
            [
             1,
             "#f0f921"
            ]
           ]
          },
          "colorway": [
           "#636efa",
           "#EF553B",
           "#00cc96",
           "#ab63fa",
           "#FFA15A",
           "#19d3f3",
           "#FF6692",
           "#B6E880",
           "#FF97FF",
           "#FECB52"
          ],
          "font": {
           "color": "#2a3f5f"
          },
          "geo": {
           "bgcolor": "white",
           "lakecolor": "white",
           "landcolor": "#E5ECF6",
           "showlakes": true,
           "showland": true,
           "subunitcolor": "white"
          },
          "hoverlabel": {
           "align": "left"
          },
          "hovermode": "closest",
          "mapbox": {
           "style": "light"
          },
          "paper_bgcolor": "white",
          "plot_bgcolor": "#E5ECF6",
          "polar": {
           "angularaxis": {
            "gridcolor": "white",
            "linecolor": "white",
            "ticks": ""
           },
           "bgcolor": "#E5ECF6",
           "radialaxis": {
            "gridcolor": "white",
            "linecolor": "white",
            "ticks": ""
           }
          },
          "scene": {
           "xaxis": {
            "backgroundcolor": "#E5ECF6",
            "gridcolor": "white",
            "gridwidth": 2,
            "linecolor": "white",
            "showbackground": true,
            "ticks": "",
            "zerolinecolor": "white"
           },
           "yaxis": {
            "backgroundcolor": "#E5ECF6",
            "gridcolor": "white",
            "gridwidth": 2,
            "linecolor": "white",
            "showbackground": true,
            "ticks": "",
            "zerolinecolor": "white"
           },
           "zaxis": {
            "backgroundcolor": "#E5ECF6",
            "gridcolor": "white",
            "gridwidth": 2,
            "linecolor": "white",
            "showbackground": true,
            "ticks": "",
            "zerolinecolor": "white"
           }
          },
          "shapedefaults": {
           "line": {
            "color": "#2a3f5f"
           }
          },
          "ternary": {
           "aaxis": {
            "gridcolor": "white",
            "linecolor": "white",
            "ticks": ""
           },
           "baxis": {
            "gridcolor": "white",
            "linecolor": "white",
            "ticks": ""
           },
           "bgcolor": "#E5ECF6",
           "caxis": {
            "gridcolor": "white",
            "linecolor": "white",
            "ticks": ""
           }
          },
          "title": {
           "x": 0.05
          },
          "xaxis": {
           "automargin": true,
           "gridcolor": "white",
           "linecolor": "white",
           "ticks": "",
           "title": {
            "standoff": 15
           },
           "zerolinecolor": "white",
           "zerolinewidth": 2
          },
          "yaxis": {
           "automargin": true,
           "gridcolor": "white",
           "linecolor": "white",
           "ticks": "",
           "title": {
            "standoff": 15
           },
           "zerolinecolor": "white",
           "zerolinewidth": 2
          }
         }
        },
        "title": {
         "text": "Model overfitting: accuracy and depth"
        },
        "xaxis": {
         "title": {
          "text": "Depths"
         }
        },
        "yaxis": {
         "title": {
          "text": "Accuracy"
         }
        }
       }
      }
     },
     "metadata": {},
     "output_type": "display_data"
    }
   ],
   "source": [
    "#Visualization of the scores:\n",
    "# Overfitting review\n",
    "fig = go.Figure()\n",
    "\n",
    "# Add the first line trace for accuracy_test\n",
    "fig.add_trace(go.Scatter(x=depths, y=accuracy_test, name='Accuracy Test', line=dict(color='red')))\n",
    "\n",
    "# Add the second line trace for accuracy_train\n",
    "fig.add_trace(go.Scatter(x=depths, y=accuracy_train, name='Accuracy Train', line=dict(color='slateblue')))\n",
    "\n",
    "# Set the layout with titles\n",
    "fig.update_layout(\n",
    "    title='Model overfitting: accuracy and depth',\n",
    "    xaxis_title='Depths',\n",
    "    yaxis_title='Accuracy',\n",
    "    legend_title='Accuracy',\n",
    ")\n",
    "\n",
    "# Show the figure\n",
    "fig.show()\n"
   ]
  },
  {
   "attachments": {},
   "cell_type": "markdown",
   "metadata": {},
   "source": [
    "The model quickly understands the patterns and after 8 - 8 layers or depth, starts to overfit. The ideal number should be 9 layers, which would yield an accuracy of 0.924"
   ]
  },
  {
   "cell_type": "code",
   "execution_count": 22,
   "metadata": {},
   "outputs": [
    {
     "data": {
      "image/png": "[encoded data removed]",
      "text/plain": [
       "<Figure size 640x480 with 2 Axes>"
      ]
     },
     "metadata": {},
     "output_type": "display_data"
    }
   ],
   "source": [
    "# Confusion Matrix\n",
    "cm = confusion_matrix(y_test, rf_fitted_grid.predict(X_test), labels=rf_fitted_grid.best_estimator_.classes_)\n",
    "\n",
    "# Set the font color of values inside the matrix to white\n",
    "sns.heatmap(cm, annot=True, cmap='vlag', fmt='d', annot_kws={\"color\": \"white\"})\n",
    "\n",
    "\n",
    "plt.title(\"Best Random Forest Model Confusion Matrix\")\n",
    "plt.xlabel(\"Predicted\")\n",
    "plt.ylabel(\"Actual\")\n",
    "plt.show()\n",
    "\n"
   ]
  },
  {
   "cell_type": "code",
   "execution_count": 23,
   "metadata": {},
   "outputs": [
    {
     "name": "stdout",
     "output_type": "stream",
     "text": [
      "Negative Predictive Value: 0.914878892733564\n",
      "True Negative ratio: 0.7389603130240358\n"
     ]
    }
   ],
   "source": [
    "#Negative Predictive Value = TN / (TN + FN)\n",
    "print(f\"Negative Predictive Value: {1322 /(1322 + 123)}\")\n",
    "\n",
    "#True Negative Ratio = TN / (TN + FP)\n",
    "print(f\"True Negative ratio: {1322 / (1322 + 467)}\")\n"
   ]
  },
  {
   "cell_type": "code",
   "execution_count": 24,
   "metadata": {},
   "outputs": [
    {
     "data": {
      "application/vnd.plotly.v1+json": {
       "config": {
        "plotlyServerURL": "https://plot.ly"
       },
       "data": [
        {
         "mode": "lines",
         "name": "ROC Curve (AUC = 0.97)",
         "type": "scatter",
         "x": [
          0,
          0,
          0,
          0,
          0,
          0,
          0,
          0,
          0,
          0,
          0,
          0,
          0,
          0,
          0,
          0,
          0,
          0,
          0,
          0,
          0,
          0,
          0,
          0,
          0,
          0,
          0,
          0,
          0,
          0,
          0,
          0,
          0,
          0,
          0,
          0,
          0,
          0,
          0,
          0,
          0,
          0,
          0,
          0,
          0,
          0,
          0,
          0,
          0,
          0,
          0,
          0,
          0,
          0,
          0,
          0,
          0,
          0,
          0,
          0,
          0,
          0,
          0,
          0,
          0,
          0,
          0,
          0,
          0,
          0,
          0,
          0,
          0,
          0,
          0,
          0,
          0,
          0,
          0,
          0,
          0,
          0,
          0,
          0,
          0,
          0,
          0,
          0,
          0,
          0,
          0,
          0,
          0,
          0,
          0,
          0,
          0,
          0,
          0,
          0,
          0.0005589714924538849,
          0.0005589714924538849,
          0.0011179429849077697,
          0.0011179429849077697,
          0.0011179429849077697,
          0.0011179429849077697,
          0.0016769144773616546,
          0.0016769144773616546,
          0.0016769144773616546,
          0.0016769144773616546,
          0.0016769144773616546,
          0.0016769144773616546,
          0.0016769144773616546,
          0.0016769144773616546,
          0.0016769144773616546,
          0.0016769144773616546,
          0.0016769144773616546,
          0.0022358859698155395,
          0.0022358859698155395,
          0.0022358859698155395,
          0.0022358859698155395,
          0.002794857462269424,
          0.002794857462269424,
          0.002794857462269424,
          0.002794857462269424,
          0.003353828954723309,
          0.003353828954723309,
          0.003353828954723309,
          0.003353828954723309,
          0.003353828954723309,
          0.003353828954723309,
          0.003353828954723309,
          0.003353828954723309,
          0.003912800447177194,
          0.003912800447177194,
          0.004471771939631079,
          0.004471771939631079,
          0.004471771939631079,
          0.004471771939631079,
          0.005589714924538848,
          0.005589714924538848,
          0.005589714924538848,
          0.005589714924538848,
          0.005589714924538848,
          0.005589714924538848,
          0.006148686416992733,
          0.006148686416992733,
          0.006148686416992733,
          0.006148686416992733,
          0.006707657909446618,
          0.006707657909446618,
          0.0072666294019005035,
          0.0072666294019005035,
          0.0072666294019005035,
          0.0072666294019005035,
          0.007825600894354388,
          0.007825600894354388,
          0.008384572386808273,
          0.008384572386808273,
          0.008384572386808273,
          0.008384572386808273,
          0.008943543879262158,
          0.008943543879262158,
          0.009502515371716043,
          0.009502515371716043,
          0.010061486864169928,
          0.010061486864169928,
          0.010061486864169928,
          0.010061486864169928,
          0.010620458356623811,
          0.010620458356623811,
          0.011179429849077696,
          0.011179429849077696,
          0.011738401341531582,
          0.011738401341531582,
          0.012297372833985467,
          0.012297372833985467,
          0.012856344326439352,
          0.012856344326439352,
          0.013415315818893237,
          0.013415315818893237,
          0.013974287311347122,
          0.013974287311347122,
          0.014533258803801007,
          0.014533258803801007,
          0.01509223029625489,
          0.01509223029625489,
          0.015651201788708775,
          0.015651201788708775,
          0.01621017328116266,
          0.01621017328116266,
          0.016769144773616546,
          0.016769144773616546,
          0.01732811626607043,
          0.01732811626607043,
          0.017887087758524316,
          0.017887087758524316,
          0.0184460592509782,
          0.0184460592509782,
          0.019005030743432086,
          0.019005030743432086,
          0.01956400223588597,
          0.01956400223588597,
          0.020122973728339856,
          0.020122973728339856,
          0.02068194522079374,
          0.02068194522079374,
          0.021240916713247623,
          0.021240916713247623,
          0.021799888205701508,
          0.021799888205701508,
          0.022358859698155393,
          0.022358859698155393,
          0.022358859698155393,
          0.022358859698155393,
          0.022917831190609278,
          0.022917831190609278,
          0.023476802683063163,
          0.023476802683063163,
          0.024035774175517048,
          0.024035774175517048,
          0.024594745667970933,
          0.024594745667970933,
          0.02515371716042482,
          0.02515371716042482,
          0.025712688652878703,
          0.025712688652878703,
          0.02627166014533259,
          0.02627166014533259,
          0.026830631637786474,
          0.026830631637786474,
          0.02738960313024036,
          0.02738960313024036,
          0.027948574622694244,
          0.027948574622694244,
          0.02850754611514813,
          0.02850754611514813,
          0.029066517607602014,
          0.029066517607602014,
          0.029625489100055896,
          0.029625489100055896,
          0.03018446059250978,
          0.03018446059250978,
          0.030743432084963666,
          0.030743432084963666,
          0.03242034656232532,
          0.03242034656232532,
          0.03297931805477921,
          0.03297931805477921,
          0.03353828954723309,
          0.03353828954723309,
          0.03409726103968697,
          0.03409726103968697,
          0.03465623253214086,
          0.03465623253214086,
          0.03521520402459474,
          0.03521520402459474,
          0.03577417551704863,
          0.03577417551704863,
          0.03633314700950251,
          0.03633314700950251,
          0.0368921185019564,
          0.0368921185019564,
          0.03745108999441028,
          0.03745108999441028,
          0.03801006148686417,
          0.03801006148686417,
          0.03856903297931805,
          0.03856903297931805,
          0.03912800447177194,
          0.03912800447177194,
          0.039686975964225824,
          0.039686975964225824,
          0.04024594745667971,
          0.04024594745667971,
          0.040804918949133594,
          0.040804918949133594,
          0.041922861934041364,
          0.041922861934041364,
          0.042481833426495245,
          0.042481833426495245,
          0.043040804918949134,
          0.043040804918949134,
          0.043599776411403016,
          0.043599776411403016,
          0.044158747903856904,
          0.044158747903856904,
          0.044717719396310786,
          0.044717719396310786,
          0.045276690888764674,
          0.045276690888764674,
          0.045835662381218556,
          0.045835662381218556,
          0.046394633873672445,
          0.046394633873672445,
          0.046953605366126326,
          0.046953605366126326,
          0.047512576858580215,
          0.047512576858580215,
          0.048071548351034096,
          0.048071548351034096,
          0.048630519843487985,
          0.048630519843487985,
          0.049189491335941866,
          0.049189491335941866,
          0.049748462828395755,
          0.049748462828395755,
          0.05030743432084964,
          0.05030743432084964,
          0.05086640581330352,
          0.05086640581330352,
          0.05142537730575741,
          0.05142537730575741,
          0.05198434879821129,
          0.05198434879821129,
          0.05254332029066518,
          0.05254332029066518,
          0.05310229178311906,
          0.05310229178311906,
          0.05366126327557295,
          0.05366126327557295,
          0.05422023476802683,
          0.05422023476802683,
          0.05477920626048072,
          0.05477920626048072,
          0.0553381777529346,
          0.0553381777529346,
          0.05589714924538849,
          0.05589714924538849,
          0.05645612073784237,
          0.05645612073784237,
          0.05701509223029626,
          0.05701509223029626,
          0.05757406372275014,
          0.05757406372275014,
          0.05813303521520403,
          0.05813303521520403,
          0.05869200670765791,
          0.05869200670765791,
          0.05925097820011179,
          0.05925097820011179,
          0.06036892118501956,
          0.06036892118501956,
          0.06092789267747345,
          0.06092789267747345,
          0.06148686416992733,
          0.06148686416992733,
          0.06204583566238122,
          0.06204583566238122,
          0.0626048071548351,
          0.0626048071548351,
          0.06316377864728899,
          0.06316377864728899,
          0.06428172163219675,
          0.06428172163219675,
          0.06484069312465064,
          0.06484069312465064,
          0.06539966461710453,
          0.06539966461710453,
          0.0665176076020123,
          0.0665176076020123,
          0.06707657909446618,
          0.06707657909446618,
          0.06763555058692007,
          0.06763555058692007,
          0.06819452207937395,
          0.06819452207937395,
          0.06875349357182783,
          0.06875349357182783,
          0.06931246506428172,
          0.06931246506428172,
          0.06987143655673561,
          0.06987143655673561,
          0.07043040804918949,
          0.07043040804918949,
          0.07098937954164337,
          0.07098937954164337,
          0.07154835103409726,
          0.07154835103409726,
          0.07210732252655115,
          0.07210732252655115,
          0.07266629401900503,
          0.07266629401900503,
          0.07322526551145891,
          0.07322526551145891,
          0.0737842370039128,
          0.0737842370039128,
          0.07434320849636669,
          0.07434320849636669,
          0.07490217998882057,
          0.07490217998882057,
          0.07546115148127445,
          0.07546115148127445,
          0.07602012297372834,
          0.07602012297372834,
          0.07657909446618222,
          0.07657909446618222,
          0.0771380659586361,
          0.0771380659586361,
          0.07769703745109,
          0.07769703745109,
          0.07825600894354388,
          0.07825600894354388,
          0.07881498043599776,
          0.07881498043599776,
          0.07937395192845165,
          0.07937395192845165,
          0.07993292342090554,
          0.07993292342090554,
          0.08049189491335942,
          0.08049189491335942,
          0.0810508664058133,
          0.0810508664058133,
          0.08160983789826719,
          0.08160983789826719,
          0.08216880939072108,
          0.08216880939072108,
          0.08272778088317496,
          0.08272778088317496,
          0.08384572386808273,
          0.08384572386808273,
          0.08440469536053662,
          0.08440469536053662,
          0.08496366685299049,
          0.08496366685299049,
          0.08608160983789827,
          0.08608160983789827,
          0.08664058133035216,
          0.08664058133035216,
          0.08719955282280603,
          0.08719955282280603,
          0.08775852431525992,
          0.08775852431525992,
          0.08831749580771381,
          0.08831749580771381,
          0.0888764673001677,
          0.0888764673001677,
          0.08943543879262157,
          0.08943543879262157,
          0.09055338177752935,
          0.09055338177752935,
          0.09111235326998324,
          0.09111235326998324,
          0.092230296254891,
          0.092230296254891,
          0.09334823923979876,
          0.09334823923979876,
          0.09390721073225265,
          0.09390721073225265,
          0.09446618222470654,
          0.09446618222470654,
          0.09614309670206819,
          0.09614309670206819,
          0.09726103968697597,
          0.09726103968697597,
          0.09782001117942984,
          0.09782001117942984,
          0.09837898267188373,
          0.09837898267188373,
          0.09893795416433762,
          0.09893795416433762,
          0.09949692565679151,
          0.09949692565679151,
          0.10005589714924538,
          0.10005589714924538,
          0.10061486864169927,
          0.10061486864169927,
          0.10117384013415316,
          0.10117384013415316,
          0.10173281162660704,
          0.10173281162660704,
          0.10285075461151481,
          0.10285075461151481,
          0.1034097261039687,
          0.1034097261039687,
          0.10452766908887647,
          0.10452766908887647,
          0.10508664058133035,
          0.10508664058133035,
          0.10564561207378424,
          0.10564561207378424,
          0.10620458356623812,
          0.10620458356623812,
          0.106763555058692,
          0.106763555058692,
          0.1073225265511459,
          0.1073225265511459,
          0.10788149804359978,
          0.10788149804359978,
          0.10955841252096143,
          0.10955841252096143,
          0.11011738401341531,
          0.11011738401341531,
          0.1106763555058692,
          0.1106763555058692,
          0.11123532699832309,
          0.11123532699832309,
          0.11235326998323085,
          0.11235326998323085,
          0.11291224147568474,
          0.11291224147568474,
          0.11347121296813863,
          0.11347121296813863,
          0.11514812744550028,
          0.11514812744550028,
          0.11570709893795417,
          0.11570709893795417,
          0.11626607043040806,
          0.11626607043040806,
          0.11682504192286193,
          0.11682504192286193,
          0.11738401341531582,
          0.11738401341531582,
          0.11850195640022358,
          0.11850195640022358,
          0.11906092789267747,
          0.11906092789267747,
          0.11961989938513136,
          0.11961989938513136,
          0.12017887087758525,
          0.12017887087758525,
          0.12073784237003912,
          0.12073784237003912,
          0.12129681386249301,
          0.12129681386249301,
          0.1218557853549469,
          0.1218557853549469,
          0.12241475684740079,
          0.12241475684740079,
          0.12409167132476244,
          0.12409167132476244,
          0.12465064281721633,
          0.12465064281721633,
          0.1252096143096702,
          0.1252096143096702,
          0.1257685858021241,
          0.1257685858021241,
          0.12688652878703185,
          0.12688652878703185,
          0.12744550027948576,
          0.12744550027948576,
          0.12800447177193963,
          0.12800447177193963,
          0.1285634432643935,
          0.1285634432643935,
          0.1291224147568474,
          0.1291224147568474,
          0.12968138624930128,
          0.12968138624930128,
          0.13024035774175516,
          0.13024035774175516,
          0.13079932923420906,
          0.13079932923420906,
          0.13135830072666294,
          0.13135830072666294,
          0.13191727221911684,
          0.13191727221911684,
          0.1324762437115707,
          0.1324762437115707,
          0.1330352152040246,
          0.1330352152040246,
          0.1335941866964785,
          0.1335941866964785,
          0.13471212968138624,
          0.13471212968138624,
          0.13583007266629402,
          0.13583007266629402,
          0.1369480156512018,
          0.1369480156512018,
          0.13750698714365567,
          0.13750698714365567,
          0.13806595863610957,
          0.13806595863610957,
          0.13862493012856344,
          0.13862493012856344,
          0.13918390162101732,
          0.13918390162101732,
          0.13974287311347122,
          0.13974287311347122,
          0.1403018446059251,
          0.1403018446059251,
          0.14141978759083287,
          0.14141978759083287,
          0.14197875908328675,
          0.14197875908328675,
          0.14253773057574065,
          0.14253773057574065,
          0.1436556735606484,
          0.1436556735606484,
          0.1442146450531023,
          0.1442146450531023,
          0.14533258803801005,
          0.14533258803801005,
          0.14645053102291783,
          0.14645053102291783,
          0.1475684740078256,
          0.1475684740078256,
          0.14812744550027948,
          0.14812744550027948,
          0.14980435997764113,
          0.14980435997764113,
          0.1509223029625489,
          0.1509223029625489,
          0.15148127445500278,
          0.15148127445500278,
          0.1520402459474567,
          0.1520402459474567,
          0.15259921743991056,
          0.15259921743991056,
          0.15315818893236444,
          0.15315818893236444,
          0.15371716042481834,
          0.15371716042481834,
          0.1542761319172722,
          0.1542761319172722,
          0.15483510340972612,
          0.15483510340972612,
          0.15539407490218,
          0.15539407490218,
          0.15595304639463387,
          0.15595304639463387,
          0.15651201788708777,
          0.15651201788708777,
          0.15707098937954164,
          0.15707098937954164,
          0.15818893236444942,
          0.15818893236444942,
          0.1593068753493572,
          0.1593068753493572,
          0.15986584684181107,
          0.15986584684181107,
          0.16098378982671885,
          0.16098378982671885,
          0.1621017328116266,
          0.1621017328116266,
          0.1626607043040805,
          0.1626607043040805,
          0.16321967579653437,
          0.16321967579653437,
          0.16377864728898825,
          0.16377864728898825,
          0.16433761878144215,
          0.16433761878144215,
          0.16489659027389603,
          0.16489659027389603,
          0.1660145332588038,
          0.1660145332588038,
          0.16657350475125768,
          0.16657350475125768,
          0.16713247624371158,
          0.16713247624371158,
          0.16769144773616546,
          0.16769144773616546,
          0.16825041922861933,
          0.16825041922861933,
          0.16880939072107323,
          0.16880939072107323,
          0.1693683622135271,
          0.1693683622135271,
          0.16992733370598098,
          0.16992733370598098,
          0.17048630519843488,
          0.17048630519843488,
          0.17160424818334266,
          0.17160424818334266,
          0.1727221911682504,
          0.1727221911682504,
          0.1732811626607043,
          0.1732811626607043,
          0.1738401341531582,
          0.1738401341531582,
          0.17439910564561206,
          0.17439910564561206,
          0.17551704863051984,
          0.17551704863051984,
          0.17607602012297374,
          0.17607602012297374,
          0.1771939631078815,
          0.1771939631078815,
          0.1777529346003354,
          0.1777529346003354,
          0.17831190609278927,
          0.17831190609278927,
          0.17887087758524314,
          0.17887087758524314,
          0.17942984907769705,
          0.17942984907769705,
          0.17998882057015092,
          0.17998882057015092,
          0.1805477920626048,
          0.1805477920626048,
          0.1811067635550587,
          0.1811067635550587,
          0.18166573504751257,
          0.18166573504751257,
          0.18278367803242035,
          0.18278367803242035,
          0.184460592509782,
          0.184460592509782,
          0.18557853549468978,
          0.18557853549468978,
          0.18613750698714365,
          0.18613750698714365,
          0.18669647847959753,
          0.18669647847959753,
          0.1883733929569592,
          0.1883733929569592,
          0.18893236444941308,
          0.18893236444941308,
          0.18949133594186696,
          0.18949133594186696,
          0.19060927892677473,
          0.19060927892677473,
          0.1911682504192286,
          0.1911682504192286,
          0.1917272219116825,
          0.1917272219116825,
          0.19228619340413639,
          0.19228619340413639,
          0.1928451648965903,
          0.1928451648965903,
          0.19675796534376747,
          0.19675796534376747,
          0.19731693683622134,
          0.19731693683622134,
          0.19787590832867524,
          0.19787590832867524,
          0.19899385131358302,
          0.19899385131358302,
          0.20178870877585242,
          0.20178870877585242,
          0.20234768026830632,
          0.20234768026830632,
          0.2029066517607602,
          0.2029066517607602,
          0.20514253773057575,
          0.20514253773057575,
          0.2068194522079374,
          0.2068194522079374,
          0.20793739519284515,
          0.20793739519284515,
          0.20849636668529906,
          0.20849636668529906,
          0.20905533817775293,
          0.20905533817775293,
          0.20961430967020683,
          0.20961430967020683,
          0.2101732811626607,
          0.2101732811626607,
          0.21073225265511458,
          0.21073225265511458,
          0.21129122414756848,
          0.21129122414756848,
          0.21185019564002236,
          0.21185019564002236,
          0.21296813862493014,
          0.21296813862493014,
          0.213527110117384,
          0.213527110117384,
          0.21520402459474566,
          0.21520402459474566,
          0.2179988820570151,
          0.2179988820570151,
          0.21911682504192287,
          0.21911682504192287,
          0.22023476802683062,
          0.22023476802683062,
          0.2219116825041923,
          0.2219116825041923,
          0.22247065399664617,
          0.22247065399664617,
          0.22358859698155395,
          0.22358859698155395,
          0.2247065399664617,
          0.2247065399664617,
          0.2252655114589156,
          0.2252655114589156,
          0.22694242593627725,
          0.22694242593627725,
          0.22750139742873113,
          0.22750139742873113,
          0.2286193404136389,
          0.2286193404136389,
          0.22973728339854668,
          0.22973728339854668,
          0.2325321408608161,
          0.2325321408608161,
          0.23365008384572386,
          0.23365008384572386,
          0.23476802683063164,
          0.23476802683063164,
          0.2353269983230855,
          0.2353269983230855,
          0.23588596981553941,
          0.23588596981553941,
          0.2364449413079933,
          0.2364449413079933,
          0.23756288429290107,
          0.23756288429290107,
          0.23812185578535494,
          0.23812185578535494,
          0.2397987702627166,
          0.2397987702627166,
          0.24091671324762437,
          0.24091671324762437,
          0.24147568474007824,
          0.24147568474007824,
          0.24427054220234767,
          0.24427054220234767,
          0.24594745667970933,
          0.24594745667970933,
          0.24650642817216323,
          0.24650642817216323,
          0.2470653996646171,
          0.2470653996646171,
          0.24818334264952488,
          0.24818334264952488,
          0.24986025712688653,
          0.24986025712688653,
          0.2515371716042482,
          0.2515371716042482,
          0.25265511458915596,
          0.25265511458915596,
          0.25321408608160983,
          0.25321408608160983,
          0.2543320290665176,
          0.2543320290665176,
          0.2554499720514254,
          0.2554499720514254,
          0.25600894354387926,
          0.25600894354387926,
          0.2582448295136948,
          0.2582448295136948,
          0.25992174399105644,
          0.25992174399105644,
          0.2604807154835103,
          0.2604807154835103,
          0.26103968697596425,
          0.26103968697596425,
          0.262157629960872,
          0.262157629960872,
          0.26271660145332587,
          0.26271660145332587,
          0.26439351593068755,
          0.26439351593068755,
          0.2649524874231414,
          0.2649524874231414,
          0.2660704304080492,
          0.2660704304080492,
          0.26662940190050305,
          0.26662940190050305,
          0.26830631637786473,
          0.26830631637786473,
          0.2688652878703186,
          0.2688652878703186,
          0.2699832308552264,
          0.2699832308552264,
          0.27166014533258803,
          0.27166014533258803,
          0.2727780883174958,
          0.2727780883174958,
          0.27501397428731134,
          0.27501397428731134,
          0.2755729457797652,
          0.2755729457797652,
          0.27836780324203464,
          0.27836780324203464,
          0.27948574622694244,
          0.27948574622694244,
          0.28283957518166575,
          0.28283957518166575,
          0.2867523756288429,
          0.2867523756288429,
          0.2873113471212968,
          0.2873113471212968,
          0.2884292901062046,
          0.2884292901062046,
          0.28954723309111235,
          0.28954723309111235,
          0.2923420905533818,
          0.2923420905533818,
          0.29290106204583566,
          0.29290106204583566,
          0.29457797652319734,
          0.29457797652319734,
          0.29625489100055896,
          0.29625489100055896,
          0.2990497484628284,
          0.2990497484628284,
          0.29960871995528227,
          0.29960871995528227,
          0.30016769144773614,
          0.30016769144773614,
          0.3018446059250978,
          0.3018446059250978,
          0.3068753493571828,
          0.3068753493571828,
          0.31470095025153716,
          0.31470095025153716,
          0.31525992174399103,
          0.31525992174399103,
          0.31581889323644496,
          0.31581889323644496,
          0.3169368362213527,
          0.3169368362213527,
          0.31805477920626046,
          0.31805477920626046,
          0.320290665176076,
          0.320290665176076,
          0.3208496366685299,
          0.3208496366685299,
          0.32140860816098377,
          0.32140860816098377,
          0.3219675796534377,
          0.3219675796534377,
          0.32252655114589157,
          0.32252655114589157,
          0.32308552263834545,
          0.32308552263834545,
          0.325321408608161,
          0.325321408608161,
          0.3258803801006149,
          0.3258803801006149,
          0.32643935159306875,
          0.32643935159306875,
          0.3286752375628843,
          0.3286752375628843,
          0.3303521520402459,
          0.3303521520402459,
          0.33091112353269986,
          0.33091112353269986,
          0.33147009502515373,
          0.33147009502515373,
          0.33314700950251536,
          0.33314700950251536,
          0.33426495248742316,
          0.33426495248742316,
          0.3404136389044159,
          0.3404136389044159,
          0.34097261039686977,
          0.34097261039686977,
          0.34153158188932364,
          0.34153158188932364,
          0.3420905533817775,
          0.3420905533817775,
          0.34432643935159307,
          0.34432643935159307,
          0.34488541084404695,
          0.34488541084404695,
          0.3465623253214086,
          0.3465623253214086,
          0.3510340972610397,
          0.3510340972610397,
          0.35494689770821686,
          0.35494689770821686,
          0.3555058692006708,
          0.3555058692006708,
          0.35606484069312466,
          0.35606484069312466,
          0.3610955841252096,
          0.3610955841252096,
          0.3616545556176635,
          0.3616545556176635,
          0.363890441587479,
          0.363890441587479,
          0.3661263275572946,
          0.3661263275572946,
          0.3722750139742873,
          0.3722750139742873,
          0.3728339854667412,
          0.3728339854667412,
          0.3756288429290106,
          0.3756288429290106,
          0.3761878144214645,
          0.3761878144214645,
          0.38121855785354947,
          0.38121855785354947,
          0.3856903297931806,
          0.3856903297931806,
          0.3868082727780883,
          0.3868082727780883,
          0.3907210732252655,
          0.3907210732252655,
          0.39295695919508106,
          0.39295695919508106,
          0.39686975964225824,
          0.39686975964225824,
          0.40134153158188934,
          0.40134153158188934,
          0.4024594745667971,
          0.4024594745667971,
          0.4091671324762437,
          0.4091671324762437,
          0.41978759083286754,
          0.41978759083286754,
          0.4237003912800447,
          0.4237003912800447,
          0.4309670206819452,
          0.4309670206819452,
          0.4421464505310229,
          0.4421464505310229,
          0.44326439351593067,
          0.44326439351593067,
          0.44661822247065397,
          0.44661822247065397,
          0.4488541084404695,
          0.4488541084404695,
          0.45164896590273895,
          0.45164896590273895,
          0.45667970933482394,
          0.45667970933482394,
          0.4645053102291783,
          0.4645053102291783,
          0.5025153717160424,
          0.5025153717160424,
          0.5382895472330911,
          0.5382895472330911,
          0.5695919508105086,
          0.5707098937954165,
          0.5768585802124092,
          0.577976523197317,
          0.6461710452766909,
          0.6472889882615986,
          0.6662940190050307,
          0.6674119619899385,
          0.670206819452208,
          0.670206819452208,
          0.6735606484069312,
          0.6757965343767468,
          0.6774734488541084,
          0.6797093348239239,
          0.6852990497484628,
          0.6875349357182784,
          0.6886528787031861,
          0.6936836221352711,
          0.6948015651201789,
          0.6998323085522639,
          0.7020681945220794,
          0.7065399664617105,
          0.7082168809390721,
          0.7110117384013416,
          0.7126886528787032,
          0.713806595863611,
          0.7177193963107882,
          0.7188373392956959,
          0.7210732252655114,
          0.723309111235327,
          0.7261039686975964,
          0.7395192845164896,
          0.7445500279485746,
          0.7462269424259362,
          0.7484628283957518,
          0.752375628842929,
          0.7534935718278368,
          0.7568474007825601,
          0.7585243152599217,
          0.7602012297372834,
          0.7607602012297373,
          0.7624371157070989,
          0.7652319731693683,
          0.7724986025712689,
          0.7747344885410844,
          0.7758524315259921,
          0.7820011179429849,
          0.7825600894354388,
          0.7836780324203466,
          0.786472889882616,
          0.791503633314701,
          0.7920626048071548,
          0.7942984907769703,
          0.7959754052543321,
          0.801006148686417,
          0.8021240916713248,
          1
         ],
         "y": [
          0,
          0.29927760577915374,
          0.3079205366357069,
          0.3263673890608875,
          0.3267543859649123,
          0.33152734778121773,
          0.331656346749226,
          0.33255933952528377,
          0.3351393188854489,
          0.33539731682146545,
          0.3364293085655315,
          0.3379772961816305,
          0.3383642930856553,
          0.33862229102167185,
          0.3392672858617131,
          0.3397832817337461,
          0.3401702786377709,
          0.34042827657378744,
          0.34068627450980393,
          0.3410732714138287,
          0.3414602683178535,
          0.34171826625387,
          0.3430082559339525,
          0.34326625386996906,
          0.3433952528379773,
          0.34378224974200206,
          0.3445562435500516,
          0.3459752321981424,
          0.3462332301341589,
          0.34674922600619196,
          0.34687822497420023,
          0.34713622291021673,
          0.347781217750258,
          0.3480392156862745,
          0.3511351909184727,
          0.35152218782249744,
          0.35229618163054693,
          0.3525541795665635,
          0.35294117647058826,
          0.35319917440660475,
          0.35668214654282765,
          0.35694014447884415,
          0.36016511867905054,
          0.3604231166150671,
          0.3703560371517028,
          0.37087203302373584,
          0.37551599587203305,
          0.3764189886480908,
          0.3766769865841073,
          0.3829979360165119,
          0.38390092879256965,
          0.38686790505675955,
          0.38712590299277605,
          0.39305985552115585,
          0.39331785345717235,
          0.39357585139318885,
          0.39512383900928794,
          0.4057017543859649,
          0.40737874097007226,
          0.40789473684210525,
          0.40815273477812175,
          0.4139576883384933,
          0.4144736842105263,
          0.4227296181630547,
          0.42350361197110425,
          0.42518059855521156,
          0.43175954592363264,
          0.43227554179566563,
          0.43369453044375644,
          0.43395252837977294,
          0.4370485036119711,
          0.43820949432404543,
          0.4419504643962848,
          0.4422084623323013,
          0.4469814241486068,
          0.4472394220846233,
          0.45149638802889575,
          0.4549793601651187,
          0.4631062951496388,
          0.4634932920536636,
          0.4646542827657379,
          0.46504127966976266,
          0.4665892672858617,
          0.46697626418988647,
          0.47045923632610936,
          0.4707172342621259,
          0.47549019607843135,
          0.47690918472652216,
          0.4775541795665635,
          0.48335913312693496,
          0.4836171310629515,
          0.48671310629514963,
          0.4874871001031992,
          0.4904540763673891,
          0.4907120743034056,
          0.4953560371517028,
          0.4956140350877193,
          0.49767801857585137,
          0.4979360165118679,
          0.49871001031991746,
          0.49871001031991746,
          0.5052889576883385,
          0.5052889576883385,
          0.5070949432404541,
          0.5168988648090815,
          0.5171568627450981,
          0.5171568627450981,
          0.532765737874097,
          0.5332817337461301,
          0.5335397316821465,
          0.5379256965944272,
          0.538312693498452,
          0.554437564499484,
          0.5550825593395253,
          0.5603715170278638,
          0.5607585139318886,
          0.5620485036119711,
          0.5620485036119711,
          0.5651444788441693,
          0.5654024767801857,
          0.5673374613003096,
          0.5673374613003096,
          0.5675954592363261,
          0.5678534571723426,
          0.5735294117647058,
          0.5735294117647058,
          0.5755933952528379,
          0.5758513931888545,
          0.5783023735810113,
          0.5785603715170279,
          0.5795923632610939,
          0.5798503611971104,
          0.5868163054695562,
          0.5868163054695562,
          0.5879772961816305,
          0.5879772961816305,
          0.5884932920536635,
          0.5888802889576883,
          0.5928792569659442,
          0.5928792569659442,
          0.6011351909184727,
          0.6013931888544891,
          0.6026831785345718,
          0.6030701754385965,
          0.6078431372549019,
          0.6078431372549019,
          0.6157120743034056,
          0.6162280701754386,
          0.6173890608875129,
          0.6173890608875129,
          0.6200980392156863,
          0.6200980392156863,
          0.6228070175438597,
          0.6230650154798761,
          0.6323529411764706,
          0.6323529411764706,
          0.6342879256965944,
          0.6342879256965944,
          0.6378998968008256,
          0.6381578947368421,
          0.6426728586171311,
          0.6426728586171311,
          0.6452528379772962,
          0.6452528379772962,
          0.6461558307533539,
          0.6461558307533539,
          0.6475748194014448,
          0.6478328173374613,
          0.6520897832817337,
          0.6520897832817337,
          0.652734778121775,
          0.652734778121775,
          0.6576367389060888,
          0.6576367389060888,
          0.6753095975232198,
          0.6753095975232198,
          0.6758255933952528,
          0.6758255933952528,
          0.6956914344685242,
          0.6956914344685242,
          0.6980134158926729,
          0.6980134158926729,
          0.701625386996904,
          0.701625386996904,
          0.7022703818369453,
          0.7022703818369453,
          0.7049793601651186,
          0.7049793601651186,
          0.7107843137254902,
          0.7107843137254902,
          0.7128482972136223,
          0.7128482972136223,
          0.7159442724458205,
          0.7159442724458205,
          0.7169762641898865,
          0.7169762641898865,
          0.7244582043343654,
          0.7244582043343654,
          0.7253611971104231,
          0.7253611971104231,
          0.7260061919504643,
          0.7260061919504643,
          0.72781217750258,
          0.72781217750258,
          0.728328173374613,
          0.728328173374613,
          0.7363261093911249,
          0.7363261093911249,
          0.7386480908152735,
          0.7386480908152735,
          0.7403250773993808,
          0.7403250773993808,
          0.7427760577915377,
          0.7430340557275542,
          0.75,
          0.75,
          0.7538699690402477,
          0.7538699690402477,
          0.7552889576883385,
          0.7552889576883385,
          0.7576109391124871,
          0.7576109391124871,
          0.7599329205366357,
          0.7599329205366357,
          0.7625128998968008,
          0.7625128998968008,
          0.7645768833849329,
          0.7645768833849329,
          0.775670794633643,
          0.775670794633643,
          0.7768317853457173,
          0.7768317853457173,
          0.7773477812177503,
          0.7773477812177503,
          0.7795407636738906,
          0.7795407636738906,
          0.7845717234262126,
          0.7845717234262126,
          0.7893446852425181,
          0.7893446852425181,
          0.7932146542827657,
          0.7932146542827657,
          0.7936016511867905,
          0.7936016511867905,
          0.79437564499484,
          0.79437564499484,
          0.7946336429308566,
          0.7946336429308566,
          0.8008255933952528,
          0.8008255933952528,
          0.8040505675954592,
          0.8040505675954592,
          0.8052115583075335,
          0.8052115583075335,
          0.8066305469556243,
          0.8066305469556243,
          0.8072755417956656,
          0.8072755417956656,
          0.8098555211558307,
          0.8098555211558307,
          0.8132094943240454,
          0.8132094943240454,
          0.813983488132095,
          0.813983488132095,
          0.8143704850361198,
          0.8143704850361198,
          0.815015479876161,
          0.815015479876161,
          0.8151444788441693,
          0.8151444788441693,
          0.817079463364293,
          0.817079463364293,
          0.8178534571723426,
          0.8178534571723426,
          0.8206914344685242,
          0.8206914344685242,
          0.8208204334365325,
          0.8208204334365325,
          0.8222394220846233,
          0.8222394220846233,
          0.8237874097007224,
          0.8237874097007224,
          0.8243034055727554,
          0.8243034055727554,
          0.8248194014447885,
          0.8248194014447885,
          0.8292053663570691,
          0.8292053663570691,
          0.8294633642930856,
          0.8294633642930856,
          0.8308823529411765,
          0.8308823529411765,
          0.8315273477812177,
          0.8315273477812177,
          0.832688338493292,
          0.832688338493292,
          0.8350103199174407,
          0.8350103199174407,
          0.8374613003095975,
          0.8374613003095975,
          0.842234262125903,
          0.842234262125903,
          0.8441692466460269,
          0.8441692466460269,
          0.8446852425180599,
          0.8446852425180599,
          0.8455882352941176,
          0.8455882352941176,
          0.8464912280701754,
          0.8464912280701754,
          0.8468782249742002,
          0.8468782249742002,
          0.8479102167182663,
          0.8479102167182663,
          0.8480392156862745,
          0.8480392156862745,
          0.8481682146542827,
          0.8481682146542827,
          0.8497162022703818,
          0.8497162022703818,
          0.8513931888544891,
          0.8513931888544891,
          0.8516511867905057,
          0.8516511867905057,
          0.8539731682146543,
          0.8539731682146543,
          0.8555211558307534,
          0.8555211558307534,
          0.8561661506707946,
          0.8561661506707946,
          0.8575851393188855,
          0.8575851393188855,
          0.8577141382868937,
          0.8577141382868937,
          0.8582301341589267,
          0.8582301341589267,
          0.8587461300309598,
          0.8587461300309598,
          0.8609391124871001,
          0.8609391124871001,
          0.8667440660474717,
          0.8667440660474717,
          0.8668730650154799,
          0.8668730650154799,
          0.8670020639834881,
          0.8670020639834881,
          0.8675180598555211,
          0.8675180598555211,
          0.8686790505675954,
          0.8686790505675954,
          0.8707430340557275,
          0.8707430340557275,
          0.8721620227038184,
          0.8721620227038184,
          0.8735810113519091,
          0.8735810113519091,
          0.8742260061919505,
          0.8742260061919505,
          0.8748710010319918,
          0.8748710010319918,
          0.875515995872033,
          0.875515995872033,
          0.8761609907120743,
          0.8761609907120743,
          0.8764189886480909,
          0.8764189886480909,
          0.8778379772961816,
          0.8778379772961816,
          0.8814499484004128,
          0.8814499484004128,
          0.8818369453044376,
          0.8818369453044376,
          0.8819659442724458,
          0.8819659442724458,
          0.8822239422084623,
          0.8822239422084623,
          0.8831269349845201,
          0.8831269349845201,
          0.8842879256965944,
          0.8842879256965944,
          0.887125902992776,
          0.887125902992776,
          0.887641898864809,
          0.887641898864809,
          0.8880288957688338,
          0.8880288957688338,
          0.8902218782249742,
          0.8902218782249742,
          0.8904798761609907,
          0.8904798761609907,
          0.8921568627450981,
          0.8921568627450981,
          0.8924148606811145,
          0.8924148606811145,
          0.8930598555211559,
          0.8930598555211559,
          0.8931888544891641,
          0.8931888544891641,
          0.8940918472652218,
          0.8940918472652218,
          0.8943498452012384,
          0.8943498452012384,
          0.8953818369453045,
          0.8953818369453045,
          0.8956398348813209,
          0.8956398348813209,
          0.8958978328173375,
          0.8958978328173375,
          0.8960268317853457,
          0.8960268317853457,
          0.8962848297213623,
          0.8962848297213623,
          0.8964138286893705,
          0.8964138286893705,
          0.8968008255933952,
          0.8968008255933952,
          0.8969298245614035,
          0.8969298245614035,
          0.8970588235294118,
          0.8970588235294118,
          0.8982198142414861,
          0.8982198142414861,
          0.8989938080495357,
          0.8989938080495357,
          0.8998968008255934,
          0.8998968008255934,
          0.9002837977296182,
          0.9002837977296182,
          0.9009287925696594,
          0.9009287925696594,
          0.9013157894736842,
          0.9013157894736842,
          0.9015737874097007,
          0.9015737874097007,
          0.9019607843137255,
          0.9019607843137255,
          0.9026057791537667,
          0.9026057791537667,
          0.902734778121775,
          0.902734778121775,
          0.903250773993808,
          0.903250773993808,
          0.9033797729618163,
          0.9033797729618163,
          0.903766769865841,
          0.903766769865841,
          0.9041537667698658,
          0.9041537667698658,
          0.9044117647058824,
          0.9044117647058824,
          0.9045407636738906,
          0.9045407636738906,
          0.9054437564499485,
          0.9054437564499485,
          0.9063467492260062,
          0.9063467492260062,
          0.9066047471620227,
          0.9066047471620227,
          0.9073787409700722,
          0.9073787409700722,
          0.9085397316821465,
          0.9085397316821465,
          0.9099587203302374,
          0.9099587203302374,
          0.9103457172342622,
          0.9103457172342622,
          0.9107327141382869,
          0.9107327141382869,
          0.9120227038183695,
          0.9120227038183695,
          0.9129256965944272,
          0.9129256965944272,
          0.9134416924664602,
          0.9134416924664602,
          0.9139576883384933,
          0.9139576883384933,
          0.9156346749226006,
          0.9156346749226006,
          0.9157636738906089,
          0.9157636738906089,
          0.9158926728586171,
          0.9158926728586171,
          0.916795665634675,
          0.916795665634675,
          0.9170536635706914,
          0.9170536635706914,
          0.9175696594427245,
          0.9175696594427245,
          0.9176986584107327,
          0.9176986584107327,
          0.9179566563467493,
          0.9179566563467493,
          0.9186016511867905,
          0.9186016511867905,
          0.919891640866873,
          0.919891640866873,
          0.9200206398348814,
          0.9200206398348814,
          0.9202786377708978,
          0.9202786377708978,
          0.9204076367389061,
          0.9204076367389061,
          0.9206656346749226,
          0.9206656346749226,
          0.9210526315789473,
          0.9210526315789473,
          0.9215686274509803,
          0.9215686274509803,
          0.9236326109391125,
          0.9236326109391125,
          0.923890608875129,
          0.923890608875129,
          0.9250515995872033,
          0.9250515995872033,
          0.9258255933952528,
          0.9258255933952528,
          0.9262125902992776,
          0.9262125902992776,
          0.9264705882352942,
          0.9264705882352942,
          0.9265995872033024,
          0.9265995872033024,
          0.9267285861713106,
          0.9267285861713106,
          0.9268575851393189,
          0.9268575851393189,
          0.9286635706914345,
          0.9286635706914345,
          0.928921568627451,
          0.928921568627451,
          0.9290505675954592,
          0.9290505675954592,
          0.9291795665634675,
          0.9291795665634675,
          0.9296955624355006,
          0.9296955624355006,
          0.929953560371517,
          0.929953560371517,
          0.9309855521155831,
          0.9309855521155831,
          0.9312435500515995,
          0.9312435500515995,
          0.9317595459236326,
          0.9317595459236326,
          0.932920536635707,
          0.932920536635707,
          0.9339525283797729,
          0.9339525283797729,
          0.9343395252837977,
          0.9343395252837977,
          0.9345975232198143,
          0.9345975232198143,
          0.934984520123839,
          0.934984520123839,
          0.9351135190918473,
          0.9351135190918473,
          0.9352425180598555,
          0.9352425180598555,
          0.935500515995872,
          0.935500515995872,
          0.9362745098039216,
          0.9362745098039216,
          0.9364035087719298,
          0.9364035087719298,
          0.9366615067079463,
          0.9366615067079463,
          0.9374355005159959,
          0.9374355005159959,
          0.9378224974200207,
          0.9378224974200207,
          0.9383384932920537,
          0.9383384932920537,
          0.9396284829721362,
          0.9396284829721362,
          0.9397574819401445,
          0.9397574819401445,
          0.9402734778121775,
          0.9402734778121775,
          0.9406604747162023,
          0.9406604747162023,
          0.9410474716202271,
          0.9410474716202271,
          0.94156346749226,
          0.94156346749226,
          0.942079463364293,
          0.942079463364293,
          0.9423374613003096,
          0.9423374613003096,
          0.9425954592363261,
          0.9425954592363261,
          0.9431114551083591,
          0.9431114551083591,
          0.9441434468524251,
          0.9441434468524251,
          0.9447884416924665,
          0.9447884416924665,
          0.9459494324045408,
          0.9459494324045408,
          0.9462074303405573,
          0.9462074303405573,
          0.9463364293085655,
          0.9463364293085655,
          0.9469814241486069,
          0.9469814241486069,
          0.9474974200206399,
          0.9474974200206399,
          0.9477554179566563,
          0.9477554179566563,
          0.9478844169246646,
          0.9478844169246646,
          0.9481424148606811,
          0.9481424148606811,
          0.9485294117647058,
          0.9485294117647058,
          0.9491744066047472,
          0.9491744066047472,
          0.9493034055727554,
          0.9493034055727554,
          0.9495614035087719,
          0.9495614035087719,
          0.9496904024767802,
          0.9496904024767802,
          0.9498194014447885,
          0.9498194014447885,
          0.9507223942208463,
          0.9507223942208463,
          0.9508513931888545,
          0.9508513931888545,
          0.9523993808049536,
          0.9523993808049536,
          0.9527863777089783,
          0.9527863777089783,
          0.9534313725490197,
          0.9534313725490197,
          0.9539473684210527,
          0.9539473684210527,
          0.9544633642930856,
          0.9544633642930856,
          0.9553663570691434,
          0.9553663570691434,
          0.9560113519091847,
          0.9560113519091847,
          0.9563983488132095,
          0.9563983488132095,
          0.9565273477812177,
          0.9565273477812177,
          0.9569143446852425,
          0.9569143446852425,
          0.9574303405572755,
          0.9574303405572755,
          0.9580753353973168,
          0.9580753353973168,
          0.9583333333333334,
          0.9583333333333334,
          0.9591073271413829,
          0.9591073271413829,
          0.9594943240454077,
          0.9594943240454077,
          0.9600103199174407,
          0.9600103199174407,
          0.9603973168214655,
          0.9603973168214655,
          0.9605263157894737,
          0.9605263157894737,
          0.9606553147574819,
          0.9606553147574819,
          0.9614293085655314,
          0.9614293085655314,
          0.961687306501548,
          0.961687306501548,
          0.9618163054695562,
          0.9618163054695562,
          0.9619453044375645,
          0.9619453044375645,
          0.9620743034055728,
          0.9620743034055728,
          0.962203302373581,
          0.962203302373581,
          0.9627192982456141,
          0.9627192982456141,
          0.9633642930856553,
          0.9633642930856553,
          0.9634932920536635,
          0.9634932920536635,
          0.9636222910216719,
          0.9636222910216719,
          0.9637512899896801,
          0.9637512899896801,
          0.9638802889576883,
          0.9638802889576883,
          0.9642672858617131,
          0.9642672858617131,
          0.9646542827657378,
          0.9646542827657378,
          0.9647832817337462,
          0.9647832817337462,
          0.9650412796697626,
          0.9650412796697626,
          0.9651702786377709,
          0.9651702786377709,
          0.9654282765737874,
          0.9654282765737874,
          0.9658152734778122,
          0.9658152734778122,
          0.9659442724458205,
          0.9659442724458205,
          0.9660732714138287,
          0.9660732714138287,
          0.9663312693498453,
          0.9663312693498453,
          0.9665892672858617,
          0.9665892672858617,
          0.9671052631578947,
          0.9671052631578947,
          0.9687822497420021,
          0.9687822497420021,
          0.9692982456140351,
          0.9692982456140351,
          0.9696852425180599,
          0.9696852425180599,
          0.9698142414860681,
          0.9698142414860681,
          0.9699432404540763,
          0.9699432404540763,
          0.9708462332301342,
          0.9708462332301342,
          0.971233230134159,
          0.971233230134159,
          0.9713622291021672,
          0.9713622291021672,
          0.9716202270381837,
          0.9716202270381837,
          0.971749226006192,
          0.971749226006192,
          0.9721362229102167,
          0.9721362229102167,
          0.972265221878225,
          0.972265221878225,
          0.9725232198142415,
          0.9725232198142415,
          0.9729102167182663,
          0.9729102167182663,
          0.9730392156862745,
          0.9730392156862745,
          0.973297213622291,
          0.973297213622291,
          0.9734262125902993,
          0.9734262125902993,
          0.9735552115583075,
          0.9735552115583075,
          0.973813209494324,
          0.973813209494324,
          0.9739422084623323,
          0.9739422084623323,
          0.9740712074303406,
          0.9740712074303406,
          0.9742002063983488,
          0.9742002063983488,
          0.9747162022703818,
          0.9747162022703818,
          0.9748452012383901,
          0.9748452012383901,
          0.9752321981424149,
          0.9752321981424149,
          0.9753611971104231,
          0.9753611971104231,
          0.9754901960784313,
          0.9754901960784313,
          0.9756191950464397,
          0.9756191950464397,
          0.9762641898864809,
          0.9762641898864809,
          0.9765221878224974,
          0.9765221878224974,
          0.9767801857585139,
          0.9767801857585139,
          0.9769091847265222,
          0.9769091847265222,
          0.9774251805985552,
          0.9774251805985552,
          0.9776831785345718,
          0.9776831785345718,
          0.9779411764705882,
          0.9779411764705882,
          0.9780701754385965,
          0.9780701754385965,
          0.9781991744066048,
          0.9781991744066048,
          0.9793601651186791,
          0.9793601651186791,
          0.9794891640866873,
          0.9794891640866873,
          0.9796181630546955,
          0.9796181630546955,
          0.9797471620227038,
          0.9797471620227038,
          0.9798761609907121,
          0.9798761609907121,
          0.9800051599587203,
          0.9800051599587203,
          0.9801341589267286,
          0.9801341589267286,
          0.9802631578947368,
          0.9802631578947368,
          0.9803921568627451,
          0.9803921568627451,
          0.9806501547987616,
          0.9806501547987616,
          0.9807791537667698,
          0.9807791537667698,
          0.9809081527347782,
          0.9809081527347782,
          0.9810371517027864,
          0.9810371517027864,
          0.9811661506707946,
          0.9811661506707946,
          0.9815531475748194,
          0.9815531475748194,
          0.9816821465428277,
          0.9816821465428277,
          0.9818111455108359,
          0.9818111455108359,
          0.9820691434468525,
          0.9820691434468525,
          0.9821981424148607,
          0.9821981424148607,
          0.9824561403508771,
          0.9824561403508771,
          0.9827141382868937,
          0.9827141382868937,
          0.983359133126935,
          0.983359133126935,
          0.9834881320949432,
          0.9834881320949432,
          0.9840041279669762,
          0.9840041279669762,
          0.9841331269349846,
          0.9841331269349846,
          0.9842621259029928,
          0.9842621259029928,
          0.984391124871001,
          0.984391124871001,
          0.9847781217750258,
          0.9847781217750258,
          0.9850361197110423,
          0.9850361197110423,
          0.9852941176470589,
          0.9852941176470589,
          0.9854231166150671,
          0.9854231166150671,
          0.9856811145510835,
          0.9856811145510835,
          0.9858101135190919,
          0.9858101135190919,
          0.9860681114551083,
          0.9860681114551083,
          0.9861971104231166,
          0.9861971104231166,
          0.9864551083591331,
          0.9864551083591331,
          0.9868421052631579,
          0.9868421052631579,
          0.9869711042311662,
          0.9869711042311662,
          0.9871001031991744,
          0.9871001031991744,
          0.9874871001031992,
          0.9874871001031992,
          0.9877450980392157,
          0.9877450980392157,
          0.9880030959752322,
          0.9880030959752322,
          0.9882610939112487,
          0.9882610939112487,
          0.9883900928792569,
          0.9883900928792569,
          0.9886480908152735,
          0.9886480908152735,
          0.9887770897832817,
          0.9887770897832817,
          0.9889060887512899,
          0.9889060887512899,
          0.9891640866873065,
          0.9891640866873065,
          0.9892930856553147,
          0.9892930856553147,
          0.989422084623323,
          0.989422084623323,
          0.9895510835913313,
          0.9895510835913313,
          0.9896800825593395,
          0.9896800825593395,
          0.9898090815273478,
          0.9898090815273478,
          0.989938080495356,
          0.989938080495356,
          0.9900670794633643,
          0.9900670794633643,
          0.990454076367389,
          0.990454076367389,
          0.9905830753353974,
          0.9905830753353974,
          0.9908410732714138,
          0.9908410732714138,
          0.9910990712074303,
          0.9910990712074303,
          0.9912280701754386,
          0.9912280701754386,
          0.9913570691434469,
          0.9913570691434469,
          0.9916150670794633,
          0.9916150670794633,
          0.9918730650154799,
          0.9918730650154799,
          0.9922600619195047,
          0.9922600619195047,
          0.9923890608875129,
          0.9923890608875129,
          0.9925180598555211,
          0.9925180598555211,
          0.9926470588235294,
          0.9926470588235294,
          0.9927760577915377,
          0.9927760577915377,
          0.9929050567595459,
          0.9929050567595459,
          0.9930340557275542,
          0.9930340557275542,
          0.9931630546955624,
          0.9931630546955624,
          0.9932920536635707,
          0.9932920536635707,
          0.9935500515995872,
          0.9935500515995872,
          0.9936790505675954,
          0.9936790505675954,
          0.9938080495356038,
          0.9938080495356038,
          0.993937048503612,
          0.993937048503612,
          0.9941950464396285,
          0.9941950464396285,
          0.9943240454076367,
          0.9943240454076367,
          0.994453044375645,
          0.994453044375645,
          0.9947110423116615,
          0.9947110423116615,
          0.9948400412796697,
          0.9948400412796697,
          0.9949690402476781,
          0.9949690402476781,
          0.9950980392156863,
          0.9950980392156863,
          0.9953560371517027,
          0.9953560371517027,
          0.9954850361197111,
          0.9954850361197111,
          0.9956140350877193,
          0.9956140350877193,
          0.9958720330237358,
          0.9958720330237358,
          0.9960010319917441,
          0.9960010319917441,
          0.9961300309597523,
          0.9961300309597523,
          0.9962590299277606,
          0.9962590299277606,
          0.9963880288957688,
          0.9963880288957688,
          0.996517027863777,
          0.996517027863777,
          0.9966460268317854,
          0.9966460268317854,
          0.9967750257997936,
          0.9967750257997936,
          0.9969040247678018,
          0.9969040247678018,
          0.9970330237358102,
          0.9970330237358102,
          0.9971620227038184,
          0.9971620227038184,
          0.9972910216718266,
          0.9972910216718266,
          0.9975490196078431,
          0.9975490196078431,
          0.9976780185758514,
          0.9976780185758514,
          0.9978070175438597,
          0.9978070175438597,
          0.9979360165118679,
          0.9979360165118679,
          0.9980650154798761,
          0.9980650154798761,
          0.9981940144478845,
          0.9981940144478845,
          0.9984520123839009,
          0.9984520123839009,
          0.9985810113519091,
          0.9985810113519091,
          0.9987100103199175,
          0.9987100103199175,
          0.9989680082559339,
          0.9989680082559339,
          0.9990970072239422,
          0.9990970072239422,
          0.9992260061919505,
          0.9992260061919505,
          0.9993550051599587,
          0.9993550051599587,
          0.999484004127967,
          0.999484004127967,
          0.9996130030959752,
          0.9996130030959752,
          0.9997420020639834,
          0.9997420020639834,
          0.9998710010319918,
          0.9998710010319918,
          0.9998710010319918,
          0.9998710010319918,
          0.9998710010319918,
          0.9998710010319918,
          0.9998710010319918,
          0.9998710010319918,
          0.9998710010319918,
          0.9998710010319918,
          1,
          1,
          1,
          1,
          1,
          1,
          1,
          1,
          1,
          1,
          1,
          1,
          1,
          1,
          1,
          1,
          1,
          1,
          1,
          1,
          1,
          1,
          1,
          1,
          1,
          1,
          1,
          1,
          1,
          1,
          1,
          1,
          1,
          1,
          1,
          1,
          1,
          1,
          1,
          1,
          1,
          1,
          1,
          1,
          1,
          1,
          1,
          1
         ]
        },
        {
         "line": {
          "dash": "dash"
         },
         "mode": "lines",
         "name": "Diagonal line (equal measures)",
         "type": "scatter",
         "x": [
          0,
          1
         ],
         "y": [
          0,
          1
         ]
        }
       ],
       "layout": {
        "showlegend": true,
        "template": {
         "data": {
          "bar": [
           {
            "error_x": {
             "color": "#2a3f5f"
            },
            "error_y": {
             "color": "#2a3f5f"
            },
            "marker": {
             "line": {
              "color": "#E5ECF6",
              "width": 0.5
             },
             "pattern": {
              "fillmode": "overlay",
              "size": 10,
              "solidity": 0.2
             }
            },
            "type": "bar"
           }
          ],
          "barpolar": [
           {
            "marker": {
             "line": {
              "color": "#E5ECF6",
              "width": 0.5
             },
             "pattern": {
              "fillmode": "overlay",
              "size": 10,
              "solidity": 0.2
             }
            },
            "type": "barpolar"
           }
          ],
          "carpet": [
           {
            "aaxis": {
             "endlinecolor": "#2a3f5f",
             "gridcolor": "white",
             "linecolor": "white",
             "minorgridcolor": "white",
             "startlinecolor": "#2a3f5f"
            },
            "baxis": {
             "endlinecolor": "#2a3f5f",
             "gridcolor": "white",
             "linecolor": "white",
             "minorgridcolor": "white",
             "startlinecolor": "#2a3f5f"
            },
            "type": "carpet"
           }
          ],
          "choropleth": [
           {
            "colorbar": {
             "outlinewidth": 0,
             "ticks": ""
            },
            "type": "choropleth"
           }
          ],
          "contour": [
           {
            "colorbar": {
             "outlinewidth": 0,
             "ticks": ""
            },
            "colorscale": [
             [
              0,
              "#0d0887"
             ],
             [
              0.1111111111111111,
              "#46039f"
             ],
             [
              0.2222222222222222,
              "#7201a8"
             ],
             [
              0.3333333333333333,
              "#9c179e"
             ],
             [
              0.4444444444444444,
              "#bd3786"
             ],
             [
              0.5555555555555556,
              "#d8576b"
             ],
             [
              0.6666666666666666,
              "#ed7953"
             ],
             [
              0.7777777777777778,
              "#fb9f3a"
             ],
             [
              0.8888888888888888,
              "#fdca26"
             ],
             [
              1,
              "#f0f921"
             ]
            ],
            "type": "contour"
           }
          ],
          "contourcarpet": [
           {
            "colorbar": {
             "outlinewidth": 0,
             "ticks": ""
            },
            "type": "contourcarpet"
           }
          ],
          "heatmap": [
           {
            "colorbar": {
             "outlinewidth": 0,
             "ticks": ""
            },
            "colorscale": [
             [
              0,
              "#0d0887"
             ],
             [
              0.1111111111111111,
              "#46039f"
             ],
             [
              0.2222222222222222,
              "#7201a8"
             ],
             [
              0.3333333333333333,
              "#9c179e"
             ],
             [
              0.4444444444444444,
              "#bd3786"
             ],
             [
              0.5555555555555556,
              "#d8576b"
             ],
             [
              0.6666666666666666,
              "#ed7953"
             ],
             [
              0.7777777777777778,
              "#fb9f3a"
             ],
             [
              0.8888888888888888,
              "#fdca26"
             ],
             [
              1,
              "#f0f921"
             ]
            ],
            "type": "heatmap"
           }
          ],
          "heatmapgl": [
           {
            "colorbar": {
             "outlinewidth": 0,
             "ticks": ""
            },
            "colorscale": [
             [
              0,
              "#0d0887"
             ],
             [
              0.1111111111111111,
              "#46039f"
             ],
             [
              0.2222222222222222,
              "#7201a8"
             ],
             [
              0.3333333333333333,
              "#9c179e"
             ],
             [
              0.4444444444444444,
              "#bd3786"
             ],
             [
              0.5555555555555556,
              "#d8576b"
             ],
             [
              0.6666666666666666,
              "#ed7953"
             ],
             [
              0.7777777777777778,
              "#fb9f3a"
             ],
             [
              0.8888888888888888,
              "#fdca26"
             ],
             [
              1,
              "#f0f921"
             ]
            ],
            "type": "heatmapgl"
           }
          ],
          "histogram": [
           {
            "marker": {
             "pattern": {
              "fillmode": "overlay",
              "size": 10,
              "solidity": 0.2
             }
            },
            "type": "histogram"
           }
          ],
          "histogram2d": [
           {
            "colorbar": {
             "outlinewidth": 0,
             "ticks": ""
            },
            "colorscale": [
             [
              0,
              "#0d0887"
             ],
             [
              0.1111111111111111,
              "#46039f"
             ],
             [
              0.2222222222222222,
              "#7201a8"
             ],
             [
              0.3333333333333333,
              "#9c179e"
             ],
             [
              0.4444444444444444,
              "#bd3786"
             ],
             [
              0.5555555555555556,
              "#d8576b"
             ],
             [
              0.6666666666666666,
              "#ed7953"
             ],
             [
              0.7777777777777778,
              "#fb9f3a"
             ],
             [
              0.8888888888888888,
              "#fdca26"
             ],
             [
              1,
              "#f0f921"
             ]
            ],
            "type": "histogram2d"
           }
          ],
          "histogram2dcontour": [
           {
            "colorbar": {
             "outlinewidth": 0,
             "ticks": ""
            },
            "colorscale": [
             [
              0,
              "#0d0887"
             ],
             [
              0.1111111111111111,
              "#46039f"
             ],
             [
              0.2222222222222222,
              "#7201a8"
             ],
             [
              0.3333333333333333,
              "#9c179e"
             ],
             [
              0.4444444444444444,
              "#bd3786"
             ],
             [
              0.5555555555555556,
              "#d8576b"
             ],
             [
              0.6666666666666666,
              "#ed7953"
             ],
             [
              0.7777777777777778,
              "#fb9f3a"
             ],
             [
              0.8888888888888888,
              "#fdca26"
             ],
             [
              1,
              "#f0f921"
             ]
            ],
            "type": "histogram2dcontour"
           }
          ],
          "mesh3d": [
           {
            "colorbar": {
             "outlinewidth": 0,
             "ticks": ""
            },
            "type": "mesh3d"
           }
          ],
          "parcoords": [
           {
            "line": {
             "colorbar": {
              "outlinewidth": 0,
              "ticks": ""
             }
            },
            "type": "parcoords"
           }
          ],
          "pie": [
           {
            "automargin": true,
            "type": "pie"
           }
          ],
          "scatter": [
           {
            "fillpattern": {
             "fillmode": "overlay",
             "size": 10,
             "solidity": 0.2
            },
            "type": "scatter"
           }
          ],
          "scatter3d": [
           {
            "line": {
             "colorbar": {
              "outlinewidth": 0,
              "ticks": ""
             }
            },
            "marker": {
             "colorbar": {
              "outlinewidth": 0,
              "ticks": ""
             }
            },
            "type": "scatter3d"
           }
          ],
          "scattercarpet": [
           {
            "marker": {
             "colorbar": {
              "outlinewidth": 0,
              "ticks": ""
             }
            },
            "type": "scattercarpet"
           }
          ],
          "scattergeo": [
           {
            "marker": {
             "colorbar": {
              "outlinewidth": 0,
              "ticks": ""
             }
            },
            "type": "scattergeo"
           }
          ],
          "scattergl": [
           {
            "marker": {
             "colorbar": {
              "outlinewidth": 0,
              "ticks": ""
             }
            },
            "type": "scattergl"
           }
          ],
          "scattermapbox": [
           {
            "marker": {
             "colorbar": {
              "outlinewidth": 0,
              "ticks": ""
             }
            },
            "type": "scattermapbox"
           }
          ],
          "scatterpolar": [
           {
            "marker": {
             "colorbar": {
              "outlinewidth": 0,
              "ticks": ""
             }
            },
            "type": "scatterpolar"
           }
          ],
          "scatterpolargl": [
           {
            "marker": {
             "colorbar": {
              "outlinewidth": 0,
              "ticks": ""
             }
            },
            "type": "scatterpolargl"
           }
          ],
          "scatterternary": [
           {
            "marker": {
             "colorbar": {
              "outlinewidth": 0,
              "ticks": ""
             }
            },
            "type": "scatterternary"
           }
          ],
          "surface": [
           {
            "colorbar": {
             "outlinewidth": 0,
             "ticks": ""
            },
            "colorscale": [
             [
              0,
              "#0d0887"
             ],
             [
              0.1111111111111111,
              "#46039f"
             ],
             [
              0.2222222222222222,
              "#7201a8"
             ],
             [
              0.3333333333333333,
              "#9c179e"
             ],
             [
              0.4444444444444444,
              "#bd3786"
             ],
             [
              0.5555555555555556,
              "#d8576b"
             ],
             [
              0.6666666666666666,
              "#ed7953"
             ],
             [
              0.7777777777777778,
              "#fb9f3a"
             ],
             [
              0.8888888888888888,
              "#fdca26"
             ],
             [
              1,
              "#f0f921"
             ]
            ],
            "type": "surface"
           }
          ],
          "table": [
           {
            "cells": {
             "fill": {
              "color": "#EBF0F8"
             },
             "line": {
              "color": "white"
             }
            },
            "header": {
             "fill": {
              "color": "#C8D4E3"
             },
             "line": {
              "color": "white"
             }
            },
            "type": "table"
           }
          ]
         },
         "layout": {
          "annotationdefaults": {
           "arrowcolor": "#2a3f5f",
           "arrowhead": 0,
           "arrowwidth": 1
          },
          "autotypenumbers": "strict",
          "coloraxis": {
           "colorbar": {
            "outlinewidth": 0,
            "ticks": ""
           }
          },
          "colorscale": {
           "diverging": [
            [
             0,
             "#8e0152"
            ],
            [
             0.1,
             "#c51b7d"
            ],
            [
             0.2,
             "#de77ae"
            ],
            [
             0.3,
             "#f1b6da"
            ],
            [
             0.4,
             "#fde0ef"
            ],
            [
             0.5,
             "#f7f7f7"
            ],
            [
             0.6,
             "#e6f5d0"
            ],
            [
             0.7,
             "#b8e186"
            ],
            [
             0.8,
             "#7fbc41"
            ],
            [
             0.9,
             "#4d9221"
            ],
            [
             1,
             "#276419"
            ]
           ],
           "sequential": [
            [
             0,
             "#0d0887"
            ],
            [
             0.1111111111111111,
             "#46039f"
            ],
            [
             0.2222222222222222,
             "#7201a8"
            ],
            [
             0.3333333333333333,
             "#9c179e"
            ],
            [
             0.4444444444444444,
             "#bd3786"
            ],
            [
             0.5555555555555556,
             "#d8576b"
            ],
            [
             0.6666666666666666,
             "#ed7953"
            ],
            [
             0.7777777777777778,
             "#fb9f3a"
            ],
            [
             0.8888888888888888,
             "#fdca26"
            ],
            [
             1,
             "#f0f921"
            ]
           ],
           "sequentialminus": [
            [
             0,
             "#0d0887"
            ],
            [
             0.1111111111111111,
             "#46039f"
            ],
            [
             0.2222222222222222,
             "#7201a8"
            ],
            [
             0.3333333333333333,
             "#9c179e"
            ],
            [
             0.4444444444444444,
             "#bd3786"
            ],
            [
             0.5555555555555556,
             "#d8576b"
            ],
            [
             0.6666666666666666,
             "#ed7953"
            ],
            [
             0.7777777777777778,
             "#fb9f3a"
            ],
            [
             0.8888888888888888,
             "#fdca26"
            ],
            [
             1,
             "#f0f921"
            ]
           ]
          },
          "colorway": [
           "#636efa",
           "#EF553B",
           "#00cc96",
           "#ab63fa",
           "#FFA15A",
           "#19d3f3",
           "#FF6692",
           "#B6E880",
           "#FF97FF",
           "#FECB52"
          ],
          "font": {
           "color": "#2a3f5f"
          },
          "geo": {
           "bgcolor": "white",
           "lakecolor": "white",
           "landcolor": "#E5ECF6",
           "showlakes": true,
           "showland": true,
           "subunitcolor": "white"
          },
          "hoverlabel": {
           "align": "left"
          },
          "hovermode": "closest",
          "mapbox": {
           "style": "light"
          },
          "paper_bgcolor": "white",
          "plot_bgcolor": "#E5ECF6",
          "polar": {
           "angularaxis": {
            "gridcolor": "white",
            "linecolor": "white",
            "ticks": ""
           },
           "bgcolor": "#E5ECF6",
           "radialaxis": {
            "gridcolor": "white",
            "linecolor": "white",
            "ticks": ""
           }
          },
          "scene": {
           "xaxis": {
            "backgroundcolor": "#E5ECF6",
            "gridcolor": "white",
            "gridwidth": 2,
            "linecolor": "white",
            "showbackground": true,
            "ticks": "",
            "zerolinecolor": "white"
           },
           "yaxis": {
            "backgroundcolor": "#E5ECF6",
            "gridcolor": "white",
            "gridwidth": 2,
            "linecolor": "white",
            "showbackground": true,
            "ticks": "",
            "zerolinecolor": "white"
           },
           "zaxis": {
            "backgroundcolor": "#E5ECF6",
            "gridcolor": "white",
            "gridwidth": 2,
            "linecolor": "white",
            "showbackground": true,
            "ticks": "",
            "zerolinecolor": "white"
           }
          },
          "shapedefaults": {
           "line": {
            "color": "#2a3f5f"
           }
          },
          "ternary": {
           "aaxis": {
            "gridcolor": "white",
            "linecolor": "white",
            "ticks": ""
           },
           "baxis": {
            "gridcolor": "white",
            "linecolor": "white",
            "ticks": ""
           },
           "bgcolor": "#E5ECF6",
           "caxis": {
            "gridcolor": "white",
            "linecolor": "white",
            "ticks": ""
           }
          },
          "title": {
           "x": 0.05
          },
          "xaxis": {
           "automargin": true,
           "gridcolor": "white",
           "linecolor": "white",
           "ticks": "",
           "title": {
            "standoff": 15
           },
           "zerolinecolor": "white",
           "zerolinewidth": 2
          },
          "yaxis": {
           "automargin": true,
           "gridcolor": "white",
           "linecolor": "white",
           "ticks": "",
           "title": {
            "standoff": 15
           },
           "zerolinecolor": "white",
           "zerolinewidth": 2
          }
         }
        },
        "title": {
         "text": "ROC Curve: Random Forest"
        },
        "xaxis": {
         "title": {
          "text": "False Positive Rate"
         }
        },
        "yaxis": {
         "title": {
          "text": "Recall"
         }
        }
       }
      }
     },
     "metadata": {},
     "output_type": "display_data"
    }
   ],
   "source": [
    "# Predicted probabilities from the fitted grid search\n",
    "y_pred_prob = rf_fitted_grid.predict_proba(X_test)[:, 1]\n",
    "\n",
    "# FPR, TPR and Thresholds\n",
    "fpr, tpr, thresholds = roc_curve(y_test, y_pred_prob)\n",
    "\n",
    "#AUC score\n",
    "auc_score = roc_auc_score(y_test, y_pred_prob)\n",
    "\n",
    "#ROC curve \n",
    "roc_trace = go.Scatter(\n",
    "    x=fpr,\n",
    "    y=tpr,\n",
    "    mode='lines',\n",
    "    name='ROC Curve (AUC = {:.2f})'.format(auc_score)\n",
    ")\n",
    "\n",
    "#Diagonal line trace\n",
    "diagonal_trace = go.Scatter(\n",
    "    x=[0, 1],\n",
    "    y=[0, 1],\n",
    "    mode='lines',\n",
    "    name='Diagonal line (equal measures)',\n",
    "    line=dict(dash='dash')\n",
    ")\n",
    "\n",
    "#Layout & figure\n",
    "layout = go.Layout(\n",
    "    title='ROC Curve: Random Forest',\n",
    "    xaxis=dict(title='False Positive Rate'),\n",
    "    yaxis=dict(title='Recall'),\n",
    "    showlegend=True\n",
    ")\n",
    "\n",
    "fig = go.Figure(data=[roc_trace, diagonal_trace], layout=layout)\n",
    "\n",
    "\n",
    "fig.show()"
   ]
  },
  {
   "attachments": {},
   "cell_type": "markdown",
   "metadata": {},
   "source": [
    "The model is performing well in terms of classifying instances, with a high true positive rate and a low false positive rate.\n",
    "\n",
    "This could be a reliable classification model\n",
    "\n",
    "The classification of the negative cases is not bad, but tends to label most cases as churn (due to the imbalance target variable), which affects the true negative ratio. The lowest score 0.738\n"
   ]
  },
  {
   "attachments": {},
   "cell_type": "markdown",
   "metadata": {},
   "source": [
    "## XGBoost\n",
    "\n",
    "|  Name |Comments   |Accuracy / recall   |Parameters|\n",
    "|---|---|---|---|\n",
    "| Version 1: |Significantly less overfitting compared to the random forest, the model selected the upper bound of layers |accuracy: 0.94/0.98|Selected parameters: scale_pos_weight': 1, reg_lambda': 0.5, n_estimators': 10, max_depth': 20, learning_rate': 0.1, gamma': 0.1, colsample_bytree': 0.8|\n",
    "| Version 2 |Same result with less layers, it the accuracy is improved faster vs the random forest and is less expensive  |0.94/0.97|Selected parameters: scale_pos_weight': 1, reg_lambda': 0.5, reg_alpha': 1, n_estimators': 200, max_depth': 5, learning_rate': 1, gamma': 0.1, colsample_bytree': 0.9|\n",
    "\n",
    "The results between  2  - 5 layers are very similar, and the decision of which model to choose, depend on which metrics to optimize, since the accuracy of 2 is slightly better but the specificity is not as good\n",
    "\n",
    "After reviewing the pros and cons, I will continue with the XGBoost of 5 layers"
   ]
  },
  {
   "attachments": {},
   "cell_type": "markdown",
   "metadata": {},
   "source": [
    "> the next cell is commented due to the running time: since it isn't the final version, there is no pickle of the model"
   ]
  },
  {
   "cell_type": "code",
   "execution_count": 25,
   "metadata": {},
   "outputs": [
    {
     "data": {
      "text/plain": [
       "'\\nestimators = [\\n    (\"model\", XGBClassifier())\\n]\\n\\npipe = Pipeline(estimators)\\n\\nparam_grid = { \\n    \\'model__max_depth\\': [5, 10, 20],\\n    \\'model__colsample_bytree\\': [0.3, 0.5, 0.8],  # Hyperparameter for XGBoost\\n    \\'model__reg_alpha\\': [0, 0.5, 1, 5],  # Hyperparameter for XGBoost\\n    \\'model__reg_lambda\\': [0, 0.5, 1, 5],  # Hyperparameter for XGBoost\\n    \\'model__learning_rate\\': [0.01, 0.1, 1],  # Hyperparameter for XGBoost\\n    \\'model__gamma\\':[0.01, 0.1, 1, 10],\\n    \\'model__n_estimators\\': [1, 10],\\n    \\'model__scale_pos_weight\\': [0.1, 1, 10, 100]\\n}\\n\\ngrid = GridSearchCV(pipe, param_grid, cv=3, verbose=1)\\nxgb_fitted_grid = grid.fit(X_train, y_train)\\n\\n'"
      ]
     },
     "execution_count": 25,
     "metadata": {},
     "output_type": "execute_result"
    }
   ],
   "source": [
    "\n",
    "\"\"\"\n",
    "estimators = [\n",
    "    (\"model\", XGBClassifier())\n",
    "]\n",
    "\n",
    "pipe = Pipeline(estimators)\n",
    "\n",
    "param_grid = { \n",
    "    'model__max_depth': [5, 10, 20],\n",
    "    'model__colsample_bytree': [0.3, 0.5, 0.8],  # Hyperparameter for XGBoost\n",
    "    'model__reg_alpha': [0, 0.5, 1, 5],  # Hyperparameter for XGBoost\n",
    "    'model__reg_lambda': [0, 0.5, 1, 5],  # Hyperparameter for XGBoost\n",
    "    'model__learning_rate': [0.01, 0.1, 1],  # Hyperparameter for XGBoost\n",
    "    'model__gamma':[0.01, 0.1, 1, 10],\n",
    "    'model__n_estimators': [1, 10],\n",
    "    'model__scale_pos_weight': [0.1, 1, 10, 100]\n",
    "}\n",
    "\n",
    "grid = GridSearchCV(pipe, param_grid, cv=3, verbose=1)\n",
    "xgb_fitted_grid = grid.fit(X_train, y_train)\n",
    "\n",
    "\"\"\""
   ]
  },
  {
   "cell_type": "code",
   "execution_count": 27,
   "metadata": {},
   "outputs": [
    {
     "data": {
      "text/plain": [
       "'\\n#Version 1 best parameters\\nxgb_fitted_grid.best_params_ \\n#Accuracy score\\nxgb_fitted_grid.score(X_test, y_test)\\n#Overfitting evaluation\\nxgb_fitted_grid.score(X_train, y_train)\\n'"
      ]
     },
     "execution_count": 27,
     "metadata": {},
     "output_type": "execute_result"
    }
   ],
   "source": [
    "\"\"\"\n",
    "#Version 1 best parameters\n",
    "xgb_fitted_grid.best_params_ \n",
    "#Accuracy score\n",
    "xgb_fitted_grid.score(X_test, y_test)\n",
    "#Overfitting evaluation\n",
    "xgb_fitted_grid.score(X_train, y_train)\n",
    "\"\"\""
   ]
  },
  {
   "cell_type": "code",
   "execution_count": null,
   "metadata": {},
   "outputs": [
    {
     "name": "stdout",
     "output_type": "stream",
     "text": [
      "\n",
      "- Baseline accuracy: 0.9405722670579604\n",
      "- Baseline recall: 0.9827141382868937\n",
      "- Baseline precision: 0.9462178611352627\n",
      "- Baseline f1: 0.9641207365690058\n",
      "\n"
     ]
    }
   ],
   "source": [
    "\"\"\"#XGBoost version 1 results\n",
    "\n",
    "# Predict labels\n",
    "y_pred = xgb_fitted_grid.predict(X_test)\n",
    "\n",
    "# Accuracy, Precision, recall, and F1-score\n",
    "accuracy = xgb_fitted_grid.score(X_test, y_test)\n",
    "precision = precision_score(y_test, y_pred)\n",
    "recall = recall_score(y_test, y_pred)\n",
    "f1 = f1_score(y_test, y_pred)\n",
    "\n",
    "print(f\n",
    "- Baseline accuracy: {accuracy}\n",
    "- Baseline recall: {recall}\n",
    "- Baseline precision: {precision}\n",
    "- Baseline f1: {f1}\n",
    ")\n",
    "\"\"\""
   ]
  },
  {
   "attachments": {},
   "cell_type": "markdown",
   "metadata": {},
   "source": [
    "> the next cell is commented, but has the respective pickle"
   ]
  },
  {
   "cell_type": "code",
   "execution_count": null,
   "metadata": {},
   "outputs": [
    {
     "name": "stdout",
     "output_type": "stream",
     "text": [
      "Fitting 5 folds for each of 4 candidates, totalling 20 fits\n"
     ]
    }
   ],
   "source": [
    "\"\"\"\n",
    "#XGBoost Version 2\n",
    "estimators = [\n",
    "    (\"model\", XGBClassifier())\n",
    "]\n",
    "\n",
    "pipe = Pipeline(estimators)\n",
    "\n",
    "param_grid = { \n",
    "    'model__max_depth': [5],\n",
    "    'model__colsample_bytree': [ 0.9],  # Hyperparameter for XGBoost\n",
    "    'model__reg_alpha': [1 ],  # Hyperparameter for XGBoost\n",
    "    'model__reg_lambda': [0.5],  # Hyperparameter for XGBoost\n",
    "    'model__learning_rate': [1],  # Hyperparameter for XGBoost\n",
    "    'model__gamma':[0.1,],\n",
    "    'model__n_estimators': [100, 150, 200, 500],\n",
    "    'model__scale_pos_weight': [1]\n",
    "}\n",
    "\n",
    "grid = GridSearchCV(pipe, param_grid, cv=5, verbose=1)\n",
    "xgb_fitted_grid2 = grid.fit(X_train, y_train)\n",
    "\"\"\""
   ]
  },
  {
   "cell_type": "code",
   "execution_count": null,
   "metadata": {},
   "outputs": [
    {
     "data": {
      "text/plain": [
       "['../model/it2_xgboost.pkl']"
      ]
     },
     "execution_count": 49,
     "metadata": {},
     "output_type": "execute_result"
    }
   ],
   "source": [
    "#Saving the model:\n",
    "#joblib.dump(xgb_fitted_grid2, '../model/it2_xgboost.pkl')"
   ]
  },
  {
   "cell_type": "code",
   "execution_count": 28,
   "metadata": {},
   "outputs": [],
   "source": [
    "#loading the model\n",
    "xgb_fitted_grid2 = joblib.load('../model/it2_xgboost.pkl')"
   ]
  },
  {
   "cell_type": "code",
   "execution_count": 29,
   "metadata": {},
   "outputs": [
    {
     "name": "stdout",
     "output_type": "stream",
     "text": [
      "{'model__colsample_bytree': 0.9, 'model__gamma': 0.1, 'model__learning_rate': 1, 'model__max_depth': 3, 'model__n_estimators': 200, 'model__reg_alpha': 1, 'model__reg_lambda': 0.5, 'model__scale_pos_weight': 1}\n"
     ]
    }
   ],
   "source": [
    "#Version 2 best parameters\n",
    "print(xgb_fitted_grid2.best_params_)"
   ]
  },
  {
   "cell_type": "code",
   "execution_count": 30,
   "metadata": {},
   "outputs": [
    {
     "data": {
      "text/plain": [
       "0.9390001048108165"
      ]
     },
     "execution_count": 30,
     "metadata": {},
     "output_type": "execute_result"
    }
   ],
   "source": [
    "#Version 2 score\n",
    "xgb_fitted_grid2.score(X_test, y_test)\n"
   ]
  },
  {
   "attachments": {},
   "cell_type": "markdown",
   "metadata": {},
   "source": [
    "#### Optimizing the XGBoost"
   ]
  },
  {
   "cell_type": "code",
   "execution_count": 31,
   "metadata": {},
   "outputs": [],
   "source": [
    "xgdepth = np.arange(1, 25)"
   ]
  },
  {
   "attachments": {},
   "cell_type": "markdown",
   "metadata": {},
   "source": [
    "> The next cell takes 3mins to run"
   ]
  },
  {
   "cell_type": "code",
   "execution_count": 32,
   "metadata": {},
   "outputs": [],
   "source": [
    "#Split:\n",
    "\n",
    "#Train and test split\n",
    "X_train_tempxg, X_valxg, y_train_tempxg, y_valxg = train_test_split(X_train, y_train, test_size=0.2, stratify=y_train, random_state=24)\n",
    "\n",
    "#Lists:\n",
    "\n",
    "accuracy_testxg = []\n",
    "accuracy_trainxg = []\n",
    "\n",
    "recall_final = []\n",
    "\n",
    "#Model: \n",
    "for depth in xgdepth:\n",
    "    it2_xg = XGBClassifier(colsample_bytree=0.9, gamma=0.1, learning_rate=1, max_depth=depth, n_estimators=200, reg_alpha=1, reg_lambda=0.05, scale_pos_weight=1)\n",
    "    #it2_cv = cross_val_score(it2_rf, X_train, y_train, cv=5)\n",
    "    it2_fitted = it2_xg.fit(X_train_tempxg, y_train_tempxg)\n",
    "    accuracy_testxg.append(it2_fitted.score(X_valxg, y_valxg))\n",
    "    accuracy_trainxg.append(it2_fitted.score(X_train_tempxg, y_train_tempxg))\n",
    "    y_pred = it2_fitted.predict(X_valxg)\n",
    "    recall_final.append(recall_score(y_valxg, y_pred))"
   ]
  },
  {
   "cell_type": "code",
   "execution_count": 33,
   "metadata": {},
   "outputs": [
    {
     "data": {
      "application/vnd.plotly.v1+json": {
       "config": {
        "plotlyServerURL": "https://plot.ly"
       },
       "data": [
        {
         "line": {
          "color": "red"
         },
         "name": "Accuracy Test",
         "type": "scatter",
         "x": [
          1,
          2,
          3,
          4,
          5,
          6,
          7,
          8,
          9,
          10,
          11,
          12,
          13,
          14,
          15,
          16,
          17,
          18,
          19,
          20,
          21,
          22,
          23,
          24
         ],
         "y": [
          0.925062229791694,
          0.9373771780427093,
          0.9358050569893882,
          0.9352810166382811,
          0.9348879863749509,
          0.9354120267260579,
          0.9337088955849601,
          0.9355430368138347,
          0.9316127341805319,
          0.9329228350582995,
          0.930433643390541,
          0.9337088955849601,
          0.9338399056727368,
          0.9356740469016114,
          0.9329228350582995,
          0.9343639460238439,
          0.932660814882746,
          0.9346259661993973,
          0.934232935936067,
          0.9314817240927551,
          0.9368531376916023,
          0.934232935936067,
          0.933184855233853,
          0.9367221276038254
         ]
        },
        {
         "line": {
          "color": "slateblue"
         },
         "name": "Accuracy Train",
         "type": "scatter",
         "x": [
          1,
          2,
          3,
          4,
          5,
          6,
          7,
          8,
          9,
          10,
          11,
          12,
          13,
          14,
          15,
          16,
          17,
          18,
          19,
          20,
          21,
          22,
          23,
          24
         ],
         "y": [
          0.9349164755977727,
          0.9616442843105143,
          0.9850638716017033,
          0.9997052079921389,
          1,
          1,
          1,
          1,
          1,
          1,
          1,
          1,
          1,
          1,
          1,
          1,
          1,
          1,
          1,
          1,
          1,
          1,
          1,
          1
         ]
        }
       ],
       "layout": {
        "legend": {
         "title": {
          "text": "Accuracy"
         }
        },
        "template": {
         "data": {
          "bar": [
           {
            "error_x": {
             "color": "#2a3f5f"
            },
            "error_y": {
             "color": "#2a3f5f"
            },
            "marker": {
             "line": {
              "color": "#E5ECF6",
              "width": 0.5
             },
             "pattern": {
              "fillmode": "overlay",
              "size": 10,
              "solidity": 0.2
             }
            },
            "type": "bar"
           }
          ],
          "barpolar": [
           {
            "marker": {
             "line": {
              "color": "#E5ECF6",
              "width": 0.5
             },
             "pattern": {
              "fillmode": "overlay",
              "size": 10,
              "solidity": 0.2
             }
            },
            "type": "barpolar"
           }
          ],
          "carpet": [
           {
            "aaxis": {
             "endlinecolor": "#2a3f5f",
             "gridcolor": "white",
             "linecolor": "white",
             "minorgridcolor": "white",
             "startlinecolor": "#2a3f5f"
            },
            "baxis": {
             "endlinecolor": "#2a3f5f",
             "gridcolor": "white",
             "linecolor": "white",
             "minorgridcolor": "white",
             "startlinecolor": "#2a3f5f"
            },
            "type": "carpet"
           }
          ],
          "choropleth": [
           {
            "colorbar": {
             "outlinewidth": 0,
             "ticks": ""
            },
            "type": "choropleth"
           }
          ],
          "contour": [
           {
            "colorbar": {
             "outlinewidth": 0,
             "ticks": ""
            },
            "colorscale": [
             [
              0,
              "#0d0887"
             ],
             [
              0.1111111111111111,
              "#46039f"
             ],
             [
              0.2222222222222222,
              "#7201a8"
             ],
             [
              0.3333333333333333,
              "#9c179e"
             ],
             [
              0.4444444444444444,
              "#bd3786"
             ],
             [
              0.5555555555555556,
              "#d8576b"
             ],
             [
              0.6666666666666666,
              "#ed7953"
             ],
             [
              0.7777777777777778,
              "#fb9f3a"
             ],
             [
              0.8888888888888888,
              "#fdca26"
             ],
             [
              1,
              "#f0f921"
             ]
            ],
            "type": "contour"
           }
          ],
          "contourcarpet": [
           {
            "colorbar": {
             "outlinewidth": 0,
             "ticks": ""
            },
            "type": "contourcarpet"
           }
          ],
          "heatmap": [
           {
            "colorbar": {
             "outlinewidth": 0,
             "ticks": ""
            },
            "colorscale": [
             [
              0,
              "#0d0887"
             ],
             [
              0.1111111111111111,
              "#46039f"
             ],
             [
              0.2222222222222222,
              "#7201a8"
             ],
             [
              0.3333333333333333,
              "#9c179e"
             ],
             [
              0.4444444444444444,
              "#bd3786"
             ],
             [
              0.5555555555555556,
              "#d8576b"
             ],
             [
              0.6666666666666666,
              "#ed7953"
             ],
             [
              0.7777777777777778,
              "#fb9f3a"
             ],
             [
              0.8888888888888888,
              "#fdca26"
             ],
             [
              1,
              "#f0f921"
             ]
            ],
            "type": "heatmap"
           }
          ],
          "heatmapgl": [
           {
            "colorbar": {
             "outlinewidth": 0,
             "ticks": ""
            },
            "colorscale": [
             [
              0,
              "#0d0887"
             ],
             [
              0.1111111111111111,
              "#46039f"
             ],
             [
              0.2222222222222222,
              "#7201a8"
             ],
             [
              0.3333333333333333,
              "#9c179e"
             ],
             [
              0.4444444444444444,
              "#bd3786"
             ],
             [
              0.5555555555555556,
              "#d8576b"
             ],
             [
              0.6666666666666666,
              "#ed7953"
             ],
             [
              0.7777777777777778,
              "#fb9f3a"
             ],
             [
              0.8888888888888888,
              "#fdca26"
             ],
             [
              1,
              "#f0f921"
             ]
            ],
            "type": "heatmapgl"
           }
          ],
          "histogram": [
           {
            "marker": {
             "pattern": {
              "fillmode": "overlay",
              "size": 10,
              "solidity": 0.2
             }
            },
            "type": "histogram"
           }
          ],
          "histogram2d": [
           {
            "colorbar": {
             "outlinewidth": 0,
             "ticks": ""
            },
            "colorscale": [
             [
              0,
              "#0d0887"
             ],
             [
              0.1111111111111111,
              "#46039f"
             ],
             [
              0.2222222222222222,
              "#7201a8"
             ],
             [
              0.3333333333333333,
              "#9c179e"
             ],
             [
              0.4444444444444444,
              "#bd3786"
             ],
             [
              0.5555555555555556,
              "#d8576b"
             ],
             [
              0.6666666666666666,
              "#ed7953"
             ],
             [
              0.7777777777777778,
              "#fb9f3a"
             ],
             [
              0.8888888888888888,
              "#fdca26"
             ],
             [
              1,
              "#f0f921"
             ]
            ],
            "type": "histogram2d"
           }
          ],
          "histogram2dcontour": [
           {
            "colorbar": {
             "outlinewidth": 0,
             "ticks": ""
            },
            "colorscale": [
             [
              0,
              "#0d0887"
             ],
             [
              0.1111111111111111,
              "#46039f"
             ],
             [
              0.2222222222222222,
              "#7201a8"
             ],
             [
              0.3333333333333333,
              "#9c179e"
             ],
             [
              0.4444444444444444,
              "#bd3786"
             ],
             [
              0.5555555555555556,
              "#d8576b"
             ],
             [
              0.6666666666666666,
              "#ed7953"
             ],
             [
              0.7777777777777778,
              "#fb9f3a"
             ],
             [
              0.8888888888888888,
              "#fdca26"
             ],
             [
              1,
              "#f0f921"
             ]
            ],
            "type": "histogram2dcontour"
           }
          ],
          "mesh3d": [
           {
            "colorbar": {
             "outlinewidth": 0,
             "ticks": ""
            },
            "type": "mesh3d"
           }
          ],
          "parcoords": [
           {
            "line": {
             "colorbar": {
              "outlinewidth": 0,
              "ticks": ""
             }
            },
            "type": "parcoords"
           }
          ],
          "pie": [
           {
            "automargin": true,
            "type": "pie"
           }
          ],
          "scatter": [
           {
            "fillpattern": {
             "fillmode": "overlay",
             "size": 10,
             "solidity": 0.2
            },
            "type": "scatter"
           }
          ],
          "scatter3d": [
           {
            "line": {
             "colorbar": {
              "outlinewidth": 0,
              "ticks": ""
             }
            },
            "marker": {
             "colorbar": {
              "outlinewidth": 0,
              "ticks": ""
             }
            },
            "type": "scatter3d"
           }
          ],
          "scattercarpet": [
           {
            "marker": {
             "colorbar": {
              "outlinewidth": 0,
              "ticks": ""
             }
            },
            "type": "scattercarpet"
           }
          ],
          "scattergeo": [
           {
            "marker": {
             "colorbar": {
              "outlinewidth": 0,
              "ticks": ""
             }
            },
            "type": "scattergeo"
           }
          ],
          "scattergl": [
           {
            "marker": {
             "colorbar": {
              "outlinewidth": 0,
              "ticks": ""
             }
            },
            "type": "scattergl"
           }
          ],
          "scattermapbox": [
           {
            "marker": {
             "colorbar": {
              "outlinewidth": 0,
              "ticks": ""
             }
            },
            "type": "scattermapbox"
           }
          ],
          "scatterpolar": [
           {
            "marker": {
             "colorbar": {
              "outlinewidth": 0,
              "ticks": ""
             }
            },
            "type": "scatterpolar"
           }
          ],
          "scatterpolargl": [
           {
            "marker": {
             "colorbar": {
              "outlinewidth": 0,
              "ticks": ""
             }
            },
            "type": "scatterpolargl"
           }
          ],
          "scatterternary": [
           {
            "marker": {
             "colorbar": {
              "outlinewidth": 0,
              "ticks": ""
             }
            },
            "type": "scatterternary"
           }
          ],
          "surface": [
           {
            "colorbar": {
             "outlinewidth": 0,
             "ticks": ""
            },
            "colorscale": [
             [
              0,
              "#0d0887"
             ],
             [
              0.1111111111111111,
              "#46039f"
             ],
             [
              0.2222222222222222,
              "#7201a8"
             ],
             [
              0.3333333333333333,
              "#9c179e"
             ],
             [
              0.4444444444444444,
              "#bd3786"
             ],
             [
              0.5555555555555556,
              "#d8576b"
             ],
             [
              0.6666666666666666,
              "#ed7953"
             ],
             [
              0.7777777777777778,
              "#fb9f3a"
             ],
             [
              0.8888888888888888,
              "#fdca26"
             ],
             [
              1,
              "#f0f921"
             ]
            ],
            "type": "surface"
           }
          ],
          "table": [
           {
            "cells": {
             "fill": {
              "color": "#EBF0F8"
             },
             "line": {
              "color": "white"
             }
            },
            "header": {
             "fill": {
              "color": "#C8D4E3"
             },
             "line": {
              "color": "white"
             }
            },
            "type": "table"
           }
          ]
         },
         "layout": {
          "annotationdefaults": {
           "arrowcolor": "#2a3f5f",
           "arrowhead": 0,
           "arrowwidth": 1
          },
          "autotypenumbers": "strict",
          "coloraxis": {
           "colorbar": {
            "outlinewidth": 0,
            "ticks": ""
           }
          },
          "colorscale": {
           "diverging": [
            [
             0,
             "#8e0152"
            ],
            [
             0.1,
             "#c51b7d"
            ],
            [
             0.2,
             "#de77ae"
            ],
            [
             0.3,
             "#f1b6da"
            ],
            [
             0.4,
             "#fde0ef"
            ],
            [
             0.5,
             "#f7f7f7"
            ],
            [
             0.6,
             "#e6f5d0"
            ],
            [
             0.7,
             "#b8e186"
            ],
            [
             0.8,
             "#7fbc41"
            ],
            [
             0.9,
             "#4d9221"
            ],
            [
             1,
             "#276419"
            ]
           ],
           "sequential": [
            [
             0,
             "#0d0887"
            ],
            [
             0.1111111111111111,
             "#46039f"
            ],
            [
             0.2222222222222222,
             "#7201a8"
            ],
            [
             0.3333333333333333,
             "#9c179e"
            ],
            [
             0.4444444444444444,
             "#bd3786"
            ],
            [
             0.5555555555555556,
             "#d8576b"
            ],
            [
             0.6666666666666666,
             "#ed7953"
            ],
            [
             0.7777777777777778,
             "#fb9f3a"
            ],
            [
             0.8888888888888888,
             "#fdca26"
            ],
            [
             1,
             "#f0f921"
            ]
           ],
           "sequentialminus": [
            [
             0,
             "#0d0887"
            ],
            [
             0.1111111111111111,
             "#46039f"
            ],
            [
             0.2222222222222222,
             "#7201a8"
            ],
            [
             0.3333333333333333,
             "#9c179e"
            ],
            [
             0.4444444444444444,
             "#bd3786"
            ],
            [
             0.5555555555555556,
             "#d8576b"
            ],
            [
             0.6666666666666666,
             "#ed7953"
            ],
            [
             0.7777777777777778,
             "#fb9f3a"
            ],
            [
             0.8888888888888888,
             "#fdca26"
            ],
            [
             1,
             "#f0f921"
            ]
           ]
          },
          "colorway": [
           "#636efa",
           "#EF553B",
           "#00cc96",
           "#ab63fa",
           "#FFA15A",
           "#19d3f3",
           "#FF6692",
           "#B6E880",
           "#FF97FF",
           "#FECB52"
          ],
          "font": {
           "color": "#2a3f5f"
          },
          "geo": {
           "bgcolor": "white",
           "lakecolor": "white",
           "landcolor": "#E5ECF6",
           "showlakes": true,
           "showland": true,
           "subunitcolor": "white"
          },
          "hoverlabel": {
           "align": "left"
          },
          "hovermode": "closest",
          "mapbox": {
           "style": "light"
          },
          "paper_bgcolor": "white",
          "plot_bgcolor": "#E5ECF6",
          "polar": {
           "angularaxis": {
            "gridcolor": "white",
            "linecolor": "white",
            "ticks": ""
           },
           "bgcolor": "#E5ECF6",
           "radialaxis": {
            "gridcolor": "white",
            "linecolor": "white",
            "ticks": ""
           }
          },
          "scene": {
           "xaxis": {
            "backgroundcolor": "#E5ECF6",
            "gridcolor": "white",
            "gridwidth": 2,
            "linecolor": "white",
            "showbackground": true,
            "ticks": "",
            "zerolinecolor": "white"
           },
           "yaxis": {
            "backgroundcolor": "#E5ECF6",
            "gridcolor": "white",
            "gridwidth": 2,
            "linecolor": "white",
            "showbackground": true,
            "ticks": "",
            "zerolinecolor": "white"
           },
           "zaxis": {
            "backgroundcolor": "#E5ECF6",
            "gridcolor": "white",
            "gridwidth": 2,
            "linecolor": "white",
            "showbackground": true,
            "ticks": "",
            "zerolinecolor": "white"
           }
          },
          "shapedefaults": {
           "line": {
            "color": "#2a3f5f"
           }
          },
          "ternary": {
           "aaxis": {
            "gridcolor": "white",
            "linecolor": "white",
            "ticks": ""
           },
           "baxis": {
            "gridcolor": "white",
            "linecolor": "white",
            "ticks": ""
           },
           "bgcolor": "#E5ECF6",
           "caxis": {
            "gridcolor": "white",
            "linecolor": "white",
            "ticks": ""
           }
          },
          "title": {
           "x": 0.05
          },
          "xaxis": {
           "automargin": true,
           "gridcolor": "white",
           "linecolor": "white",
           "ticks": "",
           "title": {
            "standoff": 15
           },
           "zerolinecolor": "white",
           "zerolinewidth": 2
          },
          "yaxis": {
           "automargin": true,
           "gridcolor": "white",
           "linecolor": "white",
           "ticks": "",
           "title": {
            "standoff": 15
           },
           "zerolinecolor": "white",
           "zerolinewidth": 2
          }
         }
        },
        "title": {
         "text": "XGBoost overfitting: accuracy and depth"
        },
        "xaxis": {
         "title": {
          "text": "Depths"
         }
        },
        "yaxis": {
         "title": {
          "text": "Accuracy"
         }
        }
       }
      }
     },
     "metadata": {},
     "output_type": "display_data"
    }
   ],
   "source": [
    "fig = go.Figure()\n",
    "\n",
    "# Accuracy test\n",
    "fig.add_trace(go.Scatter(x=xgdepth, y=accuracy_testxg, name='Accuracy Test', line=dict(color='red')))\n",
    "\n",
    "# Accuracy_train\n",
    "fig.add_trace(go.Scatter(x=xgdepth, y=accuracy_trainxg, name='Accuracy Train', line=dict(color='slateblue')))\n",
    "\n",
    "# Set the layout with titles\n",
    "fig.update_layout(\n",
    "    title='XGBoost overfitting: accuracy and depth',\n",
    "    xaxis_title='Depths',\n",
    "    yaxis_title='Accuracy',\n",
    "    legend_title='Accuracy',\n",
    ")\n",
    "\n",
    "# Show the figure\n",
    "fig.show()"
   ]
  },
  {
   "attachments": {},
   "cell_type": "markdown",
   "metadata": {},
   "source": [
    "The optimum number of layers is 2, after that depth the number starts to overfit and underperform, this would be the main decision driver if the most relevant metric was accuracy, but for the negative classes, a layer of 5 outperforms"
   ]
  },
  {
   "cell_type": "code",
   "execution_count": 34,
   "metadata": {},
   "outputs": [
    {
     "name": "stdout",
     "output_type": "stream",
     "text": [
      "Fitting 5 folds for each of 1 candidates, totalling 5 fits\n"
     ]
    }
   ],
   "source": [
    "#XGBoost Version 3\n",
    "estimators = [\n",
    "    (\"model\", XGBClassifier())\n",
    "]\n",
    "\n",
    "pipe = Pipeline(estimators)\n",
    "\n",
    "param_grid = { \n",
    "    'model__max_depth': [2],\n",
    "    'model__colsample_bytree': [ 0.9],  # Hyperparameter for XGBoost\n",
    "    'model__reg_alpha': [1 ],  # Hyperparameter for XGBoost\n",
    "    'model__reg_lambda': [0.5],  # Hyperparameter for XGBoost\n",
    "    'model__learning_rate': [1],  # Hyperparameter for XGBoost\n",
    "    'model__gamma':[0.1,],\n",
    "    'model__n_estimators': [200],\n",
    "    'model__scale_pos_weight': [1]\n",
    "}\n",
    "\n",
    "grid = GridSearchCV(pipe, param_grid, cv=5, verbose=1)\n",
    "xgb_fitted_grid3 = grid.fit(X_train, y_train)"
   ]
  },
  {
   "cell_type": "code",
   "execution_count": 35,
   "metadata": {},
   "outputs": [
    {
     "data": {
      "image/png": "[encoded data removed]",
      "text/plain": [
       "<Figure size 640x480 with 2 Axes>"
      ]
     },
     "metadata": {},
     "output_type": "display_data"
    }
   ],
   "source": [
    "# Confusion Matrix\n",
    "cmx = confusion_matrix(y_test, xgb_fitted_grid3.predict(X_test), labels=xgb_fitted_grid3.best_estimator_.classes_)\n",
    "\n",
    "# Set the font color of values inside the matrix to white\n",
    "sns.heatmap(cmx, annot=True, cmap='vlag', fmt='d', annot_kws={\"color\": \"white\"})\n",
    "\n",
    "\n",
    "plt.title(\"Best XGBoost Model Confusion Matrix\")\n",
    "plt.xlabel(\"Predicted\")\n",
    "plt.ylabel(\"Actual\")\n",
    "plt.show()"
   ]
  },
  {
   "cell_type": "code",
   "execution_count": 36,
   "metadata": {},
   "outputs": [
    {
     "name": "stdout",
     "output_type": "stream",
     "text": [
      "Negative Predictive Value: 0.8819095477386935\n",
      "True Negative ratio: 0.7847959754052544\n"
     ]
    }
   ],
   "source": [
    "#Negative Predictive Value = TN / (TN + FN)\n",
    "print(f\"Negative Predictive Value: {1404 /(1404 + 188)}\")\n",
    "\n",
    "#True Negative Ratio = TN / (TN + FP)\n",
    "print(f\"True Negative ratio: {1404 / (1404 + 385)}\")"
   ]
  },
  {
   "cell_type": "code",
   "execution_count": 37,
   "metadata": {},
   "outputs": [
    {
     "name": "stdout",
     "output_type": "stream",
     "text": [
      "\n",
      "- Baseline accuracy: 0.9399434021591028\n",
      "- Baseline recall: 0.9757481940144479\n",
      "- Baseline precision: 0.951566234746509\n",
      "- Baseline f1: 0.9635055092032355\n",
      "\n"
     ]
    }
   ],
   "source": [
    "#XGBoost version 3 results\n",
    "\n",
    "# Predict labels\n",
    "y_pred = xgb_fitted_grid3.predict(X_test)\n",
    "\n",
    "# Accuracy, Precision, recall, and F1-score\n",
    "accuracy = xgb_fitted_grid3.score(X_test, y_test)\n",
    "precision = precision_score(y_test, y_pred)\n",
    "recall = recall_score(y_test, y_pred)\n",
    "f1 = f1_score(y_test, y_pred)\n",
    "\n",
    "print(f\"\"\"\n",
    "- Baseline accuracy: {accuracy}\n",
    "- Baseline recall: {recall}\n",
    "- Baseline precision: {precision}\n",
    "- Baseline f1: {f1}\n",
    "\"\"\")"
   ]
  },
  {
   "cell_type": "code",
   "execution_count": 39,
   "metadata": {},
   "outputs": [
    {
     "data": {
      "image/png": "[encoded data removed]",
      "text/plain": [
       "<Figure size 640x480 with 2 Axes>"
      ]
     },
     "metadata": {},
     "output_type": "display_data"
    }
   ],
   "source": [
    "# Confusion Matrix\n",
    "cmx = confusion_matrix(y_test, xgb_fitted_grid2.predict(X_test), labels=xgb_fitted_grid2.best_estimator_.classes_)\n",
    "\n",
    "# Set the font color of values inside the matrix to white\n",
    "sns.heatmap(cmx, annot=True, cmap='vlag', fmt='d', annot_kws={\"color\": \"white\"})\n",
    "\n",
    "\n",
    "plt.title(\"Best XGBoost Model Confusion Matrix\")\n",
    "plt.xlabel(\"Predicted\")\n",
    "plt.ylabel(\"Actual\")\n",
    "plt.show()"
   ]
  },
  {
   "cell_type": "code",
   "execution_count": 40,
   "metadata": {},
   "outputs": [
    {
     "name": "stdout",
     "output_type": "stream",
     "text": [
      "Negative Predictive Value: 0.9100671140939597\n",
      "True Negative ratio: 0.7579653437674678\n"
     ]
    }
   ],
   "source": [
    "#Negative Predictive Value = TN / (TN + FN)\n",
    "print(f\"Negative Predictive Value: {1356 /(1356 + 134)}\")\n",
    "\n",
    "#True Negative Ratio = TN / (TN + FP)\n",
    "print(f\"True Negative ratio: {1356 / (1356 + 433)}\")"
   ]
  },
  {
   "cell_type": "code",
   "execution_count": 41,
   "metadata": {},
   "outputs": [
    {
     "data": {
      "text/plain": [
       "0.9399434021591028"
      ]
     },
     "execution_count": 41,
     "metadata": {},
     "output_type": "execute_result"
    }
   ],
   "source": [
    "#XGBooster version 3 accuracy\n",
    "xgb_fitted_grid3.score(X_test, y_test)"
   ]
  },
  {
   "cell_type": "code",
   "execution_count": 42,
   "metadata": {},
   "outputs": [
    {
     "data": {
      "application/vnd.plotly.v1+json": {
       "config": {
        "plotlyServerURL": "https://plot.ly"
       },
       "data": [
        {
         "mode": "lines",
         "name": "ROC Curve (AUC = 0.98)",
         "type": "scatter",
         "x": [
          0,
          0,
          0,
          0,
          0,
          0,
          0,
          0,
          0,
          0,
          0,
          0,
          0,
          0,
          0,
          0,
          0,
          0,
          0,
          0,
          0,
          0,
          0,
          0,
          0,
          0,
          0,
          0,
          0,
          0,
          0,
          0,
          0,
          0,
          0,
          0,
          0,
          0,
          0,
          0,
          0,
          0,
          0,
          0,
          0,
          0,
          0,
          0,
          0,
          0,
          0,
          0,
          0,
          0,
          0,
          0,
          0,
          0,
          0,
          0,
          0,
          0,
          0,
          0,
          0,
          0,
          0,
          0,
          0,
          0,
          0,
          0,
          0,
          0,
          0,
          0,
          0,
          0,
          0,
          0,
          0,
          0,
          0,
          0,
          0,
          0,
          0,
          0,
          0,
          0,
          0,
          0,
          0,
          0,
          0,
          0,
          0,
          0,
          0,
          0,
          0,
          0,
          0,
          0,
          0,
          0,
          0,
          0,
          0,
          0,
          0,
          0,
          0,
          0,
          0,
          0,
          0,
          0,
          0,
          0,
          0,
          0,
          0,
          0,
          0,
          0,
          0,
          0,
          0,
          0,
          0,
          0,
          0,
          0,
          0,
          0,
          0,
          0,
          0,
          0,
          0,
          0,
          0,
          0,
          0,
          0,
          0,
          0,
          0,
          0,
          0,
          0,
          0,
          0,
          0,
          0,
          0,
          0,
          0,
          0,
          0,
          0,
          0,
          0,
          0,
          0,
          0,
          0,
          0,
          0,
          0,
          0,
          0,
          0,
          0,
          0,
          0,
          0,
          0,
          0,
          0,
          0,
          0,
          0,
          0,
          0,
          0,
          0,
          0,
          0,
          0,
          0,
          0,
          0,
          0,
          0,
          0,
          0,
          0,
          0,
          0,
          0,
          0,
          0,
          0,
          0,
          0,
          0,
          0,
          0,
          0,
          0,
          0,
          0,
          0,
          0,
          0,
          0,
          0,
          0,
          0,
          0,
          0,
          0,
          0,
          0,
          0,
          0,
          0,
          0,
          0,
          0,
          0,
          0,
          0,
          0,
          0,
          0,
          0,
          0,
          0,
          0,
          0,
          0,
          0,
          0,
          0,
          0,
          0,
          0,
          0,
          0,
          0,
          0,
          0,
          0,
          0,
          0,
          0,
          0,
          0,
          0,
          0,
          0,
          0,
          0,
          0,
          0,
          0,
          0,
          0,
          0,
          0,
          0,
          0,
          0,
          0,
          0,
          0,
          0,
          0,
          0,
          0,
          0,
          0,
          0,
          0,
          0,
          0,
          0,
          0,
          0,
          0,
          0,
          0,
          0,
          0,
          0,
          0,
          0,
          0,
          0,
          0,
          0,
          0,
          0,
          0,
          0,
          0,
          0,
          0,
          0,
          0,
          0,
          0,
          0,
          0,
          0,
          0,
          0,
          0,
          0,
          0,
          0,
          0,
          0,
          0,
          0,
          0,
          0,
          0,
          0,
          0,
          0,
          0,
          0,
          0,
          0,
          0,
          0,
          0,
          0,
          0,
          0,
          0,
          0,
          0,
          0,
          0,
          0,
          0,
          0,
          0,
          0,
          0,
          0,
          0,
          0,
          0,
          0,
          0,
          0,
          0,
          0,
          0,
          0,
          0,
          0,
          0,
          0,
          0,
          0,
          0,
          0,
          0,
          0,
          0,
          0,
          0,
          0,
          0,
          0,
          0,
          0,
          0,
          0,
          0,
          0,
          0,
          0,
          0,
          0,
          0,
          0,
          0,
          0,
          0,
          0,
          0,
          0,
          0,
          0,
          0,
          0,
          0,
          0,
          0,
          0,
          0,
          0,
          0,
          0,
          0,
          0.0005589714924538849,
          0.0005589714924538849,
          0.0005589714924538849,
          0.0005589714924538849,
          0.0005589714924538849,
          0.0005589714924538849,
          0.0005589714924538849,
          0.0005589714924538849,
          0.0005589714924538849,
          0.0005589714924538849,
          0.0005589714924538849,
          0.0005589714924538849,
          0.0005589714924538849,
          0.0005589714924538849,
          0.0005589714924538849,
          0.0005589714924538849,
          0.0005589714924538849,
          0.0005589714924538849,
          0.0005589714924538849,
          0.0005589714924538849,
          0.0005589714924538849,
          0.0005589714924538849,
          0.0005589714924538849,
          0.0005589714924538849,
          0.0005589714924538849,
          0.0005589714924538849,
          0.0005589714924538849,
          0.0005589714924538849,
          0.0005589714924538849,
          0.0005589714924538849,
          0.0005589714924538849,
          0.0005589714924538849,
          0.0005589714924538849,
          0.0005589714924538849,
          0.0005589714924538849,
          0.0005589714924538849,
          0.0005589714924538849,
          0.0005589714924538849,
          0.0005589714924538849,
          0.0005589714924538849,
          0.0005589714924538849,
          0.0005589714924538849,
          0.0005589714924538849,
          0.0005589714924538849,
          0.0005589714924538849,
          0.0005589714924538849,
          0.0005589714924538849,
          0.0005589714924538849,
          0.0005589714924538849,
          0.0005589714924538849,
          0.0005589714924538849,
          0.0005589714924538849,
          0.0005589714924538849,
          0.0005589714924538849,
          0.0005589714924538849,
          0.0005589714924538849,
          0.0005589714924538849,
          0.0005589714924538849,
          0.0005589714924538849,
          0.0005589714924538849,
          0.0005589714924538849,
          0.0005589714924538849,
          0.0005589714924538849,
          0.0005589714924538849,
          0.0005589714924538849,
          0.0005589714924538849,
          0.0005589714924538849,
          0.0005589714924538849,
          0.0005589714924538849,
          0.0005589714924538849,
          0.0005589714924538849,
          0.0005589714924538849,
          0.0005589714924538849,
          0.0005589714924538849,
          0.0005589714924538849,
          0.0005589714924538849,
          0.0005589714924538849,
          0.0005589714924538849,
          0.0005589714924538849,
          0.0005589714924538849,
          0.0005589714924538849,
          0.0005589714924538849,
          0.0005589714924538849,
          0.0005589714924538849,
          0.0005589714924538849,
          0.0005589714924538849,
          0.0005589714924538849,
          0.0005589714924538849,
          0.0005589714924538849,
          0.0005589714924538849,
          0.0005589714924538849,
          0.0005589714924538849,
          0.0005589714924538849,
          0.0005589714924538849,
          0.0005589714924538849,
          0.0005589714924538849,
          0.0005589714924538849,
          0.0005589714924538849,
          0.0005589714924538849,
          0.0005589714924538849,
          0.0005589714924538849,
          0.0005589714924538849,
          0.0005589714924538849,
          0.0005589714924538849,
          0.0005589714924538849,
          0.0005589714924538849,
          0.0005589714924538849,
          0.0005589714924538849,
          0.0005589714924538849,
          0.0005589714924538849,
          0.0005589714924538849,
          0.0005589714924538849,
          0.0005589714924538849,
          0.0005589714924538849,
          0.0005589714924538849,
          0.0005589714924538849,
          0.0005589714924538849,
          0.0011179429849077697,
          0.0011179429849077697,
          0.0011179429849077697,
          0.0011179429849077697,
          0.0011179429849077697,
          0.0011179429849077697,
          0.0011179429849077697,
          0.0011179429849077697,
          0.0011179429849077697,
          0.0011179429849077697,
          0.0011179429849077697,
          0.0011179429849077697,
          0.0011179429849077697,
          0.0011179429849077697,
          0.0011179429849077697,
          0.0011179429849077697,
          0.0011179429849077697,
          0.0011179429849077697,
          0.0011179429849077697,
          0.0011179429849077697,
          0.0011179429849077697,
          0.0011179429849077697,
          0.0011179429849077697,
          0.0011179429849077697,
          0.0011179429849077697,
          0.0011179429849077697,
          0.0011179429849077697,
          0.0011179429849077697,
          0.0011179429849077697,
          0.0011179429849077697,
          0.0011179429849077697,
          0.0011179429849077697,
          0.0011179429849077697,
          0.0016769144773616546,
          0.0016769144773616546,
          0.0016769144773616546,
          0.0016769144773616546,
          0.0016769144773616546,
          0.0016769144773616546,
          0.0016769144773616546,
          0.0016769144773616546,
          0.0016769144773616546,
          0.0016769144773616546,
          0.0016769144773616546,
          0.0016769144773616546,
          0.0016769144773616546,
          0.0016769144773616546,
          0.0016769144773616546,
          0.0016769144773616546,
          0.0016769144773616546,
          0.0016769144773616546,
          0.0016769144773616546,
          0.0016769144773616546,
          0.0016769144773616546,
          0.0016769144773616546,
          0.0016769144773616546,
          0.0016769144773616546,
          0.0016769144773616546,
          0.0016769144773616546,
          0.0016769144773616546,
          0.0016769144773616546,
          0.0016769144773616546,
          0.0016769144773616546,
          0.0016769144773616546,
          0.0016769144773616546,
          0.0016769144773616546,
          0.0016769144773616546,
          0.0016769144773616546,
          0.0016769144773616546,
          0.0016769144773616546,
          0.0016769144773616546,
          0.0016769144773616546,
          0.0016769144773616546,
          0.0016769144773616546,
          0.0016769144773616546,
          0.0016769144773616546,
          0.0016769144773616546,
          0.0016769144773616546,
          0.0016769144773616546,
          0.0016769144773616546,
          0.0016769144773616546,
          0.0022358859698155395,
          0.0022358859698155395,
          0.0022358859698155395,
          0.0022358859698155395,
          0.002794857462269424,
          0.002794857462269424,
          0.002794857462269424,
          0.002794857462269424,
          0.002794857462269424,
          0.002794857462269424,
          0.002794857462269424,
          0.002794857462269424,
          0.002794857462269424,
          0.002794857462269424,
          0.002794857462269424,
          0.002794857462269424,
          0.002794857462269424,
          0.002794857462269424,
          0.002794857462269424,
          0.002794857462269424,
          0.002794857462269424,
          0.002794857462269424,
          0.002794857462269424,
          0.002794857462269424,
          0.002794857462269424,
          0.002794857462269424,
          0.002794857462269424,
          0.002794857462269424,
          0.002794857462269424,
          0.002794857462269424,
          0.002794857462269424,
          0.002794857462269424,
          0.002794857462269424,
          0.002794857462269424,
          0.002794857462269424,
          0.002794857462269424,
          0.002794857462269424,
          0.002794857462269424,
          0.002794857462269424,
          0.002794857462269424,
          0.003353828954723309,
          0.003353828954723309,
          0.003353828954723309,
          0.003353828954723309,
          0.003353828954723309,
          0.003353828954723309,
          0.003353828954723309,
          0.003353828954723309,
          0.003353828954723309,
          0.003353828954723309,
          0.003912800447177194,
          0.003912800447177194,
          0.004471771939631079,
          0.004471771939631079,
          0.005030743432084964,
          0.005030743432084964,
          0.005589714924538848,
          0.005589714924538848,
          0.006148686416992733,
          0.006148686416992733,
          0.006707657909446618,
          0.006707657909446618,
          0.006707657909446618,
          0.006707657909446618,
          0.0072666294019005035,
          0.0072666294019005035,
          0.0072666294019005035,
          0.0072666294019005035,
          0.007825600894354388,
          0.007825600894354388,
          0.008384572386808273,
          0.008384572386808273,
          0.008943543879262158,
          0.008943543879262158,
          0.008943543879262158,
          0.008943543879262158,
          0.008943543879262158,
          0.008943543879262158,
          0.008943543879262158,
          0.008943543879262158,
          0.009502515371716043,
          0.009502515371716043,
          0.009502515371716043,
          0.009502515371716043,
          0.010061486864169928,
          0.010061486864169928,
          0.010620458356623811,
          0.010620458356623811,
          0.011179429849077696,
          0.011179429849077696,
          0.011738401341531582,
          0.011738401341531582,
          0.012297372833985467,
          0.012297372833985467,
          0.012856344326439352,
          0.012856344326439352,
          0.013415315818893237,
          0.013415315818893237,
          0.013974287311347122,
          0.013974287311347122,
          0.014533258803801007,
          0.014533258803801007,
          0.015651201788708775,
          0.015651201788708775,
          0.015651201788708775,
          0.015651201788708775,
          0.01621017328116266,
          0.01621017328116266,
          0.016769144773616546,
          0.016769144773616546,
          0.016769144773616546,
          0.016769144773616546,
          0.01732811626607043,
          0.01732811626607043,
          0.017887087758524316,
          0.017887087758524316,
          0.017887087758524316,
          0.017887087758524316,
          0.0184460592509782,
          0.0184460592509782,
          0.019005030743432086,
          0.019005030743432086,
          0.01956400223588597,
          0.01956400223588597,
          0.020122973728339856,
          0.020122973728339856,
          0.02068194522079374,
          0.02068194522079374,
          0.021240916713247623,
          0.021240916713247623,
          0.021799888205701508,
          0.021799888205701508,
          0.022358859698155393,
          0.022358859698155393,
          0.022917831190609278,
          0.022917831190609278,
          0.023476802683063163,
          0.023476802683063163,
          0.024035774175517048,
          0.024035774175517048,
          0.02515371716042482,
          0.02515371716042482,
          0.025712688652878703,
          0.025712688652878703,
          0.02627166014533259,
          0.02627166014533259,
          0.026830631637786474,
          0.026830631637786474,
          0.02738960313024036,
          0.02738960313024036,
          0.027948574622694244,
          0.027948574622694244,
          0.029066517607602014,
          0.029066517607602014,
          0.029625489100055896,
          0.029625489100055896,
          0.03018446059250978,
          0.03018446059250978,
          0.030743432084963666,
          0.030743432084963666,
          0.03130240357741755,
          0.03130240357741755,
          0.03186137506987144,
          0.03186137506987144,
          0.03242034656232532,
          0.03242034656232532,
          0.03353828954723309,
          0.03353828954723309,
          0.03409726103968697,
          0.03409726103968697,
          0.03465623253214086,
          0.03465623253214086,
          0.03521520402459474,
          0.03521520402459474,
          0.03633314700950251,
          0.03633314700950251,
          0.0368921185019564,
          0.0368921185019564,
          0.03745108999441028,
          0.03745108999441028,
          0.03801006148686417,
          0.03801006148686417,
          0.03856903297931805,
          0.03856903297931805,
          0.03912800447177194,
          0.03912800447177194,
          0.039686975964225824,
          0.039686975964225824,
          0.04024594745667971,
          0.04024594745667971,
          0.040804918949133594,
          0.040804918949133594,
          0.04136389044158748,
          0.04136389044158748,
          0.041922861934041364,
          0.041922861934041364,
          0.042481833426495245,
          0.042481833426495245,
          0.043599776411403016,
          0.043599776411403016,
          0.044158747903856904,
          0.044158747903856904,
          0.044717719396310786,
          0.044717719396310786,
          0.045276690888764674,
          0.045276690888764674,
          0.045835662381218556,
          0.045835662381218556,
          0.046394633873672445,
          0.046394633873672445,
          0.046953605366126326,
          0.046953605366126326,
          0.047512576858580215,
          0.047512576858580215,
          0.048071548351034096,
          0.048071548351034096,
          0.048630519843487985,
          0.048630519843487985,
          0.049189491335941866,
          0.049189491335941866,
          0.049748462828395755,
          0.049748462828395755,
          0.05030743432084964,
          0.05030743432084964,
          0.05086640581330352,
          0.05086640581330352,
          0.05142537730575741,
          0.05142537730575741,
          0.05198434879821129,
          0.05198434879821129,
          0.05254332029066518,
          0.05254332029066518,
          0.05310229178311906,
          0.05310229178311906,
          0.05366126327557295,
          0.05366126327557295,
          0.0553381777529346,
          0.0553381777529346,
          0.05645612073784237,
          0.05645612073784237,
          0.05757406372275014,
          0.05757406372275014,
          0.05869200670765791,
          0.05869200670765791,
          0.05925097820011179,
          0.05925097820011179,
          0.05980994969256568,
          0.05980994969256568,
          0.06036892118501956,
          0.06036892118501956,
          0.06092789267747345,
          0.06092789267747345,
          0.06148686416992733,
          0.06148686416992733,
          0.06204583566238122,
          0.06204583566238122,
          0.0626048071548351,
          0.0626048071548351,
          0.06316377864728899,
          0.06316377864728899,
          0.06372275013974288,
          0.06372275013974288,
          0.06428172163219675,
          0.06428172163219675,
          0.06484069312465064,
          0.06484069312465064,
          0.06595863610955842,
          0.06595863610955842,
          0.0665176076020123,
          0.0665176076020123,
          0.06707657909446618,
          0.06707657909446618,
          0.06819452207937395,
          0.06819452207937395,
          0.06875349357182783,
          0.06875349357182783,
          0.06931246506428172,
          0.06931246506428172,
          0.06987143655673561,
          0.06987143655673561,
          0.07043040804918949,
          0.07043040804918949,
          0.07154835103409726,
          0.07154835103409726,
          0.07210732252655115,
          0.07210732252655115,
          0.07266629401900503,
          0.07266629401900503,
          0.07322526551145891,
          0.07322526551145891,
          0.07434320849636669,
          0.07434320849636669,
          0.07490217998882057,
          0.07490217998882057,
          0.07546115148127445,
          0.07546115148127445,
          0.07602012297372834,
          0.07602012297372834,
          0.0771380659586361,
          0.0771380659586361,
          0.07769703745109,
          0.07769703745109,
          0.07825600894354388,
          0.07825600894354388,
          0.07881498043599776,
          0.07881498043599776,
          0.07937395192845165,
          0.07937395192845165,
          0.07993292342090554,
          0.07993292342090554,
          0.08049189491335942,
          0.08049189491335942,
          0.0810508664058133,
          0.0810508664058133,
          0.08160983789826719,
          0.08160983789826719,
          0.08216880939072108,
          0.08216880939072108,
          0.08272778088317496,
          0.08272778088317496,
          0.08384572386808273,
          0.08384572386808273,
          0.08440469536053662,
          0.08440469536053662,
          0.08552263834544438,
          0.08552263834544438,
          0.08608160983789827,
          0.08608160983789827,
          0.08719955282280603,
          0.08719955282280603,
          0.08775852431525992,
          0.08775852431525992,
          0.08831749580771381,
          0.08831749580771381,
          0.09055338177752935,
          0.09055338177752935,
          0.09111235326998324,
          0.09111235326998324,
          0.09167132476243711,
          0.09167132476243711,
          0.092230296254891,
          0.092230296254891,
          0.09278926774734489,
          0.09278926774734489,
          0.09390721073225265,
          0.09390721073225265,
          0.0955841252096143,
          0.0955841252096143,
          0.09614309670206819,
          0.09614309670206819,
          0.09670206819452208,
          0.09670206819452208,
          0.09726103968697597,
          0.09726103968697597,
          0.09782001117942984,
          0.09782001117942984,
          0.09837898267188373,
          0.09837898267188373,
          0.09949692565679151,
          0.09949692565679151,
          0.10005589714924538,
          0.10005589714924538,
          0.10117384013415316,
          0.10117384013415316,
          0.1034097261039687,
          0.1034097261039687,
          0.10452766908887647,
          0.10452766908887647,
          0.10508664058133035,
          0.10508664058133035,
          0.10564561207378424,
          0.10564561207378424,
          0.10620458356623812,
          0.10620458356623812,
          0.106763555058692,
          0.106763555058692,
          0.1073225265511459,
          0.1073225265511459,
          0.10788149804359978,
          0.10788149804359978,
          0.10844046953605366,
          0.10844046953605366,
          0.10899944102850755,
          0.10899944102850755,
          0.10955841252096143,
          0.10955841252096143,
          0.1106763555058692,
          0.1106763555058692,
          0.11179429849077697,
          0.11179429849077697,
          0.11235326998323085,
          0.11235326998323085,
          0.11291224147568474,
          0.11291224147568474,
          0.11347121296813863,
          0.11347121296813863,
          0.11458915595304639,
          0.11458915595304639,
          0.11514812744550028,
          0.11514812744550028,
          0.11682504192286193,
          0.11682504192286193,
          0.11738401341531582,
          0.11738401341531582,
          0.11794298490776971,
          0.11794298490776971,
          0.11850195640022358,
          0.11850195640022358,
          0.11906092789267747,
          0.11906092789267747,
          0.11961989938513136,
          0.11961989938513136,
          0.12017887087758525,
          0.12017887087758525,
          0.1218557853549469,
          0.1218557853549469,
          0.12241475684740079,
          0.12241475684740079,
          0.12297372833985466,
          0.12297372833985466,
          0.12353269983230855,
          0.12353269983230855,
          0.12409167132476244,
          0.12409167132476244,
          0.12465064281721633,
          0.12465064281721633,
          0.12632755729457798,
          0.12632755729457798,
          0.12688652878703185,
          0.12688652878703185,
          0.12744550027948576,
          0.12744550027948576,
          0.12800447177193963,
          0.12800447177193963,
          0.1285634432643935,
          0.1285634432643935,
          0.1291224147568474,
          0.1291224147568474,
          0.12968138624930128,
          0.12968138624930128,
          0.13024035774175516,
          0.13024035774175516,
          0.13079932923420906,
          0.13079932923420906,
          0.13191727221911684,
          0.13191727221911684,
          0.1324762437115707,
          0.1324762437115707,
          0.1330352152040246,
          0.1330352152040246,
          0.1335941866964785,
          0.1335941866964785,
          0.13415315818893236,
          0.13415315818893236,
          0.13471212968138624,
          0.13471212968138624,
          0.1369480156512018,
          0.1369480156512018,
          0.13750698714365567,
          0.13750698714365567,
          0.13806595863610957,
          0.13806595863610957,
          0.13862493012856344,
          0.13862493012856344,
          0.13974287311347122,
          0.13974287311347122,
          0.1403018446059251,
          0.1403018446059251,
          0.14141978759083287,
          0.14141978759083287,
          0.14309670206819453,
          0.14309670206819453,
          0.1436556735606484,
          0.1436556735606484,
          0.14477361654555618,
          0.14477361654555618,
          0.14533258803801005,
          0.14533258803801005,
          0.14589155953046395,
          0.14589155953046395,
          0.14645053102291783,
          0.14645053102291783,
          0.1470095025153717,
          0.1470095025153717,
          0.1475684740078256,
          0.1475684740078256,
          0.14812744550027948,
          0.14812744550027948,
          0.14868641699273338,
          0.14868641699273338,
          0.14924538848518726,
          0.14924538848518726,
          0.14980435997764113,
          0.14980435997764113,
          0.15148127445500278,
          0.15148127445500278,
          0.15315818893236444,
          0.15315818893236444,
          0.1542761319172722,
          0.1542761319172722,
          0.15595304639463387,
          0.15595304639463387,
          0.15707098937954164,
          0.15707098937954164,
          0.15762996087199552,
          0.15762996087199552,
          0.1587479038569033,
          0.1587479038569033,
          0.1593068753493572,
          0.1593068753493572,
          0.15986584684181107,
          0.15986584684181107,
          0.16042481833426495,
          0.16042481833426495,
          0.1621017328116266,
          0.1621017328116266,
          0.16377864728898825,
          0.16377864728898825,
          0.16433761878144215,
          0.16433761878144215,
          0.16489659027389603,
          0.16489659027389603,
          0.16545556176634993,
          0.16545556176634993,
          0.16880939072107323,
          0.16880939072107323,
          0.1693683622135271,
          0.1693683622135271,
          0.16992733370598098,
          0.16992733370598098,
          0.17048630519843488,
          0.17048630519843488,
          0.17104527669088876,
          0.17104527669088876,
          0.17216321967579654,
          0.17216321967579654,
          0.1727221911682504,
          0.1727221911682504,
          0.1732811626607043,
          0.1732811626607043,
          0.1738401341531582,
          0.1738401341531582,
          0.17439910564561206,
          0.17439910564561206,
          0.17551704863051984,
          0.17551704863051984,
          0.17663499161542762,
          0.17663499161542762,
          0.17831190609278927,
          0.17831190609278927,
          0.17887087758524314,
          0.17887087758524314,
          0.17942984907769705,
          0.17942984907769705,
          0.18222470653996647,
          0.18222470653996647,
          0.18390162101732813,
          0.18390162101732813,
          0.18501956400223588,
          0.18501956400223588,
          0.18557853549468978,
          0.18557853549468978,
          0.18613750698714365,
          0.18613750698714365,
          0.18725544997205143,
          0.18725544997205143,
          0.1878144214645053,
          0.1878144214645053,
          0.1883733929569592,
          0.1883733929569592,
          0.18893236444941308,
          0.18893236444941308,
          0.18949133594186696,
          0.18949133594186696,
          0.19005030743432086,
          0.19005030743432086,
          0.19060927892677473,
          0.19060927892677473,
          0.1911682504192286,
          0.1911682504192286,
          0.1917272219116825,
          0.1917272219116825,
          0.19228619340413639,
          0.19228619340413639,
          0.1928451648965903,
          0.1928451648965903,
          0.19452207937395194,
          0.19452207937395194,
          0.19508105086640581,
          0.19508105086640581,
          0.1961989938513136,
          0.1961989938513136,
          0.19675796534376747,
          0.19675796534376747,
          0.19787590832867524,
          0.19787590832867524,
          0.19843487982112912,
          0.19843487982112912,
          0.19899385131358302,
          0.19899385131358302,
          0.20011179429849077,
          0.20011179429849077,
          0.20067076579094467,
          0.20067076579094467,
          0.20178870877585242,
          0.20178870877585242,
          0.2029066517607602,
          0.2029066517607602,
          0.20346562325321407,
          0.20346562325321407,
          0.20570150922302963,
          0.20570150922302963,
          0.2062604807154835,
          0.2062604807154835,
          0.20737842370039128,
          0.20737842370039128,
          0.20849636668529906,
          0.20849636668529906,
          0.20961430967020683,
          0.20961430967020683,
          0.21073225265511458,
          0.21073225265511458,
          0.21129122414756848,
          0.21129122414756848,
          0.21185019564002236,
          0.21185019564002236,
          0.21240916713247623,
          0.21240916713247623,
          0.21520402459474566,
          0.21520402459474566,
          0.21688093907210731,
          0.21688093907210731,
          0.21855785354946897,
          0.21855785354946897,
          0.22023476802683062,
          0.22023476802683062,
          0.22079373951928452,
          0.22079373951928452,
          0.2213527110117384,
          0.2213527110117384,
          0.2219116825041923,
          0.2219116825041923,
          0.22247065399664617,
          0.22247065399664617,
          0.22358859698155395,
          0.22358859698155395,
          0.22414756847400782,
          0.22414756847400782,
          0.22582448295136948,
          0.22582448295136948,
          0.22638345444382338,
          0.22638345444382338,
          0.22694242593627725,
          0.22694242593627725,
          0.22806036892118503,
          0.22806036892118503,
          0.2286193404136389,
          0.2286193404136389,
          0.22917831190609278,
          0.22917831190609278,
          0.23141419787590833,
          0.23141419787590833,
          0.2319731693683622,
          0.2319731693683622,
          0.23365008384572386,
          0.23365008384572386,
          0.23420905533817776,
          0.23420905533817776,
          0.2353269983230855,
          0.2353269983230855,
          0.23700391280044716,
          0.23700391280044716,
          0.23756288429290107,
          0.23756288429290107,
          0.23868082727780884,
          0.23868082727780884,
          0.2403577417551705,
          0.2403577417551705,
          0.24091671324762437,
          0.24091671324762437,
          0.24147568474007824,
          0.24147568474007824,
          0.24203465623253215,
          0.24203465623253215,
          0.24259362772498602,
          0.24259362772498602,
          0.24594745667970933,
          0.24594745667970933,
          0.24650642817216323,
          0.24650642817216323,
          0.24762437115707098,
          0.24762437115707098,
          0.24930128563443266,
          0.24930128563443266,
          0.2520961430967021,
          0.2520961430967021,
          0.25265511458915596,
          0.25265511458915596,
          0.25321408608160983,
          0.25321408608160983,
          0.2537730575740637,
          0.2537730575740637,
          0.2554499720514254,
          0.2554499720514254,
          0.25600894354387926,
          0.25600894354387926,
          0.25992174399105644,
          0.25992174399105644,
          0.2604807154835103,
          0.2604807154835103,
          0.26103968697596425,
          0.26103968697596425,
          0.262157629960872,
          0.262157629960872,
          0.2660704304080492,
          0.2660704304080492,
          0.267188373392957,
          0.267188373392957,
          0.26774734488541085,
          0.26774734488541085,
          0.2694242593627725,
          0.2694242593627725,
          0.2699832308552264,
          0.2699832308552264,
          0.2705422023476803,
          0.2705422023476803,
          0.27110117384013416,
          0.27110117384013416,
          0.27166014533258803,
          0.27166014533258803,
          0.2738960313024036,
          0.2738960313024036,
          0.27613191727221914,
          0.27613191727221914,
          0.2772498602571269,
          0.2772498602571269,
          0.2789267747344885,
          0.2789267747344885,
          0.27948574622694244,
          0.27948574622694244,
          0.2800447177193963,
          0.2800447177193963,
          0.2806036892118502,
          0.2806036892118502,
          0.28283957518166575,
          0.28283957518166575,
          0.2833985466741196,
          0.2833985466741196,
          0.2856344326439352,
          0.2856344326439352,
          0.28619340413638905,
          0.28619340413638905,
          0.2873113471212968,
          0.2873113471212968,
          0.2889882615986585,
          0.2889882615986585,
          0.29010620458356623,
          0.29010620458356623,
          0.2906651760760201,
          0.2906651760760201,
          0.2917831190609279,
          0.2917831190609279,
          0.29346003353828953,
          0.29346003353828953,
          0.2940190050307434,
          0.2940190050307434,
          0.2951369480156512,
          0.2951369480156512,
          0.29681386249301284,
          0.29681386249301284,
          0.2984907769703745,
          0.2984907769703745,
          0.30463946338736725,
          0.30463946338736725,
          0.3085522638345444,
          0.3085522638345444,
          0.3124650642817216,
          0.3124650642817216,
          0.3141419787590833,
          0.3141419787590833,
          0.3169368362213527,
          0.3169368362213527,
          0.31805477920626046,
          0.31805477920626046,
          0.31917272219116827,
          0.31917272219116827,
          0.32140860816098377,
          0.32140860816098377,
          0.32252655114589157,
          0.32252655114589157,
          0.32308552263834545,
          0.32308552263834545,
          0.3258803801006149,
          0.3258803801006149,
          0.3292342090553382,
          0.3292342090553382,
          0.32979318054779205,
          0.32979318054779205,
          0.3303521520402459,
          0.3303521520402459,
          0.33091112353269986,
          0.33091112353269986,
          0.33482392397987704,
          0.33482392397987704,
          0.3353828954723309,
          0.3353828954723309,
          0.33817775293460034,
          0.33817775293460034,
          0.34097261039686977,
          0.34097261039686977,
          0.34488541084404695,
          0.34488541084404695,
          0.3454443823365008,
          0.3454443823365008,
          0.3465623253214086,
          0.3465623253214086,
          0.3504751257685858,
          0.3504751257685858,
          0.354387926215763,
          0.354387926215763,
          0.35606484069312466,
          0.35606484069312466,
          0.35662381218557854,
          0.35662381218557854,
          0.3571827836780324,
          0.3571827836780324,
          0.3583007266629402,
          0.3583007266629402,
          0.3694801565120179,
          0.3694801565120179,
          0.37003912800447175,
          0.37003912800447175,
          0.37115707098937956,
          0.37115707098937956,
          0.3789826718837339,
          0.3789826718837339,
          0.3801006148686417,
          0.3801006148686417,
          0.3806595863610956,
          0.3806595863610956,
          0.38121855785354947,
          0.38121855785354947,
          0.3840134153158189,
          0.3840134153158189,
          0.3873672442705422,
          0.3873672442705422,
          0.3879262157629961,
          0.3879262157629961,
          0.39295695919508106,
          0.39295695919508106,
          0.3957518166573505,
          0.3957518166573505,
          0.39798770262716604,
          0.39798770262716604,
          0.3985466741196199,
          0.3985466741196199,
          0.4024594745667971,
          0.4024594745667971,
          0.40357741755170484,
          0.40357741755170484,
          0.4058133035215204,
          0.4058133035215204,
          0.4091671324762437,
          0.4091671324762437,
          0.4130799329234209,
          0.4130799329234209,
          0.41531581889323643,
          0.41531581889323643,
          0.42146450531022916,
          0.42146450531022916,
          0.42258244829513697,
          0.42258244829513697,
          0.4309670206819452,
          0.4309670206819452,
          0.43711570709893793,
          0.43711570709893793,
          0.43823365008384574,
          0.43823365008384574,
          0.4510899944102851,
          0.4510899944102851,
          0.45500279485746226,
          0.45500279485746226,
          0.46003353828954724,
          0.46003353828954724,
          0.46674119619899385,
          0.46674119619899385,
          0.47121296813862495,
          0.47121296813862495,
          0.49972051425377306,
          0.49972051425377306,
          0.509782001117943,
          0.509782001117943,
          0.553381777529346,
          0.553381777529346,
          0.602012297372834,
          0.602012297372834,
          1
         ],
         "y": [
          0,
          0.018962848297213623,
          0.04502063983488132,
          0.058823529411764705,
          0.07004643962848298,
          0.07907636738906089,
          0.0869453044375645,
          0.09558823529411764,
          0.10461816305469557,
          0.11158410732714139,
          0.11700206398348813,
          0.1226780185758514,
          0.12757997936016513,
          0.1323529411764706,
          0.13673890608875128,
          0.14628482972136223,
          0.14925180598555213,
          0.15118679050567596,
          0.15415376676986584,
          0.15724974200206399,
          0.1609907120743034,
          0.16434468524251805,
          0.16705366357069143,
          0.16937564499484004,
          0.1715686274509804,
          0.17737358101135192,
          0.17892156862745098,
          0.1812435500515996,
          0.18317853457172342,
          0.18601651186790505,
          0.18846749226006193,
          0.19117647058823528,
          0.19336945304437564,
          0.19530443756449947,
          0.19736842105263158,
          0.20059339525283798,
          0.20278637770897834,
          0.20368937048503613,
          0.2052373581011352,
          0.206656346749226,
          0.20820433436532507,
          0.20962332301341588,
          0.2107843137254902,
          0.21259029927760578,
          0.2149122807017544,
          0.21568627450980393,
          0.21710526315789475,
          0.21839525283797728,
          0.21929824561403508,
          0.22071723426212592,
          0.22162022703818368,
          0.22226522187822498,
          0.2274251805985552,
          0.22819917440660475,
          0.22974716202270382,
          0.23077915376676986,
          0.23168214654282765,
          0.2324561403508772,
          0.23310113519091846,
          0.2347781217750258,
          0.23684210526315788,
          0.23839009287925697,
          0.23929308565531476,
          0.24045407636738905,
          0.2412280701754386,
          0.2421310629514964,
          0.24316305469556243,
          0.24329205366357068,
          0.24419504643962847,
          0.24471104231166152,
          0.24600103199174406,
          0.2467750257997936,
          0.24729102167182662,
          0.24806501547987617,
          0.24832301341589266,
          0.24974200206398348,
          0.2502579979360165,
          0.25128998968008254,
          0.2520639834881321,
          0.2530959752321981,
          0.25374097007223945,
          0.25425696594427244,
          0.25451496388028894,
          0.25515995872033026,
          0.25554695562435503,
          0.2564499484004128,
          0.25748194014447884,
          0.25773993808049533,
          0.2585139318885449,
          0.25877192982456143,
          0.2595459236326109,
          0.26096491228070173,
          0.2617389060887513,
          0.26199690402476783,
          0.26212590299277605,
          0.2628998968008256,
          0.26380288957688336,
          0.26393188854489164,
          0.2643188854489164,
          0.26509287925696595,
          0.26522187822497423,
          0.2658668730650155,
          0.26676986584107326,
          0.26689886480908154,
          0.2672858617131063,
          0.2675438596491228,
          0.2681888544891641,
          0.26844685242518057,
          0.26857585139318885,
          0.2689628482972136,
          0.26973684210526316,
          0.27025283797729616,
          0.27063983488132093,
          0.2714138286893705,
          0.27180082559339525,
          0.2728328173374613,
          0.27309081527347784,
          0.27463880288957687,
          0.27528379772961814,
          0.2755417956656347,
          0.2760577915376677,
          0.27631578947368424,
          0.2770897832817337,
          0.27786377708978327,
          0.2783797729618163,
          0.2786377708978328,
          0.27941176470588236,
          0.2803147574819401,
          0.2804437564499484,
          0.2807017543859649,
          0.28134674922600617,
          0.2825077399380805,
          0.28276573787409703,
          0.28289473684210525,
          0.28328173374613,
          0.28405572755417957,
          0.2848297213622291,
          0.28560371517027866,
          0.28624871001031993,
          0.28779669762641896,
          0.28792569659442724,
          0.28818369453044373,
          0.2884416924664603,
          0.28934468524251805,
          0.2901186790505676,
          0.2903766769865841,
          0.29076367389060886,
          0.29102167182662536,
          0.2917956656346749,
          0.29205366357069146,
          0.29244066047471623,
          0.29347265221878227,
          0.29424664602683176,
          0.29437564499484004,
          0.2948916408668731,
          0.2951496388028896,
          0.29566563467492263,
          0.2959236326109391,
          0.2963106295149639,
          0.2965686274509804,
          0.29669762641898867,
          0.29708462332301344,
          0.29721362229102166,
          0.29747162022703816,
          0.29760061919504643,
          0.2979876160990712,
          0.2981166150670795,
          0.2986326109391125,
          0.29876160990712075,
          0.29901960784313725,
          0.2991486068111455,
          0.2996646026831785,
          0.30018059855521156,
          0.3009545923632611,
          0.3013415892672859,
          0.3015995872033024,
          0.30211558307533537,
          0.30224458204334365,
          0.3026315789473684,
          0.3027605779153767,
          0.30314757481940147,
          0.30392156862745096,
          0.304437564499484,
          0.3048245614035088,
          0.30546955624355004,
          0.3058565531475748,
          0.3061145510835913,
          0.30701754385964913,
          0.3074045407636739,
          0.3076625386996904,
          0.3080495356037152,
          0.3090815273477812,
          0.309468524251806,
          0.30959752321981426,
          0.30998452012383904,
          0.31050051599587203,
          0.3108875128998968,
          0.3111455108359133,
          0.31153250773993807,
          0.31179050567595457,
          0.3125644994840041,
          0.31308049535603716,
          0.3142414860681115,
          0.31449948400412797,
          0.31488648090815274,
          0.31514447884416924,
          0.31540247678018574,
          0.3157894736842105,
          0.3159184726522188,
          0.31643446852425183,
          0.31669246646026833,
          0.31682146542827655,
          0.3173374613003096,
          0.3174664602683179,
          0.31785345717234265,
          0.31798245614035087,
          0.31836945304437564,
          0.3184984520123839,
          0.31927244582043346,
          0.31953044375644996,
          0.31991744066047473,
          0.3201754385964912,
          0.3204334365325077,
          0.3206914344685243,
          0.32120743034055727,
          0.32159442724458204,
          0.3221104231166151,
          0.3236584107327141,
          0.3237874097007224,
          0.32417440660474717,
          0.32469040247678016,
          0.3249484004127967,
          0.3253353973168215,
          0.32572239422084626,
          0.3258513931888545,
          0.32623839009287925,
          0.326625386996904,
          0.32714138286893707,
          0.32739938080495357,
          0.32752837977296184,
          0.32804437564499483,
          0.32830237358101133,
          0.3288183694530444,
          0.3290763673890609,
          0.32946336429308565,
          0.3295923632610939,
          0.3301083591331269,
          0.3304953560371517,
          0.33075335397316824,
          0.33088235294117646,
          0.3313983488132095,
          0.33217234262125905,
          0.33243034055727555,
          0.33268833849329205,
          0.3332043343653251,
          0.33423632610939114,
          0.3346233230134159,
          0.3350103199174407,
          0.3351393188854489,
          0.3355263157894737,
          0.33578431372549017,
          0.33617131062951494,
          0.33681630546955627,
          0.33733230134158926,
          0.33771929824561403,
          0.3378482972136223,
          0.3382352941176471,
          0.3384932920536636,
          0.33900928792569657,
          0.3396542827657379,
          0.3401702786377709,
          0.34029927760577916,
          0.34055727554179566,
          0.34081527347781215,
          0.3410732714138287,
          0.3412022703818369,
          0.3414602683178535,
          0.34184726522187825,
          0.34197626418988647,
          0.3424922600619195,
          0.3428792569659443,
          0.3433952528379773,
          0.34378224974200206,
          0.3442982456140351,
          0.3444272445820433,
          0.3446852425180599,
          0.34507223942208465,
          0.34533023735810114,
          0.3461042311661507,
          0.3463622291021672,
          0.3466202270381837,
          0.34687822497420023,
          0.3476522187822497,
          0.3480392156862745,
          0.34816821465428277,
          0.34842621259029927,
          0.34855521155830754,
          0.3489422084623323,
          0.34907120743034054,
          0.3493292053663571,
          0.3510061919504644,
          0.3512641898864809,
          0.35139318885448917,
          0.35178018575851394,
          0.35203818369453044,
          0.3524251805985552,
          0.35294117647058826,
          0.3535861713106295,
          0.35371517027863775,
          0.3544891640866873,
          0.35461816305469557,
          0.35487616099071206,
          0.35500515995872034,
          0.3553921568627451,
          0.3559081527347781,
          0.35616615067079466,
          0.35642414860681115,
          0.35655314757481943,
          0.3568111455108359,
          0.35694014447884415,
          0.3573271413828689,
          0.3574561403508772,
          0.35784313725490197,
          0.35835913312693496,
          0.3586171310629515,
          0.358875128998968,
          0.3591331269349845,
          0.3592621259029928,
          0.35977812177502577,
          0.36016511867905054,
          0.3604231166150671,
          0.3606811145510836,
          0.3609391124871001,
          0.36171310629514963,
          0.36197110423116613,
          0.3622291021671827,
          0.3624871001031992,
          0.36287409700722395,
          0.36313209494324045,
          0.3632610939112487,
          0.36390608875129,
          0.36403508771929827,
          0.36429308565531476,
          0.36468008255933954,
          0.36493808049535603,
          0.3653250773993808,
          0.3654540763673891,
          0.3657120743034056,
          0.3659700722394221,
          0.36622807017543857,
          0.3671310629514964,
          0.3673890608875129,
          0.3684210526315789,
          0.3686790505675955,
          0.36906604747162025,
          0.36958204334365324,
          0.36984004127966974,
          0.3703560371517028,
          0.37113003095975233,
          0.37138802889576883,
          0.3720330237358101,
          0.37229102167182665,
          0.37242002063983487,
          0.37267801857585137,
          0.37306501547987614,
          0.3733230134158927,
          0.3738390092879257,
          0.37409700722394224,
          0.37435500515995873,
          0.3746130030959752,
          0.375,
          0.3753869969040248,
          0.37577399380804954,
          0.37603199174406604,
          0.37628998968008254,
          0.3765479876160991,
          0.3768059855521156,
          0.3770639834881321,
          0.37770897832817335,
          0.3784829721362229,
          0.37899896800825594,
          0.37925696594427244,
          0.3793859649122807,
          0.3796439628482972,
          0.380030959752322,
          0.38080495356037153,
          0.3835139318885449,
          0.38377192982456143,
          0.3840299277605779,
          0.3842879256965944,
          0.38480392156862747,
          0.38506191950464397,
          0.3858359133126935,
          0.38609391124871,
          0.3863519091847265,
          0.3872549019607843,
          0.3875128998968008,
          0.38828689370485037,
          0.38880288957688336,
          0.3890608875128999,
          0.3893188854489164,
          0.3894478844169247,
          0.39022187822497423,
          0.39125386996904027,
          0.39164086687306504,
          0.39486584107327144,
          0.39512383900928794,
          0.3955108359133127,
          0.3975748194014448,
          0.39796181630546956,
          0.39860681114551083,
          0.3989938080495356,
          0.3992518059855521,
          0.3993808049535604,
          0.4005417956656347,
          0.40131578947368424,
          0.40183178534571723,
          0.4020897832817337,
          0.402218782249742,
          0.4024767801857585,
          0.4026057791537668,
          0.40286377708978327,
          0.4040247678018576,
          0.40441176470588236,
          0.40466976264189886,
          0.4053147574819401,
          0.4058307533539732,
          0.4075077399380805,
          0.40802373581011353,
          0.40828173374613,
          0.4085397316821465,
          0.40957172342621256,
          0.4098297213622291,
          0.40995872033023734,
          0.4103457172342621,
          0.41060371517027866,
          0.41228070175438597,
          0.41253869969040247,
          0.4135706914344685,
          0.41408668730650156,
          0.41460268317853455,
          0.4162796697626419,
          0.4165376676986584,
          0.4167956656346749,
          0.41705366357069146,
          0.41744066047471623,
          0.4176986584107327,
          0.41782765737874095,
          0.418343653250774,
          0.41847265221878227,
          0.41898864809081526,
          0.41924664602683176,
          0.4195046439628483,
          0.4198916408668731,
          0.4201496388028896,
          0.4211816305469556,
          0.4214396284829721,
          0.42169762641898867,
          0.42195562435500517,
          0.4227296181630547,
          0.4229876160990712,
          0.4231166150670795,
          0.423374613003096,
          0.424406604747162,
          0.4246646026831785,
          0.4262125902992776,
          0.4264705882352941,
          0.42698658410732715,
          0.42724458204334365,
          0.42840557275541796,
          0.42866357069143446,
          0.4295665634674923,
          0.43008255933952527,
          0.43046955624355004,
          0.43072755417956654,
          0.4315015479876161,
          0.43175954592363264,
          0.43201754385964913,
          0.43227554179566563,
          0.4324045407636739,
          0.4326625386996904,
          0.4330495356037152,
          0.43369453044375644,
          0.43395252837977294,
          0.4340815273477812,
          0.4343395252837977,
          0.434468524251806,
          0.43498452012383904,
          0.43511351909184726,
          0.43537151702786375,
          0.43550051599587203,
          0.4357585139318885,
          0.43666150670794635,
          0.43691950464396284,
          0.4379514963880289,
          0.43846749226006193,
          0.43949948400412797,
          0.43975748194014447,
          0.43988648090815274,
          0.44014447884416924,
          0.44040247678018574,
          0.4406604747162023,
          0.4409184726522188,
          0.44130546955624356,
          0.44169246646026833,
          0.4419504643962848,
          0.4424664602683179,
          0.44272445820433437,
          0.44427244582043346,
          0.44465944272445823,
          0.44491744066047473,
          0.4456914344685243,
          0.44594943240454077,
          0.44620743034055727,
          0.4467234262125903,
          0.4469814241486068,
          0.4471104231166151,
          0.44749742002063986,
          0.4484004127966976,
          0.4486584107327141,
          0.4499484004127967,
          0.4503353973168215,
          0.450593395252838,
          0.4513673890608875,
          0.451625386996904,
          0.4536893704850361,
          0.45394736842105265,
          0.45743034055727555,
          0.45768833849329205,
          0.4582043343653251,
          0.4582043343653251,
          0.4584623323013416,
          0.45936532507739936,
          0.4596233230134159,
          0.46271929824561403,
          0.4629772961816305,
          0.4632352941176471,
          0.4634932920536636,
          0.46362229102167185,
          0.46388028895768835,
          0.46400928792569657,
          0.4645252837977296,
          0.4663312693498452,
          0.4665892672858617,
          0.46762125902992774,
          0.4678792569659443,
          0.4692982456140351,
          0.4695562435500516,
          0.4742002063983488,
          0.4744582043343653,
          0.4760061919504644,
          0.4762641898864809,
          0.47639318885448917,
          0.47665118679050567,
          0.4794891640866873,
          0.47974716202270384,
          0.4803921568627451,
          0.4806501547987616,
          0.4827141382868937,
          0.48297213622291024,
          0.48671310629514963,
          0.48697110423116613,
          0.4885190918472652,
          0.4885190918472652,
          0.4907120743034056,
          0.4909700722394221,
          0.4923890608875129,
          0.49264705882352944,
          0.4953560371517028,
          0.4956140350877193,
          0.49780701754385964,
          0.4983230134158927,
          0.49935500515995873,
          0.4996130030959752,
          0.5011609907120743,
          0.5014189886480909,
          0.5039989680082559,
          0.5042569659442725,
          0.5046439628482973,
          0.5049019607843137,
          0.5061919504643962,
          0.5064499484004128,
          0.5069659442724458,
          0.5072239422084623,
          0.5081269349845201,
          0.5083849329205367,
          0.5085139318885449,
          0.5087719298245614,
          0.5090299277605779,
          0.5092879256965944,
          0.5128998968008256,
          0.5131578947368421,
          0.5135448916408669,
          0.5138028895768834,
          0.5144478844169247,
          0.5147058823529411,
          0.5158668730650154,
          0.516124871001032,
          0.516640866873065,
          0.5168988648090815,
          0.5211558307533539,
          0.5214138286893705,
          0.5254127966976264,
          0.525670794633643,
          0.5259287925696594,
          0.526186790505676,
          0.526702786377709,
          0.5269607843137255,
          0.5296697626418989,
          0.5299277605779154,
          0.5304437564499485,
          0.5304437564499485,
          0.5310887512899897,
          0.5316047471620227,
          0.5332817337461301,
          0.5332817337461301,
          0.5358617131062952,
          0.5361197110423117,
          0.5370227038183695,
          0.5372807017543859,
          0.5416666666666666,
          0.5419246646026832,
          0.544891640866873,
          0.5451496388028896,
          0.5466976264189887,
          0.5469556243550051,
          0.5495356037151703,
          0.5497936016511867,
          0.5499226006191951,
          0.5501805985552115,
          0.5534055727554179,
          0.5536635706914345,
          0.55843653250774,
          0.5586945304437565,
          0.5606295149638802,
          0.5608875128998968,
          0.5624355005159959,
          0.5628224974200207,
          0.5701754385964912,
          0.5704334365325078,
          0.5717234262125903,
          0.5719814241486069,
          0.5730134158926729,
          0.5732714138286894,
          0.576625386996904,
          0.5768833849329206,
          0.5829463364293086,
          0.583204334365325,
          0.5850103199174407,
          0.5852683178534571,
          0.5859133126934984,
          0.5859133126934984,
          0.5893962848297214,
          0.5896542827657378,
          0.592750257997936,
          0.5930082559339526,
          0.5992002063983488,
          0.5994582043343654,
          0.6017801857585139,
          0.6020381836945304,
          0.6037151702786377,
          0.6037151702786377,
          0.612358101135191,
          0.612358101135191,
          0.6148090815273478,
          0.6148090815273478,
          0.6261609907120743,
          0.6261609907120743,
          0.6277089783281734,
          0.6277089783281734,
          0.6336429308565531,
          0.6336429308565531,
          0.6357069143446853,
          0.6359649122807017,
          0.6362229102167183,
          0.6362229102167183,
          0.6368679050567595,
          0.637125902992776,
          0.6415118679050568,
          0.6415118679050568,
          0.6702786377708978,
          0.6702786377708978,
          0.6707946336429309,
          0.6707946336429309,
          0.6745356037151703,
          0.6747936016511867,
          0.6760835913312694,
          0.6763415892672858,
          0.6795665634674922,
          0.6798245614035088,
          0.6839525283797729,
          0.6839525283797729,
          0.6905314757481941,
          0.6907894736842105,
          0.6934984520123839,
          0.6934984520123839,
          0.7035603715170279,
          0.7035603715170279,
          0.7119453044375645,
          0.7119453044375645,
          0.7145252837977296,
          0.7145252837977296,
          0.7147832817337462,
          0.7147832817337462,
          0.7167182662538699,
          0.7167182662538699,
          0.7211042311661506,
          0.7211042311661506,
          0.7263931888544891,
          0.7263931888544891,
          0.7377450980392157,
          0.7377450980392157,
          0.7414860681114551,
          0.7414860681114551,
          0.7429050567595459,
          0.7431630546955624,
          0.7438080495356038,
          0.7438080495356038,
          0.7448400412796697,
          0.7448400412796697,
          0.7461300309597523,
          0.7463880288957688,
          0.7484520123839009,
          0.7484520123839009,
          0.75,
          0.75,
          0.7527089783281734,
          0.7529669762641898,
          0.7536119711042312,
          0.7536119711042312,
          0.7578689370485037,
          0.7578689370485037,
          0.7663828689370485,
          0.7663828689370485,
          0.7678018575851393,
          0.7678018575851393,
          0.7698658410732714,
          0.7698658410732714,
          0.7764447884416925,
          0.7764447884416925,
          0.778250773993808,
          0.778250773993808,
          0.7788957688338494,
          0.7788957688338494,
          0.7792827657378741,
          0.7792827657378741,
          0.7801857585139319,
          0.7801857585139319,
          0.7821207430340558,
          0.7821207430340558,
          0.7828947368421053,
          0.7828947368421053,
          0.7832817337461301,
          0.7832817337461301,
          0.7835397316821465,
          0.7835397316821465,
          0.7848297213622291,
          0.7848297213622291,
          0.7865067079463365,
          0.7865067079463365,
          0.7886996904024768,
          0.7886996904024768,
          0.7910216718266254,
          0.7910216718266254,
          0.7915376676986584,
          0.7915376676986584,
          0.7920536635706914,
          0.7920536635706914,
          0.7930856553147575,
          0.7930856553147575,
          0.7955366357069144,
          0.7955366357069144,
          0.7963106295149639,
          0.7963106295149639,
          0.7977296181630547,
          0.7977296181630547,
          0.8027605779153767,
          0.8027605779153767,
          0.8048245614035088,
          0.8048245614035088,
          0.8112745098039216,
          0.8112745098039216,
          0.8154024767801857,
          0.8154024767801857,
          0.817079463364293,
          0.817079463364293,
          0.8173374613003096,
          0.8173374613003096,
          0.8174664602683178,
          0.8174664602683178,
          0.8179824561403509,
          0.8179824561403509,
          0.8234004127966976,
          0.8234004127966976,
          0.8250773993808049,
          0.8250773993808049,
          0.8257223942208463,
          0.8257223942208463,
          0.8272703818369453,
          0.8272703818369453,
          0.8295923632610939,
          0.8295923632610939,
          0.8310113519091847,
          0.8310113519091847,
          0.8357843137254902,
          0.8357843137254902,
          0.8359133126934984,
          0.8359133126934984,
          0.8377192982456141,
          0.8377192982456141,
          0.8378482972136223,
          0.8378482972136223,
          0.8382352941176471,
          0.8382352941176471,
          0.8428792569659442,
          0.8428792569659442,
          0.8430082559339526,
          0.8430082559339526,
          0.847265221878225,
          0.847265221878225,
          0.8480392156862745,
          0.8480392156862745,
          0.8484262125902993,
          0.8484262125902993,
          0.8494582043343654,
          0.8494582043343654,
          0.8506191950464397,
          0.8506191950464397,
          0.8508771929824561,
          0.8508771929824561,
          0.8517801857585139,
          0.8517801857585139,
          0.8519091847265222,
          0.8519091847265222,
          0.8521671826625387,
          0.8521671826625387,
          0.8582301341589267,
          0.8582301341589267,
          0.8587461300309598,
          0.8587461300309598,
          0.8590041279669762,
          0.8590041279669762,
          0.8633900928792569,
          0.8633900928792569,
          0.8639060887512899,
          0.8639060887512899,
          0.8641640866873065,
          0.8641640866873065,
          0.8664860681114551,
          0.8664860681114551,
          0.8671310629514963,
          0.8671310629514963,
          0.8679050567595459,
          0.8679050567595459,
          0.8680340557275542,
          0.8680340557275542,
          0.8690660474716202,
          0.8690660474716202,
          0.8698400412796697,
          0.8698400412796697,
          0.8719040247678018,
          0.8719040247678018,
          0.8725490196078431,
          0.8725490196078431,
          0.8759029927760578,
          0.8759029927760578,
          0.878482972136223,
          0.878482972136223,
          0.8786119711042312,
          0.8786119711042312,
          0.8808049535603715,
          0.8808049535603715,
          0.8817079463364293,
          0.8817079463364293,
          0.8824819401444789,
          0.8824819401444789,
          0.8839009287925697,
          0.8839009287925697,
          0.8844169246646026,
          0.8844169246646026,
          0.884545923632611,
          0.884545923632611,
          0.8846749226006192,
          0.8846749226006192,
          0.8853199174406605,
          0.8853199174406605,
          0.8858359133126935,
          0.8858359133126935,
          0.8866099071207431,
          0.8866099071207431,
          0.8873839009287926,
          0.8873839009287926,
          0.8882868937048504,
          0.8882868937048504,
          0.8888028895768834,
          0.8888028895768834,
          0.8894478844169247,
          0.8894478844169247,
          0.8903508771929824,
          0.8903508771929824,
          0.890608875128999,
          0.890608875128999,
          0.8918988648090815,
          0.8918988648090815,
          0.8934468524251806,
          0.8934468524251806,
          0.8984778121775026,
          0.8984778121775026,
          0.8986068111455109,
          0.8986068111455109,
          0.8993808049535603,
          0.8993808049535603,
          0.8996388028895769,
          0.8996388028895769,
          0.9001547987616099,
          0.9001547987616099,
          0.9004127966976264,
          0.9004127966976264,
          0.9009287925696594,
          0.9009287925696594,
          0.9010577915376677,
          0.9010577915376677,
          0.901702786377709,
          0.901702786377709,
          0.9019607843137255,
          0.9019607843137255,
          0.9031217750257998,
          0.9031217750257998,
          0.9036377708978328,
          0.9036377708978328,
          0.9046697626418989,
          0.9046697626418989,
          0.9050567595459237,
          0.9050567595459237,
          0.907249742002064,
          0.907249742002064,
          0.9093137254901961,
          0.9093137254901961,
          0.9112487100103199,
          0.9112487100103199,
          0.9116357069143447,
          0.9116357069143447,
          0.9118937048503611,
          0.9118937048503611,
          0.9136996904024768,
          0.9136996904024768,
          0.9147316821465429,
          0.9147316821465429,
          0.9149896800825593,
          0.9149896800825593,
          0.9151186790505675,
          0.9151186790505675,
          0.9155056759545923,
          0.9155056759545923,
          0.9171826625386997,
          0.9171826625386997,
          0.919891640866873,
          0.919891640866873,
          0.9202786377708978,
          0.9202786377708978,
          0.9204076367389061,
          0.9204076367389061,
          0.9227296181630547,
          0.9227296181630547,
          0.922858617131063,
          0.922858617131063,
          0.923890608875129,
          0.923890608875129,
          0.9250515995872033,
          0.9250515995872033,
          0.9267285861713106,
          0.9267285861713106,
          0.9271155830753354,
          0.9271155830753354,
          0.9278895768833849,
          0.9278895768833849,
          0.9286635706914345,
          0.9286635706914345,
          0.9293085655314758,
          0.9293085655314758,
          0.9295665634674922,
          0.9295665634674922,
          0.9304695562435501,
          0.9304695562435501,
          0.9307275541795665,
          0.9307275541795665,
          0.9324045407636739,
          0.9324045407636739,
          0.9326625386996904,
          0.9326625386996904,
          0.9330495356037152,
          0.9330495356037152,
          0.9345975232198143,
          0.9345975232198143,
          0.9352425180598555,
          0.9352425180598555,
          0.9365325077399381,
          0.9365325077399381,
          0.9371775025799793,
          0.9371775025799793,
          0.9379514963880289,
          0.9379514963880289,
          0.9384674922600619,
          0.9384674922600619,
          0.938983488132095,
          0.938983488132095,
          0.9396284829721362,
          0.9396284829721362,
          0.9404024767801857,
          0.9404024767801857,
          0.9413054695562435,
          0.9413054695562435,
          0.9414344685242518,
          0.9414344685242518,
          0.9416924664602683,
          0.9416924664602683,
          0.942079463364293,
          0.942079463364293,
          0.9428534571723426,
          0.9428534571723426,
          0.9431114551083591,
          0.9431114551083591,
          0.9433694530443757,
          0.9433694530443757,
          0.9434984520123839,
          0.9434984520123839,
          0.9436274509803921,
          0.9436274509803921,
          0.9441434468524251,
          0.9441434468524251,
          0.9442724458204335,
          0.9442724458204335,
          0.9446594427244582,
          0.9446594427244582,
          0.9451754385964912,
          0.9451754385964912,
          0.9454334365325078,
          0.9454334365325078,
          0.9462074303405573,
          0.9462074303405573,
          0.9464654282765738,
          0.9464654282765738,
          0.9465944272445821,
          0.9465944272445821,
          0.9473684210526315,
          0.9473684210526315,
          0.9476264189886481,
          0.9476264189886481,
          0.9480134158926729,
          0.9480134158926729,
          0.9484004127966976,
          0.9484004127966976,
          0.9486584107327142,
          0.9486584107327142,
          0.9494324045407637,
          0.9494324045407637,
          0.9502063983488133,
          0.9502063983488133,
          0.9508513931888545,
          0.9508513931888545,
          0.9509803921568627,
          0.9509803921568627,
          0.951109391124871,
          0.951109391124871,
          0.9514963880288958,
          0.9514963880288958,
          0.9518833849329206,
          0.9518833849329206,
          0.9520123839009288,
          0.9520123839009288,
          0.952141382868937,
          0.952141382868937,
          0.9522703818369453,
          0.9522703818369453,
          0.9523993808049536,
          0.9523993808049536,
          0.9527863777089783,
          0.9527863777089783,
          0.9530443756449949,
          0.9530443756449949,
          0.9533023735810113,
          0.9533023735810113,
          0.9534313725490197,
          0.9534313725490197,
          0.9535603715170279,
          0.9535603715170279,
          0.9542053663570691,
          0.9542053663570691,
          0.9543343653250774,
          0.9543343653250774,
          0.9547213622291022,
          0.9547213622291022,
          0.9553663570691434,
          0.9553663570691434,
          0.9554953560371517,
          0.9554953560371517,
          0.9558823529411765,
          0.9558823529411765,
          0.9560113519091847,
          0.9560113519091847,
          0.956140350877193,
          0.956140350877193,
          0.9562693498452013,
          0.9562693498452013,
          0.9563983488132095,
          0.9563983488132095,
          0.9566563467492261,
          0.9566563467492261,
          0.9567853457172343,
          0.9567853457172343,
          0.9579463364293086,
          0.9579463364293086,
          0.9584623323013416,
          0.9584623323013416,
          0.9587203302373581,
          0.9587203302373581,
          0.9588493292053664,
          0.9588493292053664,
          0.9589783281733746,
          0.9589783281733746,
          0.9591073271413829,
          0.9591073271413829,
          0.9593653250773994,
          0.9593653250773994,
          0.9597523219814241,
          0.9597523219814241,
          0.9598813209494325,
          0.9598813209494325,
          0.9600103199174407,
          0.9600103199174407,
          0.9603973168214655,
          0.9603973168214655,
          0.9605263157894737,
          0.9605263157894737,
          0.9607843137254902,
          0.9607843137254902,
          0.9609133126934984,
          0.9609133126934984,
          0.961171310629515,
          0.961171310629515,
          0.9614293085655314,
          0.9614293085655314,
          0.961687306501548,
          0.961687306501548,
          0.962203302373581,
          0.962203302373581,
          0.9625902992776058,
          0.9625902992776058,
          0.9627192982456141,
          0.9627192982456141,
          0.9632352941176471,
          0.9632352941176471,
          0.9633642930856553,
          0.9633642930856553,
          0.9634932920536635,
          0.9634932920536635,
          0.9636222910216719,
          0.9636222910216719,
          0.9637512899896801,
          0.9637512899896801,
          0.9638802889576883,
          0.9638802889576883,
          0.9640092879256966,
          0.9640092879256966,
          0.9647832817337462,
          0.9647832817337462,
          0.9651702786377709,
          0.9651702786377709,
          0.9654282765737874,
          0.9654282765737874,
          0.9658152734778122,
          0.9658152734778122,
          0.9660732714138287,
          0.9660732714138287,
          0.9662022703818369,
          0.9662022703818369,
          0.9663312693498453,
          0.9663312693498453,
          0.9665892672858617,
          0.9665892672858617,
          0.9668472652218782,
          0.9668472652218782,
          0.9669762641898865,
          0.9669762641898865,
          0.9671052631578947,
          0.9671052631578947,
          0.967234262125903,
          0.967234262125903,
          0.9676212590299278,
          0.9676212590299278,
          0.9678792569659442,
          0.9678792569659442,
          0.9686532507739938,
          0.9686532507739938,
          0.9690402476780186,
          0.9690402476780186,
          0.9691692466460269,
          0.9691692466460269,
          0.9692982456140351,
          0.9692982456140351,
          0.9694272445820433,
          0.9694272445820433,
          0.9696852425180599,
          0.9696852425180599,
          0.9698142414860681,
          0.9698142414860681,
          0.9699432404540763,
          0.9699432404540763,
          0.9702012383900929,
          0.9702012383900929,
          0.9704592363261094,
          0.9704592363261094,
          0.9707172342621259,
          0.9707172342621259,
          0.9708462332301342,
          0.9708462332301342,
          0.9711042311661506,
          0.9711042311661506,
          0.9718782249742002,
          0.9718782249742002,
          0.9723942208462333,
          0.9723942208462333,
          0.9725232198142415,
          0.9725232198142415,
          0.9730392156862745,
          0.9730392156862745,
          0.9731682146542827,
          0.9731682146542827,
          0.973297213622291,
          0.973297213622291,
          0.9734262125902993,
          0.9734262125902993,
          0.9735552115583075,
          0.9735552115583075,
          0.9739422084623323,
          0.9739422084623323,
          0.9744582043343654,
          0.9744582043343654,
          0.9745872033023736,
          0.9745872033023736,
          0.9747162022703818,
          0.9747162022703818,
          0.9749742002063984,
          0.9749742002063984,
          0.9752321981424149,
          0.9752321981424149,
          0.9753611971104231,
          0.9753611971104231,
          0.9754901960784313,
          0.9754901960784313,
          0.9756191950464397,
          0.9756191950464397,
          0.9758771929824561,
          0.9758771929824561,
          0.9760061919504643,
          0.9760061919504643,
          0.9761351909184727,
          0.9761351909184727,
          0.9763931888544891,
          0.9763931888544891,
          0.9766511867905057,
          0.9766511867905057,
          0.9767801857585139,
          0.9767801857585139,
          0.9770381836945304,
          0.9770381836945304,
          0.9771671826625387,
          0.9771671826625387,
          0.977296181630547,
          0.977296181630547,
          0.9774251805985552,
          0.9774251805985552,
          0.9775541795665634,
          0.9775541795665634,
          0.9779411764705882,
          0.9779411764705882,
          0.978328173374613,
          0.978328173374613,
          0.9784571723426213,
          0.9784571723426213,
          0.9785861713106295,
          0.9785861713106295,
          0.9789731682146543,
          0.9789731682146543,
          0.9793601651186791,
          0.9793601651186791,
          0.9796181630546955,
          0.9796181630546955,
          0.9800051599587203,
          0.9800051599587203,
          0.9802631578947368,
          0.9802631578947368,
          0.9805211558307534,
          0.9805211558307534,
          0.9806501547987616,
          0.9806501547987616,
          0.9807791537667698,
          0.9807791537667698,
          0.9809081527347782,
          0.9809081527347782,
          0.9810371517027864,
          0.9810371517027864,
          0.9811661506707946,
          0.9811661506707946,
          0.9815531475748194,
          0.9815531475748194,
          0.9821981424148607,
          0.9821981424148607,
          0.9824561403508771,
          0.9824561403508771,
          0.9827141382868937,
          0.9827141382868937,
          0.9828431372549019,
          0.9828431372549019,
          0.9829721362229102,
          0.9829721362229102,
          0.9831011351909185,
          0.9831011351909185,
          0.9832301341589267,
          0.9832301341589267,
          0.983875128998968,
          0.983875128998968,
          0.9841331269349846,
          0.9841331269349846,
          0.984391124871001,
          0.984391124871001,
          0.9845201238390093,
          0.9845201238390093,
          0.9847781217750258,
          0.9847781217750258,
          0.9855521155830753,
          0.9855521155830753,
          0.9856811145510835,
          0.9856811145510835,
          0.9859391124871001,
          0.9859391124871001,
          0.9860681114551083,
          0.9860681114551083,
          0.9861971104231166,
          0.9861971104231166,
          0.9863261093911249,
          0.9863261093911249,
          0.9865841073271414,
          0.9865841073271414,
          0.9867131062951496,
          0.9867131062951496,
          0.9868421052631579,
          0.9868421052631579,
          0.987358101135191,
          0.987358101135191,
          0.9874871001031992,
          0.9874871001031992,
          0.9876160990712074,
          0.9876160990712074,
          0.9882610939112487,
          0.9882610939112487,
          0.9883900928792569,
          0.9883900928792569,
          0.9885190918472653,
          0.9885190918472653,
          0.9886480908152735,
          0.9886480908152735,
          0.9887770897832817,
          0.9887770897832817,
          0.9891640866873065,
          0.9891640866873065,
          0.9892930856553147,
          0.9892930856553147,
          0.989422084623323,
          0.989422084623323,
          0.9895510835913313,
          0.9895510835913313,
          0.9896800825593395,
          0.9896800825593395,
          0.9898090815273478,
          0.9898090815273478,
          0.9903250773993808,
          0.9903250773993808,
          0.990454076367389,
          0.990454076367389,
          0.9907120743034056,
          0.9907120743034056,
          0.9908410732714138,
          0.9908410732714138,
          0.9910990712074303,
          0.9910990712074303,
          0.9912280701754386,
          0.9912280701754386,
          0.9913570691434469,
          0.9913570691434469,
          0.9914860681114551,
          0.9914860681114551,
          0.9917440660474717,
          0.9917440660474717,
          0.9918730650154799,
          0.9918730650154799,
          0.9920020639834881,
          0.9920020639834881,
          0.9921310629514963,
          0.9921310629514963,
          0.9922600619195047,
          0.9922600619195047,
          0.9923890608875129,
          0.9923890608875129,
          0.9925180598555211,
          0.9925180598555211,
          0.9926470588235294,
          0.9926470588235294,
          0.9927760577915377,
          0.9927760577915377,
          0.9929050567595459,
          0.9929050567595459,
          0.9930340557275542,
          0.9930340557275542,
          0.9931630546955624,
          0.9931630546955624,
          0.9932920536635707,
          0.9932920536635707,
          0.993421052631579,
          0.993421052631579,
          0.9935500515995872,
          0.9935500515995872,
          0.9938080495356038,
          0.9938080495356038,
          0.993937048503612,
          0.993937048503612,
          0.9940660474716202,
          0.9940660474716202,
          0.9943240454076367,
          0.9943240454076367,
          0.994453044375645,
          0.994453044375645,
          0.9945820433436533,
          0.9945820433436533,
          0.9948400412796697,
          0.9948400412796697,
          0.9949690402476781,
          0.9949690402476781,
          0.9950980392156863,
          0.9950980392156863,
          0.9953560371517027,
          0.9953560371517027,
          0.9956140350877193,
          0.9956140350877193,
          0.9957430340557275,
          0.9957430340557275,
          0.9958720330237358,
          0.9958720330237358,
          0.9960010319917441,
          0.9960010319917441,
          0.9961300309597523,
          0.9961300309597523,
          0.9962590299277606,
          0.9962590299277606,
          0.9963880288957688,
          0.9963880288957688,
          0.9966460268317854,
          0.9966460268317854,
          0.9969040247678018,
          0.9969040247678018,
          0.9970330237358102,
          0.9970330237358102,
          0.9971620227038184,
          0.9971620227038184,
          0.9972910216718266,
          0.9972910216718266,
          0.9974200206398349,
          0.9974200206398349,
          0.9975490196078431,
          0.9975490196078431,
          0.9976780185758514,
          0.9976780185758514,
          0.9978070175438597,
          0.9978070175438597,
          0.9979360165118679,
          0.9979360165118679,
          0.9980650154798761,
          0.9980650154798761,
          0.9981940144478845,
          0.9981940144478845,
          0.9983230134158927,
          0.9983230134158927,
          0.9984520123839009,
          0.9984520123839009,
          0.9985810113519091,
          0.9985810113519091,
          0.9987100103199175,
          0.9987100103199175,
          0.9988390092879257,
          0.9988390092879257,
          0.9989680082559339,
          0.9989680082559339,
          0.9990970072239422,
          0.9990970072239422,
          0.9992260061919505,
          0.9992260061919505,
          0.9993550051599587,
          0.9993550051599587,
          0.999484004127967,
          0.999484004127967,
          0.9996130030959752,
          0.9996130030959752,
          0.9997420020639834,
          0.9997420020639834,
          0.9998710010319918,
          0.9998710010319918,
          1,
          1
         ]
        },
        {
         "line": {
          "dash": "dash"
         },
         "mode": "lines",
         "name": "Diagonal line (equal measures)",
         "type": "scatter",
         "x": [
          0,
          1
         ],
         "y": [
          0,
          1
         ]
        }
       ],
       "layout": {
        "showlegend": true,
        "template": {
         "data": {
          "bar": [
           {
            "error_x": {
             "color": "#2a3f5f"
            },
            "error_y": {
             "color": "#2a3f5f"
            },
            "marker": {
             "line": {
              "color": "#E5ECF6",
              "width": 0.5
             },
             "pattern": {
              "fillmode": "overlay",
              "size": 10,
              "solidity": 0.2
             }
            },
            "type": "bar"
           }
          ],
          "barpolar": [
           {
            "marker": {
             "line": {
              "color": "#E5ECF6",
              "width": 0.5
             },
             "pattern": {
              "fillmode": "overlay",
              "size": 10,
              "solidity": 0.2
             }
            },
            "type": "barpolar"
           }
          ],
          "carpet": [
           {
            "aaxis": {
             "endlinecolor": "#2a3f5f",
             "gridcolor": "white",
             "linecolor": "white",
             "minorgridcolor": "white",
             "startlinecolor": "#2a3f5f"
            },
            "baxis": {
             "endlinecolor": "#2a3f5f",
             "gridcolor": "white",
             "linecolor": "white",
             "minorgridcolor": "white",
             "startlinecolor": "#2a3f5f"
            },
            "type": "carpet"
           }
          ],
          "choropleth": [
           {
            "colorbar": {
             "outlinewidth": 0,
             "ticks": ""
            },
            "type": "choropleth"
           }
          ],
          "contour": [
           {
            "colorbar": {
             "outlinewidth": 0,
             "ticks": ""
            },
            "colorscale": [
             [
              0,
              "#0d0887"
             ],
             [
              0.1111111111111111,
              "#46039f"
             ],
             [
              0.2222222222222222,
              "#7201a8"
             ],
             [
              0.3333333333333333,
              "#9c179e"
             ],
             [
              0.4444444444444444,
              "#bd3786"
             ],
             [
              0.5555555555555556,
              "#d8576b"
             ],
             [
              0.6666666666666666,
              "#ed7953"
             ],
             [
              0.7777777777777778,
              "#fb9f3a"
             ],
             [
              0.8888888888888888,
              "#fdca26"
             ],
             [
              1,
              "#f0f921"
             ]
            ],
            "type": "contour"
           }
          ],
          "contourcarpet": [
           {
            "colorbar": {
             "outlinewidth": 0,
             "ticks": ""
            },
            "type": "contourcarpet"
           }
          ],
          "heatmap": [
           {
            "colorbar": {
             "outlinewidth": 0,
             "ticks": ""
            },
            "colorscale": [
             [
              0,
              "#0d0887"
             ],
             [
              0.1111111111111111,
              "#46039f"
             ],
             [
              0.2222222222222222,
              "#7201a8"
             ],
             [
              0.3333333333333333,
              "#9c179e"
             ],
             [
              0.4444444444444444,
              "#bd3786"
             ],
             [
              0.5555555555555556,
              "#d8576b"
             ],
             [
              0.6666666666666666,
              "#ed7953"
             ],
             [
              0.7777777777777778,
              "#fb9f3a"
             ],
             [
              0.8888888888888888,
              "#fdca26"
             ],
             [
              1,
              "#f0f921"
             ]
            ],
            "type": "heatmap"
           }
          ],
          "heatmapgl": [
           {
            "colorbar": {
             "outlinewidth": 0,
             "ticks": ""
            },
            "colorscale": [
             [
              0,
              "#0d0887"
             ],
             [
              0.1111111111111111,
              "#46039f"
             ],
             [
              0.2222222222222222,
              "#7201a8"
             ],
             [
              0.3333333333333333,
              "#9c179e"
             ],
             [
              0.4444444444444444,
              "#bd3786"
             ],
             [
              0.5555555555555556,
              "#d8576b"
             ],
             [
              0.6666666666666666,
              "#ed7953"
             ],
             [
              0.7777777777777778,
              "#fb9f3a"
             ],
             [
              0.8888888888888888,
              "#fdca26"
             ],
             [
              1,
              "#f0f921"
             ]
            ],
            "type": "heatmapgl"
           }
          ],
          "histogram": [
           {
            "marker": {
             "pattern": {
              "fillmode": "overlay",
              "size": 10,
              "solidity": 0.2
             }
            },
            "type": "histogram"
           }
          ],
          "histogram2d": [
           {
            "colorbar": {
             "outlinewidth": 0,
             "ticks": ""
            },
            "colorscale": [
             [
              0,
              "#0d0887"
             ],
             [
              0.1111111111111111,
              "#46039f"
             ],
             [
              0.2222222222222222,
              "#7201a8"
             ],
             [
              0.3333333333333333,
              "#9c179e"
             ],
             [
              0.4444444444444444,
              "#bd3786"
             ],
             [
              0.5555555555555556,
              "#d8576b"
             ],
             [
              0.6666666666666666,
              "#ed7953"
             ],
             [
              0.7777777777777778,
              "#fb9f3a"
             ],
             [
              0.8888888888888888,
              "#fdca26"
             ],
             [
              1,
              "#f0f921"
             ]
            ],
            "type": "histogram2d"
           }
          ],
          "histogram2dcontour": [
           {
            "colorbar": {
             "outlinewidth": 0,
             "ticks": ""
            },
            "colorscale": [
             [
              0,
              "#0d0887"
             ],
             [
              0.1111111111111111,
              "#46039f"
             ],
             [
              0.2222222222222222,
              "#7201a8"
             ],
             [
              0.3333333333333333,
              "#9c179e"
             ],
             [
              0.4444444444444444,
              "#bd3786"
             ],
             [
              0.5555555555555556,
              "#d8576b"
             ],
             [
              0.6666666666666666,
              "#ed7953"
             ],
             [
              0.7777777777777778,
              "#fb9f3a"
             ],
             [
              0.8888888888888888,
              "#fdca26"
             ],
             [
              1,
              "#f0f921"
             ]
            ],
            "type": "histogram2dcontour"
           }
          ],
          "mesh3d": [
           {
            "colorbar": {
             "outlinewidth": 0,
             "ticks": ""
            },
            "type": "mesh3d"
           }
          ],
          "parcoords": [
           {
            "line": {
             "colorbar": {
              "outlinewidth": 0,
              "ticks": ""
             }
            },
            "type": "parcoords"
           }
          ],
          "pie": [
           {
            "automargin": true,
            "type": "pie"
           }
          ],
          "scatter": [
           {
            "fillpattern": {
             "fillmode": "overlay",
             "size": 10,
             "solidity": 0.2
            },
            "type": "scatter"
           }
          ],
          "scatter3d": [
           {
            "line": {
             "colorbar": {
              "outlinewidth": 0,
              "ticks": ""
             }
            },
            "marker": {
             "colorbar": {
              "outlinewidth": 0,
              "ticks": ""
             }
            },
            "type": "scatter3d"
           }
          ],
          "scattercarpet": [
           {
            "marker": {
             "colorbar": {
              "outlinewidth": 0,
              "ticks": ""
             }
            },
            "type": "scattercarpet"
           }
          ],
          "scattergeo": [
           {
            "marker": {
             "colorbar": {
              "outlinewidth": 0,
              "ticks": ""
             }
            },
            "type": "scattergeo"
           }
          ],
          "scattergl": [
           {
            "marker": {
             "colorbar": {
              "outlinewidth": 0,
              "ticks": ""
             }
            },
            "type": "scattergl"
           }
          ],
          "scattermapbox": [
           {
            "marker": {
             "colorbar": {
              "outlinewidth": 0,
              "ticks": ""
             }
            },
            "type": "scattermapbox"
           }
          ],
          "scatterpolar": [
           {
            "marker": {
             "colorbar": {
              "outlinewidth": 0,
              "ticks": ""
             }
            },
            "type": "scatterpolar"
           }
          ],
          "scatterpolargl": [
           {
            "marker": {
             "colorbar": {
              "outlinewidth": 0,
              "ticks": ""
             }
            },
            "type": "scatterpolargl"
           }
          ],
          "scatterternary": [
           {
            "marker": {
             "colorbar": {
              "outlinewidth": 0,
              "ticks": ""
             }
            },
            "type": "scatterternary"
           }
          ],
          "surface": [
           {
            "colorbar": {
             "outlinewidth": 0,
             "ticks": ""
            },
            "colorscale": [
             [
              0,
              "#0d0887"
             ],
             [
              0.1111111111111111,
              "#46039f"
             ],
             [
              0.2222222222222222,
              "#7201a8"
             ],
             [
              0.3333333333333333,
              "#9c179e"
             ],
             [
              0.4444444444444444,
              "#bd3786"
             ],
             [
              0.5555555555555556,
              "#d8576b"
             ],
             [
              0.6666666666666666,
              "#ed7953"
             ],
             [
              0.7777777777777778,
              "#fb9f3a"
             ],
             [
              0.8888888888888888,
              "#fdca26"
             ],
             [
              1,
              "#f0f921"
             ]
            ],
            "type": "surface"
           }
          ],
          "table": [
           {
            "cells": {
             "fill": {
              "color": "#EBF0F8"
             },
             "line": {
              "color": "white"
             }
            },
            "header": {
             "fill": {
              "color": "#C8D4E3"
             },
             "line": {
              "color": "white"
             }
            },
            "type": "table"
           }
          ]
         },
         "layout": {
          "annotationdefaults": {
           "arrowcolor": "#2a3f5f",
           "arrowhead": 0,
           "arrowwidth": 1
          },
          "autotypenumbers": "strict",
          "coloraxis": {
           "colorbar": {
            "outlinewidth": 0,
            "ticks": ""
           }
          },
          "colorscale": {
           "diverging": [
            [
             0,
             "#8e0152"
            ],
            [
             0.1,
             "#c51b7d"
            ],
            [
             0.2,
             "#de77ae"
            ],
            [
             0.3,
             "#f1b6da"
            ],
            [
             0.4,
             "#fde0ef"
            ],
            [
             0.5,
             "#f7f7f7"
            ],
            [
             0.6,
             "#e6f5d0"
            ],
            [
             0.7,
             "#b8e186"
            ],
            [
             0.8,
             "#7fbc41"
            ],
            [
             0.9,
             "#4d9221"
            ],
            [
             1,
             "#276419"
            ]
           ],
           "sequential": [
            [
             0,
             "#0d0887"
            ],
            [
             0.1111111111111111,
             "#46039f"
            ],
            [
             0.2222222222222222,
             "#7201a8"
            ],
            [
             0.3333333333333333,
             "#9c179e"
            ],
            [
             0.4444444444444444,
             "#bd3786"
            ],
            [
             0.5555555555555556,
             "#d8576b"
            ],
            [
             0.6666666666666666,
             "#ed7953"
            ],
            [
             0.7777777777777778,
             "#fb9f3a"
            ],
            [
             0.8888888888888888,
             "#fdca26"
            ],
            [
             1,
             "#f0f921"
            ]
           ],
           "sequentialminus": [
            [
             0,
             "#0d0887"
            ],
            [
             0.1111111111111111,
             "#46039f"
            ],
            [
             0.2222222222222222,
             "#7201a8"
            ],
            [
             0.3333333333333333,
             "#9c179e"
            ],
            [
             0.4444444444444444,
             "#bd3786"
            ],
            [
             0.5555555555555556,
             "#d8576b"
            ],
            [
             0.6666666666666666,
             "#ed7953"
            ],
            [
             0.7777777777777778,
             "#fb9f3a"
            ],
            [
             0.8888888888888888,
             "#fdca26"
            ],
            [
             1,
             "#f0f921"
            ]
           ]
          },
          "colorway": [
           "#636efa",
           "#EF553B",
           "#00cc96",
           "#ab63fa",
           "#FFA15A",
           "#19d3f3",
           "#FF6692",
           "#B6E880",
           "#FF97FF",
           "#FECB52"
          ],
          "font": {
           "color": "#2a3f5f"
          },
          "geo": {
           "bgcolor": "white",
           "lakecolor": "white",
           "landcolor": "#E5ECF6",
           "showlakes": true,
           "showland": true,
           "subunitcolor": "white"
          },
          "hoverlabel": {
           "align": "left"
          },
          "hovermode": "closest",
          "mapbox": {
           "style": "light"
          },
          "paper_bgcolor": "white",
          "plot_bgcolor": "#E5ECF6",
          "polar": {
           "angularaxis": {
            "gridcolor": "white",
            "linecolor": "white",
            "ticks": ""
           },
           "bgcolor": "#E5ECF6",
           "radialaxis": {
            "gridcolor": "white",
            "linecolor": "white",
            "ticks": ""
           }
          },
          "scene": {
           "xaxis": {
            "backgroundcolor": "#E5ECF6",
            "gridcolor": "white",
            "gridwidth": 2,
            "linecolor": "white",
            "showbackground": true,
            "ticks": "",
            "zerolinecolor": "white"
           },
           "yaxis": {
            "backgroundcolor": "#E5ECF6",
            "gridcolor": "white",
            "gridwidth": 2,
            "linecolor": "white",
            "showbackground": true,
            "ticks": "",
            "zerolinecolor": "white"
           },
           "zaxis": {
            "backgroundcolor": "#E5ECF6",
            "gridcolor": "white",
            "gridwidth": 2,
            "linecolor": "white",
            "showbackground": true,
            "ticks": "",
            "zerolinecolor": "white"
           }
          },
          "shapedefaults": {
           "line": {
            "color": "#2a3f5f"
           }
          },
          "ternary": {
           "aaxis": {
            "gridcolor": "white",
            "linecolor": "white",
            "ticks": ""
           },
           "baxis": {
            "gridcolor": "white",
            "linecolor": "white",
            "ticks": ""
           },
           "bgcolor": "#E5ECF6",
           "caxis": {
            "gridcolor": "white",
            "linecolor": "white",
            "ticks": ""
           }
          },
          "title": {
           "x": 0.05
          },
          "xaxis": {
           "automargin": true,
           "gridcolor": "white",
           "linecolor": "white",
           "ticks": "",
           "title": {
            "standoff": 15
           },
           "zerolinecolor": "white",
           "zerolinewidth": 2
          },
          "yaxis": {
           "automargin": true,
           "gridcolor": "white",
           "linecolor": "white",
           "ticks": "",
           "title": {
            "standoff": 15
           },
           "zerolinecolor": "white",
           "zerolinewidth": 2
          }
         }
        },
        "title": {
         "text": "ROC Curve XGBoost: 0.97 "
        },
        "xaxis": {
         "title": {
          "text": "False Positive Rate"
         }
        },
        "yaxis": {
         "title": {
          "text": "Recall"
         }
        }
       }
      }
     },
     "metadata": {},
     "output_type": "display_data"
    }
   ],
   "source": [
    "#ROC XGB version 2 (selected version)\n",
    "# Predicted probabilities from the fitted grid search\n",
    "y_pred_prob = xgb_fitted_grid2.predict_proba(X_test)[:, 1]\n",
    "\n",
    "# FPR, TPR and Thresholds\n",
    "fpr, tpr, thresholds = roc_curve(y_test, y_pred_prob)\n",
    "\n",
    "#AUC score\n",
    "auc_score = roc_auc_score(y_test, y_pred_prob)\n",
    "\n",
    "#ROC curve \n",
    "roc_trace = go.Scatter(\n",
    "    x=fpr,\n",
    "    y=tpr,\n",
    "    mode='lines',\n",
    "    name='ROC Curve (AUC = {:.2f})'.format(auc_score)\n",
    ")\n",
    "\n",
    "#Diagonal line trace\n",
    "diagonal_trace = go.Scatter(\n",
    "    x=[0, 1],\n",
    "    y=[0, 1],\n",
    "    mode='lines',\n",
    "    name='Diagonal line (equal measures)',\n",
    "    line=dict(dash='dash')\n",
    ")\n",
    "\n",
    "#Layout & figure\n",
    "layout = go.Layout(\n",
    "    title='ROC Curve XGBoost: 0.97 ',\n",
    "    xaxis=dict(title='False Positive Rate'),\n",
    "    yaxis=dict(title='Recall'),\n",
    "    showlegend=True\n",
    ")\n",
    "\n",
    "fig = go.Figure(data=[roc_trace, diagonal_trace], layout=layout)\n",
    "\n",
    "\n",
    "fig.show()"
   ]
  },
  {
   "attachments": {},
   "cell_type": "markdown",
   "metadata": {},
   "source": [
    "----"
   ]
  },
  {
   "attachments": {},
   "cell_type": "markdown",
   "metadata": {},
   "source": [
    "## Iteration 1 \n",
    "\n",
    "- The results of these models is affected by data leakage, it was caused during the pre-processing notebook when I performed the scaling\n",
    "- Overall, the best model has been Random Forest, I will continue with this algorithm for the final results, tunning and running it again without data leakage\n",
    "- The best iteration of the Random Forest had an accuracy of 96, recall of 97 and precision of 98. Summarized in a ROC AUC of 98 and F1 of 97\n",
    "    - Parameters: Standard Scaler, no PCA and max depth = 100, cross - validation = 3\n",
    "\n",
    "**Algorithms**\n",
    "\n",
    "- In the evaluation for the final model, careful consideration was given to weighting precision, recall, overfitting, the number of parameters, and runtime, leading to the decision to continue with the random forest algorithm.\n",
    "\n",
    "\n",
    "KNN\n",
    "\n",
    "| Iteration      | Actions | Recall / Accuracy| Additional notes|\n",
    "| ----------- | ----------- |----------- |----------- |\n",
    "| 1      | different number of neighbors       |0.81        |underperform vs baseline, and used the maximum number of neighbors       |\n",
    "| 2   | Increased neighbors to a range 200        |0.84        |Accuracy increased, but continued to underperform. Also used the maximum number of neighbors        |\n",
    "| 3   | Increased the number of neighbors to a 1000 range        |0.84        |The number of neighbors stayed on the lower bound. Optimum number ≈ 200       |\n",
    "| 4   | Weight by distance        |0.91        |Significant improvement. Accuracy surpasses the baseline        |\n",
    "\n",
    "- The KNN algorithm proved ineffective in finding meaningful patterns and exhibited slow fitting times due to the large number of features. However, a significant increase in accuracy was observed upon switching to the 'distance' metric, which assigns weights to points based on the inverse of their distance.\n",
    "- The presence of irrelevant features in the dataset, coupled with the default weight that treats all features equally, introduces unnecessary noise into the calculations.\n",
    "- Considering the number of features and datapoints, it is evident that this model is not efficient for predicting churn.\n",
    "\n",
    "\n",
    "----------------------------------------------------------------------\n",
    "\n",
    "Random Forest\n",
    "\n",
    "| Iteration      | Actions | Recall / Accuracy| Additional notes|\n",
    "| ----------- | ----------- |----------- |----------- |\n",
    "| 1      |Max depth 10       |0.9 / 0.9 |No normalize and Standard Scaler, CV = 3. It used the upper bound of neighbors|\n",
    "| 2   | Max depth increased range 10 - 20        |0.96 / 0.94 |The model used the upper bound|\n",
    "| 3   | Max depth increased range 20 - 100        |0.96 / 0.95|The model used the upper bound|\n",
    "| 4   | Max depth increased range 100 - 500        |0.97 / 0.96|100 maximum depth. The optimum parameter is ≈ 100|\n",
    "\n",
    "- All iterations exceeded the baseline performance, and the models demonstrated significantly reduced processing time compared to KNN.\n",
    "- The optimized maximum depth is approximately 100 levels; however, beyond 20 levels, diminishing marginal returns become evident.\n",
    "\n",
    "----------------------------------------------------------------------\n",
    "\n",
    "XGBoost\n",
    "\n",
    "| Iteration      | Actions | Recall / Accuracy| Additional notes|\n",
    "| ----------- | ----------- |----------- |----------- |\n",
    "| 1      | Random Search 1: 20 iterations, cv 3       |accuracy 0.80       |scale pos weight 1, reg lambda 0.5, 100 estimators, max depth 3 (upper bound), learning rate 0.1, gamma 0.0001, cols sample by tree 0.8|\n",
    "| 2   | Random search 2: 50 iterations, cv 3        |accuracy 0.81        |n components 0.9, scale pos weight 1, reg lambda 5, 100 estimators, max depth 1, learning rate 0.1, gamma 1, cols sample by tree 0.5|\n",
    "| 3   | GridSearch 1        |Accuracy 0.84        |col sample by tree 0.8, gamma 0.0001, learning rate 0.01, max depth 4 (upper bound), n estimators 200, reg alpha 1, scale pos weight 1, no n components       |\n",
    "| 4   | GridSearch 2 Range depth 4 - 15       |0.95 / 0.94        |15 max depth (upper bound), all the other parameters stayed the same   |\n",
    "| 5   | GridSearch 3   Range depth 15 - 100     |0.95 / 0.94        |15 max depth (lower bound), all the other parameters stayed the same        |\n",
    "\n",
    "- Given the extensive parameter set requiring optimization, I initiated the process with Random Search iterations to narrow down the parameter ranges.\n",
    "- The optimized models outperformed the baseline accuracy.\n",
    "- A random sample of 0.8 was utilized to introduce greater diversity in the trees, complemented by a small learning rate as the number of iterations was not a limiting factor. A low gamma value was chosen to account for the depth of the trees. Additionally, the scale positive weight was set to 1 due to the implementation of the SMOTE transformation.\n"
   ]
  },
  {
   "attachments": {},
   "cell_type": "markdown",
   "metadata": {},
   "source": [
    "### Uploading the files"
   ]
  },
  {
   "cell_type": "code",
   "execution_count": null,
   "metadata": {},
   "outputs": [],
   "source": [
    "#Uploading the files\n",
    "def initial_sets():\n",
    "    X_train_sm_ss = pd.read_csv('../Data/elenas-it1-x_train_sm_ss.csv', index_col=0)\n",
    "    X_test_ss_sm = pd.read_csv('../Data/elenas-it1-x_test_sm_ss.csv', index_col=0)\n",
    "    y_train_sm = pd.read_csv('../Data/elenas-it1-y_train_sm2.csv', index_col=0)\n",
    "    y_test = pd.read_csv('../Data/elenas-it1-y_test.csv', index_col=0)\n",
    "    #y_test = y_test[\"order_last_month\"]\n",
    "    #y_train_sm = y_train_sm[\"order_last_month\"]\n",
    "    return X_train_sm_ss, X_test_ss_sm, y_train_sm, y_test"
   ]
  },
  {
   "cell_type": "code",
   "execution_count": null,
   "metadata": {},
   "outputs": [
    {
     "name": "stdout",
     "output_type": "stream",
     "text": [
      "\n",
      "     X_train_sm_ss: (377132, 28)\n",
      "     X_test_ss_sm: (52623, 28)\n",
      "     y_train_sm: (377132, 1)\n",
      "     y_test: (52623, 1)\n",
      "      \n"
     ]
    }
   ],
   "source": [
    "#Defining the variables\n",
    "X_train, X_test, y_train, y_test = initial_sets()\n",
    "\n",
    "#Sanity check:\n",
    "print(f\"\"\"\n",
    "     X_train_sm_ss: {X_train.shape}\n",
    "     X_test_ss_sm: {X_test.shape}\n",
    "     y_train_sm: {y_train.shape}\n",
    "     y_test: {y_test.shape}\n",
    "      \"\"\")\n"
   ]
  },
  {
   "attachments": {},
   "cell_type": "markdown",
   "metadata": {},
   "source": [
    "### KNN\n",
    "\n",
    "\n",
    "- The KNN algorithm proved ineffective in finding meaningful patterns and exhibited slow fitting times due to the large number of features. However, a significant increase in accuracy was observed upon switching to the 'distance' metric, which assigns weights to points based on the inverse of their distance.\n",
    "- The presence of irrelevant features in the dataset, coupled with the default weight that treats all features equally, introduces unnecessary noise into the calculations.\n",
    "- Considering the number of features and datapoints, it is evident that this model is not efficient for predicting churn.\n",
    "\n",
    "Iteration for KNN -> ‘distance’ : weight points by the inverse of their distance. in this case, closer neighbors of a query point will have a greater influence than neighbors which are further away.\n"
   ]
  },
  {
   "attachments": {},
   "cell_type": "markdown",
   "metadata": {},
   "source": [
    "> I commented out the cell due to runtime issues. Since it wasn't the final KNN model, there is no need for pickling"
   ]
  },
  {
   "cell_type": "code",
   "execution_count": null,
   "metadata": {},
   "outputs": [],
   "source": [
    "\"\"\"\n",
    "#KNN gridsearch:\n",
    "X_train, X_test, y_train, y_test = initial_sets()\n",
    "\n",
    "estimators = [\n",
    "    (\"normalise\", StandardScaler()),\n",
    "    (\"select\", PCA()),\n",
    "    (\"model\", KNeighborsClassifier())\n",
    "]\n",
    "\n",
    "pipe = Pipeline(estimators)\n",
    "\n",
    "param_grid = [\n",
    "    {\n",
    "        'model': [KNeighborsClassifier()],\n",
    "        'normalise': [None],\n",
    "        'model__n_neighbors': [200, 500, 1000],\n",
    "        'select':  [None],\n",
    "    }]\n",
    "\n",
    "grid = GridSearchCV(pipe, param_grid, cv=3, verbose=1)\n",
    "knn_fitted_grid = grid.fit(X_train, y_train)\n",
    "\"\"\"\n"
   ]
  },
  {
   "cell_type": "code",
   "execution_count": null,
   "metadata": {},
   "outputs": [
    {
     "name": "stdout",
     "output_type": "stream",
     "text": [
      "Fitting 3 folds for each of 3 candidates, totalling 9 fits\n"
     ]
    },
    {
     "name": "stderr",
     "output_type": "stream",
     "text": [
      "/Users/mauriciomoreno/opt/anaconda3/envs/capstone_shap/lib/python3.8/site-packages/sklearn/neighbors/_classification.py:179: DataConversionWarning:\n",
      "\n",
      "A column-vector y was passed when a 1d array was expected. Please change the shape of y to (n_samples,), for example using ravel().\n",
      "\n",
      "/Users/mauriciomoreno/opt/anaconda3/envs/capstone_shap/lib/python3.8/site-packages/sklearn/neighbors/_classification.py:179: DataConversionWarning:\n",
      "\n",
      "A column-vector y was passed when a 1d array was expected. Please change the shape of y to (n_samples,), for example using ravel().\n",
      "\n",
      "/Users/mauriciomoreno/opt/anaconda3/envs/capstone_shap/lib/python3.8/site-packages/sklearn/neighbors/_classification.py:179: DataConversionWarning:\n",
      "\n",
      "A column-vector y was passed when a 1d array was expected. Please change the shape of y to (n_samples,), for example using ravel().\n",
      "\n",
      "/Users/mauriciomoreno/opt/anaconda3/envs/capstone_shap/lib/python3.8/site-packages/sklearn/neighbors/_classification.py:179: DataConversionWarning:\n",
      "\n",
      "A column-vector y was passed when a 1d array was expected. Please change the shape of y to (n_samples,), for example using ravel().\n",
      "\n",
      "/Users/mauriciomoreno/opt/anaconda3/envs/capstone_shap/lib/python3.8/site-packages/sklearn/neighbors/_classification.py:179: DataConversionWarning:\n",
      "\n",
      "A column-vector y was passed when a 1d array was expected. Please change the shape of y to (n_samples,), for example using ravel().\n",
      "\n",
      "/Users/mauriciomoreno/opt/anaconda3/envs/capstone_shap/lib/python3.8/site-packages/sklearn/neighbors/_classification.py:179: DataConversionWarning:\n",
      "\n",
      "A column-vector y was passed when a 1d array was expected. Please change the shape of y to (n_samples,), for example using ravel().\n",
      "\n",
      "/Users/mauriciomoreno/opt/anaconda3/envs/capstone_shap/lib/python3.8/site-packages/sklearn/neighbors/_classification.py:179: DataConversionWarning:\n",
      "\n",
      "A column-vector y was passed when a 1d array was expected. Please change the shape of y to (n_samples,), for example using ravel().\n",
      "\n",
      "/Users/mauriciomoreno/opt/anaconda3/envs/capstone_shap/lib/python3.8/site-packages/sklearn/neighbors/_classification.py:179: DataConversionWarning:\n",
      "\n",
      "A column-vector y was passed when a 1d array was expected. Please change the shape of y to (n_samples,), for example using ravel().\n",
      "\n",
      "/Users/mauriciomoreno/opt/anaconda3/envs/capstone_shap/lib/python3.8/site-packages/sklearn/neighbors/_classification.py:179: DataConversionWarning:\n",
      "\n",
      "A column-vector y was passed when a 1d array was expected. Please change the shape of y to (n_samples,), for example using ravel().\n",
      "\n",
      "/Users/mauriciomoreno/opt/anaconda3/envs/capstone_shap/lib/python3.8/site-packages/sklearn/neighbors/_classification.py:179: DataConversionWarning:\n",
      "\n",
      "A column-vector y was passed when a 1d array was expected. Please change the shape of y to (n_samples,), for example using ravel().\n",
      "\n"
     ]
    }
   ],
   "source": [
    "\"\"\"\n",
    "#Distance based Search Grid\n",
    "#KNN  distance adjusted gridsearch:\n",
    "X_train, X_test, y_train, y_test = initial_sets()\n",
    "\n",
    "estimators = [\n",
    "    (\"normalise\", StandardScaler()),\n",
    "    (\"select\", PCA()),\n",
    "    (\"model\", KNeighborsClassifier(weights=('distance')))\n",
    "]\n",
    "\n",
    "pipe = Pipeline(estimators)\n",
    "\n",
    "param_grid = [\n",
    "    {\n",
    "        'model': [KNeighborsClassifier(weights=('distance'))],\n",
    "        'normalise': [None],\n",
    "        'model__n_neighbors': [50, 100, 200],\n",
    "        'select':  [None],\n",
    "    }]\n",
    "\n",
    "grid = GridSearchCV(pipe, param_grid, cv=3, verbose=1)\n",
    "distance_knn_fitted_grid = grid.fit(X_train, y_train)\n",
    "\"\"\""
   ]
  },
  {
   "attachments": {},
   "cell_type": "markdown",
   "metadata": {},
   "source": [
    "### Random Forest:\n",
    "\n",
    "Version 1:\n",
    "- {'model': RandomForestClassifier(max_depth=10), 'model__max_depth': 10, 'normalise': None, 'select': None}\n",
    "- Precision: 0.97\n",
    "- Recall: 0.909\n",
    "- F1 score: 0.94\n",
    "- accuracy 90\n",
    "\n",
    "\n",
    "Version 2:\n",
    "- {'model': RandomForestClassifier(max_depth=20), 'model__max_depth': 20, 'normalise': None, 'select': None}\n",
    "- Precision: accuracy of churn predictions: 0.980\n",
    "- Recall: 0.96\n",
    "- F1 score: 0.970\n",
    "- Accuracy 0.947\n",
    "\n",
    "\n",
    "Version 3:\n",
    "- {'model': RandomForestClassifier(max_depth=100), 'model__max_depth': 100, 'normalise': None, 'select': None}\n",
    "- Precision: 0.98\n",
    "- Recall: 0.96\n",
    "- F1 score: 0.97\n",
    "- Accuracy: 0.958\n",
    "\n",
    "Version 4:\n",
    "- {'model': RandomForestClassifier(max_depth=100), 'model__max_depth': 100, 'normalise': None, 'select': None}\n",
    "- Precision: 0.98\n",
    "- Recall: 0.97\n",
    "- F1 score: 0.97\n",
    "- accuracy: 0.95\n",
    "\n",
    "\n",
    "\n"
   ]
  },
  {
   "attachments": {},
   "cell_type": "markdown",
   "metadata": {},
   "source": [
    "> I commented out the cell due to runtime issues. Since it wasn't the final RF model, there is no need for pickling"
   ]
  },
  {
   "cell_type": "code",
   "execution_count": null,
   "metadata": {},
   "outputs": [],
   "source": [
    "\"\"\"#Random Forest gridsearch:\n",
    "X_train, X_test, y_train, y_test = initial_sets()\n",
    "\n",
    "estimators = [\n",
    "    (\"normalise\", StandardScaler()),\n",
    "    (\"select\", PCA()),\n",
    "    (\"model\", RandomForestClassifier())\n",
    "]\n",
    "\n",
    "pipe = Pipeline(estimators)\n",
    "\n",
    "param_grid = [\n",
    "    {\n",
    "        'model': [RandomForestClassifier()],\n",
    "        'normalise': [None],\n",
    "        'model__max_depth': [100, 500, 800,],\n",
    "        'select':  [PCA(n_components=0.9), None],\n",
    "    }]\n",
    "\n",
    "grid = GridSearchCV(pipe, param_grid, cv=3, verbose=1)\n",
    "rf_fitted_grid = grid.fit(X_train, y_train)\n",
    "\"\"\""
   ]
  },
  {
   "attachments": {},
   "cell_type": "markdown",
   "metadata": {},
   "source": [
    "### XGBoost:\n",
    "\n",
    "Due to the number of hyperparameters of the XGBoost, I decided to start narrowing down the options with random grids and then conduct a final gridsearch\n",
    "\n",
    "Random search 1\n",
    "    Parameters: n_components': None, scale_pos_weight': 1, reg_lambda': 0.5, reg_alpha': 1, n_estimators': 100, max_depth': 3, learning_rate': 0.1, gamma': 0.0001, colsample_bytree': 0.8\n",
    "\n",
    "Random search 2:\n",
    "    Parameters: n_components': 0.9, scale_pos_weight': 1, reg_lambda': 5,reg_alpha': 0, n_estimators': 100, max_depth': 1, learning_rate': 0.1, gamma': 1, colsample_bytree': 0.5\n",
    "\n",
    "\n",
    "Non Random 3:\n",
    "    Parameters: colsample_bytree: 0.8, gamma: 0.0001, learning_rate: 0.01, max_depth: 4, n_estimators: 200, reg_alpha: 1, reg_lambda': 1, scale_pos_weight': 1, n_components': None\n",
    "- accuracy 0.838\n",
    "\n",
    "Non Random 4: \n",
    "    Parameters: colsample_bytree: 0.8, gamma: 0.0001, learning_rate: 0.01, max_depth: 15, n_estimators: 200, reg_alpha: 1, reg_lambda: 1, scale_pos_weight: 1, n_components: None\n",
    "- Accuracy: 0.94\n",
    "\n",
    "Non Random 5:\n",
    "    Parameters: colsample_bytree: 0.8, gamma: 0.0001, learning_rate: 0.01,  max_depth: 15, n_estimators: 200, reg_alpha: 1, reg_lambda: 1, scale_pos_weight: 1, n_components': None\n",
    "- Accuracy 0.94\n",
    "- Precision: 0.974\n",
    "- Recall: 0.959\n",
    "- F1 score: 0.966\n"
   ]
  },
  {
   "attachments": {},
   "cell_type": "markdown",
   "metadata": {},
   "source": [
    "> I commented out the cell due to runtime issues. Since it wasn't the final RF model, there is no need for pickling"
   ]
  },
  {
   "cell_type": "code",
   "execution_count": null,
   "metadata": {},
   "outputs": [],
   "source": [
    "\"\"\"X_train, X_test, y_train, y_test = initial_sets()\n",
    "\n",
    "estimators = [\n",
    "    (\"select\", PCA()),\n",
    "    (\"model\", XGBClassifier())\n",
    "]\n",
    "\n",
    "pipe = Pipeline(estimators)\n",
    "\n",
    "param_grid = { \n",
    "    'model__max_depth': [1, 2, 3],\n",
    "    'select__n_components': [0.9, None],  # Hyperparameter for PCA\n",
    "    'model__colsample_bytree': [0.3, 0.5, 0.8],  # Hyperparameter for XGBoost\n",
    "    'model__reg_alpha': [0, 0.5, 1, 5],  # Hyperparameter for XGBoost\n",
    "    'model__reg_lambda': [0, 0.5, 1, 5],  # Hyperparameter for XGBoost\n",
    "    'model__learning_rate': [0.0001, 0.001, 0.01, 0.1, 1],  # Hyperparameter for XGBoost\n",
    "    'model__gamma':[0.0001, 0.001, 0.01, 0.1, 1, 10],\n",
    "    'model__n_estimators': [1, 10, 100],\n",
    "    'model__scale_pos_weight': [0.001, 0.1, 1, 10, 100]\n",
    "}\n",
    "\n",
    "grid = RandomizedSearchCV(pipe, param_grid, cv=3, verbose=1, refit='accuracy', n_iter=70)\n",
    "xgb_fitted_grid = grid.fit(X_train, y_train)\n",
    "\"\"\""
   ]
  },
  {
   "attachments": {},
   "cell_type": "markdown",
   "metadata": {},
   "source": [
    "> I commented out the cell due to runtime issues. Since it wasn't the final RF model, there is no need for pickling"
   ]
  },
  {
   "cell_type": "code",
   "execution_count": null,
   "metadata": {},
   "outputs": [],
   "source": [
    "\"\"\"#Search grid (non random)\n",
    "X_train, X_test, y_train, y_test = initial_sets()\n",
    "\n",
    "estimators = [\n",
    "    (\"select\", PCA()),\n",
    "    (\"model\", XGBClassifier())\n",
    "]\n",
    "\n",
    "pipe = Pipeline(estimators)\n",
    "\n",
    "param_grid = { \n",
    "    'model__max_depth': [15, 50, 100],\n",
    "    'select__n_components': [None],  # Hyperparameter for PCA\n",
    "    'model__colsample_bytree': [0.8],  # Hyperparameter for XGBoost\n",
    "    'model__reg_alpha': [1],  # Hyperparameter for XGBoost\n",
    "    'model__reg_lambda': [1],  # Hyperparameter for XGBoost\n",
    "    'model__learning_rate': [0.01],  # Hyperparameter for XGBoost\n",
    "    'model__gamma':[0.0001],\n",
    "    'model__n_estimators': [200],\n",
    "    'model__scale_pos_weight': [1]\n",
    "}\n",
    "\n",
    "grid = GridSearchCV(pipe, param_grid, cv=3, verbose=1, refit='accuracy')\n",
    "non_rando_mxgb_fitted_grid = grid.fit(X_train, y_train)\n",
    "\"\"\""
   ]
  }
 ],
 "metadata": {
  "kernelspec": {
   "display_name": "capstone",
   "language": "python",
   "name": "python3"
  },
  "language_info": {
   "codemirror_mode": {
    "name": "ipython",
    "version": 3
   },
   "file_extension": ".py",
   "mimetype": "text/x-python",
   "name": "python",
   "nbconvert_exporter": "python",
   "pygments_lexer": "ipython3",
   "version": "3.8.16"
  },
  "orig_nbformat": 4
 },
 "nbformat": 4,
 "nbformat_minor": 2
}
